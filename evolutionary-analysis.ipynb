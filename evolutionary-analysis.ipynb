{
 "cells": [
  {
   "cell_type": "code",
   "execution_count": null,
   "id": "0",
   "metadata": {},
   "outputs": [],
   "source": [
    "import os\n",
    "import pysam\n",
    "import numpy as np\n",
    "import pandas as pd\n",
    "from tqdm import tqdm"
   ]
  },
  {
   "cell_type": "code",
   "execution_count": null,
   "id": "1",
   "metadata": {},
   "outputs": [],
   "source": [
    "data = pd.read_excel(\"./data/genomes/metadata_whole_genome.xlsx\", engine='openpyxl')\n",
    "data = data.drop([\"Generation\", \"rep\"], axis=1)\n",
    "data.loc[data.query('`samples.1` == \"RMF27\"').index, \"samples.1\"] = \"0.0_-\"\n",
    "sample_details = pd.DataFrame(data['samples.1'].apply(lambda x: x.split(\"_\")[0].split(\".\") + [x.split(\"_\")[1]]).to_list(), columns=[\"generation\", \"rep\", \"treatment\"])\n",
    "data = pd.concat([data, sample_details], axis=1 )\n",
    "data.head()"
   ]
  },
  {
   "cell_type": "code",
   "execution_count": null,
   "id": "2",
   "metadata": {},
   "outputs": [],
   "source": [
    "VCF_DIR = \"./results/vcf/\"\n",
    "files = os.listdir(VCF_DIR)"
   ]
  },
  {
   "cell_type": "code",
   "execution_count": null,
   "id": "3",
   "metadata": {},
   "outputs": [],
   "source": [
    "data['BGI_ID'] = data['BGI_ID'].astype(str)"
   ]
  },
  {
   "cell_type": "code",
   "execution_count": null,
   "id": "4",
   "metadata": {},
   "outputs": [],
   "source": [
    "def compute_af(record):\n",
    "    dp4 = record.info['DP4']\n",
    "    if sum(dp4) == 0:\n",
    "        return None\n",
    "    allele_freq = (dp4[2]+dp4[3]) / sum(dp4)\n",
    "    return allele_freq"
   ]
  },
  {
   "cell_type": "code",
   "execution_count": null,
   "id": "5",
   "metadata": {},
   "outputs": [],
   "source": [
    "variant_dict = {}\n",
    "variant_freq_dict = {}\n",
    "\n",
    "for file in files:\n",
    "    \n",
    "    bgi_id = file.replace(\".vcf.gz\", \"\")\n",
    "\n",
    "    sample_info = data.loc[data.BGI_ID == bgi_id, [\"generation\", \"rep\", \"treatment\"]]    \n",
    "    if len(sample_info) == 1:\n",
    "        sample_info = sample_info.iloc[0].to_list()\n",
    "        sample_info = tuple(sample_info)\n",
    "    else:\n",
    "        continue\n",
    "        \n",
    "    try:\n",
    "        vcf_file = pysam.VariantFile(f\"{VCF_DIR}/{file}\")\n",
    "    except:\n",
    "        print(\"\")\n",
    "        continue\n",
    "        \n",
    "    variant_positions = [(record.chrom, record.pos) for record in vcf_file.fetch()]\n",
    "    variant_freq = {(record.chrom, record.pos): compute_af(record) for record in vcf_file.fetch()}\n",
    "    variant_dict.update({sample_info: set(variant_positions)})\n",
    "    variant_freq_dict.update({sample_info: variant_freq})"
   ]
  },
  {
   "cell_type": "markdown",
   "id": "6",
   "metadata": {},
   "source": [
    "Compute length of intersection over intersection of union:"
   ]
  },
  {
   "cell_type": "code",
   "execution_count": null,
   "id": "7",
   "metadata": {},
   "outputs": [],
   "source": [
    "intersection = []\n",
    "\n",
    "for sample_i, variants_i in tqdm(variant_dict.items()):\n",
    "    intersection.append([])\n",
    "    for sample_j, variants_j in variant_dict.items():\n",
    "        intersection[-1].append(len(variants_j.intersection(variants_i)) / len(variants_j.union(variants_i)))\n",
    "\n",
    "colnames = [\"_\".join(k) for k, v in list(variant_dict.items())]\n",
    "intersection_df = pd.DataFrame(np.array(intersection), columns=colnames)\n",
    "intersection_df.index = colnames"
   ]
  },
  {
   "cell_type": "code",
   "execution_count": null,
   "id": "8",
   "metadata": {},
   "outputs": [],
   "source": [
    "intersection_df['71_1_MS'].sort_values(ascending=False)"
   ]
  },
  {
   "cell_type": "code",
   "execution_count": null,
   "id": "9",
   "metadata": {},
   "outputs": [],
   "source": [
    "from scipy.cluster.hierarchy import linkage, leaves_list\n",
    "corr_linkage = linkage(intersection_df, method='average')\n",
    "idx = leaves_list(corr_linkage)\n",
    "ordered_matrix = intersection_df.iloc[idx, idx]"
   ]
  },
  {
   "cell_type": "code",
   "execution_count": null,
   "id": "10",
   "metadata": {},
   "outputs": [],
   "source": [
    "ordered_matrix[\"0_0_-\"].sort_values(ascending=False)"
   ]
  },
  {
   "cell_type": "code",
   "execution_count": null,
   "id": "11",
   "metadata": {},
   "outputs": [],
   "source": [
    "import seaborn as sns\n",
    "import matplotlib.pyplot as plt"
   ]
  },
  {
   "cell_type": "code",
   "execution_count": null,
   "id": "12",
   "metadata": {},
   "outputs": [],
   "source": [
    "rep = 1\n",
    "gen_ref = 49\n",
    "WINDOW_LEN = 60\n",
    "treatment = \"MS\"\n",
    "label_ref = f\"{gen_ref}_{rep}_{treatment}\"\n",
    "\n",
    "kk = [ f\"{gen}_{rep}_{treatment}\" for gen in range(gen_ref-WINDOW_LEN//2, gen_ref+WINDOW_LEN//2)]\n",
    "kk = sorted(list(set(kk).intersection(ordered_matrix.index)))\n",
    "\n",
    "fig, ax = plt.subplots(figsize=(20,5))\n",
    "ax.plot(ordered_matrix.loc[kk, f'{gen_ref}_{rep}_{treatment}'])# .sort_values(ascending=False).head(20)\n",
    "ax.tick_params(axis='x', labelrotation=60)\n",
    "ax.axvline(x=label_ref, color='red', linestyle='dashed')# type='---')"
   ]
  },
  {
   "cell_type": "code",
   "execution_count": null,
   "id": "13",
   "metadata": {},
   "outputs": [],
   "source": [
    "plt.figure(figsize=(8, 6))\n",
    "plt.imshow((np.array(ordered_matrix)))# , annot=False, cmap='coolwarm')\n",
    "plt.title(\"Ordered Correlation Matrix by Similarity\")\n",
    "plt.show()"
   ]
  },
  {
   "cell_type": "code",
   "execution_count": null,
   "id": "14",
   "metadata": {},
   "outputs": [],
   "source": [
    "# for record in vcf_file.fetch():\n",
    "#     print(f\"Chromosome: {record.chrom}\")\n",
    "#     print(f\"Position: {record.pos}\")\n",
    "#     print(f\"Reference Allele: {record.ref}\")\n",
    "#     print(f\"Alternative Alleles: {record.alts}\")\n",
    "#     print(f\"Quality: {record.qual}\")\n",
    "#     print(f\"Info: {dict(record.info)}\")"
   ]
  },
  {
   "cell_type": "markdown",
   "id": "15",
   "metadata": {},
   "source": [
    "# Analysis by frequency"
   ]
  },
  {
   "cell_type": "code",
   "execution_count": null,
   "id": "16",
   "metadata": {},
   "outputs": [],
   "source": [
    "import pandas as pd\n",
    "import matplotlib.pyplot as plt\n",
    "import ipywidgets as widgets\n",
    "from ipywidgets import interact"
   ]
  },
  {
   "cell_type": "code",
   "execution_count": null,
   "id": "17",
   "metadata": {},
   "outputs": [],
   "source": [
    "allele_freqs = pd.DataFrame(variant_freq_dict).melt(ignore_index=False)\n",
    "allele_freqs.columns = [\"generation\", \"replica\", \"treatment\", \"freq\"]\n",
    "allele_freqs = allele_freqs.reset_index()\n",
    "allele_freqs.generation = allele_freqs.generation.astype(int)\n",
    "\n",
    "kk = allele_freqs[~allele_freqs.freq.isna()]\n",
    "kk.apply(lambda row: (row.level_0, row.level_1), axis=1)"
   ]
  },
  {
   "cell_type": "code",
   "execution_count": null,
   "id": "18",
   "metadata": {},
   "outputs": [],
   "source": [
    "variant_count = kk.groupby('generation')[['level_0', 'level_1']].count().reset_index()\n",
    "valid_generations = variant_count[variant_count['level_0'] <= 1000]['generation']\n",
    "filtered_df = kk[kk['generation'].isin(valid_generations)]\n",
    "filtered_df"
   ]
  },
  {
   "cell_type": "code",
   "execution_count": null,
   "id": "19",
   "metadata": {},
   "outputs": [],
   "source": [
    "# filtered_df.set_index(['level_0', 'level_1', 'generation']).pivot(columns=, index, values)\n",
    "filtered_df = filtered_df.pivot(columns=['replica', 'treatment'], index=['level_0', 'level_1', 'generation'], values='freq').reset_index()"
   ]
  },
  {
   "cell_type": "code",
   "execution_count": null,
   "id": "20",
   "metadata": {},
   "outputs": [],
   "source": [
    "filtered_df.loc[:, ['1', '2', '3']]"
   ]
  },
  {
   "cell_type": "code",
   "execution_count": null,
   "id": "21",
   "metadata": {},
   "outputs": [],
   "source": [
    "# filtered_df.apply(lambda row: (row.level_0[0], row.level_1[0]), axis=1)\n",
    "# filtered_df.apply(lambda row: (row.level_0, row.level_1), axis=1)\n",
    "data = [filtered_df.apply(lambda row: (row.level_0[0], row.level_1[0]), axis=1), filtered_df.generation, filtered_df.loc[:, ['1', '2', '3']]]\n",
    "data = pd.concat(data, axis=1).sort_values(\"generation\")\n",
    "data.columns = ['Variant', 'Generation'] + data.columns[2:].to_list()"
   ]
  },
  {
   "cell_type": "code",
   "execution_count": null,
   "id": "22",
   "metadata": {},
   "outputs": [],
   "source": [
    "data#.groupby('Variant')['Generation'].nunique()"
   ]
  },
  {
   "cell_type": "code",
   "execution_count": null,
   "id": "23",
   "metadata": {},
   "outputs": [],
   "source": [
    "filtered_variants = data.groupby('Variant')['Generation'].nunique()\n",
    "filtered_variants = filtered_variants[filtered_variants >= 10].index  # Seleccionar las variantes válidas\n",
    "filtered_data = data.set_index(\"Variant\").loc[filtered_variants].reset_index()"
   ]
  },
  {
   "cell_type": "code",
   "execution_count": null,
   "id": "24",
   "metadata": {},
   "outputs": [],
   "source": [
    "filtered_data.groupby('Variant')[[('1', 'MS')]].std()"
   ]
  },
  {
   "cell_type": "code",
   "execution_count": null,
   "id": "25",
   "metadata": {},
   "outputs": [],
   "source": [
    "changing_variants = filtered_data.groupby(\"Variant\")[[('1', 'MS')]].std().iloc[:,0].sort_values(ascending=False)[:100].index\n",
    "top_changing_variants_df = filtered_data.set_index(\"Variant\").loc[changing_variants]\n",
    "freq_data = top_changing_variants_df.reset_index()"
   ]
  },
  {
   "cell_type": "code",
   "execution_count": null,
   "id": "26",
   "metadata": {},
   "outputs": [],
   "source": [
    "variants_lst = [list(x) for x in top_changing_variants_df.index.unique()]\n",
    "display_options = [f'{item[0]} - {item[1]}' for item in sorted(variants_lst)]\n",
    "value_dict = {f'{item[0]} - {item[1]}': item for item in sorted(variants_lst)}"
   ]
  },
  {
   "cell_type": "code",
   "execution_count": null,
   "id": "27",
   "metadata": {},
   "outputs": [],
   "source": [
    "treatment_options = [('1', 'MS'), ('2', 'MS'), ('3', 'MS'), ('1', 'K'), ('2', 'K'), ('3', 'K')]\n",
    "treatment_display_options = { f\"{replica}_{treatment}\": (replica, treatment) for replica, treatment in treatment_options }"
   ]
  },
  {
   "cell_type": "code",
   "execution_count": null,
   "id": "28",
   "metadata": {},
   "outputs": [],
   "source": [
    "@interact\n",
    "def plot_freq_curves(\n",
    "    variants=widgets.SelectMultiple(options=display_options, value=[display_options[0]]),\n",
    "    treatments=widgets.SelectMultiple(options=treatment_display_options, value=[treatment_display_options['1_MS']])\n",
    "):\n",
    "\n",
    "    plt.figure(figsize=(15, 6))\n",
    "    \n",
    "    for variant in variants:\n",
    "        variant = value_dict[variant]\n",
    "        variant = tuple(variant)\n",
    "        for treatment in treatments:        \n",
    "            subset = freq_data[freq_data['Variant'] == variant]\n",
    "            plt.plot(subset['Generation'].to_list(), subset[treatment].to_list(), marker='o', label=f'{treatment}')\n",
    "\n",
    "    \n",
    "    plt.title(f'Evolución de la frecuencia del alelo alternativo {\"(\"+variants[0]+\")\" if len(variants)==1 else \"\"}')\n",
    "    \n",
    "    plt.xlabel('Generación')\n",
    "    plt.ylabel('Frecuencia del alelo alternativo')\n",
    "    plt.legend(title='Tratamiento', loc='lower right')\n",
    "    plt.grid(True)\n",
    "    plt.xlim(0.5)\n",
    "    plt.ylim(0, 1)\n",
    "    \n",
    "    plt.show()\n"
   ]
  }
 ],
 "metadata": {
  "kernelspec": {
   "display_name": "Python 3 (ipykernel)",
   "language": "python",
   "name": "python3"
  },
  "language_info": {
   "codemirror_mode": {
    "name": "ipython",
    "version": 3
   },
   "file_extension": ".py",
   "mimetype": "text/x-python",
   "name": "python",
   "nbconvert_exporter": "python",
   "pygments_lexer": "ipython3",
   "version": "3.11.10"
  }
 },
 "nbformat": 4,
 "nbformat_minor": 5
}
