{
 "cells": [
  {
   "cell_type": "code",
   "execution_count": null,
   "id": "f78988c0-da4e-43d3-ae59-cfc2137f1a4e",
   "metadata": {
    "collapsed": true,
    "jupyter": {
     "outputs_hidden": true
    }
   },
   "outputs": [],
   "source": [
    "import os\n",
    "import pysam\n",
    "import numpy as np\n",
    "import pandas as pd\n",
    "from tqdm import tqdm"
   ]
  },
  {
   "cell_type": "code",
   "execution_count": null,
   "id": "dd16f2be-95e4-4045-9df1-4ad404a9dea8",
   "metadata": {},
   "outputs": [],
   "source": [
    "data = pd.read_excel(\"./data/genomes/metadata_whole_genome.xlsx\", engine='openpyxl')\n",
    "data = data.drop([\"Generation\", \"rep\"], axis=1)\n",
    "data.loc[data.query('`samples.1` == \"RMF27\"').index, \"samples.1\"] = \"0.0_-\"\n",
    "sample_details = pd.DataFrame(data['samples.1'].apply(lambda x: x.split(\"_\")[0].split(\".\") + [x.split(\"_\")[1]]).to_list(), columns=[\"generation\", \"rep\", \"treatment\"])\n",
    "data = pd.concat([data, sample_details], axis=1 )\n",
    "data.head()"
   ]
  },
  {
   "cell_type": "code",
   "execution_count": null,
   "id": "e832e07c-3928-46c9-99b0-8ae2e6a3eeac",
   "metadata": {
    "scrolled": true
   },
   "outputs": [],
   "source": [
    "VCF_DIR = \"./results/vcf/\"\n",
    "files = os.listdir(VCF_DIR)"
   ]
  },
  {
   "cell_type": "code",
   "execution_count": null,
   "id": "234fed18-532b-4200-98c2-2388b7f8fcb4",
   "metadata": {},
   "outputs": [],
   "source": [
    "data['BGI_ID'] = data['BGI_ID'].astype(str)"
   ]
  },
  {
   "cell_type": "code",
   "execution_count": null,
   "id": "2f275413-e97b-49a0-b5c3-9b40d7ffcc6e",
   "metadata": {},
   "outputs": [],
   "source": [
    "variant_dict = {}\n",
    "\n",
    "for file in files:\n",
    "    \n",
    "    bgi_id = file.replace(\".vcf.gz\", \"\")\n",
    "\n",
    "    sample_info = data.loc[data.BGI_ID == bgi_id, [\"generation\", \"rep\", \"treatment\"]]    \n",
    "    if len(sample_info) == 1:\n",
    "        sample_info = sample_info.iloc[0].to_list()\n",
    "        sample_info = tuple(sample_info)\n",
    "    else:\n",
    "        continue\n",
    "        \n",
    "    try:\n",
    "        vcf_file = pysam.VariantFile(f\"{VCF_DIR}/{file}\")\n",
    "    except:\n",
    "        print(\"\")\n",
    "        continue\n",
    "        \n",
    "    variant_positions = [(record.chrom, record.pos) for record in vcf_file.fetch()]\n",
    "    variant_dict.update({sample_info: set(variant_positions)})"
   ]
  },
  {
   "cell_type": "markdown",
   "id": "9d0a7f73",
   "metadata": {},
   "source": [
    "Compute length of intersection over intersection of union:"
   ]
  },
  {
   "cell_type": "code",
   "execution_count": null,
   "id": "bc21f38e-e39c-4208-96a5-a62f4339713c",
   "metadata": {},
   "outputs": [],
   "source": [
    "intersection = []\n",
    "\n",
    "for sample_i, variants_i in tqdm(variant_dict.items()):\n",
    "    intersection.append([])\n",
    "    for sample_j, variants_j in variant_dict.items():\n",
    "        intersection[-1].append(len(variants_j.intersection(variants_i)) / len(variants_j.union(variants_i)))\n",
    "\n",
    "colnames = [\"_\".join(k) for k, v in list(variant_dict.items())]\n",
    "intersection_df = pd.DataFrame(np.array(intersection), columns=colnames)\n",
    "intersection_df.index = colnames"
   ]
  },
  {
   "cell_type": "code",
   "execution_count": null,
   "id": "b95ef197-b13f-4bb5-9248-1ce158b3cedd",
   "metadata": {},
   "outputs": [],
   "source": [
    "intersection_df['71_1_MS'].sort_values(ascending=False)"
   ]
  },
  {
   "cell_type": "code",
   "execution_count": null,
   "id": "ade42f06-5a53-49ab-8499-000ddcdb35a2",
   "metadata": {},
   "outputs": [],
   "source": [
    "from scipy.cluster.hierarchy import linkage, leaves_list\n",
    "corr_linkage = linkage(intersection_df, method='average')\n",
    "idx = leaves_list(corr_linkage)\n",
    "ordered_matrix = intersection_df.iloc[idx, idx]"
   ]
  },
  {
   "cell_type": "code",
   "execution_count": null,
   "id": "9b2ce1d8-63fb-41d4-9804-3d9b08fcf9d6",
   "metadata": {},
   "outputs": [],
   "source": [
    "ordered_matrix[\"0_0_-\"].sort_values(ascending=False)"
   ]
  },
  {
   "cell_type": "code",
   "execution_count": null,
   "id": "e3acd6ea-e1ec-43f4-a42e-a24ed3cfe024",
   "metadata": {},
   "outputs": [],
   "source": [
    "rep = 1\n",
    "gen_ref = 49\n",
    "WINDOW_LEN = 60\n",
    "treatment = \"MS\"\n",
    "label_ref = f\"{gen_ref}_{rep}_{treatment}\"\n",
    "\n",
    "kk = [ f\"{gen}_{rep}_{treatment}\" for gen in range(gen_ref-WINDOW_LEN//2, gen_ref+WINDOW_LEN//2)]\n",
    "kk = sorted(list(set(kk).intersection(ordered_matrix.index)))\n",
    "\n",
    "fig, ax = plt.subplots(figsize=(20,5))\n",
    "ax.plot(ordered_matrix.loc[kk, f'{gen_ref}_{rep}_{treatment}'])# .sort_values(ascending=False).head(20)\n",
    "ax.tick_params(axis='x', labelrotation=60)\n",
    "ax.axvline(x=label_ref, color='red', linestyle='dashed')# type='---')"
   ]
  },
  {
   "cell_type": "code",
   "execution_count": null,
   "id": "b37dc1f1-3271-4a8d-962f-b8acc861ad7b",
   "metadata": {},
   "outputs": [],
   "source": [
    "import seaborn as sns\n",
    "import matplotlib.pyplot as plt\n",
    "\n",
    "plt.figure(figsize=(8, 6))\n",
    "plt.imshow((np.array(ordered_matrix)))# , annot=False, cmap='coolwarm')\n",
    "plt.title(\"Ordered Correlation Matrix by Similarity\")\n",
    "plt.show()"
   ]
  },
  {
   "cell_type": "code",
   "execution_count": null,
   "id": "bc7902e8-d63c-4390-98f8-5953c3edfb72",
   "metadata": {},
   "outputs": [],
   "source": [
    "# for record in vcf_file.fetch():\n",
    "#     print(f\"Chromosome: {record.chrom}\")\n",
    "#     print(f\"Position: {record.pos}\")\n",
    "#     print(f\"Reference Allele: {record.ref}\")\n",
    "#     print(f\"Alternative Alleles: {record.alts}\")\n",
    "#     print(f\"Quality: {record.qual}\")\n",
    "#     print(f\"Info: {dict(record.info)}\")"
   ]
  }
 ],
 "metadata": {
  "kernelspec": {
   "display_name": "Python 3 (ipykernel)",
   "language": "python",
   "name": "python3"
  },
  "language_info": {
   "codemirror_mode": {
    "name": "ipython",
    "version": 3
   },
   "file_extension": ".py",
   "mimetype": "text/x-python",
   "name": "python",
   "nbconvert_exporter": "python",
   "pygments_lexer": "ipython3",
   "version": "3.11.10"
  }
 },
 "nbformat": 4,
 "nbformat_minor": 5
}
