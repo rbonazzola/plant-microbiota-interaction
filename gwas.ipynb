{
 "cells": [
  {
   "cell_type": "code",
   "execution_count": 1,
   "id": "738b3410-e0c9-4fff-bb70-62e60308e426",
   "metadata": {},
   "outputs": [],
   "source": [
    "import os\n",
    "import pysam\n",
    "import pickle as pkl\n",
    "import numpy as np\n",
    "import pandas as pd\n",
    "from tqdm import tqdm\n",
    "\n",
    "import seaborn as sns\n",
    "import matplotlib.pyplot as plt\n",
    "\n",
    "from scipy.stats import norm\n",
    "# import statsmodels.api as sm\n",
    "\n",
    "from sklearn.pipeline import Pipeline\n",
    "\n",
    "import ipywidgets as widgets\n",
    "from ipywidgets import interact\n",
    "from IPython import embed\n",
    "\n",
    "import re"
   ]
  },
  {
   "cell_type": "code",
   "execution_count": 2,
   "id": "07ae1f97",
   "metadata": {},
   "outputs": [],
   "source": [
    "from genome_helpers import (\n",
    "#     # compute_af,\n",
    "#     inverse_rank_normalization,\n",
    "    read_annotation_data,\n",
    "    process_plant_phenotype,\n",
    "#     get_genome_metadata\n",
    ")\n",
    "\n",
    "from gwas_helpers import (\n",
    "    adj_phenotypes_for_gwas,\n",
    "    annotate_results,\n",
    "    run_gwas,\n",
    "    qqplot,\n",
    "    manhattan_static,\n",
    "    manhattan_interactive\n",
    ")"
   ]
  },
  {
   "cell_type": "markdown",
   "id": "7e5a390e",
   "metadata": {},
   "source": [
    "Para obtener la frecuencia de los alelos alternativo, usamos el campo `DP4` del archivo VCF, con las siguientes componentes:\n",
    "\n",
    "| Campo   | Descripción                                      |\n",
    "|---------|------------------------------------------------|\n",
    "| DP4[0]  | Reads forward para el alelo de referencia.    |\n",
    "| DP4[1]  | Reads reverse para el alelo de referencia.    |\n",
    "| DP4[2]  | Reads forward para el alelo alternativo.      |\n",
    "| DP4[3]  | Reads reverse para el alelo alternativo.      |\n"
   ]
  },
  {
   "cell_type": "code",
   "execution_count": 3,
   "id": "9fbe2851-4c94-40b2-b37f-eb9c3a081ebb",
   "metadata": {},
   "outputs": [],
   "source": [
    "def compute_af(record):\n",
    "    dp4 = record.info['DP4']\n",
    "    if sum(dp4) == 0:\n",
    "        return None\n",
    "    allele_freq = (dp4[2]+dp4[3]) / sum(dp4)\n",
    "    return allele_freq\n",
    "\n",
    "\n",
    "def get_dp4(record):\n",
    "    \n",
    "    dp4 = record.info['DP4']\n",
    "    if sum(dp4) == 0:\n",
    "        return None\n",
    "    \n",
    "    return dp4\n",
    "\n",
    "\n",
    "def get_freqs_from_vcf(vcf_file):\n",
    "    \n",
    "    bgi_id = os.path.basename(vcf_file).replace(\".vcf.gz\", \"\")\n",
    "\n",
    "    try:\n",
    "        vcf_file = pysam.VariantFile(vcf_file)\n",
    "    except Exception as e:\n",
    "        print(e)\n",
    "        return {bgi_id: None}\n",
    "        \n",
    "    variant_freq   = {(record.chrom, record.pos): compute_af(record) for record in vcf_file.fetch()}\n",
    "    variant_counts = {(record.chrom, record.pos): get_dp4(record)    for record in vcf_file.fetch()}\n",
    "\n",
    "    # variant_dict.update({sample_info: set(variant_positions)})\n",
    "    # variant_freq_dict.update({bgi_id: variant_freq})\n",
    "\n",
    "    return {bgi_id: variant_freq}, {bgi_id: variant_counts}\n",
    "\n",
    "\n",
    "def get_sample_info(sample_id, metadata):\n",
    "\n",
    "    sample_info = metadata.loc[metadata.BGI_ID == sample_id, [\"generation\", \"rep\", \"treatment\"]]    \n",
    "\n",
    "    if len(sample_info) == 1:\n",
    "        sample_info = sample_info.iloc[0].to_list()\n",
    "        sample_info = tuple(sample_info)\n",
    "    elif len(sample_info) == 0:\n",
    "        print(ValueError(f\"Sample with {sample_id} has no corresponding metadata.\")) \n",
    "        return None\n",
    "    else:\n",
    "        raise(ValueError(f\"Sample with {sample_id} has more than one associated sample.\"))\n",
    "\n",
    "    return sample_info\n",
    "\n",
    "\n",
    "def process_vcf_folder(vcf_folder, cache_file=\"vcf_dictionary.pkl\", as_dataframe=False):\n",
    "\n",
    "    \"\"\"\n",
    "    \n",
    "    \"\"\"\n",
    "    \n",
    "    files = [ file for file in os.listdir(vcf_folder) if file.endswith(\".vcf.gz\") or file.endswith(\".vcf\") ]\n",
    "\n",
    "    variant_freq_dicts = {}\n",
    "    variant_count_dicts = {}\n",
    "    \n",
    "    for file in tqdm(files):\n",
    "           \n",
    "        sample_id = file.replace(\".vcf.gz\", \"\")\n",
    "        # sample_info = get_sample_info(sample_id, genome_metadata)        \n",
    "        variant_freq_dict, variant_count_dict = get_freqs_from_vcf(f\"{vcf_folder}/{file}\")\n",
    "\n",
    "        variant_freq_dicts.update(variant_freq_dict)\n",
    "        variant_count_dicts.update(variant_count_dict)\n",
    "                \n",
    "    if as_dataframe:\n",
    "        return pd.DataFrame(variant_freq_dicts), pd.DataFrame(variant_count_dicts)\n",
    "    else:\n",
    "        return variant_freq_dicts, variant_count_dicts"
   ]
  },
  {
   "cell_type": "code",
   "execution_count": 4,
   "id": "36137856",
   "metadata": {},
   "outputs": [],
   "source": [
    "def _process_bases(row):\n",
    "    \n",
    "    base_calls = row[\"bases\"]\n",
    "    quality_scores = phred_quality(row[\"qual\"])\n",
    "    ref_base = row[\"ref\"].upper()\n",
    "\n",
    "    base_calls = base_calls.replace(\"$\", \"\").replace(\"^]\", \"\").replace(\"^I\", \"\")\n",
    "    \n",
    "    processed_bases = []\n",
    "    passing_quality_scores = []\n",
    "    \n",
    "    i = 0\n",
    "    while i < row[\"depth\"]:\n",
    "        char = base_calls[i]\n",
    "\n",
    "        # Filtrar por calidad (descartar bases con calidad < 20)\n",
    "        if quality_scores[i] < 20:\n",
    "            i += 1\n",
    "            continue\n",
    "\n",
    "        passing_quality_scores.append(quality_scores[i])\n",
    "        \n",
    "        # Reemplazar referencia\n",
    "        if char in \".,\":  \n",
    "            processed_bases.append(ref_base)\n",
    "\n",
    "        # Contar bases normales\n",
    "        elif char.upper() in \"ACTG\":\n",
    "            processed_bases.append(char.upper())\n",
    "\n",
    "        # Contar deleciones en la referencia (`*`)\n",
    "        elif char == \"*\":\n",
    "            processed_bases.append(\"D\")\n",
    "\n",
    "        # Detectar inserciones (`+nX`)\n",
    "        elif char == \"+\":\n",
    "            match = re.match(r\"\\+(\\d+)\", base_calls[i:])\n",
    "            if match:\n",
    "                num_bases = int(match.group(1))\n",
    "                inserted_seq = base_calls[i+len(match.group(1))+1:i+len(match.group(1))+1+num_bases]\n",
    "                # processed_bases.append(f\"INS_{inserted_seq.upper()}\")\n",
    "                processed_bases.append(\"I\")\n",
    "                i += len(match.group(1)) + num_bases\n",
    "\n",
    "        # Detectar deleciones (`-nX`)\n",
    "        elif char == \"-\":\n",
    "            match = re.match(r\"\\-(\\d+)\", base_calls[i:])\n",
    "            if match:\n",
    "                num_bases = int(match.group(1))\n",
    "                deleted_seq = base_calls[i+len(match.group(1))+1:i+len(match.group(1))+1+num_bases]\n",
    "                processed_bases.append(\"D\")\n",
    "                # processed_bases.append(f\"DEL_{deleted_seq.upper()}\")\n",
    "                i += len(match.group(1)) + num_bases\n",
    "\n",
    "        i += 1\n",
    "\n",
    "    if len(passing_quality_scores) == 0:\n",
    "         allele_counts = { 'A': 0, 'C': 0, 'T': 0, 'G': 0, 'DEL': 0, 'INS': 0, \"Avg_Qual\": None, \"depth\": 0, \"depth_high_q\": 0 }\n",
    "         return allele_counts\n",
    "\n",
    "    allele_counts = {\n",
    "        'A': processed_bases.count('A'),\n",
    "        'C': processed_bases.count('C'),\n",
    "        'T': processed_bases.count('T'),\n",
    "        'G': processed_bases.count('G'),\n",
    "        'DEL': processed_bases.count('D'),\n",
    "        'INS': processed_bases.count('I')\n",
    "    }\n",
    "\n",
    "    # Contar inserciones y deleciones específicas\n",
    "    for item in processed_bases:\n",
    "        if item.startswith(\"INS_\"):\n",
    "            allele_counts[item] = allele_counts.get(item, 0) + 1\n",
    "        if item.startswith(\"DEL_\"):\n",
    "            allele_counts[item] = allele_counts.get(item, 0) + 1\n",
    "\n",
    "    # Calcular calidad promedio\n",
    "    # allele_counts[\"Avg_Qual\"] = np.mean(quality_scores) if quality_scores else 0\n",
    "    allele_counts[\"Avg_Qual\"] = sum(passing_quality_scores) / len(passing_quality_scores) # if quality_scores else 0\n",
    "    allele_counts[\"depth\"] = row[\"depth\"]\n",
    "    allele_counts[\"depth_high_q\"] = len(passing_quality_scores)\n",
    "    allele_counts[\"bases\"] = processed_bases\n",
    "    allele_counts[\"original_bases\"] = row[\"bases\"]\n",
    "    allele_counts[\"ref_base\"] = ref_base\n",
    "    allele_counts[\"quality_scores\"] = quality_scores\n",
    "    \n",
    "    return allele_counts\n",
    "\n",
    "\n",
    "def mismatch(row):\n",
    "    alleles = [ row[x] for x in ['A', 'C', 'T', 'G', 'DEL', 'INS'] ] #, row.C, row.T, row.G]#, row.DEL, row.INS]\n",
    "    # print(sum(alleles) != row.depth_high_q)\n",
    "    return sum(alleles) != row.depth_high_q"
   ]
  },
  {
   "cell_type": "code",
   "execution_count": 6,
   "id": "473c5826",
   "metadata": {},
   "outputs": [],
   "source": [
    "phenotypes = [\"PR_Length\", \"LR_number\", \"LR_Density\"]\n",
    "phenotypes_df, _, _, phenotypes_df_red_nb = process_plant_phenotype()\n",
    "phenotypes_df = adj_phenotypes_for_gwas(phenotypes_df, phenotypes_df_red_nb, phenotypes)"
   ]
  },
  {
   "cell_type": "markdown",
   "id": "3969922a",
   "metadata": {},
   "source": [
    "- **Input**: matriz con cuentas para cada alelo, donde `NaN` significa que el SNV no tiene _variaciones o cobertura_.\n",
    "- Ver cobertura para SNVs que no aparecen en los VCFs.\n",
    "- Filtrar variantes.\n",
    "- filas:(planta,SNV),columnas:None -> filas:planta,columnas:SNV."
   ]
  },
  {
   "cell_type": "code",
   "execution_count": 10,
   "id": "76bd2678",
   "metadata": {},
   "outputs": [],
   "source": [
    "EXPERIMENTS = [(1, 'K'), (1, 'MS'), (2, 'MS'), (2, 'K'), (3, 'K'), (3, 'MS')]"
   ]
  },
  {
   "cell_type": "code",
   "execution_count": 11,
   "id": "125edebe",
   "metadata": {},
   "outputs": [],
   "source": [
    "def filter_variants(freq_df, freq_threshold=0.98, non_missing=450):\n",
    "    \n",
    "    freq_df = freq_df[ freq_df.apply(lambda row: ~(row.dropna() > freq_threshold).all(), axis=1) ]\n",
    "    freq_df = freq_df[ freq_df.apply(lambda row: row.isna().sum(), axis=1) < non_missing ]\n",
    "    \n",
    "    return freq_df"
   ]
  },
  {
   "cell_type": "code",
   "execution_count": 12,
   "id": "1853cc05",
   "metadata": {},
   "outputs": [],
   "source": [
    "def display_df(df, n=5, disable=False, text=\"\", info=True):\n",
    "    \n",
    "    if not disable:        \n",
    "        if text: print(text)\n",
    "        display(df.sample(n))\n",
    "        print(f\"{df.shape=}\")\n",
    "        if info: print(df.info())\n",
    "        print(\"-\"*100)\n",
    "\n",
    "    return df"
   ]
  },
  {
   "cell_type": "code",
   "execution_count": 13,
   "id": "5d160fc7",
   "metadata": {},
   "outputs": [],
   "source": []
  },
  {
   "cell_type": "code",
   "execution_count": null,
   "id": "df6d6c77",
   "metadata": {},
   "outputs": [
    {
     "name": "stderr",
     "output_type": "stream",
     "text": [
      "  0%|          | 0/492 [00:00<?, ?it/s]"
     ]
    }
   ],
   "source": [
    "VERBOSE = False\n",
    "VCF_DIR = \"data/genomes/alignments_paired_end_new/\"\n",
    "\n",
    "# VCF_DIR = \"./data/genomes/alignments_paired_end/\"\n",
    "\n",
    "batch_mapping = get_genome_metadata(as_dataframe=False)\n",
    "freq_df, counts_df = process_vcf_folder(vcf_folder=VCF_DIR, as_dataframe=True)\n",
    "depth_df  = counts_df.map(lambda x: sum(x) if isinstance(x, tuple) else x)\n",
    "\n",
    "freq_df = (\n",
    "    filter_variants(freq_df)\n",
    "    .pipe(display_df, text=\"Pre-variant filtering\", disable=not VERBOSE)\n",
    "    .pipe(filter_variants)\n",
    "    .pipe(display_df, text=\"Filtered variants\", disable=not VERBOSE)\n",
    "    .melt(ignore_index=False)\n",
    "    .pipe(display_df, text=\"Reshaped\", disable=not VERBOSE)\n",
    "    .reset_index()\n",
    "    .pipe(display_df, text=\"Reset index\", disable=not VERBOSE)\n",
    "    .rename({\"level_0\": \"contig\", \"level_1\": \"position\", \"value\": \"freq\"}, axis=1)\n",
    "    .pipe(display_df, text=\"Renamed columns\", disable=not VERBOSE)\n",
    ")\n",
    "\n",
    "# We map the batch to the sample so that we can pair it up with the phenotype values from the other file\n",
    "samples = freq_df.variable.apply(lambda x: batch_mapping.get(x, (None, None, -1)))\n",
    "samples_df = pd.DataFrame(samples.to_list(), columns=[\"treatment\", \"replica\", \"generation\"])\n",
    "\n",
    "freq_df = pd.concat([ freq_df, samples_df ], axis=1)\n",
    "freq_df = freq_df.query(\"generation != -1\")\n",
    "freq_df.replica = freq_df.replica.astype(int)\n",
    "freq_df = freq_df[~freq_df.freq.isna()]"
   ]
  },
  {
   "cell_type": "code",
   "execution_count": 15,
   "id": "ef988944-c036-4473-8b41-51cf656d3256",
   "metadata": {},
   "outputs": [],
   "source": [
    "filtered_df = freq_df.pivot(\n",
    "    columns=['replica', 'treatment'], \n",
    "    index=['contig', 'position', 'generation'], \n",
    "    values='freq'\n",
    ").reset_index()\n",
    "\n",
    "variant_names = pd.Series(zip(filtered_df['contig'], filtered_df['position']))\n",
    "generations = filtered_df.generation\n",
    "\n",
    "allele_freqs = filtered_df.loc[:, [1, 2, 3]]\n",
    "\n",
    "data = [ variant_names, generations, allele_freqs ]\n",
    "data = pd.concat(data, axis=1).sort_values(\"generation\")\n",
    "data.columns = ['Variant', 'Generation'] + data.columns[2:].to_list()\n",
    "\n",
    "# Number of generations where a given SNV is present\n",
    "filtered_variants = data.groupby('Variant')['Generation'].nunique()\n",
    "\n",
    "# Keep only those variants that are present in at least 10 generations\n",
    "filtered_variants = filtered_variants[filtered_variants >= 10].index\n",
    "filtered_data = data.set_index(\"Variant\").loc[filtered_variants].reset_index()\n",
    "\n",
    "TOP_N_VARIANTS = 200\n",
    "changing_variants = filtered_data.groupby(\"Variant\")[[(1, 'MS')]].std().iloc[:,0].sort_values(ascending=False)[:TOP_N_VARIANTS].index\n",
    "top_changing_variants_df = filtered_data.set_index(\"Variant\").loc[changing_variants]\n",
    "freq_data = top_changing_variants_df.reset_index()\n",
    "\n",
    "variants_lst    = [list(x) for x in top_changing_variants_df.index.unique()]\n",
    "display_options = [f'{item[0]} - {item[1]}' for item in sorted(variants_lst)]\n",
    "value_dict      = {f'{item[0]} - {item[1]}': item for item in sorted(variants_lst)}\n",
    "\n",
    "genotype_data = freq_data.melt(\n",
    "    id_vars=[\"Variant\", \"Generation\"], \n",
    "    value_vars=EXPERIMENTS, \n",
    "    var_name=\"replica\", value_name=\"af\"\n",
    ")\n",
    "\n",
    "genotype_data[\"id\"] = genotype_data.apply(lambda x: (x.replica[1], x.replica[0], x.Generation), axis=1)\n",
    "genotype_data = genotype_data.drop([\"Generation\", \"replica\"], axis=1)\n",
    "genotype_data_wide = genotype_data.pivot(index=\"id\", columns=\"Variant\")\n",
    "# genotype_data_wide[genotype_data_wide.isna()] = 0\n",
    "genotype_data_wide = genotype_data_wide.reset_index()\n",
    "genotype_data_wide.id = genotype_data_wide.id.apply(lambda x: (x[0], int(x[1]), int(x[2])))\n",
    "genotype_data_wide = genotype_data_wide.set_index(\"id\")\n",
    "\n",
    "# Remove rows for which all values are NaN, which means that the VCF was not present.\n",
    "genotype_data_wide = genotype_data_wide[~genotype_data_wide.isna().all(axis=1)]\n",
    "\n",
    "common_rows = genotype_data_wide.reset_index().id.isin(set(phenotypes_df.index))"
   ]
  },
  {
   "cell_type": "code",
   "execution_count": 16,
   "id": "05cf3fde",
   "metadata": {},
   "outputs": [],
   "source": [
    "# genotype_data_wide_K = genotype_data_wide[['K' in x for x in genotype_data_wide.index]]"
   ]
  },
  {
   "cell_type": "code",
   "execution_count": 17,
   "id": "40f7191a-58e1-4d5f-b8e6-c16ad8dea51c",
   "metadata": {},
   "outputs": [
    {
     "data": {
      "text/html": [
       "<div>\n",
       "<style scoped>\n",
       "    .dataframe tbody tr th:only-of-type {\n",
       "        vertical-align: middle;\n",
       "    }\n",
       "\n",
       "    .dataframe tbody tr th {\n",
       "        vertical-align: top;\n",
       "    }\n",
       "\n",
       "    .dataframe thead th {\n",
       "        text-align: right;\n",
       "    }\n",
       "</style>\n",
       "<table border=\"1\" class=\"dataframe\">\n",
       "  <thead>\n",
       "    <tr style=\"text-align: right;\">\n",
       "      <th></th>\n",
       "      <th>(contig000001, 146)</th>\n",
       "      <th>(contig000001, 227)</th>\n",
       "      <th>(contig000001, 5306)</th>\n",
       "      <th>(contig000001, 91539)</th>\n",
       "      <th>(contig000001, 91557)</th>\n",
       "      <th>(contig000001, 91560)</th>\n",
       "      <th>(contig000001, 91603)</th>\n",
       "      <th>(contig000001, 91654)</th>\n",
       "      <th>(contig000001, 91737)</th>\n",
       "      <th>(contig000001, 91827)</th>\n",
       "      <th>...</th>\n",
       "      <th>(contig000029, 128)</th>\n",
       "      <th>(contig000029, 302)</th>\n",
       "      <th>(contig000029, 320)</th>\n",
       "      <th>(contig000029, 329)</th>\n",
       "      <th>(contig000029, 344)</th>\n",
       "      <th>(contig000029, 695)</th>\n",
       "      <th>(contig000032, 8535)</th>\n",
       "      <th>(contig000038, 58)</th>\n",
       "      <th>(contig000038, 105)</th>\n",
       "      <th>(contig000038, 155)</th>\n",
       "    </tr>\n",
       "    <tr>\n",
       "      <th>id</th>\n",
       "      <th></th>\n",
       "      <th></th>\n",
       "      <th></th>\n",
       "      <th></th>\n",
       "      <th></th>\n",
       "      <th></th>\n",
       "      <th></th>\n",
       "      <th></th>\n",
       "      <th></th>\n",
       "      <th></th>\n",
       "      <th></th>\n",
       "      <th></th>\n",
       "      <th></th>\n",
       "      <th></th>\n",
       "      <th></th>\n",
       "      <th></th>\n",
       "      <th></th>\n",
       "      <th></th>\n",
       "      <th></th>\n",
       "      <th></th>\n",
       "      <th></th>\n",
       "    </tr>\n",
       "  </thead>\n",
       "  <tbody>\n",
       "    <tr>\n",
       "      <th>(K, 1, 1)</th>\n",
       "      <td>NaN</td>\n",
       "      <td>0.819048</td>\n",
       "      <td>NaN</td>\n",
       "      <td>NaN</td>\n",
       "      <td>NaN</td>\n",
       "      <td>NaN</td>\n",
       "      <td>NaN</td>\n",
       "      <td>NaN</td>\n",
       "      <td>NaN</td>\n",
       "      <td>NaN</td>\n",
       "      <td>...</td>\n",
       "      <td>NaN</td>\n",
       "      <td>NaN</td>\n",
       "      <td>NaN</td>\n",
       "      <td>NaN</td>\n",
       "      <td>NaN</td>\n",
       "      <td>0.994898</td>\n",
       "      <td>NaN</td>\n",
       "      <td>NaN</td>\n",
       "      <td>0.423077</td>\n",
       "      <td>NaN</td>\n",
       "    </tr>\n",
       "    <tr>\n",
       "      <th>(K, 1, 4)</th>\n",
       "      <td>0.985915</td>\n",
       "      <td>1.000000</td>\n",
       "      <td>1.000000</td>\n",
       "      <td>NaN</td>\n",
       "      <td>NaN</td>\n",
       "      <td>NaN</td>\n",
       "      <td>NaN</td>\n",
       "      <td>NaN</td>\n",
       "      <td>NaN</td>\n",
       "      <td>NaN</td>\n",
       "      <td>...</td>\n",
       "      <td>NaN</td>\n",
       "      <td>NaN</td>\n",
       "      <td>NaN</td>\n",
       "      <td>NaN</td>\n",
       "      <td>NaN</td>\n",
       "      <td>1.000000</td>\n",
       "      <td>NaN</td>\n",
       "      <td>NaN</td>\n",
       "      <td>0.900000</td>\n",
       "      <td>NaN</td>\n",
       "    </tr>\n",
       "    <tr>\n",
       "      <th>(K, 1, 5)</th>\n",
       "      <td>NaN</td>\n",
       "      <td>NaN</td>\n",
       "      <td>1.000000</td>\n",
       "      <td>NaN</td>\n",
       "      <td>NaN</td>\n",
       "      <td>NaN</td>\n",
       "      <td>NaN</td>\n",
       "      <td>NaN</td>\n",
       "      <td>NaN</td>\n",
       "      <td>NaN</td>\n",
       "      <td>...</td>\n",
       "      <td>NaN</td>\n",
       "      <td>NaN</td>\n",
       "      <td>NaN</td>\n",
       "      <td>NaN</td>\n",
       "      <td>NaN</td>\n",
       "      <td>1.000000</td>\n",
       "      <td>0.870813</td>\n",
       "      <td>NaN</td>\n",
       "      <td>0.606061</td>\n",
       "      <td>NaN</td>\n",
       "    </tr>\n",
       "    <tr>\n",
       "      <th>(K, 1, 6)</th>\n",
       "      <td>0.941860</td>\n",
       "      <td>0.981982</td>\n",
       "      <td>0.770833</td>\n",
       "      <td>NaN</td>\n",
       "      <td>NaN</td>\n",
       "      <td>NaN</td>\n",
       "      <td>NaN</td>\n",
       "      <td>NaN</td>\n",
       "      <td>NaN</td>\n",
       "      <td>0.713483</td>\n",
       "      <td>...</td>\n",
       "      <td>NaN</td>\n",
       "      <td>NaN</td>\n",
       "      <td>NaN</td>\n",
       "      <td>NaN</td>\n",
       "      <td>NaN</td>\n",
       "      <td>0.998450</td>\n",
       "      <td>NaN</td>\n",
       "      <td>NaN</td>\n",
       "      <td>0.722222</td>\n",
       "      <td>NaN</td>\n",
       "    </tr>\n",
       "    <tr>\n",
       "      <th>(K, 1, 7)</th>\n",
       "      <td>1.000000</td>\n",
       "      <td>1.000000</td>\n",
       "      <td>1.000000</td>\n",
       "      <td>NaN</td>\n",
       "      <td>NaN</td>\n",
       "      <td>NaN</td>\n",
       "      <td>NaN</td>\n",
       "      <td>NaN</td>\n",
       "      <td>NaN</td>\n",
       "      <td>NaN</td>\n",
       "      <td>...</td>\n",
       "      <td>NaN</td>\n",
       "      <td>NaN</td>\n",
       "      <td>NaN</td>\n",
       "      <td>NaN</td>\n",
       "      <td>NaN</td>\n",
       "      <td>1.000000</td>\n",
       "      <td>NaN</td>\n",
       "      <td>NaN</td>\n",
       "      <td>NaN</td>\n",
       "      <td>0.962963</td>\n",
       "    </tr>\n",
       "    <tr>\n",
       "      <th>...</th>\n",
       "      <td>...</td>\n",
       "      <td>...</td>\n",
       "      <td>...</td>\n",
       "      <td>...</td>\n",
       "      <td>...</td>\n",
       "      <td>...</td>\n",
       "      <td>...</td>\n",
       "      <td>...</td>\n",
       "      <td>...</td>\n",
       "      <td>...</td>\n",
       "      <td>...</td>\n",
       "      <td>...</td>\n",
       "      <td>...</td>\n",
       "      <td>...</td>\n",
       "      <td>...</td>\n",
       "      <td>...</td>\n",
       "      <td>...</td>\n",
       "      <td>...</td>\n",
       "      <td>...</td>\n",
       "      <td>...</td>\n",
       "      <td>...</td>\n",
       "    </tr>\n",
       "    <tr>\n",
       "      <th>(MS, 3, 78)</th>\n",
       "      <td>0.869565</td>\n",
       "      <td>0.878788</td>\n",
       "      <td>NaN</td>\n",
       "      <td>0.794326</td>\n",
       "      <td>0.758065</td>\n",
       "      <td>0.756972</td>\n",
       "      <td>0.755396</td>\n",
       "      <td>NaN</td>\n",
       "      <td>NaN</td>\n",
       "      <td>NaN</td>\n",
       "      <td>...</td>\n",
       "      <td>NaN</td>\n",
       "      <td>NaN</td>\n",
       "      <td>NaN</td>\n",
       "      <td>NaN</td>\n",
       "      <td>NaN</td>\n",
       "      <td>1.000000</td>\n",
       "      <td>NaN</td>\n",
       "      <td>NaN</td>\n",
       "      <td>0.480000</td>\n",
       "      <td>NaN</td>\n",
       "    </tr>\n",
       "    <tr>\n",
       "      <th>(MS, 3, 79)</th>\n",
       "      <td>1.000000</td>\n",
       "      <td>1.000000</td>\n",
       "      <td>1.000000</td>\n",
       "      <td>NaN</td>\n",
       "      <td>NaN</td>\n",
       "      <td>NaN</td>\n",
       "      <td>NaN</td>\n",
       "      <td>NaN</td>\n",
       "      <td>NaN</td>\n",
       "      <td>NaN</td>\n",
       "      <td>...</td>\n",
       "      <td>NaN</td>\n",
       "      <td>NaN</td>\n",
       "      <td>NaN</td>\n",
       "      <td>NaN</td>\n",
       "      <td>NaN</td>\n",
       "      <td>1.000000</td>\n",
       "      <td>NaN</td>\n",
       "      <td>NaN</td>\n",
       "      <td>0.986111</td>\n",
       "      <td>NaN</td>\n",
       "    </tr>\n",
       "    <tr>\n",
       "      <th>(MS, 3, 80)</th>\n",
       "      <td>NaN</td>\n",
       "      <td>0.873846</td>\n",
       "      <td>1.000000</td>\n",
       "      <td>NaN</td>\n",
       "      <td>NaN</td>\n",
       "      <td>NaN</td>\n",
       "      <td>NaN</td>\n",
       "      <td>NaN</td>\n",
       "      <td>NaN</td>\n",
       "      <td>NaN</td>\n",
       "      <td>...</td>\n",
       "      <td>NaN</td>\n",
       "      <td>NaN</td>\n",
       "      <td>NaN</td>\n",
       "      <td>NaN</td>\n",
       "      <td>NaN</td>\n",
       "      <td>0.998273</td>\n",
       "      <td>NaN</td>\n",
       "      <td>NaN</td>\n",
       "      <td>0.514286</td>\n",
       "      <td>NaN</td>\n",
       "    </tr>\n",
       "    <tr>\n",
       "      <th>(MS, 3, 81)</th>\n",
       "      <td>0.871134</td>\n",
       "      <td>0.959381</td>\n",
       "      <td>NaN</td>\n",
       "      <td>NaN</td>\n",
       "      <td>NaN</td>\n",
       "      <td>NaN</td>\n",
       "      <td>NaN</td>\n",
       "      <td>NaN</td>\n",
       "      <td>NaN</td>\n",
       "      <td>NaN</td>\n",
       "      <td>...</td>\n",
       "      <td>NaN</td>\n",
       "      <td>NaN</td>\n",
       "      <td>NaN</td>\n",
       "      <td>NaN</td>\n",
       "      <td>NaN</td>\n",
       "      <td>0.997468</td>\n",
       "      <td>NaN</td>\n",
       "      <td>NaN</td>\n",
       "      <td>0.611940</td>\n",
       "      <td>NaN</td>\n",
       "    </tr>\n",
       "    <tr>\n",
       "      <th>(MS, 3, 82)</th>\n",
       "      <td>NaN</td>\n",
       "      <td>0.771186</td>\n",
       "      <td>NaN</td>\n",
       "      <td>0.750751</td>\n",
       "      <td>NaN</td>\n",
       "      <td>NaN</td>\n",
       "      <td>NaN</td>\n",
       "      <td>NaN</td>\n",
       "      <td>NaN</td>\n",
       "      <td>NaN</td>\n",
       "      <td>...</td>\n",
       "      <td>NaN</td>\n",
       "      <td>NaN</td>\n",
       "      <td>NaN</td>\n",
       "      <td>NaN</td>\n",
       "      <td>NaN</td>\n",
       "      <td>1.000000</td>\n",
       "      <td>NaN</td>\n",
       "      <td>NaN</td>\n",
       "      <td>0.575000</td>\n",
       "      <td>NaN</td>\n",
       "    </tr>\n",
       "  </tbody>\n",
       "</table>\n",
       "<p>444 rows × 200 columns</p>\n",
       "</div>"
      ],
      "text/plain": [
       "             (contig000001, 146)  (contig000001, 227)  (contig000001, 5306)  \\\n",
       "id                                                                            \n",
       "(K, 1, 1)                    NaN             0.819048                   NaN   \n",
       "(K, 1, 4)               0.985915             1.000000              1.000000   \n",
       "(K, 1, 5)                    NaN                  NaN              1.000000   \n",
       "(K, 1, 6)               0.941860             0.981982              0.770833   \n",
       "(K, 1, 7)               1.000000             1.000000              1.000000   \n",
       "...                          ...                  ...                   ...   \n",
       "(MS, 3, 78)             0.869565             0.878788                   NaN   \n",
       "(MS, 3, 79)             1.000000             1.000000              1.000000   \n",
       "(MS, 3, 80)                  NaN             0.873846              1.000000   \n",
       "(MS, 3, 81)             0.871134             0.959381                   NaN   \n",
       "(MS, 3, 82)                  NaN             0.771186                   NaN   \n",
       "\n",
       "             (contig000001, 91539)  (contig000001, 91557)  \\\n",
       "id                                                          \n",
       "(K, 1, 1)                      NaN                    NaN   \n",
       "(K, 1, 4)                      NaN                    NaN   \n",
       "(K, 1, 5)                      NaN                    NaN   \n",
       "(K, 1, 6)                      NaN                    NaN   \n",
       "(K, 1, 7)                      NaN                    NaN   \n",
       "...                            ...                    ...   \n",
       "(MS, 3, 78)               0.794326               0.758065   \n",
       "(MS, 3, 79)                    NaN                    NaN   \n",
       "(MS, 3, 80)                    NaN                    NaN   \n",
       "(MS, 3, 81)                    NaN                    NaN   \n",
       "(MS, 3, 82)               0.750751                    NaN   \n",
       "\n",
       "             (contig000001, 91560)  (contig000001, 91603)  \\\n",
       "id                                                          \n",
       "(K, 1, 1)                      NaN                    NaN   \n",
       "(K, 1, 4)                      NaN                    NaN   \n",
       "(K, 1, 5)                      NaN                    NaN   \n",
       "(K, 1, 6)                      NaN                    NaN   \n",
       "(K, 1, 7)                      NaN                    NaN   \n",
       "...                            ...                    ...   \n",
       "(MS, 3, 78)               0.756972               0.755396   \n",
       "(MS, 3, 79)                    NaN                    NaN   \n",
       "(MS, 3, 80)                    NaN                    NaN   \n",
       "(MS, 3, 81)                    NaN                    NaN   \n",
       "(MS, 3, 82)                    NaN                    NaN   \n",
       "\n",
       "             (contig000001, 91654)  (contig000001, 91737)  \\\n",
       "id                                                          \n",
       "(K, 1, 1)                      NaN                    NaN   \n",
       "(K, 1, 4)                      NaN                    NaN   \n",
       "(K, 1, 5)                      NaN                    NaN   \n",
       "(K, 1, 6)                      NaN                    NaN   \n",
       "(K, 1, 7)                      NaN                    NaN   \n",
       "...                            ...                    ...   \n",
       "(MS, 3, 78)                    NaN                    NaN   \n",
       "(MS, 3, 79)                    NaN                    NaN   \n",
       "(MS, 3, 80)                    NaN                    NaN   \n",
       "(MS, 3, 81)                    NaN                    NaN   \n",
       "(MS, 3, 82)                    NaN                    NaN   \n",
       "\n",
       "             (contig000001, 91827)  ...  (contig000029, 128)  \\\n",
       "id                                  ...                        \n",
       "(K, 1, 1)                      NaN  ...                  NaN   \n",
       "(K, 1, 4)                      NaN  ...                  NaN   \n",
       "(K, 1, 5)                      NaN  ...                  NaN   \n",
       "(K, 1, 6)                 0.713483  ...                  NaN   \n",
       "(K, 1, 7)                      NaN  ...                  NaN   \n",
       "...                            ...  ...                  ...   \n",
       "(MS, 3, 78)                    NaN  ...                  NaN   \n",
       "(MS, 3, 79)                    NaN  ...                  NaN   \n",
       "(MS, 3, 80)                    NaN  ...                  NaN   \n",
       "(MS, 3, 81)                    NaN  ...                  NaN   \n",
       "(MS, 3, 82)                    NaN  ...                  NaN   \n",
       "\n",
       "             (contig000029, 302)  (contig000029, 320)  (contig000029, 329)  \\\n",
       "id                                                                           \n",
       "(K, 1, 1)                    NaN                  NaN                  NaN   \n",
       "(K, 1, 4)                    NaN                  NaN                  NaN   \n",
       "(K, 1, 5)                    NaN                  NaN                  NaN   \n",
       "(K, 1, 6)                    NaN                  NaN                  NaN   \n",
       "(K, 1, 7)                    NaN                  NaN                  NaN   \n",
       "...                          ...                  ...                  ...   \n",
       "(MS, 3, 78)                  NaN                  NaN                  NaN   \n",
       "(MS, 3, 79)                  NaN                  NaN                  NaN   \n",
       "(MS, 3, 80)                  NaN                  NaN                  NaN   \n",
       "(MS, 3, 81)                  NaN                  NaN                  NaN   \n",
       "(MS, 3, 82)                  NaN                  NaN                  NaN   \n",
       "\n",
       "             (contig000029, 344)  (contig000029, 695)  (contig000032, 8535)  \\\n",
       "id                                                                            \n",
       "(K, 1, 1)                    NaN             0.994898                   NaN   \n",
       "(K, 1, 4)                    NaN             1.000000                   NaN   \n",
       "(K, 1, 5)                    NaN             1.000000              0.870813   \n",
       "(K, 1, 6)                    NaN             0.998450                   NaN   \n",
       "(K, 1, 7)                    NaN             1.000000                   NaN   \n",
       "...                          ...                  ...                   ...   \n",
       "(MS, 3, 78)                  NaN             1.000000                   NaN   \n",
       "(MS, 3, 79)                  NaN             1.000000                   NaN   \n",
       "(MS, 3, 80)                  NaN             0.998273                   NaN   \n",
       "(MS, 3, 81)                  NaN             0.997468                   NaN   \n",
       "(MS, 3, 82)                  NaN             1.000000                   NaN   \n",
       "\n",
       "             (contig000038, 58)  (contig000038, 105)  (contig000038, 155)  \n",
       "id                                                                         \n",
       "(K, 1, 1)                   NaN             0.423077                  NaN  \n",
       "(K, 1, 4)                   NaN             0.900000                  NaN  \n",
       "(K, 1, 5)                   NaN             0.606061                  NaN  \n",
       "(K, 1, 6)                   NaN             0.722222                  NaN  \n",
       "(K, 1, 7)                   NaN                  NaN             0.962963  \n",
       "...                         ...                  ...                  ...  \n",
       "(MS, 3, 78)                 NaN             0.480000                  NaN  \n",
       "(MS, 3, 79)                 NaN             0.986111                  NaN  \n",
       "(MS, 3, 80)                 NaN             0.514286                  NaN  \n",
       "(MS, 3, 81)                 NaN             0.611940                  NaN  \n",
       "(MS, 3, 82)                 NaN             0.575000                  NaN  \n",
       "\n",
       "[444 rows x 200 columns]"
      ]
     },
     "execution_count": 17,
     "metadata": {},
     "output_type": "execute_result"
    }
   ],
   "source": [
    "assert isinstance(genotype_data_wide.columns[0], tuple) and isinstance(genotype_data_wide.columns[0][1], tuple), \"It seems like this has already been run\"\n",
    "\n",
    "genotype_data_wide = (genotype_data_wide\n",
    "  .reset_index()\n",
    "  .loc[common_rows]\n",
    "  .set_index('id')\n",
    "  .pipe(lambda df: df.set_axis([df.columns[i][1] for i in range(TOP_N_VARIANTS)], axis=1) )\n",
    ")\n",
    "\n",
    "genotype_data_wide"
   ]
  },
  {
   "cell_type": "code",
   "execution_count": 56,
   "id": "4ccfa1d2",
   "metadata": {},
   "outputs": [],
   "source": [
    "all_data = pd.merge(phenotypes_df, genotype_data_wide, left_index=True, right_index=True)\n",
    "# all_data"
   ]
  },
  {
   "cell_type": "markdown",
   "id": "1f21616b",
   "metadata": {},
   "source": [
    "### GWAS: one plant, one data point"
   ]
  },
  {
   "cell_type": "code",
   "execution_count": 19,
   "id": "eb1aa880",
   "metadata": {},
   "outputs": [],
   "source": [
    "snps = all_data.columns[3:]"
   ]
  },
  {
   "cell_type": "code",
   "execution_count": 20,
   "id": "9e9a3461",
   "metadata": {},
   "outputs": [
    {
     "data": {
      "text/plain": [
       "(600, 7)"
      ]
     },
     "execution_count": 20,
     "metadata": {},
     "output_type": "execute_result"
    }
   ],
   "source": [
    "gwas_results = run_gwas(all_data, snps, phenotypes)\n",
    "gwas_results.shape"
   ]
  },
  {
   "cell_type": "code",
   "execution_count": 55,
   "id": "0a8fee0d-02f3-4513-8b0b-7abacf9b1aad",
   "metadata": {},
   "outputs": [],
   "source": [
    "# qqplot(gwas_results.query(\"phenotype == 'PR_Length'\").p_value)\n",
    "# qqplot(gwas_results.query(\"phenotype == 'LR_number'\").p_value)\n",
    "# qqplot(gwas_results.query(\"phenotype == 'LR_Density'\").p_value)"
   ]
  },
  {
   "cell_type": "code",
   "execution_count": 33,
   "id": "ce1fcb46",
   "metadata": {},
   "outputs": [
    {
     "data": {
      "application/vnd.jupyter.widget-view+json": {
       "model_id": "47a5bf1eba6f4a158130d8732b0e2ef9",
       "version_major": 2,
       "version_minor": 0
      },
      "text/plain": [
       "interactive(children=(IntSlider(value=0, description='index'), Output()), _dom_classes=('widget-interact',))"
      ]
     },
     "metadata": {},
     "output_type": "display_data"
    }
   ],
   "source": [
    "@interact\n",
    "def select_association(index=widgets.IntSlider(min=0,max=100)):\n",
    "    \n",
    "    SNP       = gwas_results.SNP.iloc[index]\n",
    "    phenotype = gwas_results.phenotype.iloc[index]\n",
    "    p_value   =  gwas_results.p_value.iloc[index]\n",
    "    \n",
    "    plt.figure(figsize=(15, 5))\n",
    "    plt.scatter(all_data[[SNP]], all_data[[phenotype]]);\n",
    "    plt.title(f\"{SNP}\\n{phenotype} ({p_value:.1e})\");"
   ]
  },
  {
   "cell_type": "markdown",
   "id": "ad83c479",
   "metadata": {},
   "source": [
    "___"
   ]
  },
  {
   "cell_type": "code",
   "execution_count": 23,
   "id": "85f62ec2",
   "metadata": {},
   "outputs": [],
   "source": [
    "# gff = \"/home/rodrigo/01_repos/plant-microbiota-interaction/data/genomes/reference_2/annotations/annotations2.gff3\""
   ]
  },
  {
   "cell_type": "code",
   "execution_count": 39,
   "id": "197b275c",
   "metadata": {},
   "outputs": [
    {
     "name": "stdout",
     "output_type": "stream",
     "text": [
      "          seqid   source  type  start   end score strand phase  \\\n",
      "0  contig000001  Liftoff  gene   2802  3266     .      -     .   \n",
      "1  contig000001  Liftoff   CDS   2802  3266     .      -     .   \n",
      "2  contig000001  Liftoff  gene   3483  3905     .      +     .   \n",
      "3  contig000001  Liftoff   CDS   3483  3905     .      +     .   \n",
      "4  contig000001  Liftoff  gene   4159  5214     .      -     .   \n",
      "\n",
      "                                          attributes  \n",
      "0  ID=gene-C2I27_06630;Name=C2I27_06630;gbkey=Gen...  \n",
      "1  ID=cds-PVC74168.1;Parent=gene-C2I27_06630;Dbxr...  \n",
      "2  ID=gene-C2I27_06635;Name=C2I27_06635;gbkey=Gen...  \n",
      "3  ID=cds-PVC74169.1;Parent=gene-C2I27_06635;Dbxr...  \n",
      "4  ID=gene-C2I27_06640;Name=C2I27_06640;gbkey=Gen...  \n"
     ]
    }
   ],
   "source": [
    "gff = \"/home/rodrigo/01_repos/plant-microbiota-interaction/data/genomes/reference/annotations_translated_from_tg1e1.gff\"\n",
    "gff_data = read_annotation_data(gff)"
   ]
  },
  {
   "cell_type": "code",
   "execution_count": 54,
   "id": "ab4d22c1",
   "metadata": {},
   "outputs": [
    {
     "data": {
      "text/html": [
       "<div>\n",
       "<style scoped>\n",
       "    .dataframe tbody tr th:only-of-type {\n",
       "        vertical-align: middle;\n",
       "    }\n",
       "\n",
       "    .dataframe tbody tr th {\n",
       "        vertical-align: top;\n",
       "    }\n",
       "\n",
       "    .dataframe thead th {\n",
       "        text-align: right;\n",
       "    }\n",
       "</style>\n",
       "<table border=\"1\" class=\"dataframe\">\n",
       "  <thead>\n",
       "    <tr style=\"text-align: right;\">\n",
       "      <th></th>\n",
       "      <th>SNP</th>\n",
       "      <th>phenotype</th>\n",
       "      <th>p_value</th>\n",
       "      <th>beta</th>\n",
       "      <th>r_squared</th>\n",
       "      <th>contig</th>\n",
       "      <th>position</th>\n",
       "      <th>annotation</th>\n",
       "      <th>Chromosome</th>\n",
       "      <th>annotation_as_str</th>\n",
       "    </tr>\n",
       "  </thead>\n",
       "  <tbody>\n",
       "    <tr>\n",
       "      <th>447</th>\n",
       "      <td>(contig000024, 14027)</td>\n",
       "      <td>PR_Length</td>\n",
       "      <td>6.435899e-14</td>\n",
       "      <td>-0.581154</td>\n",
       "      <td>3.593671e-02</td>\n",
       "      <td>contig000024</td>\n",
       "      <td>14027</td>\n",
       "      <td>None</td>\n",
       "      <td>contig000024</td>\n",
       "      <td>None</td>\n",
       "    </tr>\n",
       "    <tr>\n",
       "      <th>564</th>\n",
       "      <td>(contig000028, 15902)</td>\n",
       "      <td>PR_Length</td>\n",
       "      <td>2.075721e-12</td>\n",
       "      <td>5.104474</td>\n",
       "      <td>3.116754e-02</td>\n",
       "      <td>contig000028</td>\n",
       "      <td>15902</td>\n",
       "      <td>None</td>\n",
       "      <td>contig000028</td>\n",
       "      <td>None</td>\n",
       "    </tr>\n",
       "    <tr>\n",
       "      <th>354</th>\n",
       "      <td>(contig000024, 13733)</td>\n",
       "      <td>PR_Length</td>\n",
       "      <td>3.583436e-11</td>\n",
       "      <td>-52.074402</td>\n",
       "      <td>1.338920e-02</td>\n",
       "      <td>contig000024</td>\n",
       "      <td>13733</td>\n",
       "      <td>None</td>\n",
       "      <td>contig000024</td>\n",
       "      <td>None</td>\n",
       "    </tr>\n",
       "    <tr>\n",
       "      <th>543</th>\n",
       "      <td>(contig000026, 12532)</td>\n",
       "      <td>PR_Length</td>\n",
       "      <td>5.100639e-10</td>\n",
       "      <td>-10.822059</td>\n",
       "      <td>1.844451e-01</td>\n",
       "      <td>contig000026</td>\n",
       "      <td>12532</td>\n",
       "      <td>None</td>\n",
       "      <td>contig000026</td>\n",
       "      <td>None</td>\n",
       "    </tr>\n",
       "    <tr>\n",
       "      <th>518</th>\n",
       "      <td>(contig000024, 20950)</td>\n",
       "      <td>LR_Density</td>\n",
       "      <td>1.310338e-09</td>\n",
       "      <td>12.457027</td>\n",
       "      <td>1.316118e-02</td>\n",
       "      <td>contig000024</td>\n",
       "      <td>20950</td>\n",
       "      <td>None</td>\n",
       "      <td>contig000024</td>\n",
       "      <td>None</td>\n",
       "    </tr>\n",
       "    <tr>\n",
       "      <th>...</th>\n",
       "      <td>...</td>\n",
       "      <td>...</td>\n",
       "      <td>...</td>\n",
       "      <td>...</td>\n",
       "      <td>...</td>\n",
       "      <td>...</td>\n",
       "      <td>...</td>\n",
       "      <td>...</td>\n",
       "      <td>...</td>\n",
       "      <td>...</td>\n",
       "    </tr>\n",
       "    <tr>\n",
       "      <th>169</th>\n",
       "      <td>(contig000022, 6781)</td>\n",
       "      <td>LR_number</td>\n",
       "      <td>9.755961e-01</td>\n",
       "      <td>-0.020619</td>\n",
       "      <td>4.861155e-06</td>\n",
       "      <td>contig000022</td>\n",
       "      <td>6781</td>\n",
       "      <td>{'ID': 'gene-C2I27_09295', 'Name': 'C2I27_0929...</td>\n",
       "      <td>contig000022</td>\n",
       "      <td>None</td>\n",
       "    </tr>\n",
       "    <tr>\n",
       "      <th>130</th>\n",
       "      <td>(contig000010, 110356)</td>\n",
       "      <td>LR_number</td>\n",
       "      <td>9.783733e-01</td>\n",
       "      <td>0.019803</td>\n",
       "      <td>2.573943e-06</td>\n",
       "      <td>contig000010</td>\n",
       "      <td>110356</td>\n",
       "      <td>None</td>\n",
       "      <td>contig000010</td>\n",
       "      <td>None</td>\n",
       "    </tr>\n",
       "    <tr>\n",
       "      <th>40</th>\n",
       "      <td>(contig000001, 757080)</td>\n",
       "      <td>LR_number</td>\n",
       "      <td>9.819319e-01</td>\n",
       "      <td>-0.017914</td>\n",
       "      <td>1.723985e-06</td>\n",
       "      <td>contig000001</td>\n",
       "      <td>757080</td>\n",
       "      <td>None</td>\n",
       "      <td>contig000001</td>\n",
       "      <td>None</td>\n",
       "    </tr>\n",
       "    <tr>\n",
       "      <th>201</th>\n",
       "      <td>(contig000024, 13039)</td>\n",
       "      <td>PR_Length</td>\n",
       "      <td>9.980114e-01</td>\n",
       "      <td>0.009901</td>\n",
       "      <td>1.898761e-09</td>\n",
       "      <td>contig000024</td>\n",
       "      <td>13039</td>\n",
       "      <td>None</td>\n",
       "      <td>contig000024</td>\n",
       "      <td>None</td>\n",
       "    </tr>\n",
       "    <tr>\n",
       "      <th>438</th>\n",
       "      <td>(contig000024, 14003)</td>\n",
       "      <td>PR_Length</td>\n",
       "      <td>9.991878e-01</td>\n",
       "      <td>-0.011542</td>\n",
       "      <td>2.274639e-09</td>\n",
       "      <td>contig000024</td>\n",
       "      <td>14003</td>\n",
       "      <td>None</td>\n",
       "      <td>contig000024</td>\n",
       "      <td>None</td>\n",
       "    </tr>\n",
       "  </tbody>\n",
       "</table>\n",
       "<p>600 rows × 10 columns</p>\n",
       "</div>"
      ],
      "text/plain": [
       "                        SNP   phenotype       p_value       beta  \\\n",
       "447   (contig000024, 14027)   PR_Length  6.435899e-14  -0.581154   \n",
       "564   (contig000028, 15902)   PR_Length  2.075721e-12   5.104474   \n",
       "354   (contig000024, 13733)   PR_Length  3.583436e-11 -52.074402   \n",
       "543   (contig000026, 12532)   PR_Length  5.100639e-10 -10.822059   \n",
       "518   (contig000024, 20950)  LR_Density  1.310338e-09  12.457027   \n",
       "..                      ...         ...           ...        ...   \n",
       "169    (contig000022, 6781)   LR_number  9.755961e-01  -0.020619   \n",
       "130  (contig000010, 110356)   LR_number  9.783733e-01   0.019803   \n",
       "40   (contig000001, 757080)   LR_number  9.819319e-01  -0.017914   \n",
       "201   (contig000024, 13039)   PR_Length  9.980114e-01   0.009901   \n",
       "438   (contig000024, 14003)   PR_Length  9.991878e-01  -0.011542   \n",
       "\n",
       "        r_squared        contig  position  \\\n",
       "447  3.593671e-02  contig000024     14027   \n",
       "564  3.116754e-02  contig000028     15902   \n",
       "354  1.338920e-02  contig000024     13733   \n",
       "543  1.844451e-01  contig000026     12532   \n",
       "518  1.316118e-02  contig000024     20950   \n",
       "..            ...           ...       ...   \n",
       "169  4.861155e-06  contig000022      6781   \n",
       "130  2.573943e-06  contig000010    110356   \n",
       "40   1.723985e-06  contig000001    757080   \n",
       "201  1.898761e-09  contig000024     13039   \n",
       "438  2.274639e-09  contig000024     14003   \n",
       "\n",
       "                                            annotation    Chromosome  \\\n",
       "447                                               None  contig000024   \n",
       "564                                               None  contig000028   \n",
       "354                                               None  contig000024   \n",
       "543                                               None  contig000026   \n",
       "518                                               None  contig000024   \n",
       "..                                                 ...           ...   \n",
       "169  {'ID': 'gene-C2I27_09295', 'Name': 'C2I27_0929...  contig000022   \n",
       "130                                               None  contig000010   \n",
       "40                                                None  contig000001   \n",
       "201                                               None  contig000024   \n",
       "438                                               None  contig000024   \n",
       "\n",
       "    annotation_as_str  \n",
       "447              None  \n",
       "564              None  \n",
       "354              None  \n",
       "543              None  \n",
       "518              None  \n",
       "..                ...  \n",
       "169              None  \n",
       "130              None  \n",
       "40               None  \n",
       "201              None  \n",
       "438              None  \n",
       "\n",
       "[600 rows x 10 columns]"
      ]
     },
     "execution_count": 54,
     "metadata": {},
     "output_type": "execute_result"
    }
   ],
   "source": [
    "gwas_results"
   ]
  },
  {
   "cell_type": "code",
   "execution_count": 42,
   "id": "20bc9f53",
   "metadata": {},
   "outputs": [
    {
     "name": "stdout",
     "output_type": "stream",
     "text": [
      "Variant does not belong to any row.\n",
      "Variant does not belong to any row.\n",
      "Variant does not belong to any row.\n",
      "Variant does not belong to any row.\n",
      "Variant does not belong to any row.\n",
      "Variant does not belong to any row.\n",
      "Variant does not belong to any row.\n",
      "Variant does not belong to any row.\n",
      "Variant does not belong to any row.\n",
      "Variant does not belong to any row.\n",
      "Variant does not belong to any row.\n",
      "Variant does not belong to any row.\n",
      "Variant does not belong to any row.\n",
      "Variant does not belong to any row.\n",
      "Variant does not belong to any row.\n",
      "Variant does not belong to any row.\n",
      "Variant does not belong to any row.\n",
      "Variant does not belong to any row.\n",
      "Variant does not belong to any row.\n",
      "Variant does not belong to any row.\n",
      "Variant does not belong to any row.\n",
      "Variant does not belong to any row.\n",
      "Variant does not belong to any row.\n",
      "Variant does not belong to any row.\n",
      "Variant does not belong to any row.\n",
      "Variant does not belong to any row.\n",
      "Variant does not belong to any row.\n",
      "Variant does not belong to any row.\n",
      "Variant does not belong to any row.\n",
      "Variant does not belong to any row.\n",
      "Variant does not belong to any row.\n",
      "Variant does not belong to any row.\n",
      "Variant does not belong to any row.\n",
      "Variant does not belong to any row.\n",
      "Variant does not belong to any row.\n",
      "Variant does not belong to any row.\n",
      "Variant does not belong to any row.\n",
      "Variant does not belong to any row.\n",
      "Variant does not belong to any row.\n",
      "Variant does not belong to any row.\n",
      "Variant does not belong to any row.\n",
      "Variant does not belong to any row.\n",
      "Variant does not belong to any row.\n",
      "Variant does not belong to any row.\n",
      "Variant does not belong to any row.\n",
      "Variant does not belong to any row.\n",
      "Variant does not belong to any row.\n",
      "Variant does not belong to any row.\n",
      "Variant does not belong to any row.\n",
      "Variant does not belong to any row.\n",
      "Variant does not belong to any row.\n",
      "Variant does not belong to any row.\n",
      "Variant does not belong to any row.\n",
      "Variant does not belong to any row.\n",
      "Variant does not belong to any row.\n",
      "Variant does not belong to any row.\n",
      "Variant does not belong to any row.\n",
      "Variant does not belong to any row.\n",
      "Variant does not belong to any row.\n",
      "Variant does not belong to any row.\n",
      "Variant does not belong to any row.\n",
      "Variant does not belong to any row.\n",
      "Variant does not belong to any row.\n",
      "Variant does not belong to any row.\n",
      "Variant does not belong to any row.\n",
      "Variant does not belong to any row.\n",
      "Variant does not belong to any row.\n",
      "Variant does not belong to any row.\n",
      "Variant does not belong to any row.\n",
      "Variant does not belong to any row.\n",
      "Variant does not belong to any row.\n",
      "Variant does not belong to any row.\n",
      "Variant does not belong to any row.\n",
      "Variant does not belong to any row.\n",
      "Variant does not belong to any row.\n",
      "Variant does not belong to any row.\n",
      "Variant does not belong to any row.\n",
      "Variant does not belong to any row.\n",
      "Variant does not belong to any row.\n",
      "Variant does not belong to any row.\n",
      "Variant does not belong to any row.\n",
      "Variant does not belong to any row.\n",
      "Variant does not belong to any row.\n",
      "Variant does not belong to any row.\n",
      "Variant does not belong to any row.\n",
      "Variant does not belong to any row.\n",
      "Variant does not belong to any row.\n",
      "Variant does not belong to any row.\n",
      "Variant does not belong to any row.\n",
      "Variant does not belong to any row.\n",
      "Variant does not belong to any row.\n",
      "Variant does not belong to any row.\n",
      "Variant does not belong to any row.\n",
      "Variant does not belong to any row.\n",
      "Variant does not belong to any row.\n",
      "Variant does not belong to any row.\n",
      "Variant does not belong to any row.\n",
      "Variant does not belong to any row.\n",
      "Variant does not belong to any row.\n",
      "Variant does not belong to any row.\n",
      "Variant does not belong to any row.\n",
      "Variant does not belong to any row.\n",
      "Variant does not belong to any row.\n",
      "Variant does not belong to any row.\n",
      "Variant does not belong to any row.\n",
      "Variant does not belong to any row.\n",
      "Variant does not belong to any row.\n",
      "Variant does not belong to any row.\n",
      "Variant does not belong to any row.\n",
      "Variant does not belong to any row.\n",
      "Variant does not belong to any row.\n",
      "Variant does not belong to any row.\n",
      "Variant does not belong to any row.\n",
      "Variant does not belong to any row.\n",
      "Variant does not belong to any row.\n",
      "Variant does not belong to any row.\n",
      "Variant does not belong to any row.\n",
      "Variant does not belong to any row.\n",
      "Variant does not belong to any row.\n",
      "Variant does not belong to any row.\n",
      "Variant does not belong to any row.\n",
      "Variant does not belong to any row.\n",
      "Variant does not belong to any row.\n",
      "Variant does not belong to any row.\n",
      "Variant does not belong to any row.\n",
      "Variant does not belong to any row.\n",
      "Variant does not belong to any row.\n",
      "Variant does not belong to any row.\n",
      "Variant does not belong to any row.\n",
      "Variant does not belong to any row.\n",
      "Variant does not belong to any row.\n",
      "Variant does not belong to any row.\n",
      "Variant does not belong to any row.\n",
      "Variant does not belong to any row.\n",
      "Variant does not belong to any row.\n",
      "Variant does not belong to any row.\n",
      "Variant does not belong to any row.\n",
      "Variant does not belong to any row.\n",
      "Variant does not belong to any row.\n",
      "Variant does not belong to any row.\n",
      "Variant does not belong to any row.\n",
      "Variant does not belong to any row.\n",
      "Variant does not belong to any row.\n",
      "Variant does not belong to any row.\n",
      "Variant does not belong to any row.\n",
      "Variant does not belong to any row.\n",
      "Variant does not belong to any row.\n",
      "Variant does not belong to any row.\n",
      "Variant does not belong to any row.\n",
      "Variant does not belong to any row.\n",
      "Variant does not belong to any row.\n",
      "Variant does not belong to any row.\n",
      "Variant does not belong to any row.\n",
      "Variant does not belong to any row.\n",
      "Variant does not belong to any row.\n",
      "Variant does not belong to any row.\n",
      "Variant does not belong to any row.\n",
      "Variant does not belong to any row.\n",
      "Variant does not belong to any row.\n",
      "Variant does not belong to any row.\n",
      "Variant does not belong to any row.\n",
      "Variant does not belong to any row.\n",
      "Variant does not belong to any row.\n",
      "Variant does not belong to any row.\n",
      "Variant does not belong to any row.\n",
      "Variant does not belong to any row.\n",
      "Variant does not belong to any row.\n",
      "Variant does not belong to any row.\n",
      "Variant does not belong to any row.\n",
      "Variant does not belong to any row.\n",
      "Variant does not belong to any row.\n",
      "Variant does not belong to any row.\n",
      "Variant does not belong to any row.\n",
      "Variant does not belong to any row.\n",
      "Variant does not belong to any row.\n",
      "Variant does not belong to any row.\n",
      "Variant does not belong to any row.\n",
      "Variant does not belong to any row.\n",
      "Variant does not belong to any row.\n",
      "Variant does not belong to any row.\n",
      "Variant does not belong to any row.\n",
      "Variant does not belong to any row.\n",
      "Variant does not belong to any row.\n",
      "Variant does not belong to any row.\n",
      "Variant does not belong to any row.\n",
      "Variant does not belong to any row.\n",
      "Variant does not belong to any row.\n",
      "Variant does not belong to any row.\n",
      "Variant does not belong to any row.\n",
      "Variant does not belong to any row.\n",
      "Variant does not belong to any row.\n",
      "Variant does not belong to any row.\n",
      "Variant does not belong to any row.\n",
      "Variant does not belong to any row.\n",
      "Variant does not belong to any row.\n",
      "Variant does not belong to any row.\n",
      "Variant does not belong to any row.\n",
      "Variant does not belong to any row.\n",
      "Variant does not belong to any row.\n",
      "Variant does not belong to any row.\n",
      "Variant does not belong to any row.\n",
      "Variant does not belong to any row.\n",
      "Variant does not belong to any row.\n",
      "Variant does not belong to any row.\n",
      "Variant does not belong to any row.\n",
      "Variant does not belong to any row.\n",
      "Variant does not belong to any row.\n",
      "Variant does not belong to any row.\n",
      "Variant does not belong to any row.\n",
      "Variant does not belong to any row.\n",
      "Variant does not belong to any row.\n",
      "Variant does not belong to any row.\n",
      "Variant does not belong to any row.\n",
      "Variant does not belong to any row.\n",
      "Variant does not belong to any row.\n",
      "Variant does not belong to any row.\n",
      "Variant does not belong to any row.\n",
      "Variant does not belong to any row.\n",
      "Variant does not belong to any row.\n",
      "Variant does not belong to any row.\n",
      "Variant does not belong to any row.\n",
      "Variant does not belong to any row.\n",
      "Variant does not belong to any row.\n",
      "Variant does not belong to any row.\n",
      "Variant does not belong to any row.\n",
      "Variant does not belong to any row.\n",
      "Variant does not belong to any row.\n",
      "Variant does not belong to any row.\n",
      "Variant does not belong to any row.\n",
      "Variant does not belong to any row.\n",
      "Variant does not belong to any row.\n",
      "Variant does not belong to any row.\n",
      "Variant does not belong to any row.\n",
      "Variant does not belong to any row.\n",
      "Variant does not belong to any row.\n",
      "Variant does not belong to any row.\n",
      "Variant does not belong to any row.\n",
      "Variant does not belong to any row.\n",
      "Variant does not belong to any row.\n",
      "Variant does not belong to any row.\n",
      "Variant does not belong to any row.\n",
      "Variant does not belong to any row.\n",
      "Variant does not belong to any row.\n",
      "Variant does not belong to any row.\n",
      "Variant does not belong to any row.\n",
      "Variant does not belong to any row.\n",
      "Variant does not belong to any row.\n",
      "Variant does not belong to any row.\n",
      "Variant does not belong to any row.\n",
      "Variant does not belong to any row.\n",
      "Variant does not belong to any row.\n",
      "Variant does not belong to any row.\n",
      "Variant does not belong to any row.\n",
      "Variant does not belong to any row.\n",
      "Variant does not belong to any row.\n",
      "Variant does not belong to any row.\n",
      "Variant does not belong to any row.\n",
      "Variant does not belong to any row.\n",
      "Variant does not belong to any row.\n",
      "Variant does not belong to any row.\n",
      "Variant does not belong to any row.\n",
      "Variant does not belong to any row.\n",
      "Variant does not belong to any row.\n",
      "Variant does not belong to any row.\n",
      "Variant does not belong to any row.\n",
      "Variant does not belong to any row.\n",
      "Variant does not belong to any row.\n",
      "Variant does not belong to any row.\n",
      "Variant does not belong to any row.\n",
      "Variant does not belong to any row.\n",
      "Variant does not belong to any row.\n",
      "Variant does not belong to any row.\n",
      "Variant does not belong to any row.\n",
      "Variant does not belong to any row.\n",
      "Variant does not belong to any row.\n",
      "Variant does not belong to any row.\n",
      "Variant does not belong to any row.\n",
      "Variant does not belong to any row.\n",
      "Variant does not belong to any row.\n",
      "Variant does not belong to any row.\n",
      "Variant does not belong to any row.\n",
      "Variant does not belong to any row.\n",
      "Variant does not belong to any row.\n",
      "Variant does not belong to any row.\n",
      "Variant does not belong to any row.\n",
      "Variant does not belong to any row.\n",
      "Variant does not belong to any row.\n",
      "Variant does not belong to any row.\n",
      "Variant does not belong to any row.\n",
      "Variant does not belong to any row.\n",
      "Variant does not belong to any row.\n",
      "Variant does not belong to any row.\n",
      "Variant does not belong to any row.\n",
      "Variant does not belong to any row.\n",
      "Variant does not belong to any row.\n",
      "Variant does not belong to any row.\n",
      "Variant does not belong to any row.\n",
      "Variant does not belong to any row.\n",
      "Variant does not belong to any row.\n",
      "Variant does not belong to any row.\n",
      "Variant does not belong to any row.\n",
      "Variant does not belong to any row.\n",
      "Variant does not belong to any row.\n",
      "Variant does not belong to any row.\n",
      "Variant does not belong to any row.\n",
      "Variant does not belong to any row.\n",
      "Variant does not belong to any row.\n",
      "Variant does not belong to any row.\n",
      "Variant does not belong to any row.\n",
      "Variant does not belong to any row.\n",
      "Variant does not belong to any row.\n",
      "Variant does not belong to any row.\n",
      "Variant does not belong to any row.\n",
      "Variant does not belong to any row.\n",
      "Variant does not belong to any row.\n",
      "Variant does not belong to any row.\n",
      "Variant does not belong to any row.\n",
      "Variant does not belong to any row.\n",
      "Variant does not belong to any row.\n",
      "Variant does not belong to any row.\n",
      "Variant does not belong to any row.\n",
      "Variant does not belong to any row.\n",
      "Variant does not belong to any row.\n",
      "Variant does not belong to any row.\n",
      "Variant does not belong to any row.\n",
      "Variant does not belong to any row.\n",
      "Variant does not belong to any row.\n",
      "Variant does not belong to any row.\n",
      "Variant does not belong to any row.\n",
      "Variant does not belong to any row.\n",
      "Variant does not belong to any row.\n",
      "Variant does not belong to any row.\n",
      "Variant does not belong to any row.\n",
      "Variant does not belong to any row.\n",
      "Variant does not belong to any row.\n",
      "Variant does not belong to any row.\n",
      "Variant does not belong to any row.\n",
      "Variant does not belong to any row.\n",
      "Variant does not belong to any row.\n",
      "Variant does not belong to any row.\n",
      "Variant does not belong to any row.\n",
      "Variant does not belong to any row.\n",
      "Variant does not belong to any row.\n",
      "Variant does not belong to any row.\n",
      "Variant does not belong to any row.\n",
      "Variant does not belong to any row.\n",
      "Variant does not belong to any row.\n",
      "Variant does not belong to any row.\n",
      "Variant does not belong to any row.\n",
      "Variant does not belong to any row.\n",
      "Variant does not belong to any row.\n",
      "Variant does not belong to any row.\n",
      "Variant does not belong to any row.\n",
      "Variant does not belong to any row.\n",
      "Variant does not belong to any row.\n",
      "Variant does not belong to any row.\n",
      "Variant does not belong to any row.\n",
      "Variant does not belong to any row.\n",
      "Variant does not belong to any row.\n",
      "Variant does not belong to any row.\n",
      "Variant does not belong to any row.\n",
      "Variant does not belong to any row.\n",
      "Variant does not belong to any row.\n",
      "Variant does not belong to any row.\n",
      "Variant does not belong to any row.\n",
      "Variant does not belong to any row.\n",
      "Variant does not belong to any row.\n",
      "Variant does not belong to any row.\n",
      "Variant does not belong to any row.\n",
      "Variant does not belong to any row.\n",
      "Variant does not belong to any row.\n",
      "Variant does not belong to any row.\n",
      "Variant does not belong to any row.\n",
      "Variant does not belong to any row.\n",
      "Variant does not belong to any row.\n",
      "Variant does not belong to any row.\n",
      "Variant does not belong to any row.\n",
      "Variant does not belong to any row.\n",
      "Variant does not belong to any row.\n",
      "Variant does not belong to any row.\n",
      "Variant does not belong to any row.\n",
      "Variant does not belong to any row.\n",
      "Variant does not belong to any row.\n",
      "Variant does not belong to any row.\n",
      "Variant does not belong to any row.\n",
      "Variant does not belong to any row.\n",
      "Variant does not belong to any row.\n",
      "Variant does not belong to any row.\n",
      "Variant does not belong to any row.\n",
      "Variant does not belong to any row.\n",
      "Variant does not belong to any row.\n",
      "Variant does not belong to any row.\n",
      "Variant does not belong to any row.\n",
      "Variant does not belong to any row.\n",
      "Variant does not belong to any row.\n",
      "Variant does not belong to any row.\n",
      "Variant does not belong to any row.\n",
      "Variant does not belong to any row.\n",
      "Variant does not belong to any row.\n",
      "Variant does not belong to any row.\n",
      "Variant does not belong to any row.\n",
      "Variant does not belong to any row.\n",
      "Variant does not belong to any row.\n",
      "Variant does not belong to any row.\n",
      "Variant does not belong to any row.\n",
      "Variant does not belong to any row.\n",
      "Variant does not belong to any row.\n",
      "Variant does not belong to any row.\n",
      "Variant does not belong to any row.\n",
      "Variant does not belong to any row.\n",
      "Variant does not belong to any row.\n",
      "Variant does not belong to any row.\n",
      "Variant does not belong to any row.\n",
      "Variant does not belong to any row.\n",
      "Variant does not belong to any row.\n",
      "Variant does not belong to any row.\n",
      "Variant does not belong to any row.\n",
      "Variant does not belong to any row.\n",
      "Variant does not belong to any row.\n",
      "Variant does not belong to any row.\n",
      "Variant does not belong to any row.\n",
      "Variant does not belong to any row.\n",
      "Variant does not belong to any row.\n",
      "Variant does not belong to any row.\n",
      "Variant does not belong to any row.\n",
      "Variant does not belong to any row.\n",
      "Variant does not belong to any row.\n",
      "Variant does not belong to any row.\n",
      "Variant does not belong to any row.\n",
      "Variant does not belong to any row.\n",
      "Variant does not belong to any row.\n",
      "Variant does not belong to any row.\n",
      "Variant does not belong to any row.\n",
      "Variant does not belong to any row.\n",
      "Variant does not belong to any row.\n",
      "Variant does not belong to any row.\n",
      "Variant does not belong to any row.\n",
      "Variant does not belong to any row.\n",
      "Variant does not belong to any row.\n",
      "Variant does not belong to any row.\n",
      "Variant does not belong to any row.\n",
      "Variant does not belong to any row.\n",
      "Variant does not belong to any row.\n",
      "Variant does not belong to any row.\n",
      "Variant does not belong to any row.\n",
      "Variant does not belong to any row.\n",
      "Variant does not belong to any row.\n",
      "Variant does not belong to any row.\n",
      "Variant does not belong to any row.\n",
      "Variant does not belong to any row.\n",
      "Variant does not belong to any row.\n",
      "Variant does not belong to any row.\n",
      "Variant does not belong to any row.\n",
      "Variant does not belong to any row.\n",
      "Variant does not belong to any row.\n",
      "Variant does not belong to any row.\n",
      "Variant does not belong to any row.\n",
      "Variant does not belong to any row.\n",
      "Variant does not belong to any row.\n",
      "Variant does not belong to any row.\n",
      "Variant does not belong to any row.\n",
      "Variant does not belong to any row.\n",
      "Variant does not belong to any row.\n",
      "Variant does not belong to any row.\n",
      "Variant does not belong to any row.\n",
      "Variant does not belong to any row.\n",
      "Variant does not belong to any row.\n",
      "Variant does not belong to any row.\n",
      "Variant does not belong to any row.\n",
      "Variant does not belong to any row.\n",
      "Variant does not belong to any row.\n",
      "Variant does not belong to any row.\n",
      "Variant does not belong to any row.\n",
      "Variant does not belong to any row.\n",
      "Variant does not belong to any row.\n",
      "Variant does not belong to any row.\n",
      "Variant does not belong to any row.\n",
      "Variant does not belong to any row.\n",
      "Variant does not belong to any row.\n",
      "Variant does not belong to any row.\n",
      "Variant does not belong to any row.\n",
      "Variant does not belong to any row.\n",
      "Variant does not belong to any row.\n",
      "Variant does not belong to any row.\n",
      "Variant does not belong to any row.\n",
      "Variant does not belong to any row.\n",
      "Variant does not belong to any row.\n",
      "Variant does not belong to any row.\n",
      "Variant does not belong to any row.\n",
      "Variant does not belong to any row.\n",
      "Variant does not belong to any row.\n",
      "Variant does not belong to any row.\n",
      "Variant does not belong to any row.\n",
      "Variant does not belong to any row.\n",
      "Variant does not belong to any row.\n",
      "Variant does not belong to any row.\n",
      "Variant does not belong to any row.\n",
      "Variant does not belong to any row.\n",
      "Variant does not belong to any row.\n",
      "Variant does not belong to any row.\n",
      "Variant does not belong to any row.\n",
      "Variant does not belong to any row.\n",
      "Variant does not belong to any row.\n",
      "Variant does not belong to any row.\n",
      "Variant does not belong to any row.\n",
      "Variant does not belong to any row.\n",
      "Variant does not belong to any row.\n",
      "Variant does not belong to any row.\n",
      "Variant does not belong to any row.\n",
      "Variant does not belong to any row.\n",
      "Variant does not belong to any row.\n",
      "Variant does not belong to any row.\n",
      "Variant does not belong to any row.\n",
      "Variant does not belong to any row.\n",
      "Variant does not belong to any row.\n",
      "Variant does not belong to any row.\n",
      "Variant does not belong to any row.\n",
      "Variant does not belong to any row.\n",
      "Variant does not belong to any row.\n",
      "Variant does not belong to any row.\n",
      "Variant does not belong to any row.\n",
      "Variant does not belong to any row.\n",
      "Variant does not belong to any row.\n",
      "Variant does not belong to any row.\n",
      "Variant does not belong to any row.\n",
      "Variant does not belong to any row.\n",
      "Variant does not belong to any row.\n",
      "Variant does not belong to any row.\n",
      "Variant does not belong to any row.\n",
      "Variant does not belong to any row.\n",
      "Variant does not belong to any row.\n",
      "Variant does not belong to any row.\n",
      "Variant does not belong to any row.\n",
      "Variant does not belong to any row.\n",
      "534\n"
     ]
    }
   ],
   "source": [
    "gwas_results[\"annotation\"] = annotate_results(gwas_results, gff_data)"
   ]
  },
  {
   "cell_type": "code",
   "execution_count": 43,
   "id": "e69e1e74",
   "metadata": {},
   "outputs": [
    {
     "data": {
      "application/vnd.plotly.v1+json": {
       "config": {
        "plotlyServerURL": "https://plot.ly"
       },
       "data": [
        {
         "customdata": [
          [
           "contig000001",
           146,
           0.004436183079216715,
           "None"
          ],
          [
           "contig000001",
           146,
           0.2804895266114487,
           "None"
          ],
          [
           "contig000001",
           146,
           0.7066722472050857,
           "None"
          ],
          [
           "contig000001",
           227,
           0.07077182421379363,
           "None"
          ],
          [
           "contig000001",
           227,
           0.6021167088951871,
           "None"
          ],
          [
           "contig000001",
           227,
           0.6192805695730271,
           "None"
          ],
          [
           "contig000001",
           5306,
           0.001613266875320993,
           "None"
          ],
          [
           "contig000001",
           5306,
           0.1341981947589956,
           "None"
          ],
          [
           "contig000001",
           5306,
           0.8764707561209137,
           "None"
          ],
          [
           "contig000001",
           91539,
           0.0002549777398811611,
           "None"
          ],
          [
           "contig000001",
           91539,
           0.0028198821009420803,
           "None"
          ],
          [
           "contig000001",
           91539,
           0.006729408473101393,
           "None"
          ],
          [
           "contig000001",
           91557,
           0.0002385993680298977,
           "None"
          ],
          [
           "contig000001",
           91557,
           0.019737831428010742,
           "None"
          ],
          [
           "contig000001",
           91557,
           0.8696519651519835,
           "None"
          ],
          [
           "contig000001",
           91560,
           1.2664993815066802e-7,
           "None"
          ],
          [
           "contig000001",
           91560,
           0.013253854827603488,
           "None"
          ],
          [
           "contig000001",
           91560,
           0.10141823175805806,
           "None"
          ],
          [
           "contig000001",
           91603,
           0.0009851433780457954,
           "None"
          ],
          [
           "contig000001",
           91603,
           0.002187350195375005,
           "None"
          ],
          [
           "contig000001",
           91603,
           0.9258045257784636,
           "None"
          ],
          [
           "contig000001",
           91654,
           0.0035083414183680584,
           "None"
          ],
          [
           "contig000001",
           91654,
           0.09402836866682535,
           "None"
          ],
          [
           "contig000001",
           91654,
           0.275424047378251,
           "None"
          ],
          [
           "contig000001",
           91737,
           0.16843928543002049,
           "None"
          ],
          [
           "contig000001",
           91737,
           0.8679493806974078,
           "None"
          ],
          [
           "contig000001",
           91737,
           0.9190246800680892,
           "None"
          ],
          [
           "contig000001",
           91827,
           0.0015798856304227804,
           "None"
          ],
          [
           "contig000001",
           91827,
           0.009864219816323383,
           "None"
          ],
          [
           "contig000001",
           91827,
           0.009956319672036612,
           "None"
          ],
          [
           "contig000001",
           91828,
           0.045901229515264055,
           "None"
          ],
          [
           "contig000001",
           91828,
           0.29888366509803166,
           "None"
          ],
          [
           "contig000001",
           91828,
           0.3113989524537393,
           "None"
          ],
          [
           "contig000001",
           91914,
           0.0002922929080074915,
           "None"
          ],
          [
           "contig000001",
           91914,
           0.00816465072347916,
           "None"
          ],
          [
           "contig000001",
           91914,
           0.07477641148919029,
           "None"
          ],
          [
           "contig000001",
           91917,
           0.0005918620267340498,
           "None"
          ],
          [
           "contig000001",
           91917,
           0.05371185899635685,
           "None"
          ],
          [
           "contig000001",
           91917,
           0.09811875516468109,
           "None"
          ],
          [
           "contig000001",
           757080,
           0.0021912721068738455,
           "None"
          ],
          [
           "contig000001",
           757080,
           0.6744753299936549,
           "None"
          ],
          [
           "contig000001",
           757080,
           0.9819318533226681,
           "None"
          ],
          [
           "contig000001",
           873973,
           0.0005250798581697532,
           "None"
          ],
          [
           "contig000001",
           873973,
           0.11937040795012825,
           "None"
          ],
          [
           "contig000001",
           873973,
           0.9445830609976968,
           "None"
          ]
         ],
         "hovertemplate": "-log10(P-value)=%{y}<br>position=%{customdata[1]}<br>p_value=%{customdata[2]}<br>annotation_as_str=%{customdata[3]}<extra></extra>",
         "legendgroup": "contig000001",
         "marker": {
          "color": "rgb(141,211,199)",
          "symbol": "circle"
         },
         "mode": "markers",
         "name": "contig000001",
         "orientation": "v",
         "showlegend": true,
         "type": "scatter",
         "x": [
          146,
          146,
          146,
          227,
          227,
          227,
          5306,
          5306,
          5306,
          91539,
          91539,
          91539,
          91557,
          91557,
          91557,
          91560,
          91560,
          91560,
          91603,
          91603,
          91603,
          91654,
          91654,
          91654,
          91737,
          91737,
          91737,
          91827,
          91827,
          91827,
          91828,
          91828,
          91828,
          91914,
          91914,
          91914,
          91917,
          91917,
          91917,
          757080,
          757080,
          757080,
          873973,
          873973,
          873973
         ],
         "xaxis": "x",
         "y": [
          2.3529905390213286,
          0.5520833505210961,
          0.1507819641859979,
          1.150139609880487,
          0.22031932084086475,
          0.2081125461160492,
          2.7922937833288763,
          0.8722533262793959,
          0.05726256977805018,
          3.593497732776871,
          2.549769049120588,
          2.172023109350834,
          3.6223307109653065,
          1.7047005644619144,
          0.06065451732967907,
          6.897395017960525,
          1.8776577906421612,
          0.9938839657109673,
          3.0065005575606394,
          2.660081680728415,
          0.03348070050740031,
          2.454898149371504,
          1.0267410985627645,
          0.5599981440073953,
          0.7735566096553423,
          0.06150560238667816,
          0.036672825639499945,
          2.8013743509405615,
          2.0059372583960444,
          2.0019011677511975,
          1.338175681248294,
          0.5244978198273718,
          0.5066828527323358,
          3.5341817219349942,
          2.0880623892629124,
          1.1262353804206024,
          3.2277795230267814,
          1.269929816198545,
          1.0082479703366194,
          2.6593036894515345,
          0.17103393071196346,
          0.00791865147260468,
          3.279774640736947,
          0.9231033219236213,
          0.024759846797843325
         ],
         "yaxis": "y"
        },
        {
         "customdata": [
          [
           "contig000003",
           173757,
           0.5053702745090175,
           "None"
          ],
          [
           "contig000003",
           173757,
           0.6061873589788046,
           "None"
          ],
          [
           "contig000003",
           173757,
           0.6218746431251714,
           "None"
          ],
          [
           "contig000003",
           173758,
           0.47350582093137694,
           "None"
          ],
          [
           "contig000003",
           173758,
           0.7390893078853527,
           "None"
          ],
          [
           "contig000003",
           173758,
           0.826459917022346,
           "None"
          ],
          [
           "contig000003",
           173759,
           0.4097833147671158,
           "None"
          ],
          [
           "contig000003",
           173759,
           0.6627642849787798,
           "None"
          ],
          [
           "contig000003",
           173759,
           0.860744413681737,
           "None"
          ],
          [
           "contig000003",
           382812,
           0.16951293821325072,
           "None"
          ],
          [
           "contig000003",
           382812,
           0.5437167626123883,
           "None"
          ],
          [
           "contig000003",
           382812,
           0.9382256370390483,
           "None"
          ],
          [
           "contig000003",
           674953,
           0.003607425745867615,
           "None"
          ],
          [
           "contig000003",
           674953,
           0.3411941928827529,
           "None"
          ],
          [
           "contig000003",
           674953,
           0.42491949954082997,
           "None"
          ]
         ],
         "hovertemplate": "-log10(P-value)=%{y}<br>position=%{customdata[1]}<br>p_value=%{customdata[2]}<br>annotation_as_str=%{customdata[3]}<extra></extra>",
         "legendgroup": "contig000003",
         "marker": {
          "color": "rgb(255,255,179)",
          "symbol": "circle"
         },
         "mode": "markers",
         "name": "contig000003",
         "orientation": "v",
         "showlegend": true,
         "type": "scatter",
         "x": [
          1047730,
          1047730,
          1047730,
          1047731,
          1047731,
          1047731,
          1047732,
          1047732,
          1047732,
          1256785,
          1256785,
          1256785,
          1548926,
          1548926,
          1548926
         ],
         "xaxis": "x",
         "y": [
          0.29639030653237824,
          0.21739312435736383,
          0.20629715113844177,
          0.32467467773180003,
          0.13130308044366473,
          0.08277820469161735,
          0.3874457288340271,
          0.17864090286970935,
          0.06512578722923552,
          0.770797148315307,
          0.26462727763311955,
          0.027692704119119595,
          2.4428025995253466,
          0.4669983691236185,
          0.3716933386947441
         ],
         "yaxis": "y"
        },
        {
         "customdata": [
          [
           "contig000004",
           730351,
           0.0009945395025558548,
           "None"
          ],
          [
           "contig000004",
           730351,
           0.5957112365050289,
           "None"
          ],
          [
           "contig000004",
           730351,
           0.9576670553958078,
           "None"
          ],
          [
           "contig000004",
           730355,
           0.0004655327835731201,
           "None"
          ],
          [
           "contig000004",
           730355,
           0.7113274668430192,
           "None"
          ],
          [
           "contig000004",
           730355,
           0.8124644847847763,
           "None"
          ],
          [
           "contig000004",
           730362,
           0.006842220881913326,
           "None"
          ],
          [
           "contig000004",
           730362,
           0.020052227720919674,
           "None"
          ],
          [
           "contig000004",
           730362,
           0.05346127938703523,
           "None"
          ],
          [
           "contig000004",
           730363,
           0.0009647181963080593,
           "None"
          ],
          [
           "contig000004",
           730363,
           0.004653781386244263,
           "None"
          ],
          [
           "contig000004",
           730363,
           0.21941260106992125,
           "None"
          ],
          [
           "contig000004",
           730382,
           0.20944401206114663,
           "None"
          ],
          [
           "contig000004",
           730382,
           0.2541496785825715,
           "None"
          ],
          [
           "contig000004",
           730382,
           0.43965842046506876,
           "None"
          ],
          [
           "contig000004",
           731455,
           0.17639266573886025,
           "None"
          ],
          [
           "contig000004",
           731455,
           0.20082961514798933,
           "None"
          ],
          [
           "contig000004",
           731455,
           0.8930275628651593,
           "None"
          ],
          [
           "contig000004",
           735204,
           0.028515797058333965,
           "None"
          ],
          [
           "contig000004",
           735204,
           0.749950865296478,
           "None"
          ],
          [
           "contig000004",
           735204,
           0.7671052563882684,
           "None"
          ],
          [
           "contig000004",
           735301,
           0.002487384808267033,
           "None"
          ],
          [
           "contig000004",
           735301,
           0.07861482991080836,
           "None"
          ],
          [
           "contig000004",
           735301,
           0.19885078778064638,
           "None"
          ],
          [
           "contig000004",
           735313,
           0.01143349522834938,
           "None"
          ],
          [
           "contig000004",
           735313,
           0.3638732102730262,
           "None"
          ],
          [
           "contig000004",
           735313,
           0.8189322694003587,
           "None"
          ],
          [
           "contig000004",
           735316,
           0.03385757308835183,
           "None"
          ],
          [
           "contig000004",
           735316,
           0.533631122249324,
           "None"
          ],
          [
           "contig000004",
           735316,
           0.9348889096438484,
           "None"
          ],
          [
           "contig000004",
           735323,
           0.0030168777941437996,
           "None"
          ],
          [
           "contig000004",
           735323,
           0.5693827733254482,
           "None"
          ],
          [
           "contig000004",
           735323,
           0.7980964803977426,
           "None"
          ],
          [
           "contig000004",
           735509,
           0.0011495846130787214,
           "None"
          ],
          [
           "contig000004",
           735509,
           0.38500921712765923,
           "None"
          ],
          [
           "contig000004",
           735509,
           0.49273344223967797,
           "None"
          ],
          [
           "contig000004",
           735551,
           0.49071394616781205,
           "None"
          ],
          [
           "contig000004",
           735551,
           0.7444796629782585,
           "None"
          ],
          [
           "contig000004",
           735551,
           0.7834286496982344,
           "None"
          ],
          [
           "contig000004",
           735565,
           0.42374547582609656,
           "None"
          ],
          [
           "contig000004",
           735565,
           0.8541562051254691,
           "None"
          ],
          [
           "contig000004",
           735565,
           0.8601236835436564,
           "None"
          ],
          [
           "contig000004",
           735653,
           0.000005712449813048767,
           "None"
          ],
          [
           "contig000004",
           735653,
           0.03494689118591156,
           "None"
          ],
          [
           "contig000004",
           735653,
           0.5944814637302926,
           "None"
          ],
          [
           "contig000004",
           735662,
           0.0013035155548002137,
           "None"
          ],
          [
           "contig000004",
           735662,
           0.07889002335733411,
           "None"
          ],
          [
           "contig000004",
           735662,
           0.5813408962577067,
           "None"
          ],
          [
           "contig000004",
           736020,
           0.1501898693269854,
           "None"
          ],
          [
           "contig000004",
           736020,
           0.5663048932067202,
           "None"
          ],
          [
           "contig000004",
           736020,
           0.872177099069309,
           "None"
          ],
          [
           "contig000004",
           736088,
           0.022820643588665934,
           "None"
          ],
          [
           "contig000004",
           736088,
           0.5869282947008861,
           "None"
          ],
          [
           "contig000004",
           736088,
           0.5931041137192324,
           "None"
          ]
         ],
         "hovertemplate": "-log10(P-value)=%{y}<br>position=%{customdata[1]}<br>p_value=%{customdata[2]}<br>annotation_as_str=%{customdata[3]}<extra></extra>",
         "legendgroup": "contig000004",
         "marker": {
          "color": "rgb(190,186,218)",
          "symbol": "circle"
         },
         "mode": "markers",
         "name": "contig000004",
         "orientation": "v",
         "showlegend": true,
         "type": "scatter",
         "x": [
          2279277,
          2279277,
          2279277,
          2279281,
          2279281,
          2279281,
          2279288,
          2279288,
          2279288,
          2279289,
          2279289,
          2279289,
          2279308,
          2279308,
          2279308,
          2280381,
          2280381,
          2280381,
          2284130,
          2284130,
          2284130,
          2284227,
          2284227,
          2284227,
          2284239,
          2284239,
          2284239,
          2284242,
          2284242,
          2284242,
          2284249,
          2284249,
          2284249,
          2284435,
          2284435,
          2284435,
          2284477,
          2284477,
          2284477,
          2284491,
          2284491,
          2284491,
          2284579,
          2284579,
          2284579,
          2284588,
          2284588,
          2284588,
          2284946,
          2284946,
          2284946,
          2285014,
          2285014,
          2285014
         ],
         "xaxis": "x",
         "y": [
          3.0023779622617015,
          0.22496420801580028,
          0.0187854524420693,
          3.3320497298844227,
          0.1479304213484714,
          0.0901956142249107,
          2.1648029099452106,
          1.697837372013439,
          1.2719606523119706,
          3.0155995298289504,
          2.3321940217750607,
          0.658738434108699,
          0.6789320514687955,
          0.5949104352034726,
          0.35688460469286243,
          0.753519476434134,
          0.697172243982262,
          0.049135136614799714,
          1.5449144847417429,
          0.12496718944780408,
          0.11514504135438211,
          2.6042570224585617,
          1.1044955208700058,
          0.7014726841443827,
          1.941820985147942,
          0.4390499176450884,
          0.08675201550703698,
          1.4703441753502713,
          0.27275884958064917,
          0.029239992116811955,
          2.520442281606225,
          0.24459567656889136,
          0.09794460442422268,
          2.939459057765033,
          0.41452887334925076,
          0.3073879607872529,
          0.30917159912595865,
          0.12814716141342408,
          0.106000550507911,
          0.37289492556585313,
          0.06846269977870537,
          0.06543909385145226,
          5.243177602416488,
          1.456591452274671,
          0.22586168238280444,
          2.884883782045638,
          1.1029779153560415,
          0.23556912415472417,
          0.8233593605660047,
          0.24694968579798732,
          0.05939532087103329,
          1.6416721117554527,
          0.23141495346775043,
          0.2268690637269637
         ],
         "yaxis": "y"
        },
        {
         "customdata": [
          [
           "contig000005",
           24692,
           0.0015290065933537043,
           "None"
          ],
          [
           "contig000005",
           24692,
           0.019669477107719102,
           "None"
          ],
          [
           "contig000005",
           24692,
           0.3036019527372193,
           "None"
          ]
         ],
         "hovertemplate": "-log10(P-value)=%{y}<br>position=%{customdata[1]}<br>p_value=%{customdata[2]}<br>annotation_as_str=%{customdata[3]}<extra></extra>",
         "legendgroup": "contig000005",
         "marker": {
          "color": "rgb(251,128,114)",
          "symbol": "circle"
         },
         "mode": "markers",
         "name": "contig000005",
         "orientation": "v",
         "showlegend": true,
         "type": "scatter",
         "x": [
          2309706,
          2309706,
          2309706
         ],
         "xaxis": "x",
         "y": [
          2.81559064182708,
          1.7062071851874585,
          0.5176954394291541
         ],
         "yaxis": "y"
        },
        {
         "customdata": [
          [
           "contig000008",
           50049,
           0.005554011266593342,
           "None"
          ],
          [
           "contig000008",
           50049,
           0.6189690749327632,
           "None"
          ],
          [
           "contig000008",
           50049,
           0.6587793217846263,
           "None"
          ],
          [
           "contig000008",
           50127,
           0.14804598185479248,
           "None"
          ],
          [
           "contig000008",
           50127,
           0.2089205431045392,
           "None"
          ],
          [
           "contig000008",
           50127,
           0.9601039383971537,
           "None"
          ]
         ],
         "hovertemplate": "-log10(P-value)=%{y}<br>position=%{customdata[1]}<br>p_value=%{customdata[2]}<br>annotation_as_str=%{customdata[3]}<extra></extra>",
         "legendgroup": "contig000008",
         "marker": {
          "color": "rgb(128,177,211)",
          "symbol": "circle"
         },
         "mode": "markers",
         "name": "contig000008",
         "orientation": "v",
         "showlegend": true,
         "type": "scatter",
         "x": [
          2359755,
          2359755,
          2359755,
          2359833,
          2359833,
          2359833
         ],
         "xaxis": "x",
         "y": [
          2.2553932435965,
          0.20833104875299793,
          0.18126004122021427,
          0.8296033753869575,
          0.6800188538526685,
          0.01768174880533787
         ],
         "yaxis": "y"
        },
        {
         "customdata": [
          [
           "contig000009",
           423949,
           0.13939474715638533,
           "None"
          ],
          [
           "contig000009",
           423949,
           0.2926534474890588,
           "None"
          ],
          [
           "contig000009",
           423949,
           0.8108475780624913,
           "None"
          ]
         ],
         "hovertemplate": "-log10(P-value)=%{y}<br>position=%{customdata[1]}<br>p_value=%{customdata[2]}<br>annotation_as_str=%{customdata[3]}<extra></extra>",
         "legendgroup": "contig000009",
         "marker": {
          "color": "rgb(253,180,98)",
          "symbol": "circle"
         },
         "mode": "markers",
         "name": "contig000009",
         "orientation": "v",
         "showlegend": true,
         "type": "scatter",
         "x": [
          2783782,
          2783782,
          2783782
         ],
         "xaxis": "x",
         "y": [
          0.8557535915463208,
          0.5336463554840023,
          0.09106077615592816
         ],
         "yaxis": "y"
        },
        {
         "customdata": [
          [
           "contig000010",
           218,
           0.4541368355684,
           "None"
          ],
          [
           "contig000010",
           218,
           0.4657039163952573,
           "None"
          ],
          [
           "contig000010",
           218,
           0.7342121640782873,
           "None"
          ],
          [
           "contig000010",
           110356,
           0.01038604357298935,
           "None"
          ],
          [
           "contig000010",
           110356,
           0.736842622830712,
           "None"
          ],
          [
           "contig000010",
           110356,
           0.9783733113232321,
           "None"
          ],
          [
           "contig000010",
           171802,
           0.000018386931428083502,
           "None"
          ],
          [
           "contig000010",
           171802,
           0.001334933003269581,
           "None"
          ],
          [
           "contig000010",
           171802,
           0.2258164753194899,
           "None"
          ],
          [
           "contig000010",
           171823,
           0.0000332204317944053,
           "None"
          ],
          [
           "contig000010",
           171823,
           0.2593171482940984,
           "None"
          ],
          [
           "contig000010",
           171823,
           0.3624618845593598,
           "None"
          ]
         ],
         "hovertemplate": "-log10(P-value)=%{y}<br>position=%{customdata[1]}<br>p_value=%{customdata[2]}<br>annotation_as_str=%{customdata[3]}<extra></extra>",
         "legendgroup": "contig000010",
         "marker": {
          "color": "rgb(179,222,105)",
          "symbol": "circle"
         },
         "mode": "markers",
         "name": "contig000010",
         "orientation": "v",
         "showlegend": true,
         "type": "scatter",
         "x": [
          2784000,
          2784000,
          2784000,
          2894138,
          2894138,
          2894138,
          2955584,
          2955584,
          2955584,
          2955605,
          2955605,
          2955605
         ],
         "xaxis": "x",
         "y": [
          0.342813270538388,
          0.33189010979821704,
          0.1341784245877989,
          1.983549859723907,
          0.13262526022056073,
          0.009495402765656816,
          4.735490743575831,
          2.8745405298353215,
          0.6462443756115817,
          4.478594726950584,
          0.5861687629712888,
          0.44073765584020047
         ],
         "yaxis": "y"
        },
        {
         "customdata": [
          [
           "contig000011",
           76448,
           0.010337522598041196,
           "None"
          ],
          [
           "contig000011",
           76448,
           0.06122426302478919,
           "None"
          ],
          [
           "contig000011",
           76448,
           0.13453308195046226,
           "None"
          ]
         ],
         "hovertemplate": "-log10(P-value)=%{y}<br>position=%{customdata[1]}<br>p_value=%{customdata[2]}<br>annotation_as_str=%{customdata[3]}<extra></extra>",
         "legendgroup": "contig000011",
         "marker": {
          "color": "rgb(252,205,229)",
          "symbol": "circle"
         },
         "mode": "markers",
         "name": "contig000011",
         "orientation": "v",
         "showlegend": true,
         "type": "scatter",
         "x": [
          3032053,
          3032053,
          3032053
         ],
         "xaxis": "x",
         "y": [
          1.9855835280615137,
          1.2130764339075146,
          0.8711709086584745
         ],
         "yaxis": "y"
        },
        {
         "customdata": [
          [
           "contig000013",
           173,
           0.4152827710543856,
           "None"
          ],
          [
           "contig000013",
           173,
           0.5996266393259275,
           "None"
          ],
          [
           "contig000013",
           173,
           0.693798398308829,
           "None"
          ]
         ],
         "hovertemplate": "-log10(P-value)=%{y}<br>position=%{customdata[1]}<br>p_value=%{customdata[2]}<br>annotation_as_str=%{customdata[3]}<extra></extra>",
         "legendgroup": "contig000013",
         "marker": {
          "color": "rgb(217,217,217)",
          "symbol": "circle"
         },
         "mode": "markers",
         "name": "contig000013",
         "orientation": "v",
         "showlegend": true,
         "type": "scatter",
         "x": [
          3032226,
          3032226,
          3032226
         ],
         "xaxis": "x",
         "y": [
          0.3816560862058456,
          0.22211908120191692,
          0.15876670709764912
         ],
         "yaxis": "y"
        },
        {
         "customdata": [
          [
           "contig000014",
           95,
           0.00006125683635914394,
           "None"
          ],
          [
           "contig000014",
           95,
           0.049622330981926935,
           "None"
          ],
          [
           "contig000014",
           95,
           0.19548270251574942,
           "None"
          ]
         ],
         "hovertemplate": "-log10(P-value)=%{y}<br>position=%{customdata[1]}<br>p_value=%{customdata[2]}<br>annotation_as_str=%{customdata[3]}<extra></extra>",
         "legendgroup": "contig000014",
         "marker": {
          "color": "rgb(188,128,189)",
          "symbol": "circle"
         },
         "mode": "markers",
         "name": "contig000014",
         "orientation": "v",
         "showlegend": true,
         "type": "scatter",
         "x": [
          3032321,
          3032321,
          3032321
         ],
         "xaxis": "x",
         "y": [
          4.212845436312422,
          1.304322838838275,
          0.708891665553605
         ],
         "yaxis": "y"
        },
        {
         "customdata": [
          [
           "contig000016",
           42679,
           0.000004650559459004742,
           "None"
          ],
          [
           "contig000016",
           42679,
           0.0003828850153065252,
           "None"
          ],
          [
           "contig000016",
           42679,
           0.008051841082964672,
           "None"
          ],
          [
           "contig000016",
           42680,
           0.09261274910561866,
           "None"
          ],
          [
           "contig000016",
           42680,
           0.10654008768488583,
           "None"
          ],
          [
           "contig000016",
           42680,
           0.9393355100997414,
           "None"
          ],
          [
           "contig000016",
           42688,
           0.004695371127749951,
           "None"
          ],
          [
           "contig000016",
           42688,
           0.2893245545418333,
           "None"
          ],
          [
           "contig000016",
           42688,
           0.5582730522212147,
           "None"
          ],
          [
           "contig000016",
           42879,
           0.27134314085554767,
           "None"
          ],
          [
           "contig000016",
           42879,
           0.5203450497608579,
           "None"
          ],
          [
           "contig000016",
           42879,
           0.6404123239143954,
           "None"
          ],
          [
           "contig000016",
           42882,
           0.009165272062480863,
           "None"
          ],
          [
           "contig000016",
           42882,
           0.5589124627286159,
           "None"
          ],
          [
           "contig000016",
           42882,
           0.9060533245408735,
           "None"
          ],
          [
           "contig000016",
           42965,
           0.009893058433694684,
           "None"
          ],
          [
           "contig000016",
           42965,
           0.0542139464723362,
           "None"
          ],
          [
           "contig000016",
           42965,
           0.2718169425142818,
           "None"
          ]
         ],
         "hovertemplate": "-log10(P-value)=%{y}<br>position=%{customdata[1]}<br>p_value=%{customdata[2]}<br>annotation_as_str=%{customdata[3]}<extra></extra>",
         "legendgroup": "contig000016",
         "marker": {
          "color": "rgb(204,235,197)",
          "symbol": "circle"
         },
         "mode": "markers",
         "name": "contig000016",
         "orientation": "v",
         "showlegend": true,
         "type": "scatter",
         "x": [
          3075000,
          3075000,
          3075000,
          3075001,
          3075001,
          3075001,
          3075009,
          3075009,
          3075009,
          3075200,
          3075200,
          3075200,
          3075203,
          3075203,
          3075203,
          3075286,
          3075286,
          3075286
         ],
         "xaxis": "x",
         "y": [
          5.332494798649085,
          3.416931629988255,
          2.0941048052529063,
          1.033329224062144,
          0.972486950116926,
          0.027179259534106173,
          2.328330074885871,
          0.5386147068653376,
          0.25315333499047915,
          0.5664811522537949,
          0.2837085726901703,
          0.19354031923162787,
          2.0378546388871994,
          0.25265620630121327,
          0.042846241757673285,
          2.00466942573951,
          1.2658889773573918,
          0.5657234769223551
         ],
         "yaxis": "y"
        },
        {
         "customdata": [
          [
           "contig000021",
           144,
           0.00027643048687842265,
           "None"
          ],
          [
           "contig000021",
           144,
           0.03981696639289674,
           "None"
          ],
          [
           "contig000021",
           144,
           0.06371777690391993,
           "None"
          ]
         ],
         "hovertemplate": "-log10(P-value)=%{y}<br>position=%{customdata[1]}<br>p_value=%{customdata[2]}<br>annotation_as_str=%{customdata[3]}<extra></extra>",
         "legendgroup": "contig000021",
         "marker": {
          "color": "rgb(255,237,111)",
          "symbol": "circle"
         },
         "mode": "markers",
         "name": "contig000021",
         "orientation": "v",
         "showlegend": true,
         "type": "scatter",
         "x": [
          3075430,
          3075430,
          3075430
         ],
         "xaxis": "x",
         "y": [
          3.5584140613234454,
          1.39993183142595,
          1.1957393850241196
         ],
         "yaxis": "y"
        },
        {
         "customdata": [
          [
           "contig000022",
           6781,
           0.4592585718538039,
           "None"
          ],
          [
           "contig000022",
           6781,
           0.8941479970228464,
           "None"
          ],
          [
           "contig000022",
           6781,
           0.9755961294417408,
           "None"
          ]
         ],
         "hovertemplate": "-log10(P-value)=%{y}<br>position=%{customdata[1]}<br>p_value=%{customdata[2]}<br>annotation_as_str=%{customdata[3]}<extra></extra>",
         "legendgroup": "contig000022",
         "marker": {
          "color": "rgb(141,211,199)",
          "symbol": "circle"
         },
         "mode": "markers",
         "name": "contig000022",
         "orientation": "v",
         "showlegend": true,
         "type": "scatter",
         "x": [
          3082211,
          3082211,
          3082211
         ],
         "xaxis": "x",
         "y": [
          0.3379427290361657,
          0.04859059197498711,
          0.010729931365101144
         ],
         "yaxis": "y"
        },
        {
         "customdata": [
          [
           "contig000024",
           278,
           0.0005789168055793903,
           "None"
          ],
          [
           "contig000024",
           278,
           0.21143681425550506,
           "None"
          ],
          [
           "contig000024",
           278,
           0.624763821277997,
           "None"
          ],
          [
           "contig000024",
           331,
           0.011922357400624257,
           "None"
          ],
          [
           "contig000024",
           331,
           0.09839547881060212,
           "None"
          ],
          [
           "contig000024",
           331,
           0.17943745731945018,
           "None"
          ],
          [
           "contig000024",
           389,
           0.08425510835820152,
           "None"
          ],
          [
           "contig000024",
           389,
           0.4742046120858522,
           "None"
          ],
          [
           "contig000024",
           389,
           0.9407930130636055,
           "None"
          ],
          [
           "contig000024",
           445,
           2.538455120626393e-8,
           "None"
          ],
          [
           "contig000024",
           445,
           0.02852587367757745,
           "None"
          ],
          [
           "contig000024",
           445,
           0.19482565795157983,
           "None"
          ],
          [
           "contig000024",
           538,
           1.7875776411237584e-7,
           "None"
          ],
          [
           "contig000024",
           538,
           0.006505927240177065,
           "None"
          ],
          [
           "contig000024",
           538,
           0.2797644023056542,
           "None"
          ],
          [
           "contig000024",
           13000,
           0.011525027771301627,
           "None"
          ],
          [
           "contig000024",
           13000,
           0.7081889884652259,
           "None"
          ],
          [
           "contig000024",
           13000,
           0.7482245878514682,
           "None"
          ],
          [
           "contig000024",
           13007,
           0.000016598417931384205,
           "None"
          ],
          [
           "contig000024",
           13007,
           0.7468544531431419,
           "None"
          ],
          [
           "contig000024",
           13007,
           0.8441073954723193,
           "None"
          ],
          [
           "contig000024",
           13012,
           0.003800419736182768,
           "None"
          ],
          [
           "contig000024",
           13012,
           0.09040356312103688,
           "None"
          ],
          [
           "contig000024",
           13012,
           0.13799328383809534,
           "None"
          ],
          [
           "contig000024",
           13015,
           0.00029352260611789806,
           "None"
          ],
          [
           "contig000024",
           13015,
           0.07471966224155002,
           "None"
          ],
          [
           "contig000024",
           13015,
           0.29382530502225607,
           "None"
          ],
          [
           "contig000024",
           13022,
           0.5966450212659619,
           "None"
          ],
          [
           "contig000024",
           13022,
           0.799446669521676,
           "None"
          ],
          [
           "contig000024",
           13022,
           0.8077132348681639,
           "None"
          ],
          [
           "contig000024",
           13039,
           0.5059151967149664,
           "None"
          ],
          [
           "contig000024",
           13039,
           0.7917578355792139,
           "None"
          ],
          [
           "contig000024",
           13039,
           0.9980113962224957,
           "None"
          ],
          [
           "contig000024",
           13042,
           0.01497520128948046,
           "None"
          ],
          [
           "contig000024",
           13042,
           0.07343075119313507,
           "None"
          ],
          [
           "contig000024",
           13042,
           0.8259713846669641,
           "None"
          ],
          [
           "contig000024",
           13070,
           0.11158318829445973,
           "None"
          ],
          [
           "contig000024",
           13070,
           0.20226523118124817,
           "None"
          ],
          [
           "contig000024",
           13070,
           0.30471528603424763,
           "None"
          ],
          [
           "contig000024",
           13072,
           0.14182442740261958,
           "None"
          ],
          [
           "contig000024",
           13072,
           0.34898404637757696,
           "None"
          ],
          [
           "contig000024",
           13072,
           0.4979074319962765,
           "None"
          ],
          [
           "contig000024",
           13073,
           0.2266227273395973,
           "None"
          ],
          [
           "contig000024",
           13073,
           0.34371915613486026,
           "None"
          ],
          [
           "contig000024",
           13073,
           0.6354311316720396,
           "None"
          ],
          [
           "contig000024",
           13076,
           0.27223092410000843,
           "None"
          ],
          [
           "contig000024",
           13076,
           0.6847385977348075,
           "None"
          ],
          [
           "contig000024",
           13076,
           0.7012948798076446,
           "None"
          ],
          [
           "contig000024",
           13077,
           1.726066896852908e-8,
           "None"
          ],
          [
           "contig000024",
           13077,
           9.971503303074899e-7,
           "None"
          ],
          [
           "contig000024",
           13077,
           0.31338282705866805,
           "None"
          ],
          [
           "contig000024",
           13092,
           0.0000012089401647906428,
           "None"
          ],
          [
           "contig000024",
           13092,
           0.040899518435890785,
           "None"
          ],
          [
           "contig000024",
           13092,
           0.2531359162181647,
           "None"
          ],
          [
           "contig000024",
           13105,
           0.09002900842350968,
           "None"
          ],
          [
           "contig000024",
           13105,
           0.7100470848741872,
           "None"
          ],
          [
           "contig000024",
           13105,
           0.8900584620217015,
           "None"
          ],
          [
           "contig000024",
           13106,
           0.0001660133241096059,
           "None"
          ],
          [
           "contig000024",
           13106,
           0.6423692890732438,
           "None"
          ],
          [
           "contig000024",
           13106,
           0.6761863727340875,
           "None"
          ],
          [
           "contig000024",
           13113,
           0.1763157370778442,
           "None"
          ],
          [
           "contig000024",
           13113,
           0.21498186740400077,
           "None"
          ],
          [
           "contig000024",
           13113,
           0.8499152284378557,
           "None"
          ],
          [
           "contig000024",
           13114,
           0.08989333536088728,
           "None"
          ],
          [
           "contig000024",
           13114,
           0.15594835242430638,
           "None"
          ],
          [
           "contig000024",
           13114,
           0.24872078380005527,
           "None"
          ],
          [
           "contig000024",
           13186,
           0.0310175347391432,
           "None"
          ],
          [
           "contig000024",
           13186,
           0.06482888692193185,
           "None"
          ],
          [
           "contig000024",
           13186,
           0.5761632082002468,
           "None"
          ],
          [
           "contig000024",
           13192,
           0.00031442044896873615,
           "None"
          ],
          [
           "contig000024",
           13192,
           0.006744062863997404,
           "None"
          ],
          [
           "contig000024",
           13192,
           0.9603900466199822,
           "None"
          ],
          [
           "contig000024",
           13212,
           0.0068249265393037625,
           "None"
          ],
          [
           "contig000024",
           13212,
           0.10038301874307194,
           "None"
          ],
          [
           "contig000024",
           13212,
           0.12551319591610904,
           "None"
          ],
          [
           "contig000024",
           13224,
           0.006462139423791117,
           "None"
          ],
          [
           "contig000024",
           13224,
           0.34108072613784557,
           "None"
          ],
          [
           "contig000024",
           13224,
           0.704093895999978,
           "None"
          ],
          [
           "contig000024",
           13230,
           0.002783746326153451,
           "None"
          ],
          [
           "contig000024",
           13230,
           0.4179853536025604,
           "None"
          ],
          [
           "contig000024",
           13230,
           0.6128444073504686,
           "None"
          ],
          [
           "contig000024",
           13232,
           0.0008391643742284622,
           "None"
          ],
          [
           "contig000024",
           13232,
           0.0018112450457789257,
           "None"
          ],
          [
           "contig000024",
           13232,
           0.8108070817686227,
           "None"
          ],
          [
           "contig000024",
           13233,
           0.03999405372412205,
           "None"
          ],
          [
           "contig000024",
           13233,
           0.4501420800190862,
           "None"
          ],
          [
           "contig000024",
           13233,
           0.7056822178874391,
           "None"
          ],
          [
           "contig000024",
           13259,
           0.010707505224468561,
           "None"
          ],
          [
           "contig000024",
           13259,
           0.08788641827648781,
           "None"
          ],
          [
           "contig000024",
           13259,
           0.911262888182726,
           "None"
          ],
          [
           "contig000024",
           13260,
           0.22159664523805545,
           "None"
          ],
          [
           "contig000024",
           13260,
           0.3787867221843496,
           "None"
          ],
          [
           "contig000024",
           13260,
           0.43210266277383835,
           "None"
          ],
          [
           "contig000024",
           13264,
           0.5439181503004021,
           "None"
          ],
          [
           "contig000024",
           13264,
           0.7336253155502822,
           "None"
          ],
          [
           "contig000024",
           13264,
           0.8887260919274808,
           "None"
          ],
          [
           "contig000024",
           13265,
           0.0016814096984313438,
           "None"
          ],
          [
           "contig000024",
           13265,
           0.014882123466473374,
           "None"
          ],
          [
           "contig000024",
           13265,
           0.7729035616961228,
           "None"
          ],
          [
           "contig000024",
           13322,
           0.0000024203987985894433,
           "None"
          ],
          [
           "contig000024",
           13322,
           0.007700169320465879,
           "None"
          ],
          [
           "contig000024",
           13322,
           0.04808711202726029,
           "None"
          ],
          [
           "contig000024",
           13323,
           9.429159883539332e-8,
           "None"
          ],
          [
           "contig000024",
           13323,
           1.1139851224235403e-7,
           "None"
          ],
          [
           "contig000024",
           13323,
           0.0747485294975527,
           "None"
          ],
          [
           "contig000024",
           13340,
           0.0036486238131867104,
           "None"
          ],
          [
           "contig000024",
           13340,
           0.10913351203856418,
           "None"
          ],
          [
           "contig000024",
           13340,
           0.587976386547929,
           "None"
          ],
          [
           "contig000024",
           13349,
           0.000255888393995667,
           "None"
          ],
          [
           "contig000024",
           13349,
           0.3673483466888001,
           "None"
          ],
          [
           "contig000024",
           13349,
           0.4288802051578755,
           "None"
          ],
          [
           "contig000024",
           13359,
           0.000036775419941486003,
           "None"
          ],
          [
           "contig000024",
           13359,
           0.09024697626219998,
           "None"
          ],
          [
           "contig000024",
           13359,
           0.5988161279468518,
           "None"
          ],
          [
           "contig000024",
           13360,
           0.38900385852291586,
           "None"
          ],
          [
           "contig000024",
           13360,
           0.483711839934318,
           "None"
          ],
          [
           "contig000024",
           13360,
           0.9137464335548542,
           "None"
          ],
          [
           "contig000024",
           13361,
           0.1984226392860948,
           "None"
          ],
          [
           "contig000024",
           13361,
           0.4371758197732055,
           "None"
          ],
          [
           "contig000024",
           13361,
           0.43971896580755,
           "None"
          ],
          [
           "contig000024",
           13368,
           0.00948836111157171,
           "None"
          ],
          [
           "contig000024",
           13368,
           0.07795307777220015,
           "None"
          ],
          [
           "contig000024",
           13368,
           0.9732323730154018,
           "None"
          ],
          [
           "contig000024",
           13370,
           0.0000020560821026896315,
           "None"
          ],
          [
           "contig000024",
           13370,
           0.02996900068535448,
           "None"
          ],
          [
           "contig000024",
           13370,
           0.08771227979032431,
           "None"
          ],
          [
           "contig000024",
           13385,
           0.013514055545939624,
           "None"
          ],
          [
           "contig000024",
           13385,
           0.2042637247210769,
           "None"
          ],
          [
           "contig000024",
           13385,
           0.30063452765318077,
           "None"
          ],
          [
           "contig000024",
           13388,
           0.000015021513249213548,
           "None"
          ],
          [
           "contig000024",
           13388,
           0.06911052365128502,
           "None"
          ],
          [
           "contig000024",
           13388,
           0.4737568954777356,
           "None"
          ],
          [
           "contig000024",
           13391,
           0.05953567392427946,
           "None"
          ],
          [
           "contig000024",
           13391,
           0.10964348454735358,
           "None"
          ],
          [
           "contig000024",
           13391,
           0.5072126631847966,
           "None"
          ],
          [
           "contig000024",
           13421,
           0.8065357166588851,
           "None"
          ],
          [
           "contig000024",
           13421,
           0.8089729043218062,
           "None"
          ],
          [
           "contig000024",
           13421,
           0.8950388129069505,
           "None"
          ],
          [
           "contig000024",
           13435,
           0.00015137007597516562,
           "None"
          ],
          [
           "contig000024",
           13435,
           0.15438549387528688,
           "None"
          ],
          [
           "contig000024",
           13435,
           0.480751450563791,
           "None"
          ],
          [
           "contig000024",
           13541,
           2.2897420924956208e-8,
           "None"
          ],
          [
           "contig000024",
           13541,
           0.0005513179979705788,
           "None"
          ],
          [
           "contig000024",
           13541,
           0.9574163819190615,
           "None"
          ],
          [
           "contig000024",
           13544,
           0.16009311901722412,
           "None"
          ],
          [
           "contig000024",
           13544,
           0.20127750321910406,
           "None"
          ],
          [
           "contig000024",
           13544,
           0.9247744119980346,
           "None"
          ],
          [
           "contig000024",
           13667,
           1.7126868005449005e-7,
           "None"
          ],
          [
           "contig000024",
           13667,
           0.5053577599655765,
           "None"
          ],
          [
           "contig000024",
           13667,
           0.8839625156785891,
           "None"
          ],
          [
           "contig000024",
           13670,
           0.2047330578556618,
           "None"
          ],
          [
           "contig000024",
           13670,
           0.6534849814521911,
           "None"
          ],
          [
           "contig000024",
           13670,
           0.7802152588953195,
           "None"
          ],
          [
           "contig000024",
           13676,
           0.3565191218591135,
           "None"
          ],
          [
           "contig000024",
           13676,
           0.7777777020843392,
           "None"
          ],
          [
           "contig000024",
           13676,
           0.7910065109906854,
           "None"
          ],
          [
           "contig000024",
           13680,
           0.006428293742154972,
           "None"
          ],
          [
           "contig000024",
           13680,
           0.4337204986442147,
           "None"
          ],
          [
           "contig000024",
           13680,
           0.8423719249145737,
           "None"
          ],
          [
           "contig000024",
           13682,
           0.059600227762270995,
           "None"
          ],
          [
           "contig000024",
           13682,
           0.7310462732363343,
           "None"
          ],
          [
           "contig000024",
           13682,
           0.8325466665187163,
           "None"
          ],
          [
           "contig000024",
           13689,
           0.5614556953191698,
           "None"
          ],
          [
           "contig000024",
           13689,
           0.6886061192393738,
           "None"
          ],
          [
           "contig000024",
           13689,
           0.8077144643155335,
           "None"
          ],
          [
           "contig000024",
           13694,
           0.008779603478265974,
           "None"
          ],
          [
           "contig000024",
           13694,
           0.49288475236018114,
           "None"
          ],
          [
           "contig000024",
           13694,
           0.8977241459495111,
           "None"
          ],
          [
           "contig000024",
           13709,
           0.12563481526503256,
           "None"
          ],
          [
           "contig000024",
           13709,
           0.6896924501016835,
           "None"
          ],
          [
           "contig000024",
           13709,
           0.7041417363494662,
           "None"
          ],
          [
           "contig000024",
           13715,
           0.5641696390047888,
           "None"
          ],
          [
           "contig000024",
           13715,
           0.5739703894387492,
           "None"
          ],
          [
           "contig000024",
           13715,
           0.7528754562364163,
           "None"
          ],
          [
           "contig000024",
           13723,
           0.0007475447239482551,
           "None"
          ],
          [
           "contig000024",
           13723,
           0.05902318024214976,
           "None"
          ],
          [
           "contig000024",
           13723,
           0.8088168715209931,
           "None"
          ],
          [
           "contig000024",
           13729,
           0.00003758563568564267,
           "None"
          ],
          [
           "contig000024",
           13729,
           0.26131521935343066,
           "None"
          ],
          [
           "contig000024",
           13729,
           0.5515428956259544,
           "None"
          ],
          [
           "contig000024",
           13730,
           0.6812503813931337,
           "None"
          ],
          [
           "contig000024",
           13730,
           0.826253500190135,
           "None"
          ],
          [
           "contig000024",
           13730,
           0.8978180155677263,
           "None"
          ],
          [
           "contig000024",
           13733,
           3.5834362915962785e-11,
           "None"
          ],
          [
           "contig000024",
           13733,
           0.000514819854799215,
           "None"
          ],
          [
           "contig000024",
           13733,
           0.5554392956356491,
           "None"
          ],
          [
           "contig000024",
           13737,
           0.0010148301494220635,
           "None"
          ],
          [
           "contig000024",
           13737,
           0.5639584249125031,
           "None"
          ],
          [
           "contig000024",
           13737,
           0.7514045955993205,
           "None"
          ],
          [
           "contig000024",
           13741,
           0.43143461203763567,
           "None"
          ],
          [
           "contig000024",
           13741,
           0.8260150951349585,
           "None"
          ],
          [
           "contig000024",
           13741,
           0.9400943089178875,
           "None"
          ],
          [
           "contig000024",
           13742,
           0.0005551592528973755,
           "None"
          ],
          [
           "contig000024",
           13742,
           0.06135551579339681,
           "None"
          ],
          [
           "contig000024",
           13742,
           0.14225351221945473,
           "None"
          ],
          [
           "contig000024",
           13748,
           0.0009894505949560488,
           "None"
          ],
          [
           "contig000024",
           13748,
           0.22971628326098087,
           "None"
          ],
          [
           "contig000024",
           13748,
           0.27868023272907516,
           "None"
          ],
          [
           "contig000024",
           13751,
           0.0000684513032471137,
           "None"
          ],
          [
           "contig000024",
           13751,
           0.009768665570894165,
           "None"
          ],
          [
           "contig000024",
           13751,
           0.8515056790501676,
           "None"
          ],
          [
           "contig000024",
           13766,
           0.014412790779466604,
           "None"
          ],
          [
           "contig000024",
           13766,
           0.19101050962110228,
           "None"
          ],
          [
           "contig000024",
           13766,
           0.38338698217089207,
           "None"
          ],
          [
           "contig000024",
           13769,
           0.009435641904360437,
           "None"
          ],
          [
           "contig000024",
           13769,
           0.14555223164130845,
           "None"
          ],
          [
           "contig000024",
           13769,
           0.27069843035949676,
           "None"
          ],
          [
           "contig000024",
           13784,
           0.023276977006015748,
           "None"
          ],
          [
           "contig000024",
           13784,
           0.15050360810148414,
           "None"
          ],
          [
           "contig000024",
           13784,
           0.2766873464209126,
           "None"
          ],
          [
           "contig000024",
           13791,
           0.09365007536137555,
           "None"
          ],
          [
           "contig000024",
           13791,
           0.1856115970528143,
           "None"
          ],
          [
           "contig000024",
           13791,
           0.6201048311258206,
           "None"
          ],
          [
           "contig000024",
           13793,
           0.11500216418411449,
           "None"
          ],
          [
           "contig000024",
           13793,
           0.13675768911277958,
           "None"
          ],
          [
           "contig000024",
           13793,
           0.6531143420452611,
           "None"
          ],
          [
           "contig000024",
           13874,
           0.025287192923400745,
           "None"
          ],
          [
           "contig000024",
           13874,
           0.0937349040964837,
           "None"
          ],
          [
           "contig000024",
           13874,
           0.4644417825052777,
           "None"
          ],
          [
           "contig000024",
           13875,
           0.0005872059696502871,
           "None"
          ],
          [
           "contig000024",
           13875,
           0.04438854420589596,
           "None"
          ],
          [
           "contig000024",
           13875,
           0.7673350154456123,
           "None"
          ],
          [
           "contig000024",
           13880,
           0.16588195014146206,
           "None"
          ],
          [
           "contig000024",
           13880,
           0.4729878669405967,
           "None"
          ],
          [
           "contig000024",
           13880,
           0.4963744989238237,
           "None"
          ],
          [
           "contig000024",
           13883,
           0.034756388926109535,
           "None"
          ],
          [
           "contig000024",
           13883,
           0.04075825750353783,
           "None"
          ],
          [
           "contig000024",
           13883,
           0.8676406683031372,
           "None"
          ],
          [
           "contig000024",
           13893,
           0.38323885329057916,
           "None"
          ],
          [
           "contig000024",
           13893,
           0.636244239530819,
           "None"
          ],
          [
           "contig000024",
           13893,
           0.7223968064407129,
           "None"
          ],
          [
           "contig000024",
           13896,
           0.0038782419068379742,
           "None"
          ],
          [
           "contig000024",
           13896,
           0.005265282028178072,
           "None"
          ],
          [
           "contig000024",
           13896,
           0.15471025921837211,
           "None"
          ],
          [
           "contig000024",
           13920,
           0.0003122373415864465,
           "None"
          ],
          [
           "contig000024",
           13920,
           0.008244472651927688,
           "None"
          ],
          [
           "contig000024",
           13920,
           0.07361685031875756,
           "None"
          ],
          [
           "contig000024",
           13921,
           0.0002123769390354819,
           "None"
          ],
          [
           "contig000024",
           13921,
           0.00025701717865051865,
           "None"
          ],
          [
           "contig000024",
           13921,
           0.22830849105702078,
           "None"
          ],
          [
           "contig000024",
           13925,
           0.000002960777225804938,
           "None"
          ],
          [
           "contig000024",
           13925,
           0.000015074230635322025,
           "None"
          ],
          [
           "contig000024",
           13925,
           0.245433858204618,
           "None"
          ],
          [
           "contig000024",
           13929,
           0.01819796491701076,
           "None"
          ],
          [
           "contig000024",
           13929,
           0.1073305822719344,
           "None"
          ],
          [
           "contig000024",
           13929,
           0.4659769837889651,
           "None"
          ],
          [
           "contig000024",
           13946,
           0.42949033716659113,
           "None"
          ],
          [
           "contig000024",
           13946,
           0.5659203759258022,
           "None"
          ],
          [
           "contig000024",
           13946,
           0.7670589059897751,
           "None"
          ],
          [
           "contig000024",
           13965,
           0.099519699897794,
           "None"
          ],
          [
           "contig000024",
           13965,
           0.1171380335823451,
           "None"
          ],
          [
           "contig000024",
           13965,
           0.5599167839961351,
           "None"
          ],
          [
           "contig000024",
           13967,
           0.03303746813850051,
           "None"
          ],
          [
           "contig000024",
           13967,
           0.2078290285219602,
           "None"
          ],
          [
           "contig000024",
           13967,
           0.3546636571686922,
           "None"
          ],
          [
           "contig000024",
           13988,
           0.005381432852057008,
           "None"
          ],
          [
           "contig000024",
           13988,
           0.0932220392798104,
           "None"
          ],
          [
           "contig000024",
           13988,
           0.25673333144391924,
           "None"
          ],
          [
           "contig000024",
           13994,
           0.5058174910894109,
           "None"
          ],
          [
           "contig000024",
           13994,
           0.7652519013748588,
           "None"
          ],
          [
           "contig000024",
           13994,
           0.8525149839980012,
           "None"
          ],
          [
           "contig000024",
           13998,
           0.05069608825125076,
           "None"
          ],
          [
           "contig000024",
           13998,
           0.1765327488808221,
           "None"
          ],
          [
           "contig000024",
           13998,
           0.21684165726923016,
           "None"
          ],
          [
           "contig000024",
           14000,
           0.19734461262866693,
           "None"
          ],
          [
           "contig000024",
           14000,
           0.4925457717435445,
           "None"
          ],
          [
           "contig000024",
           14000,
           0.9333102796814448,
           "None"
          ],
          [
           "contig000024",
           14003,
           0.2676052242202849,
           "None"
          ],
          [
           "contig000024",
           14003,
           0.8887225559802412,
           "None"
          ],
          [
           "contig000024",
           14003,
           0.9991878420410343,
           "None"
          ],
          [
           "contig000024",
           14012,
           0.07539308646876872,
           "None"
          ],
          [
           "contig000024",
           14012,
           0.1273321088789312,
           "None"
          ],
          [
           "contig000024",
           14012,
           0.30958542601201966,
           "None"
          ],
          [
           "contig000024",
           14015,
           0.49081910480192903,
           "None"
          ],
          [
           "contig000024",
           14015,
           0.6936069561410683,
           "None"
          ],
          [
           "contig000024",
           14015,
           0.9524533411270328,
           "None"
          ],
          [
           "contig000024",
           14027,
           6.435899327129623e-14,
           "None"
          ],
          [
           "contig000024",
           14027,
           0.000010705951002244083,
           "None"
          ],
          [
           "contig000024",
           14027,
           0.36560948945836225,
           "None"
          ],
          [
           "contig000024",
           14028,
           0.009177206821408143,
           "None"
          ],
          [
           "contig000024",
           14028,
           0.2061474159453656,
           "None"
          ],
          [
           "contig000024",
           14028,
           0.5455568582185981,
           "None"
          ],
          [
           "contig000024",
           14035,
           0.0005524555900533367,
           "None"
          ],
          [
           "contig000024",
           14035,
           0.345660893143134,
           "None"
          ],
          [
           "contig000024",
           14035,
           0.6762477752996628,
           "None"
          ],
          [
           "contig000024",
           14036,
           5.129208988905016e-9,
           "None"
          ],
          [
           "contig000024",
           14036,
           0.12951454837465187,
           "None"
          ],
          [
           "contig000024",
           14036,
           0.933617940161706,
           "None"
          ],
          [
           "contig000024",
           14048,
           0.03511422972997428,
           "None"
          ],
          [
           "contig000024",
           14048,
           0.060311586176052284,
           "None"
          ],
          [
           "contig000024",
           14048,
           0.7631153829089341,
           "None"
          ],
          [
           "contig000024",
           14060,
           0.05836446415642836,
           "None"
          ],
          [
           "contig000024",
           14060,
           0.35614132167406154,
           "None"
          ],
          [
           "contig000024",
           14060,
           0.36791913324392456,
           "None"
          ],
          [
           "contig000024",
           14067,
           0.05240125632425127,
           "None"
          ],
          [
           "contig000024",
           14067,
           0.16034009005214447,
           "None"
          ],
          [
           "contig000024",
           14067,
           0.8281703555589108,
           "None"
          ],
          [
           "contig000024",
           14069,
           0.0003900670359665115,
           "None"
          ],
          [
           "contig000024",
           14069,
           0.07221929113511803,
           "None"
          ],
          [
           "contig000024",
           14069,
           0.7195525130761665,
           "None"
          ],
          [
           "contig000024",
           14072,
           0.0022681859501046914,
           "None"
          ],
          [
           "contig000024",
           14072,
           0.030196211132162157,
           "None"
          ],
          [
           "contig000024",
           14072,
           0.08193246407842865,
           "None"
          ],
          [
           "contig000024",
           14078,
           0.48885691161383904,
           "None"
          ],
          [
           "contig000024",
           14078,
           0.5332454227095442,
           "None"
          ],
          [
           "contig000024",
           14078,
           0.9114535510140455,
           "None"
          ],
          [
           "contig000024",
           14093,
           0.22273985169517,
           "None"
          ],
          [
           "contig000024",
           14093,
           0.3221068983416478,
           "None"
          ],
          [
           "contig000024",
           14093,
           0.8549774089878726,
           "None"
          ],
          [
           "contig000024",
           14099,
           0.022966568312164135,
           "None"
          ],
          [
           "contig000024",
           14099,
           0.06364496690073979,
           "None"
          ],
          [
           "contig000024",
           14099,
           0.8991080613669398,
           "None"
          ],
          [
           "contig000024",
           14105,
           0.1797288310299993,
           "None"
          ],
          [
           "contig000024",
           14105,
           0.38482016588369106,
           "None"
          ],
          [
           "contig000024",
           14105,
           0.749992858136912,
           "None"
          ],
          [
           "contig000024",
           14118,
           0.464796295423869,
           "None"
          ],
          [
           "contig000024",
           14118,
           0.8027998921283646,
           "None"
          ],
          [
           "contig000024",
           14118,
           0.8720326985108384,
           "None"
          ],
          [
           "contig000024",
           14123,
           1.7125851919602357e-9,
           "None"
          ],
          [
           "contig000024",
           14123,
           4.5597497973801995e-9,
           "None"
          ],
          [
           "contig000024",
           14123,
           0.5330555783608086,
           "None"
          ],
          [
           "contig000024",
           14136,
           0.3029901742719048,
           "None"
          ],
          [
           "contig000024",
           14136,
           0.4519325781475685,
           "None"
          ],
          [
           "contig000024",
           14136,
           0.8671834594389912,
           "None"
          ],
          [
           "contig000024",
           14141,
           0.01092106407058004,
           "None"
          ],
          [
           "contig000024",
           14141,
           0.030526181220386132,
           "None"
          ],
          [
           "contig000024",
           14141,
           0.07043531888683306,
           "None"
          ],
          [
           "contig000024",
           14446,
           0.000553342814049734,
           "None"
          ],
          [
           "contig000024",
           14446,
           0.005259296190954028,
           "None"
          ],
          [
           "contig000024",
           14446,
           0.016359234611007783,
           "None"
          ],
          [
           "contig000024",
           14450,
           0.00015063814870869445,
           "None"
          ],
          [
           "contig000024",
           14450,
           0.003368665878679205,
           "None"
          ],
          [
           "contig000024",
           14450,
           0.030632685743194506,
           "None"
          ],
          [
           "contig000024",
           14531,
           0.006778032912322583,
           "None"
          ],
          [
           "contig000024",
           14531,
           0.131436226287467,
           "None"
          ],
          [
           "contig000024",
           14531,
           0.3109966218440002,
           "None"
          ],
          [
           "contig000024",
           14555,
           0.07002234714342882,
           "None"
          ],
          [
           "contig000024",
           14555,
           0.29024493835110843,
           "None"
          ],
          [
           "contig000024",
           14555,
           0.30795607785699913,
           "None"
          ],
          [
           "contig000024",
           14559,
           0.015697900980551936,
           "None"
          ],
          [
           "contig000024",
           14559,
           0.47999713733326055,
           "None"
          ],
          [
           "contig000024",
           14559,
           0.6750413610462607,
           "None"
          ],
          [
           "contig000024",
           14570,
           7.623449454489036e-7,
           "None"
          ],
          [
           "contig000024",
           14570,
           0.5064294683740007,
           "None"
          ],
          [
           "contig000024",
           14570,
           0.6737036667699425,
           "None"
          ],
          [
           "contig000024",
           20950,
           1.3103378522605764e-9,
           "None"
          ],
          [
           "contig000024",
           20950,
           6.858998166045178e-7,
           "None"
          ],
          [
           "contig000024",
           20950,
           0.7773129590347218,
           "None"
          ],
          [
           "contig000024",
           20993,
           0.7035205391854509,
           "None"
          ],
          [
           "contig000024",
           20993,
           0.725726161990359,
           "None"
          ],
          [
           "contig000024",
           20993,
           0.8800493133385243,
           "None"
          ],
          [
           "contig000024",
           21034,
           0.021825424895944898,
           "None"
          ],
          [
           "contig000024",
           21034,
           0.1234223487057072,
           "None"
          ],
          [
           "contig000024",
           21034,
           0.5845166625501684,
           "None"
          ],
          [
           "contig000024",
           21057,
           0.0012630996549823407,
           "None"
          ],
          [
           "contig000024",
           21057,
           0.25224843564947885,
           "None"
          ],
          [
           "contig000024",
           21057,
           0.6386560796145386,
           "None"
          ],
          [
           "contig000024",
           21147,
           0.06536618670853014,
           "None"
          ],
          [
           "contig000024",
           21147,
           0.21037329460123594,
           "None"
          ],
          [
           "contig000024",
           21147,
           0.280732509547372,
           "None"
          ],
          [
           "contig000024",
           21345,
           0.05705408028252127,
           "None"
          ],
          [
           "contig000024",
           21345,
           0.09888022411298351,
           "None"
          ],
          [
           "contig000024",
           21345,
           0.29188816772323356,
           "None"
          ],
          [
           "contig000024",
           21397,
           0.013024705067897975,
           "None"
          ],
          [
           "contig000024",
           21397,
           0.07262658518518761,
           "None"
          ],
          [
           "contig000024",
           21397,
           0.11139645523577199,
           "None"
          ]
         ],
         "hovertemplate": "-log10(P-value)=%{y}<br>position=%{customdata[1]}<br>p_value=%{customdata[2]}<br>annotation_as_str=%{customdata[3]}<extra></extra>",
         "legendgroup": "contig000024",
         "marker": {
          "color": "rgb(255,255,179)",
          "symbol": "circle"
         },
         "mode": "markers",
         "name": "contig000024",
         "orientation": "v",
         "showlegend": true,
         "type": "scatter",
         "x": [
          3082489,
          3082489,
          3082489,
          3082542,
          3082542,
          3082542,
          3082600,
          3082600,
          3082600,
          3082656,
          3082656,
          3082656,
          3082749,
          3082749,
          3082749,
          3095211,
          3095211,
          3095211,
          3095218,
          3095218,
          3095218,
          3095223,
          3095223,
          3095223,
          3095226,
          3095226,
          3095226,
          3095233,
          3095233,
          3095233,
          3095250,
          3095250,
          3095250,
          3095253,
          3095253,
          3095253,
          3095281,
          3095281,
          3095281,
          3095283,
          3095283,
          3095283,
          3095284,
          3095284,
          3095284,
          3095287,
          3095287,
          3095287,
          3095288,
          3095288,
          3095288,
          3095303,
          3095303,
          3095303,
          3095316,
          3095316,
          3095316,
          3095317,
          3095317,
          3095317,
          3095324,
          3095324,
          3095324,
          3095325,
          3095325,
          3095325,
          3095397,
          3095397,
          3095397,
          3095403,
          3095403,
          3095403,
          3095423,
          3095423,
          3095423,
          3095435,
          3095435,
          3095435,
          3095441,
          3095441,
          3095441,
          3095443,
          3095443,
          3095443,
          3095444,
          3095444,
          3095444,
          3095470,
          3095470,
          3095470,
          3095471,
          3095471,
          3095471,
          3095475,
          3095475,
          3095475,
          3095476,
          3095476,
          3095476,
          3095533,
          3095533,
          3095533,
          3095534,
          3095534,
          3095534,
          3095551,
          3095551,
          3095551,
          3095560,
          3095560,
          3095560,
          3095570,
          3095570,
          3095570,
          3095571,
          3095571,
          3095571,
          3095572,
          3095572,
          3095572,
          3095579,
          3095579,
          3095579,
          3095581,
          3095581,
          3095581,
          3095596,
          3095596,
          3095596,
          3095599,
          3095599,
          3095599,
          3095602,
          3095602,
          3095602,
          3095632,
          3095632,
          3095632,
          3095646,
          3095646,
          3095646,
          3095752,
          3095752,
          3095752,
          3095755,
          3095755,
          3095755,
          3095878,
          3095878,
          3095878,
          3095881,
          3095881,
          3095881,
          3095887,
          3095887,
          3095887,
          3095891,
          3095891,
          3095891,
          3095893,
          3095893,
          3095893,
          3095900,
          3095900,
          3095900,
          3095905,
          3095905,
          3095905,
          3095920,
          3095920,
          3095920,
          3095926,
          3095926,
          3095926,
          3095934,
          3095934,
          3095934,
          3095940,
          3095940,
          3095940,
          3095941,
          3095941,
          3095941,
          3095944,
          3095944,
          3095944,
          3095948,
          3095948,
          3095948,
          3095952,
          3095952,
          3095952,
          3095953,
          3095953,
          3095953,
          3095959,
          3095959,
          3095959,
          3095962,
          3095962,
          3095962,
          3095977,
          3095977,
          3095977,
          3095980,
          3095980,
          3095980,
          3095995,
          3095995,
          3095995,
          3096002,
          3096002,
          3096002,
          3096004,
          3096004,
          3096004,
          3096085,
          3096085,
          3096085,
          3096086,
          3096086,
          3096086,
          3096091,
          3096091,
          3096091,
          3096094,
          3096094,
          3096094,
          3096104,
          3096104,
          3096104,
          3096107,
          3096107,
          3096107,
          3096131,
          3096131,
          3096131,
          3096132,
          3096132,
          3096132,
          3096136,
          3096136,
          3096136,
          3096140,
          3096140,
          3096140,
          3096157,
          3096157,
          3096157,
          3096176,
          3096176,
          3096176,
          3096178,
          3096178,
          3096178,
          3096199,
          3096199,
          3096199,
          3096205,
          3096205,
          3096205,
          3096209,
          3096209,
          3096209,
          3096211,
          3096211,
          3096211,
          3096214,
          3096214,
          3096214,
          3096223,
          3096223,
          3096223,
          3096226,
          3096226,
          3096226,
          3096238,
          3096238,
          3096238,
          3096239,
          3096239,
          3096239,
          3096246,
          3096246,
          3096246,
          3096247,
          3096247,
          3096247,
          3096259,
          3096259,
          3096259,
          3096271,
          3096271,
          3096271,
          3096278,
          3096278,
          3096278,
          3096280,
          3096280,
          3096280,
          3096283,
          3096283,
          3096283,
          3096289,
          3096289,
          3096289,
          3096304,
          3096304,
          3096304,
          3096310,
          3096310,
          3096310,
          3096316,
          3096316,
          3096316,
          3096329,
          3096329,
          3096329,
          3096334,
          3096334,
          3096334,
          3096347,
          3096347,
          3096347,
          3096352,
          3096352,
          3096352,
          3096657,
          3096657,
          3096657,
          3096661,
          3096661,
          3096661,
          3096742,
          3096742,
          3096742,
          3096766,
          3096766,
          3096766,
          3096770,
          3096770,
          3096770,
          3096781,
          3096781,
          3096781,
          3103161,
          3103161,
          3103161,
          3103204,
          3103204,
          3103204,
          3103245,
          3103245,
          3103245,
          3103268,
          3103268,
          3103268,
          3103358,
          3103358,
          3103358,
          3103556,
          3103556,
          3103556,
          3103608,
          3103608,
          3103608
         ],
         "xaxis": "x",
         "y": [
          3.2373838429630686,
          0.6748193933954433,
          0.20428412745702007,
          1.923637863315766,
          1.0070248565759519,
          0.7460868934596179,
          1.0744037585335051,
          0.3240342264149899,
          0.026505916607210925,
          7.595430510430187,
          1.5447610453307739,
          0.710353848417367,
          6.747735086097884,
          2.186690798011789,
          0.5532075466910529,
          1.9383580194386596,
          0.14985083031155463,
          0.1259680242950465,
          4.779933304514962,
          0.126764025166646,
          0.07360229473239162,
          2.4201684352144452,
          1.0438144521207742,
          0.860142050287416,
          3.5323584452368535,
          1.1265650999332437,
          0.5319108043310591,
          0.22428397901675312,
          0.09721050240551005,
          0.09274280088353325,
          0.29592227502841895,
          0.10140762996807885,
          0.0008644995059291316,
          1.8246273313210815,
          1.1341220289573126,
          0.08303499831703248,
          0.9524012335430698,
          0.694078764801451,
          0.5161057588596778,
          0.8482489611662898,
          0.45719442613122196,
          0.30285139119615445,
          0.6446965381477141,
          0.4637962631149369,
          0.19693151160176797,
          0.5650625426038007,
          0.16447519088427326,
          0.15409933189745842,
          7.762942376424362,
          6.001239362549548,
          0.5039248059465669,
          5.917595193551398,
          1.388281805485728,
          0.5966462305480668,
          1.0456175331340547,
          0.1487128512484949,
          0.05058146650164202,
          3.7798570543993533,
          0.19221523034588622,
          0.16993358587138022,
          0.7537089229754834,
          0.6675981690075502,
          0.07062438917703386,
          1.0462725054111877,
          0.8070192091518646,
          0.6042879223595954,
          1.508392722696908,
          1.188231434942103,
          0.23945447772128872,
          3.502489216495595,
          2.1710783901389576,
          0.017552349573379655,
          2.165902018828849,
          0.9983397482460566,
          0.90131061193372,
          2.189623676103284,
          0.46714282110411287,
          0.15236942069384263,
          2.5553703431172536,
          0.37883893583508443,
          0.21264977280020692,
          3.0761529619026926,
          2.742022789426258,
          0.09108246673827464,
          1.3980045743412641,
          0.34665038660414094,
          0.1513908259846853,
          1.9703117050278383,
          1.0560782344065356,
          0.04035631631231427,
          0.6544368186982514,
          0.4216052529610961,
          0.3644130573998984,
          0.2644664487343985,
          0.13452569067759745,
          0.05123206928173049,
          2.7743264518855097,
          1.8273350967487636,
          0.11187469138056441,
          5.616113071309806,
          2.113499724939789,
          1.3179713046123378,
          7.0255270001785295,
          6.95312060924533,
          1.1263973466474155,
          2.437870911718722,
          0.9620418684895056,
          0.23064011507668017,
          3.591949411408411,
          0.43492191042841577,
          0.36766399803486705,
          4.434442359328405,
          1.0445673402770455,
          0.22270651129492045,
          0.41004609089305877,
          0.3154132821480164,
          0.039174305126252286,
          0.7024087779676272,
          0.3593438669178462,
          0.3568248021357429,
          2.0228087951245657,
          1.1081667331615348,
          0.01178345339091407,
          5.686959547248196,
          1.5233277383380375,
          1.0569396007976535,
          1.8692143003551391,
          0.68980875305564,
          0.5219611424845583,
          4.8232863148232274,
          1.1604558163639505,
          0.3244444558710754,
          1.2252227259384023,
          0.960017170727941,
          0.2948099122977977,
          0.09337639553552336,
          0.09206602437115256,
          0.04815813131444672,
          3.819959971093126,
          0.8113935085720407,
          0.31807939669759555,
          7.6402134321202935,
          3.2585978295927034,
          0.018899145773869797,
          0.7956273341461002,
          0.6962047634809053,
          0.03396419544798027,
          6.766322049312017,
          0.2964010611507817,
          0.05356615080038984,
          0.688812026975262,
          0.18476438902817985,
          0.10778556031846592,
          0.4479171718564723,
          0.10914451169066786,
          0.10181994169108624,
          2.1919042862829494,
          0.3627900515941701,
          0.07449611601281539,
          1.2247520806002254,
          0.13605513251523302,
          0.07959141374531002,
          0.2506845083919363,
          0.16202912229343447,
          0.09274213982985853,
          2.056525098113233,
          0.30725461675755267,
          0.04685709350698001,
          0.9008899944977273,
          0.16134452810287278,
          0.15233991313228717,
          0.24859028926798546,
          0.2411105118442934,
          0.12327686064235202,
          3.1263628193474844,
          1.2289773938803368,
          0.09214979815389124,
          4.424978100135667,
          0.5828352956353573,
          0.25842070514728416,
          0.16669324157858625,
          0.08288668773620778,
          0.0468116843173546,
          10.445700312264382,
          3.28834471222713,
          0.2553633984891972,
          2.993606638875284,
          0.24875291108156422,
          0.12412615311436612,
          0.36508501636381846,
          0.08301201602839038,
          0.026828576412909883,
          3.2555824173572976,
          1.2121463885856016,
          0.8469370021300928,
          3.004605886019115,
          0.6388082190855643,
          0.5548938354529882,
          4.164618278901181,
          2.0101647581623405,
          0.06981245119882519,
          1.8412519176751183,
          0.7189427367057617,
          0.41636263759079345,
          2.025228549548979,
          0.8369811314682079,
          0.5675142624717746,
          1.6330734224265329,
          0.8224530883772371,
          0.5580107017380886,
          1.0284918688064546,
          0.7313948924560663,
          0.2075348851292432,
          0.9392939867387802,
          0.8640482463812004,
          0.18501077925757664,
          1.5970993780711564,
          1.0280986606188236,
          0.33306871680764816,
          3.231209537947231,
          1.35272909813106,
          0.11501498338686252,
          0.7802008676250108,
          0.325149999618068,
          0.3041905383359744,
          1.4589653516402457,
          1.3897843912204308,
          0.061660099804795976,
          0.41653046797989657,
          0.19637613668080944,
          0.1412241826118287,
          2.4113651051262517,
          2.278578361420358,
          0.8104808862088674,
          3.5055151593288185,
          2.083837118270806,
          1.1330227676886642,
          3.672892642926591,
          3.590037848093633,
          0.6414779362949798,
          5.52859426847809,
          4.82176484431954,
          0.610065525483791,
          1.7399771765605188,
          0.9692765145713171,
          0.33163553408318985,
          0.3670466026416703,
          0.2472446690389941,
          0.11517128329484642,
          1.0020909422686965,
          0.9313020708279901,
          0.25187651395231997,
          1.4809932426958015,
          0.6822937924553197,
          0.4501833119502259,
          2.2691020743539148,
          1.030481400885501,
          0.5905177436291151,
          0.296006156896966,
          0.11619558266420066,
          0.0692979790094118,
          1.2950255498666052,
          0.753174716118008,
          0.6638572821692921,
          0.7047747250453993,
          0.3075534047765622,
          0.029973950731860124,
          0.5725054124741119,
          0.05123379719930071,
          0.0003528590280500127,
          1.1226684770231268,
          0.8950620680619878,
          0.5092194922770577,
          0.3090785409968389,
          0.15888655999762977,
          0.02115629038976372,
          13.191390757925095,
          4.970374748576696,
          0.4369825406025415,
          2.0372894807415385,
          0.6858221047030412,
          0.2631599803207838,
          3.2577026276337353,
          0.4613497522274924,
          0.1698941506124271,
          8.289949605305635,
          0.8876814445251817,
          0.029830811591676238,
          1.4545168538799256,
          1.2195992495683732,
          0.11740979183261437,
          1.2338514973756416,
          0.44837763392501934,
          0.4342476265581331,
          1.2806583006470142,
          0.7949578768248321,
          0.08188031917003522,
          3.408860749772149,
          1.1413467786842895,
          0.14293750567874708,
          2.644321344049864,
          1.5200475466992682,
          1.0865439837519495,
          0.3108182402428405,
          0.27307286377449025,
          0.04026545871749873,
          0.6522020738373909,
          0.4919999740948351,
          0.06804536045489885,
          1.6389038926774582,
          1.1962359350372331,
          0.04618810845027112,
          0.745382250365162,
          0.4147421775320078,
          0.12494287219029666,
          0.3327373420707874,
          0.09539269454038063,
          0.05946723007135745,
          8.766347815468832,
          8.341058987291337,
          0.2732275074517723,
          0.5185714550907101,
          0.3449263508578876,
          0.061889014411409767,
          1.9617350450133606,
          1.5153275218934754,
          1.1522095148451892,
          3.2570057256177805,
          2.2790723700736555,
          1.7862370192460955,
          3.82206503028918,
          2.472542062406204,
          1.5138149244368144,
          2.1688963266751853,
          0.8812849185782952,
          0.5072443284087826,
          1.1547633358109906,
          0.5372353452856873,
          0.5115112202026965,
          1.804158414693126,
          0.3187613527162373,
          0.17066961631884756,
          6.117848474844912,
          0.2954810313085033,
          0.17153108890438148,
          8.88261671315718,
          6.163739313262896,
          0.10940409185921614,
          0.15272321887643814,
          0.13922722058216286,
          0.05549299158760435,
          1.6610372927235137,
          0.9086061932949698,
          0.23320310409076647,
          2.898562383489356,
          0.5981715184147615,
          0.19473294925129414,
          1.184646849893319,
          0.6770093916258628,
          0.5517072920342129,
          1.2437132911087414,
          1.0048905579215037,
          0.534783509659674,
          1.8852321021040344,
          1.1389043753635182,
          0.9531286286958401
         ],
         "yaxis": "y"
        },
        {
         "customdata": [
          [
           "contig000026",
           12451,
           3.726697361096317e-8,
           "None"
          ],
          [
           "contig000026",
           12451,
           0.001016839394663445,
           "None"
          ],
          [
           "contig000026",
           12451,
           0.3135560113946335,
           "None"
          ],
          [
           "contig000026",
           12505,
           0.0000035779404425153412,
           "None"
          ],
          [
           "contig000026",
           12505,
           0.0005949652103123263,
           "None"
          ],
          [
           "contig000026",
           12505,
           0.44990772994765316,
           "None"
          ],
          [
           "contig000026",
           12532,
           5.100639392516027e-10,
           "None"
          ],
          [
           "contig000026",
           12532,
           0.000006652584889039042,
           "None"
          ],
          [
           "contig000026",
           12532,
           0.5213393381673317,
           "None"
          ],
          [
           "contig000026",
           12670,
           0.012474027360619784,
           "None"
          ],
          [
           "contig000026",
           12670,
           0.028067880800454744,
           "None"
          ],
          [
           "contig000026",
           12670,
           0.4501965987320544,
           "None"
          ],
          [
           "contig000026",
           12685,
           0.00004207546631666701,
           "None"
          ],
          [
           "contig000026",
           12685,
           0.02061322524241392,
           "None"
          ],
          [
           "contig000026",
           12685,
           0.5164879472076348,
           "None"
          ],
          [
           "contig000026",
           12689,
           0.0001466163769614188,
           "None"
          ],
          [
           "contig000026",
           12689,
           0.04419975033839988,
           "None"
          ],
          [
           "contig000026",
           12689,
           0.23326293490488026,
           "None"
          ],
          [
           "contig000026",
           12696,
           0.010389404609442805,
           "None"
          ],
          [
           "contig000026",
           12696,
           0.037109245606709064,
           "None"
          ],
          [
           "contig000026",
           12696,
           0.5579123032560492,
           "None"
          ],
          [
           "contig000026",
           12768,
           0.000668361467026737,
           "None"
          ],
          [
           "contig000026",
           12768,
           0.0007623065779336764,
           "None"
          ],
          [
           "contig000026",
           12768,
           0.09223446235683613,
           "None"
          ]
         ],
         "hovertemplate": "-log10(P-value)=%{y}<br>position=%{customdata[1]}<br>p_value=%{customdata[2]}<br>annotation_as_str=%{customdata[3]}<extra></extra>",
         "legendgroup": "contig000026",
         "marker": {
          "color": "rgb(190,186,218)",
          "symbol": "circle"
         },
         "mode": "markers",
         "name": "contig000026",
         "orientation": "v",
         "showlegend": true,
         "type": "scatter",
         "x": [
          3116059,
          3116059,
          3116059,
          3116113,
          3116113,
          3116113,
          3116140,
          3116140,
          3116140,
          3116278,
          3116278,
          3116278,
          3116293,
          3116293,
          3116293,
          3116297,
          3116297,
          3116297,
          3116304,
          3116304,
          3116304,
          3116376,
          3116376,
          3116376
         ],
         "xaxis": "x",
         "y": [
          7.428675874147829,
          2.9927476365752836,
          0.5036848686552018,
          5.446366892863732,
          3.2255084282397064,
          0.346876545076772,
          9.29237537934596,
          5.177009575009416,
          0.282879503723612,
          1.9039933076992561,
          1.5517903765145586,
          0.34659779044940425,
          4.375971062098828,
          1.685854051141845,
          0.28693980874705394,
          3.833817516552101,
          1.3545801837495846,
          0.6321542644000775,
          1.9834093400503838,
          1.4305178743274118,
          0.2534340612867166,
          3.174988596390931,
          3.1178703326922896,
          1.0351067794347693
         ],
         "yaxis": "y"
        },
        {
         "customdata": [
          [
           "contig000027",
           2518,
           0.006245389155645029,
           "None"
          ],
          [
           "contig000027",
           2518,
           0.3864266036145707,
           "None"
          ],
          [
           "contig000027",
           2518,
           0.730236311956854,
           "None"
          ]
         ],
         "hovertemplate": "-log10(P-value)=%{y}<br>position=%{customdata[1]}<br>p_value=%{customdata[2]}<br>annotation_as_str=%{customdata[3]}<extra></extra>",
         "legendgroup": "contig000027",
         "marker": {
          "color": "rgb(251,128,114)",
          "symbol": "circle"
         },
         "mode": "markers",
         "name": "contig000027",
         "orientation": "v",
         "showlegend": true,
         "type": "scatter",
         "x": [
          3118894,
          3118894,
          3118894
         ],
         "xaxis": "x",
         "y": [
          2.20444049517878,
          0.41293298213934526,
          0.13653657498751254
         ],
         "yaxis": "y"
        },
        {
         "customdata": [
          [
           "contig000028",
           15902,
           2.075720710463031e-12,
           "None"
          ],
          [
           "contig000028",
           15902,
           0.0031816343329769243,
           "None"
          ],
          [
           "contig000028",
           15902,
           0.4586749222124349,
           "None"
          ],
          [
           "contig000028",
           15952,
           0.00006152040394188413,
           "None"
          ],
          [
           "contig000028",
           15952,
           0.6239087981251679,
           "None"
          ],
          [
           "contig000028",
           15952,
           0.6527059934294619,
           "None"
          ]
         ],
         "hovertemplate": "-log10(P-value)=%{y}<br>position=%{customdata[1]}<br>p_value=%{customdata[2]}<br>annotation_as_str=%{customdata[3]}<extra></extra>",
         "legendgroup": "contig000028",
         "marker": {
          "color": "rgb(128,177,211)",
          "symbol": "circle"
         },
         "mode": "markers",
         "name": "contig000028",
         "orientation": "v",
         "showlegend": true,
         "type": "scatter",
         "x": [
          3134796,
          3134796,
          3134796,
          3134846,
          3134846,
          3134846
         ],
         "xaxis": "x",
         "y": [
          11.682831081490477,
          2.4973497355303818,
          0.33849500401993804,
          4.210980821627377,
          0.20487889007043752,
          0.18528239940545982
         ],
         "yaxis": "y"
        },
        {
         "customdata": [
          [
           "contig000029",
           128,
           0.00460378806062918,
           "None"
          ],
          [
           "contig000029",
           128,
           0.16458192632549737,
           "None"
          ],
          [
           "contig000029",
           128,
           0.456952180194248,
           "None"
          ],
          [
           "contig000029",
           302,
           0.0018860312785766757,
           "None"
          ],
          [
           "contig000029",
           302,
           0.3074731579870633,
           "None"
          ],
          [
           "contig000029",
           302,
           0.326953007864082,
           "None"
          ],
          [
           "contig000029",
           320,
           0.01915141118275214,
           "None"
          ],
          [
           "contig000029",
           320,
           0.18008564223205561,
           "None"
          ],
          [
           "contig000029",
           320,
           0.5379060466530443,
           "None"
          ],
          [
           "contig000029",
           329,
           0.0012514360116624118,
           "None"
          ],
          [
           "contig000029",
           329,
           0.027422114526245513,
           "None"
          ],
          [
           "contig000029",
           329,
           0.7751516890257915,
           "None"
          ],
          [
           "contig000029",
           344,
           0.0006339065976151665,
           "None"
          ],
          [
           "contig000029",
           344,
           0.018719201357196256,
           "None"
          ],
          [
           "contig000029",
           344,
           0.6264006025933611,
           "None"
          ],
          [
           "contig000029",
           695,
           0.0038796940399273253,
           "None"
          ],
          [
           "contig000029",
           695,
           0.40248805516175223,
           "None"
          ],
          [
           "contig000029",
           695,
           0.4657841471863917,
           "None"
          ]
         ],
         "hovertemplate": "-log10(P-value)=%{y}<br>position=%{customdata[1]}<br>p_value=%{customdata[2]}<br>annotation_as_str=%{customdata[3]}<extra></extra>",
         "legendgroup": "contig000029",
         "marker": {
          "color": "rgb(253,180,98)",
          "symbol": "circle"
         },
         "mode": "markers",
         "name": "contig000029",
         "orientation": "v",
         "showlegend": true,
         "type": "scatter",
         "x": [
          3134974,
          3134974,
          3134974,
          3135148,
          3135148,
          3135148,
          3135166,
          3135166,
          3135166,
          3135175,
          3135175,
          3135175,
          3135190,
          3135190,
          3135190,
          3135541,
          3135541,
          3135541
         ],
         "xaxis": "x",
         "y": [
          2.3368846777046866,
          0.7836178588447474,
          0.34012924624174634,
          2.724451109053298,
          0.5121927915858722,
          0.48551466291120526,
          1.717799219277507,
          0.7445209109892079,
          0.26929357374512747,
          2.9025913518027666,
          1.5618990596970117,
          0.11061330231864566,
          3.1979747281255637,
          1.7277126841001336,
          0.20314783316140667,
          2.41120252234666,
          0.39524700387826084,
          0.33181529662278975
         ],
         "yaxis": "y"
        },
        {
         "customdata": [
          [
           "contig000032",
           8535,
           0.0000024365380404196013,
           "None"
          ],
          [
           "contig000032",
           8535,
           0.000010559107622344454,
           "None"
          ],
          [
           "contig000032",
           8535,
           0.0010606405794611974,
           "None"
          ]
         ],
         "hovertemplate": "-log10(P-value)=%{y}<br>position=%{customdata[1]}<br>p_value=%{customdata[2]}<br>annotation_as_str=%{customdata[3]}<extra></extra>",
         "legendgroup": "contig000032",
         "marker": {
          "color": "rgb(179,222,105)",
          "symbol": "circle"
         },
         "mode": "markers",
         "name": "contig000032",
         "orientation": "v",
         "showlegend": true,
         "type": "scatter",
         "x": [
          3144076,
          3144076,
          3144076
         ],
         "xaxis": "x",
         "y": [
          5.613226803812604,
          4.976372783607864,
          2.9744317610577906
         ],
         "yaxis": "y"
        },
        {
         "customdata": [
          [
           "contig000038",
           58,
           0.0004746230247254543,
           "None"
          ],
          [
           "contig000038",
           58,
           0.0007399886460001992,
           "None"
          ],
          [
           "contig000038",
           58,
           0.10820234752008807,
           "None"
          ],
          [
           "contig000038",
           105,
           0.05458352347120556,
           "None"
          ],
          [
           "contig000038",
           105,
           0.11576450390051848,
           "None"
          ],
          [
           "contig000038",
           105,
           0.16281529617278367,
           "None"
          ],
          [
           "contig000038",
           155,
           0.052372421267827415,
           "None"
          ],
          [
           "contig000038",
           155,
           0.0739008128069249,
           "None"
          ],
          [
           "contig000038",
           155,
           0.5908208752942556,
           "None"
          ]
         ],
         "hovertemplate": "-log10(P-value)=%{y}<br>position=%{customdata[1]}<br>p_value=%{customdata[2]}<br>annotation_as_str=%{customdata[3]}<extra></extra>",
         "legendgroup": "contig000038",
         "marker": {
          "color": "rgb(252,205,229)",
          "symbol": "circle"
         },
         "mode": "markers",
         "name": "contig000038",
         "orientation": "v",
         "showlegend": true,
         "type": "scatter",
         "x": [
          3144134,
          3144134,
          3144134,
          3144181,
          3144181,
          3144181,
          3144231,
          3144231,
          3144231
         ],
         "xaxis": "x",
         "y": [
          3.3236511972845837,
          3.130774943805902,
          0.9657633168268541,
          1.2629384332188667,
          0.9364245850240261,
          0.7883047964285493,
          1.2808973474475889,
          1.1313507849391244,
          0.22854416829418103
         ],
         "yaxis": "y"
        }
       ],
       "layout": {
        "annotations": [
         {
          "showarrow": false,
          "text": "Genome-wide significance",
          "x": 0,
          "xanchor": "left",
          "xref": "x domain",
          "y": 4.079181246047625,
          "yanchor": "bottom",
          "yref": "y"
         }
        ],
        "legend": {
         "title": {
          "text": "Contig"
         },
         "tracegroupgap": 0
        },
        "shapes": [
         {
          "line": {
           "color": "red",
           "dash": "dash"
          },
          "type": "line",
          "x0": 0,
          "x1": 1,
          "xref": "x domain",
          "y0": 4.079181246047625,
          "y1": 4.079181246047625,
          "yref": "y"
         }
        ],
        "template": {
         "data": {
          "bar": [
           {
            "error_x": {
             "color": "#2a3f5f"
            },
            "error_y": {
             "color": "#2a3f5f"
            },
            "marker": {
             "line": {
              "color": "white",
              "width": 0.5
             },
             "pattern": {
              "fillmode": "overlay",
              "size": 10,
              "solidity": 0.2
             }
            },
            "type": "bar"
           }
          ],
          "barpolar": [
           {
            "marker": {
             "line": {
              "color": "white",
              "width": 0.5
             },
             "pattern": {
              "fillmode": "overlay",
              "size": 10,
              "solidity": 0.2
             }
            },
            "type": "barpolar"
           }
          ],
          "carpet": [
           {
            "aaxis": {
             "endlinecolor": "#2a3f5f",
             "gridcolor": "#C8D4E3",
             "linecolor": "#C8D4E3",
             "minorgridcolor": "#C8D4E3",
             "startlinecolor": "#2a3f5f"
            },
            "baxis": {
             "endlinecolor": "#2a3f5f",
             "gridcolor": "#C8D4E3",
             "linecolor": "#C8D4E3",
             "minorgridcolor": "#C8D4E3",
             "startlinecolor": "#2a3f5f"
            },
            "type": "carpet"
           }
          ],
          "choropleth": [
           {
            "colorbar": {
             "outlinewidth": 0,
             "ticks": ""
            },
            "type": "choropleth"
           }
          ],
          "contour": [
           {
            "colorbar": {
             "outlinewidth": 0,
             "ticks": ""
            },
            "colorscale": [
             [
              0,
              "#0d0887"
             ],
             [
              0.1111111111111111,
              "#46039f"
             ],
             [
              0.2222222222222222,
              "#7201a8"
             ],
             [
              0.3333333333333333,
              "#9c179e"
             ],
             [
              0.4444444444444444,
              "#bd3786"
             ],
             [
              0.5555555555555556,
              "#d8576b"
             ],
             [
              0.6666666666666666,
              "#ed7953"
             ],
             [
              0.7777777777777778,
              "#fb9f3a"
             ],
             [
              0.8888888888888888,
              "#fdca26"
             ],
             [
              1,
              "#f0f921"
             ]
            ],
            "type": "contour"
           }
          ],
          "contourcarpet": [
           {
            "colorbar": {
             "outlinewidth": 0,
             "ticks": ""
            },
            "type": "contourcarpet"
           }
          ],
          "heatmap": [
           {
            "colorbar": {
             "outlinewidth": 0,
             "ticks": ""
            },
            "colorscale": [
             [
              0,
              "#0d0887"
             ],
             [
              0.1111111111111111,
              "#46039f"
             ],
             [
              0.2222222222222222,
              "#7201a8"
             ],
             [
              0.3333333333333333,
              "#9c179e"
             ],
             [
              0.4444444444444444,
              "#bd3786"
             ],
             [
              0.5555555555555556,
              "#d8576b"
             ],
             [
              0.6666666666666666,
              "#ed7953"
             ],
             [
              0.7777777777777778,
              "#fb9f3a"
             ],
             [
              0.8888888888888888,
              "#fdca26"
             ],
             [
              1,
              "#f0f921"
             ]
            ],
            "type": "heatmap"
           }
          ],
          "heatmapgl": [
           {
            "colorbar": {
             "outlinewidth": 0,
             "ticks": ""
            },
            "colorscale": [
             [
              0,
              "#0d0887"
             ],
             [
              0.1111111111111111,
              "#46039f"
             ],
             [
              0.2222222222222222,
              "#7201a8"
             ],
             [
              0.3333333333333333,
              "#9c179e"
             ],
             [
              0.4444444444444444,
              "#bd3786"
             ],
             [
              0.5555555555555556,
              "#d8576b"
             ],
             [
              0.6666666666666666,
              "#ed7953"
             ],
             [
              0.7777777777777778,
              "#fb9f3a"
             ],
             [
              0.8888888888888888,
              "#fdca26"
             ],
             [
              1,
              "#f0f921"
             ]
            ],
            "type": "heatmapgl"
           }
          ],
          "histogram": [
           {
            "marker": {
             "pattern": {
              "fillmode": "overlay",
              "size": 10,
              "solidity": 0.2
             }
            },
            "type": "histogram"
           }
          ],
          "histogram2d": [
           {
            "colorbar": {
             "outlinewidth": 0,
             "ticks": ""
            },
            "colorscale": [
             [
              0,
              "#0d0887"
             ],
             [
              0.1111111111111111,
              "#46039f"
             ],
             [
              0.2222222222222222,
              "#7201a8"
             ],
             [
              0.3333333333333333,
              "#9c179e"
             ],
             [
              0.4444444444444444,
              "#bd3786"
             ],
             [
              0.5555555555555556,
              "#d8576b"
             ],
             [
              0.6666666666666666,
              "#ed7953"
             ],
             [
              0.7777777777777778,
              "#fb9f3a"
             ],
             [
              0.8888888888888888,
              "#fdca26"
             ],
             [
              1,
              "#f0f921"
             ]
            ],
            "type": "histogram2d"
           }
          ],
          "histogram2dcontour": [
           {
            "colorbar": {
             "outlinewidth": 0,
             "ticks": ""
            },
            "colorscale": [
             [
              0,
              "#0d0887"
             ],
             [
              0.1111111111111111,
              "#46039f"
             ],
             [
              0.2222222222222222,
              "#7201a8"
             ],
             [
              0.3333333333333333,
              "#9c179e"
             ],
             [
              0.4444444444444444,
              "#bd3786"
             ],
             [
              0.5555555555555556,
              "#d8576b"
             ],
             [
              0.6666666666666666,
              "#ed7953"
             ],
             [
              0.7777777777777778,
              "#fb9f3a"
             ],
             [
              0.8888888888888888,
              "#fdca26"
             ],
             [
              1,
              "#f0f921"
             ]
            ],
            "type": "histogram2dcontour"
           }
          ],
          "mesh3d": [
           {
            "colorbar": {
             "outlinewidth": 0,
             "ticks": ""
            },
            "type": "mesh3d"
           }
          ],
          "parcoords": [
           {
            "line": {
             "colorbar": {
              "outlinewidth": 0,
              "ticks": ""
             }
            },
            "type": "parcoords"
           }
          ],
          "pie": [
           {
            "automargin": true,
            "type": "pie"
           }
          ],
          "scatter": [
           {
            "fillpattern": {
             "fillmode": "overlay",
             "size": 10,
             "solidity": 0.2
            },
            "type": "scatter"
           }
          ],
          "scatter3d": [
           {
            "line": {
             "colorbar": {
              "outlinewidth": 0,
              "ticks": ""
             }
            },
            "marker": {
             "colorbar": {
              "outlinewidth": 0,
              "ticks": ""
             }
            },
            "type": "scatter3d"
           }
          ],
          "scattercarpet": [
           {
            "marker": {
             "colorbar": {
              "outlinewidth": 0,
              "ticks": ""
             }
            },
            "type": "scattercarpet"
           }
          ],
          "scattergeo": [
           {
            "marker": {
             "colorbar": {
              "outlinewidth": 0,
              "ticks": ""
             }
            },
            "type": "scattergeo"
           }
          ],
          "scattergl": [
           {
            "marker": {
             "colorbar": {
              "outlinewidth": 0,
              "ticks": ""
             }
            },
            "type": "scattergl"
           }
          ],
          "scattermapbox": [
           {
            "marker": {
             "colorbar": {
              "outlinewidth": 0,
              "ticks": ""
             }
            },
            "type": "scattermapbox"
           }
          ],
          "scatterpolar": [
           {
            "marker": {
             "colorbar": {
              "outlinewidth": 0,
              "ticks": ""
             }
            },
            "type": "scatterpolar"
           }
          ],
          "scatterpolargl": [
           {
            "marker": {
             "colorbar": {
              "outlinewidth": 0,
              "ticks": ""
             }
            },
            "type": "scatterpolargl"
           }
          ],
          "scatterternary": [
           {
            "marker": {
             "colorbar": {
              "outlinewidth": 0,
              "ticks": ""
             }
            },
            "type": "scatterternary"
           }
          ],
          "surface": [
           {
            "colorbar": {
             "outlinewidth": 0,
             "ticks": ""
            },
            "colorscale": [
             [
              0,
              "#0d0887"
             ],
             [
              0.1111111111111111,
              "#46039f"
             ],
             [
              0.2222222222222222,
              "#7201a8"
             ],
             [
              0.3333333333333333,
              "#9c179e"
             ],
             [
              0.4444444444444444,
              "#bd3786"
             ],
             [
              0.5555555555555556,
              "#d8576b"
             ],
             [
              0.6666666666666666,
              "#ed7953"
             ],
             [
              0.7777777777777778,
              "#fb9f3a"
             ],
             [
              0.8888888888888888,
              "#fdca26"
             ],
             [
              1,
              "#f0f921"
             ]
            ],
            "type": "surface"
           }
          ],
          "table": [
           {
            "cells": {
             "fill": {
              "color": "#EBF0F8"
             },
             "line": {
              "color": "white"
             }
            },
            "header": {
             "fill": {
              "color": "#C8D4E3"
             },
             "line": {
              "color": "white"
             }
            },
            "type": "table"
           }
          ]
         },
         "layout": {
          "annotationdefaults": {
           "arrowcolor": "#2a3f5f",
           "arrowhead": 0,
           "arrowwidth": 1
          },
          "autotypenumbers": "strict",
          "coloraxis": {
           "colorbar": {
            "outlinewidth": 0,
            "ticks": ""
           }
          },
          "colorscale": {
           "diverging": [
            [
             0,
             "#8e0152"
            ],
            [
             0.1,
             "#c51b7d"
            ],
            [
             0.2,
             "#de77ae"
            ],
            [
             0.3,
             "#f1b6da"
            ],
            [
             0.4,
             "#fde0ef"
            ],
            [
             0.5,
             "#f7f7f7"
            ],
            [
             0.6,
             "#e6f5d0"
            ],
            [
             0.7,
             "#b8e186"
            ],
            [
             0.8,
             "#7fbc41"
            ],
            [
             0.9,
             "#4d9221"
            ],
            [
             1,
             "#276419"
            ]
           ],
           "sequential": [
            [
             0,
             "#0d0887"
            ],
            [
             0.1111111111111111,
             "#46039f"
            ],
            [
             0.2222222222222222,
             "#7201a8"
            ],
            [
             0.3333333333333333,
             "#9c179e"
            ],
            [
             0.4444444444444444,
             "#bd3786"
            ],
            [
             0.5555555555555556,
             "#d8576b"
            ],
            [
             0.6666666666666666,
             "#ed7953"
            ],
            [
             0.7777777777777778,
             "#fb9f3a"
            ],
            [
             0.8888888888888888,
             "#fdca26"
            ],
            [
             1,
             "#f0f921"
            ]
           ],
           "sequentialminus": [
            [
             0,
             "#0d0887"
            ],
            [
             0.1111111111111111,
             "#46039f"
            ],
            [
             0.2222222222222222,
             "#7201a8"
            ],
            [
             0.3333333333333333,
             "#9c179e"
            ],
            [
             0.4444444444444444,
             "#bd3786"
            ],
            [
             0.5555555555555556,
             "#d8576b"
            ],
            [
             0.6666666666666666,
             "#ed7953"
            ],
            [
             0.7777777777777778,
             "#fb9f3a"
            ],
            [
             0.8888888888888888,
             "#fdca26"
            ],
            [
             1,
             "#f0f921"
            ]
           ]
          },
          "colorway": [
           "#636efa",
           "#EF553B",
           "#00cc96",
           "#ab63fa",
           "#FFA15A",
           "#19d3f3",
           "#FF6692",
           "#B6E880",
           "#FF97FF",
           "#FECB52"
          ],
          "font": {
           "color": "#2a3f5f"
          },
          "geo": {
           "bgcolor": "white",
           "lakecolor": "white",
           "landcolor": "white",
           "showlakes": true,
           "showland": true,
           "subunitcolor": "#C8D4E3"
          },
          "hoverlabel": {
           "align": "left"
          },
          "hovermode": "closest",
          "mapbox": {
           "style": "light"
          },
          "paper_bgcolor": "white",
          "plot_bgcolor": "white",
          "polar": {
           "angularaxis": {
            "gridcolor": "#EBF0F8",
            "linecolor": "#EBF0F8",
            "ticks": ""
           },
           "bgcolor": "white",
           "radialaxis": {
            "gridcolor": "#EBF0F8",
            "linecolor": "#EBF0F8",
            "ticks": ""
           }
          },
          "scene": {
           "xaxis": {
            "backgroundcolor": "white",
            "gridcolor": "#DFE8F3",
            "gridwidth": 2,
            "linecolor": "#EBF0F8",
            "showbackground": true,
            "ticks": "",
            "zerolinecolor": "#EBF0F8"
           },
           "yaxis": {
            "backgroundcolor": "white",
            "gridcolor": "#DFE8F3",
            "gridwidth": 2,
            "linecolor": "#EBF0F8",
            "showbackground": true,
            "ticks": "",
            "zerolinecolor": "#EBF0F8"
           },
           "zaxis": {
            "backgroundcolor": "white",
            "gridcolor": "#DFE8F3",
            "gridwidth": 2,
            "linecolor": "#EBF0F8",
            "showbackground": true,
            "ticks": "",
            "zerolinecolor": "#EBF0F8"
           }
          },
          "shapedefaults": {
           "line": {
            "color": "#2a3f5f"
           }
          },
          "ternary": {
           "aaxis": {
            "gridcolor": "#DFE8F3",
            "linecolor": "#A2B1C6",
            "ticks": ""
           },
           "baxis": {
            "gridcolor": "#DFE8F3",
            "linecolor": "#A2B1C6",
            "ticks": ""
           },
           "bgcolor": "white",
           "caxis": {
            "gridcolor": "#DFE8F3",
            "linecolor": "#A2B1C6",
            "ticks": ""
           }
          },
          "title": {
           "x": 0.05
          },
          "xaxis": {
           "automargin": true,
           "gridcolor": "#EBF0F8",
           "linecolor": "#EBF0F8",
           "ticks": "",
           "title": {
            "standoff": 15
           },
           "zerolinecolor": "#EBF0F8",
           "zerolinewidth": 2
          },
          "yaxis": {
           "automargin": true,
           "gridcolor": "#EBF0F8",
           "linecolor": "#EBF0F8",
           "ticks": "",
           "title": {
            "standoff": 15
           },
           "zerolinecolor": "#EBF0F8",
           "zerolinewidth": 2
          }
         }
        },
        "title": {
         "text": "Interactive Manhattan Plot"
        },
        "xaxis": {
         "anchor": "y",
         "domain": [
          0,
          1
         ],
         "ticktext": [
          "",
          "",
          "",
          "",
          "",
          "",
          "",
          "",
          "",
          "",
          "",
          "",
          "",
          "",
          "",
          "",
          "",
          "",
          "",
          ""
         ],
         "tickvals": [
          436986.5,
          1211449.5,
          1916970,
          2297360,
          2334769.5,
          2571807.5,
          2869693.5,
          2993829,
          3032139.5,
          3032273.5,
          3053803.5,
          3075358,
          3078820.5,
          3092909.5,
          3109992,
          3117635,
          3126870,
          3135193.5,
          3139808.5,
          3144153.5
         ],
         "title": {
          "text": "Contig"
         }
        },
        "yaxis": {
         "anchor": "x",
         "domain": [
          0,
          1
         ],
         "title": {
          "text": "-log10(P-value)"
         }
        }
       }
      }
     },
     "metadata": {},
     "output_type": "display_data"
    }
   ],
   "source": [
    "# manhattan_static(gwas_results)\n",
    "manhattan_interactive(gwas_results)"
   ]
  },
  {
   "cell_type": "code",
   "execution_count": null,
   "id": "b08ba508",
   "metadata": {},
   "outputs": [],
   "source": [
    "# results_df.phenotype.unique()\n",
    "# results_per_pheno_df = results_df.query(\"phenotype == 'LR_Density'\")\n",
    "# results_per_pheno_df = results_per_pheno_df.apply(lambda x: str(x))"
   ]
  },
  {
   "cell_type": "code",
   "execution_count": null,
   "id": "7ba903da",
   "metadata": {},
   "outputs": [],
   "source": []
  },
  {
   "cell_type": "code",
   "execution_count": 83,
   "id": "78d86a50",
   "metadata": {},
   "outputs": [],
   "source": [
    "from Bio import SeqIO\n",
    "\n",
    "def get_contig_range(input_fasta, contig_name, start=None, end=None):\n",
    "    \"\"\"\n",
    "    Retrieves a specific contig (and optionally a range within it) as a string.\n",
    "\n",
    "    Parameters:\n",
    "    - input_fasta: str, path to the input FASTA file.\n",
    "    - contig_name: str, the name of the contig to query.\n",
    "    - start: int or None, start position (1-based, inclusive). Default is None for full contig.\n",
    "    - end: int or None, end position (1-based, inclusive). Default is None for full contig.\n",
    "\n",
    "    Returns:\n",
    "    - str: The extracted sequence as a string.\n",
    "    - None: If the contig is not found.\n",
    "    \"\"\"\n",
    "    for record in SeqIO.parse(input_fasta, \"fasta\"):\n",
    "        if record.id == contig_name:\n",
    "            if start is not None and end is not None:\n",
    "                return str(record.seq[start - 1:end])\n",
    "            return str(record.seq)\n",
    "    print(f\"Contig '{contig_name}' not found in {input_fasta}\")\n",
    "    return None"
   ]
  },
  {
   "cell_type": "code",
   "execution_count": null,
   "id": "cd55355a",
   "metadata": {},
   "outputs": [],
   "source": []
  },
  {
   "cell_type": "code",
   "execution_count": 86,
   "id": "58206615",
   "metadata": {},
   "outputs": [
    {
     "data": {
      "text/plain": [
       "'ATAAAAAAGCCAAAAAAACCTAAAATGCTGACACAGATAATACTAAAAAAGCGGATCAGTGAAATTGTTCCTATAAGGGACTGATTCGCTAGCGTAAAGGTAGCAATCGTAGAGCCTGCAATGACAACAAGCATGGCAGGACTTGTTAAACCGGCTCTAATGGCTGCATCACCGATAATAAGACCTCCGATTACACTGAGTGTCTGCCCGACAGAAGTCGGGAGTCTAAACCCTGCCTCTCGAAACAATTCAAATAAAAGAAGCATTAGTATCGCTTCAAGAGAGGTAGGAAACGGGACACCTCTTCTTGCCTCAACAATCGTAGCTAATAAGCTGAGCGGAAGCTGATTTTGATGAAAAGCCGTCATTGCAACCCAAAAACCAGGCAAAAAAGCAGCGAT'"
      ]
     },
     "execution_count": 86,
     "metadata": {},
     "output_type": "execute_result"
    }
   ],
   "source": [
    "# Example usage\n",
    "input_file = \"data/genomes/reference_2/full_sequence.fasta\"\n",
    "contig = \"PRKV01000004.1\"\n",
    "start_position = 394240 - 200\n",
    "end_position = 394240 + 200\n",
    "\n",
    "get_contig_range(input_file, contig, start_position, end_position)"
   ]
  },
  {
   "cell_type": "code",
   "execution_count": null,
   "id": "0de24262",
   "metadata": {},
   "outputs": [],
   "source": []
  }
 ],
 "metadata": {
  "kernelspec": {
   "display_name": "scRNA",
   "language": "python",
   "name": "python3"
  },
  "language_info": {
   "codemirror_mode": {
    "name": "ipython",
    "version": 3
   },
   "file_extension": ".py",
   "mimetype": "text/x-python",
   "name": "python",
   "nbconvert_exporter": "python",
   "pygments_lexer": "ipython3",
   "version": "3.10.16"
  }
 },
 "nbformat": 4,
 "nbformat_minor": 5
}
