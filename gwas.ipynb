{
 "cells": [
  {
   "cell_type": "code",
   "execution_count": 68,
   "id": "738b3410-e0c9-4fff-bb70-62e60308e426",
   "metadata": {},
   "outputs": [],
   "source": [
    "import os\n",
    "import pysam\n",
    "import pickle as pkl\n",
    "import numpy as np\n",
    "import pandas as pd\n",
    "from tqdm import tqdm\n",
    "\n",
    "import seaborn as sns\n",
    "import matplotlib.pyplot as plt\n",
    "\n",
    "from scipy.stats import norm\n",
    "import statsmodels.api as sm\n",
    "\n",
    "from sklearn.pipeline import Pipeline\n",
    "\n",
    "import ipywidgets as widgets\n",
    "from ipywidgets import interact"
   ]
  },
  {
   "cell_type": "code",
   "execution_count": 6,
   "id": "07ae1f97",
   "metadata": {},
   "outputs": [],
   "source": [
    "from genome_helpers import (\n",
    "    # compute_af,\n",
    "    inverse_rank_normalization,\n",
    "    process_plant_phenotype,\n",
    "    get_genome_metadata\n",
    ")"
   ]
  },
  {
   "cell_type": "markdown",
   "id": "7e5a390e",
   "metadata": {},
   "source": [
    "Para obtener la frecuencia de los alelos alternativo, usamos el campo `DP4` del archivo VCF, con las siguientes componentes:\n",
    "\n",
    "| Campo   | Descripción                                      |\n",
    "|---------|------------------------------------------------|\n",
    "| DP4[0]  | Reads forward para el alelo de referencia.    |\n",
    "| DP4[1]  | Reads reverse para el alelo de referencia.    |\n",
    "| DP4[2]  | Reads forward para el alelo alternativo.      |\n",
    "| DP4[3]  | Reads reverse para el alelo alternativo.      |\n"
   ]
  },
  {
   "cell_type": "code",
   "execution_count": 7,
   "id": "9fbe2851-4c94-40b2-b37f-eb9c3a081ebb",
   "metadata": {},
   "outputs": [],
   "source": [
    "def compute_af(record):\n",
    "    dp4 = record.info['DP4']\n",
    "    if sum(dp4) == 0:\n",
    "        return None\n",
    "    allele_freq = (dp4[2]+dp4[3]) / sum(dp4)\n",
    "    return allele_freq\n",
    "\n",
    "\n",
    "def get_dp4(record):\n",
    "    \n",
    "    dp4 = record.info['DP4']\n",
    "    if sum(dp4) == 0:\n",
    "        return None\n",
    "    \n",
    "    return dp4\n",
    "\n",
    "\n",
    "def get_freqs_from_vcf(vcf_file):\n",
    "    \n",
    "    bgi_id = os.path.basename(vcf_file).replace(\".vcf.gz\", \"\")\n",
    "\n",
    "    try:\n",
    "        vcf_file = pysam.VariantFile(vcf_file)\n",
    "    except Exception as e:\n",
    "        print(e)\n",
    "        return {bgi_id: None}\n",
    "        \n",
    "    variant_freq   = {(record.chrom, record.pos): compute_af(record) for record in vcf_file.fetch()}\n",
    "    variant_counts = {(record.chrom, record.pos): get_dp4(record)    for record in vcf_file.fetch()}\n",
    "\n",
    "    # variant_dict.update({sample_info: set(variant_positions)})\n",
    "    # variant_freq_dict.update({bgi_id: variant_freq})\n",
    "\n",
    "    return {bgi_id: variant_freq}, {bgi_id: variant_counts}\n",
    "\n",
    "\n",
    "def get_sample_info(sample_id, metadata):\n",
    "\n",
    "    sample_info = metadata.loc[metadata.BGI_ID == sample_id, [\"generation\", \"rep\", \"treatment\"]]    \n",
    "\n",
    "    if len(sample_info) == 1:\n",
    "        sample_info = sample_info.iloc[0].to_list()\n",
    "        sample_info = tuple(sample_info)\n",
    "    elif len(sample_info) == 0:\n",
    "        print(ValueError(f\"Sample with {sample_id} has no corresponding metadata.\")) \n",
    "        return None\n",
    "    else:\n",
    "        raise(ValueError(f\"Sample with {sample_id} has more than one associated sample.\"))\n",
    "\n",
    "    return sample_info\n",
    "\n",
    "\n",
    "def process_vcf_folder(vcf_folder, cache_file=\"vcf_dictionary.pkl\"):\n",
    "\n",
    "    \"\"\"\n",
    "    \n",
    "    \"\"\"\n",
    "    \n",
    "    files = [ file for file in os.listdir(vcf_folder) if file.endswith(\".vcf.gz\") or file.endswith(\".vcf\") ]\n",
    "\n",
    "    variant_freq_dicts = {}\n",
    "    variant_count_dicts = {}\n",
    "    \n",
    "    for file in tqdm(files):\n",
    "           \n",
    "        sample_id = file.replace(\".vcf.gz\", \"\")\n",
    "        # sample_info = get_sample_info(sample_id, genome_metadata)        \n",
    "        variant_freq_dict, variant_count_dict = get_freqs_from_vcf(f\"{vcf_folder}/{file}\")\n",
    "\n",
    "        variant_freq_dicts.update(variant_freq_dict)\n",
    "        variant_count_dicts.update(variant_count_dict)\n",
    "                \n",
    "    return variant_freq_dicts, variant_count_dicts"
   ]
  },
  {
   "cell_type": "code",
   "execution_count": 551,
   "id": "79c0dc61",
   "metadata": {},
   "outputs": [
    {
     "data": {
      "text/plain": [
       "'asfgasdf^'"
      ]
     },
     "execution_count": 551,
     "metadata": {},
     "output_type": "execute_result"
    }
   ],
   "source": []
  },
  {
   "cell_type": "code",
   "execution_count": 558,
   "id": "36137856",
   "metadata": {},
   "outputs": [],
   "source": [
    "import re\n",
    "\n",
    "\n",
    "def phred_quality(qual_string):\n",
    "    return [ord(q) - 33 for q in qual_string]\n",
    "\n",
    "\n",
    "def count_alleles(row):\n",
    "\n",
    "    base_calls = row[\"bases\"]    \n",
    "    print(f\"{len(base_calls)=}\")\n",
    "\n",
    "    quality_scores = phred_quality(row[\"qual\"])\n",
    "    print(f\"{quality_scores=}\")\n",
    "    print(f\"{len(quality_scores)=}\")\n",
    "    \n",
    "    ref_base = row[\"ref\"].upper()\n",
    "    print(f\"{ref_base=}\")\n",
    "\n",
    "    base_calls = re.sub(pattern=\"\\^.\", repl=\"\", string=base_calls)\n",
    "    \n",
    "    # base_calls.replace('$', \"\").replace('^]', \"\").replace('^I', \"\")\n",
    "\n",
    "    n_bases = len(base_calls.replace(\"-\", \"\").replace(\"+\", \"\"))\n",
    "\n",
    "    # Reemplazar '.' y ',' con la base de referencia\n",
    "    base_calls = base_calls.replace('.', ref_base).replace(',', ref_base)\n",
    "    print(f\"{base_calls=}\")\n",
    "    print(f\"{len(base_calls)=}\")\n",
    "    \n",
    "    filtered_bases = \"\".join([base_calls[i] for i in range(n_bases) if quality_scores[i] >= 20])\n",
    "    print(filtered_bases)\n",
    "    filtered_quality_scores = sum([quality_scores[i] for i in range(n_bases) if quality_scores[i] >= 20]) /n_bases\n",
    "    \n",
    "    counts = {\n",
    "        'A': filtered_bases.count('A'),\n",
    "        'C': filtered_bases.count('C'),\n",
    "        'T': filtered_bases.count('T'),\n",
    "        'G': filtered_bases.count('G'),\n",
    "        'DEL': filtered_bases.count('*')  # Conteo de deleciones\n",
    "    }\n",
    "\n",
    "    # Buscar inserciones y deleciones en la secuencia de bases\n",
    "    insertions = re.findall(r'\\+(\\d+)([ACGTNacgtn]+)', filtered_bases)\n",
    "    deletions = re.findall(r'\\-(\\d+)([ACGTNacgtn]+)', filtered_bases)\n",
    "\n",
    "    for size, seq in insertions:\n",
    "        key = f\"INS_{ref_base}{seq.upper()}\"\n",
    "        counts[key] = counts.get(key, 0) + 1\n",
    "\n",
    "    for size, seq in deletions:\n",
    "        key = f\"DEL_{seq.upper()}\"\n",
    "        counts[key] = counts.get(key, 0) + 1\n",
    "\n",
    "    \n",
    "    counts[\"Avg_Qual\"] = filtered_quality_scores # np.mean(quality_scores) if quality_scores else 0\n",
    "    \n",
    "    return counts\n",
    "\n",
    "\n",
    "def _process_bases(row):\n",
    "    \n",
    "    base_calls = row[\"bases\"]\n",
    "    quality_scores = phred_quality(row[\"qual\"])\n",
    "    ref_base = row[\"ref\"].upper()\n",
    "\n",
    "    base_calls = base_calls.replace(\"$\", \"\").replace(\"^]\", \"\").replace(\"^I\", \"\")\n",
    "    \n",
    "    processed_bases = []\n",
    "    passing_quality_scores = []\n",
    "    \n",
    "    i = 0\n",
    "    while i < row[\"depth\"]:\n",
    "        char = base_calls[i]\n",
    "\n",
    "        # Filtrar por calidad (descartar bases con calidad < 20)\n",
    "        if quality_scores[i] < 20:\n",
    "            i += 1\n",
    "            continue\n",
    "\n",
    "        passing_quality_scores.append(quality_scores[i])\n",
    "        \n",
    "        # Reemplazar referencia\n",
    "        if char in \".,\":  \n",
    "            processed_bases.append(ref_base)\n",
    "\n",
    "        # Contar bases normales\n",
    "        elif char.upper() in \"ACTG\":\n",
    "            processed_bases.append(char.upper())\n",
    "\n",
    "        # Contar deleciones en la referencia (`*`)\n",
    "        elif char == \"*\":\n",
    "            processed_bases.append(\"D\")\n",
    "\n",
    "        # Detectar inserciones (`+nX`)\n",
    "        elif char == \"+\":\n",
    "            match = re.match(r\"\\+(\\d+)\", base_calls[i:])\n",
    "            if match:\n",
    "                num_bases = int(match.group(1))\n",
    "                inserted_seq = base_calls[i+len(match.group(1))+1:i+len(match.group(1))+1+num_bases]\n",
    "                # processed_bases.append(f\"INS_{inserted_seq.upper()}\")\n",
    "                processed_bases.append(\"I\")\n",
    "                i += len(match.group(1)) + num_bases\n",
    "\n",
    "        # Detectar deleciones (`-nX`)\n",
    "        elif char == \"-\":\n",
    "            match = re.match(r\"\\-(\\d+)\", base_calls[i:])\n",
    "            if match:\n",
    "                num_bases = int(match.group(1))\n",
    "                deleted_seq = base_calls[i+len(match.group(1))+1:i+len(match.group(1))+1+num_bases]\n",
    "                processed_bases.append(\"D\")\n",
    "                # processed_bases.append(f\"DEL_{deleted_seq.upper()}\")\n",
    "                i += len(match.group(1)) + num_bases\n",
    "\n",
    "        i += 1\n",
    "\n",
    "    if len(passing_quality_scores) == 0:\n",
    "         allele_counts = { 'A': 0, 'C': 0, 'T': 0, 'G': 0, 'DEL': 0, 'INS': 0, \"Avg_Qual\": None, \"depth\": 0, \"depth_high_q\": 0 }\n",
    "         return allele_counts\n",
    "\n",
    "    allele_counts = {\n",
    "        'A': processed_bases.count('A'),\n",
    "        'C': processed_bases.count('C'),\n",
    "        'T': processed_bases.count('T'),\n",
    "        'G': processed_bases.count('G'),\n",
    "        'DEL': processed_bases.count('D'),\n",
    "        'INS': processed_bases.count('I')\n",
    "    }\n",
    "\n",
    "    # Contar inserciones y deleciones específicas\n",
    "    for item in processed_bases:\n",
    "        if item.startswith(\"INS_\"):\n",
    "            allele_counts[item] = allele_counts.get(item, 0) + 1\n",
    "        if item.startswith(\"DEL_\"):\n",
    "            allele_counts[item] = allele_counts.get(item, 0) + 1\n",
    "\n",
    "    # Calcular calidad promedio\n",
    "    # allele_counts[\"Avg_Qual\"] = np.mean(quality_scores) if quality_scores else 0\n",
    "    allele_counts[\"Avg_Qual\"] = sum(passing_quality_scores) / len(passing_quality_scores) # if quality_scores else 0\n",
    "    allele_counts[\"depth\"] = row[\"depth\"]\n",
    "    allele_counts[\"depth_high_q\"] = len(passing_quality_scores)\n",
    "    allele_counts[\"bases\"] = processed_bases\n",
    "    allele_counts[\"original_bases\"] = row[\"bases\"]\n",
    "    allele_counts[\"ref_base\"] = ref_base\n",
    "    allele_counts[\"quality_scores\"] = quality_scores\n",
    "    \n",
    "    return allele_counts\n",
    "\n",
    "\n",
    "def mismatch(row):\n",
    "    alleles = [ row[x] for x in ['A', 'C', 'T', 'G', 'DEL', 'INS'] ] #, row.C, row.T, row.G]#, row.DEL, row.INS]\n",
    "    # print(sum(alleles) != row.depth_high_q)\n",
    "    return sum(alleles) != row.depth_high_q\n",
    "\n",
    "\n",
    "def parse_bases(base_string, ref_base):\n",
    "    i = 0\n",
    "    bases_list = []\n",
    "    \n",
    "    while i < len(base_string):\n",
    "        \n",
    "        char = base_string[i]\n",
    "\n",
    "        # Reemplazar referencia\n",
    "        if char in \".,\":  \n",
    "            current_base = ref_base\n",
    "            bases_list.append(current_base)\n",
    "\n",
    "        # Contar bases normales\n",
    "        elif char.upper() in \"ACTG\":\n",
    "            current_base = char.upper()\n",
    "            bases_list.append(current_base)\n",
    "\n",
    "        # Contar deleciones en la referencia (`*`)\n",
    "        elif char == \"*\":\n",
    "            bases_list.append(\"DEL\")\n",
    "\n",
    "        # Detectar inserciones (`+nX`) y asociarlas correctamente\n",
    "        elif char == \"+\":\n",
    "            match = re.match(r\"\\+(\\d+)\", base_string[i:])\n",
    "            if match:\n",
    "                num_bases = int(match.group(1))\n",
    "                inserted_seq = base_string[i+len(match.group(1))+1:i+len(match.group(1))+1+num_bases]\n",
    "\n",
    "                # Asociar la inserción a la base previa (última base agregada)\n",
    "                if bases_list:\n",
    "                    bases_list[-1] = f\"{bases_list[-1]}_INS_{inserted_seq.upper()}\"\n",
    "                else:\n",
    "                    bases_list.append(f\"INS_{inserted_seq.upper()}\")  # Caso extremo: inserción sin base previa\n",
    "\n",
    "                i += len(match.group(1)) + num_bases  # Saltar la inserción en el string\n",
    "\n",
    "        # Detectar deleciones (`-nX`)\n",
    "        elif char == \"-\":\n",
    "            match = re.match(r\"\\-(\\d+)\", base_string[i:])\n",
    "            if match:\n",
    "                num_bases = int(match.group(1))\n",
    "                deleted_seq = base_string[i+len(match.group(1))+1:i+len(match.group(1))+1+num_bases]\n",
    "\n",
    "                # Asociar la deleción a la base previa (última base agregada)\n",
    "                if bases_list:\n",
    "                    bases_list[-1] = f\"{bases_list[-1]}_DEL_{deleted_seq.upper()}\"\n",
    "                else:\n",
    "                    bases_list.append(f\"DEL_{deleted_seq.upper()}\")\n",
    "\n",
    "                i += len(match.group(1)) + num_bases  # Saltar la deleción en el string\n",
    "\n",
    "        i += 1\n",
    "\n",
    "    return bases_list"
   ]
  },
  {
   "cell_type": "code",
   "execution_count": 581,
   "id": "45cd3134",
   "metadata": {},
   "outputs": [],
   "source": [
    "def process_bases(row):\n",
    "    \n",
    "    base_calls = row[\"bases\"]\n",
    "    quality_scores = phred_quality(row[\"qual\"])\n",
    "    ref_base = row[\"ref\"].upper()\n",
    "\n",
    "    base_calls = base_calls.replace(\"$\", \"\").replace(\"^]\", \"\").replace(\"^I\", \"\")\n",
    "\n",
    "    parsed_bases = parse_bases(base_calls, ref_base)\n",
    "\n",
    "    return [Counter(parsed_bases), quality_scores]\n",
    "\n",
    "    # [ parsed_bases[i] for i, _ in enumerate(kk.quality_scores) if kk.quality_scores[i] > 20 ]\n",
    "\n",
    "    "
   ]
  },
  {
   "cell_type": "code",
   "execution_count": 582,
   "id": "2e3165ec",
   "metadata": {},
   "outputs": [],
   "source": [
    "from collections import Counter"
   ]
  },
  {
   "cell_type": "code",
   "execution_count": 611,
   "id": "1813dea9",
   "metadata": {},
   "outputs": [],
   "source": [
    "kk = []\n",
    "for raiz, carpetas, archivos in os.walk(\"data/genomes/alignments_paired_end\"):\n",
    "    for archivo in archivos:        \n",
    "\n",
    "        if not (\"counts\" in archivo and archivo.endswith(\"txt\")):\n",
    "            continue\n",
    "\n",
    "        ruta_completa = os.path.join(raiz, archivo)\n",
    "        batch = os.path.basename(ruta_completa).split(\"__\")[0]        \n",
    "\n",
    "        df = pd.read_csv(ruta_completa, sep=\"\\t\", header=None)\n",
    "        df.columns = [\"contig\", \"position\", \"ref\", \"depth\", \"bases\", \"qual\"]\n",
    "        df = pd.concat([df, df.apply(lambda x: process_bases(x)[0], axis=1), df.apply(lambda x: process_bases(x)[1], axis=1)], axis=1)\n",
    "        df.columns = df.columns[:-2].to_list() + [\"count\", \"quality\"]\n",
    "        df = df.drop([\"qual\"], axis=1)\n",
    "        df = df.assign(sample=batch)\n",
    "        \n",
    "        kk.append(df)\n",
    "\n",
    "kk = pd.concat(kk)[[\"contig\", \"position\", \"sample\", \"count\"]].pivot(index=[\"contig\", \"position\"], columns=\"sample\", values=\"count\")"
   ]
  },
  {
   "cell_type": "code",
   "execution_count": 612,
   "id": "f2593011",
   "metadata": {},
   "outputs": [
    {
     "data": {
      "text/html": [
       "<div>\n",
       "<style scoped>\n",
       "    .dataframe tbody tr th:only-of-type {\n",
       "        vertical-align: middle;\n",
       "    }\n",
       "\n",
       "    .dataframe tbody tr th {\n",
       "        vertical-align: top;\n",
       "    }\n",
       "\n",
       "    .dataframe thead th {\n",
       "        text-align: right;\n",
       "    }\n",
       "</style>\n",
       "<table border=\"1\" class=\"dataframe\">\n",
       "  <thead>\n",
       "    <tr style=\"text-align: right;\">\n",
       "      <th></th>\n",
       "      <th>sample</th>\n",
       "      <th>10_L1</th>\n",
       "      <th>10_L2</th>\n",
       "      <th>10_L3</th>\n",
       "      <th>10_L4</th>\n",
       "      <th>10_L5</th>\n",
       "      <th>10_L6</th>\n",
       "      <th>11_L1</th>\n",
       "      <th>11_L2</th>\n",
       "      <th>11_L3</th>\n",
       "      <th>11_L4</th>\n",
       "      <th>...</th>\n",
       "      <th>95_L2</th>\n",
       "      <th>95_L3</th>\n",
       "      <th>95_L4</th>\n",
       "      <th>95_L5</th>\n",
       "      <th>9_L1</th>\n",
       "      <th>9_L2</th>\n",
       "      <th>9_L3</th>\n",
       "      <th>9_L4</th>\n",
       "      <th>9_L5</th>\n",
       "      <th>9_L6</th>\n",
       "    </tr>\n",
       "    <tr>\n",
       "      <th>contig</th>\n",
       "      <th>position</th>\n",
       "      <th></th>\n",
       "      <th></th>\n",
       "      <th></th>\n",
       "      <th></th>\n",
       "      <th></th>\n",
       "      <th></th>\n",
       "      <th></th>\n",
       "      <th></th>\n",
       "      <th></th>\n",
       "      <th></th>\n",
       "      <th></th>\n",
       "      <th></th>\n",
       "      <th></th>\n",
       "      <th></th>\n",
       "      <th></th>\n",
       "      <th></th>\n",
       "      <th></th>\n",
       "      <th></th>\n",
       "      <th></th>\n",
       "      <th></th>\n",
       "      <th></th>\n",
       "    </tr>\n",
       "  </thead>\n",
       "  <tbody>\n",
       "    <tr>\n",
       "      <th rowspan=\"5\" valign=\"top\">contig000001</th>\n",
       "      <th>146</th>\n",
       "      <td>{'T': 46}</td>\n",
       "      <td>{'T': 48, 'C': 1}</td>\n",
       "      <td>{'DEL': 1}</td>\n",
       "      <td>{'T': 39, 'C': 10}</td>\n",
       "      <td>{'T': 121, 'C': 7}</td>\n",
       "      <td>{'T': 151}</td>\n",
       "      <td>{'T': 80}</td>\n",
       "      <td>{'T': 37, 'C': 14}</td>\n",
       "      <td>{'T': 38, 'C': 18}</td>\n",
       "      <td>{'T': 40, 'C': 7}</td>\n",
       "      <td>...</td>\n",
       "      <td>{'T': 86}</td>\n",
       "      <td>{'C': 104, 'T': 119}</td>\n",
       "      <td>{'T': 58}</td>\n",
       "      <td>{'C': 6, 'T': 80}</td>\n",
       "      <td>{'T': 88}</td>\n",
       "      <td>{'T': 35, 'C': 8}</td>\n",
       "      <td>{'T': 24, 'C': 3}</td>\n",
       "      <td>{'T': 22}</td>\n",
       "      <td>{'T': 124}</td>\n",
       "      <td>{'T': 43}</td>\n",
       "    </tr>\n",
       "    <tr>\n",
       "      <th>227</th>\n",
       "      <td>{'C': 78}</td>\n",
       "      <td>{'C': 94, 'T': 1}</td>\n",
       "      <td>{'DEL': 1}</td>\n",
       "      <td>{'C': 73, 'T': 12}</td>\n",
       "      <td>{'C': 209, 'T': 3}</td>\n",
       "      <td>{'C': 9}</td>\n",
       "      <td>{'C': 157}</td>\n",
       "      <td>{'C': 92, 'T': 11}</td>\n",
       "      <td>{'T': 15, 'C': 79}</td>\n",
       "      <td>{'C': 62, 'T': 8}</td>\n",
       "      <td>...</td>\n",
       "      <td>{'C': 139}</td>\n",
       "      <td>{'T': 106, 'C': 218}</td>\n",
       "      <td>{'C': 80}</td>\n",
       "      <td>{'C': 121, 'T': 8}</td>\n",
       "      <td>{'C': 123}</td>\n",
       "      <td>{'C': 60, 'T': 10}</td>\n",
       "      <td>{'C': 48, 'T': 1}</td>\n",
       "      <td>{'C': 28}</td>\n",
       "      <td>{'C': 249, 'T': 1}</td>\n",
       "      <td>{'C': 76}</td>\n",
       "    </tr>\n",
       "    <tr>\n",
       "      <th>5306</th>\n",
       "      <td>{'T': 120}</td>\n",
       "      <td>{'T': 99, 'C': 53}</td>\n",
       "      <td>{'DEL': 1}</td>\n",
       "      <td>{'T': 171}</td>\n",
       "      <td>{'T': 225, 'C': 125}</td>\n",
       "      <td>{'T': 10, 'C': 13}</td>\n",
       "      <td>{'C': 184, 'T': 8}</td>\n",
       "      <td>{'C': 115}</td>\n",
       "      <td>{'T': 53, 'C': 61}</td>\n",
       "      <td>{'C': 46, 'T': 64}</td>\n",
       "      <td>...</td>\n",
       "      <td>{'T': 131}</td>\n",
       "      <td>{'C': 318}</td>\n",
       "      <td>{'T': 127}</td>\n",
       "      <td>{'T': 89, 'C': 80, 'G': 1}</td>\n",
       "      <td>{'C': 31, 'T': 160}</td>\n",
       "      <td>{'T': 61, 'C': 11}</td>\n",
       "      <td>{'T': 45}</td>\n",
       "      <td>{'T': 91}</td>\n",
       "      <td>{'T': 356}</td>\n",
       "      <td>{'T': 112, 'C': 19}</td>\n",
       "    </tr>\n",
       "    <tr>\n",
       "      <th>91539</th>\n",
       "      <td>{'G': 139, 'A': 201}</td>\n",
       "      <td>{'G': 232, 'A': 248}</td>\n",
       "      <td>{'DEL': 1}</td>\n",
       "      <td>{'G': 204, 'A': 203, 'T': 1}</td>\n",
       "      <td>{'G': 434, 'A': 355}</td>\n",
       "      <td>{'G': 34, 'A': 33}</td>\n",
       "      <td>{'G': 253, 'A': 277}</td>\n",
       "      <td>{'G': 179, 'A': 64, 'T': 1}</td>\n",
       "      <td>{'G': 136, 'A': 133, 'T': 1}</td>\n",
       "      <td>{'G': 163, 'A': 199, 'C': 1}</td>\n",
       "      <td>...</td>\n",
       "      <td>{'G': 271, 'A': 214}</td>\n",
       "      <td>{'G': 425, 'A': 196}</td>\n",
       "      <td>{'G': 200, 'A': 162}</td>\n",
       "      <td>{'G': 236, 'A': 252}</td>\n",
       "      <td>{'G': 268, 'A': 387}</td>\n",
       "      <td>{'A': 100, 'G': 108}</td>\n",
       "      <td>{'G': 78, 'A': 14}</td>\n",
       "      <td>{'G': 105, 'A': 88, 'T': 1}</td>\n",
       "      <td>{'G': 526}</td>\n",
       "      <td>{'G': 168, 'A': 173}</td>\n",
       "    </tr>\n",
       "    <tr>\n",
       "      <th>91557</th>\n",
       "      <td>{'T': 138, 'G': 214}</td>\n",
       "      <td>{'G': 269, 'T': 237}</td>\n",
       "      <td>{'DEL': 1}</td>\n",
       "      <td>{'T': 212, 'G': 198}</td>\n",
       "      <td>{'T': 444, 'G': 389, 'C': 2, 'A': 1}</td>\n",
       "      <td>{'G': 32, 'T': 31}</td>\n",
       "      <td>{'G': 296, 'T': 249}</td>\n",
       "      <td>{'G': 70, 'T': 196}</td>\n",
       "      <td>{'G': 143, 'T': 129, 'A': 1}</td>\n",
       "      <td>{'T': 174, 'G': 211}</td>\n",
       "      <td>...</td>\n",
       "      <td>{'T': 267, 'G': 210, 'A': 1}</td>\n",
       "      <td>{'G': 202, 'T': 413, 'A': 1}</td>\n",
       "      <td>{'T': 205, 'G': 172, 'C': 1}</td>\n",
       "      <td>{'T': 240, 'G': 264}</td>\n",
       "      <td>{'G': 410, 'T': 270, 'DEL': 1}</td>\n",
       "      <td>{'G': 103, 'T': 108}</td>\n",
       "      <td>{'G': 12, 'T': 78}</td>\n",
       "      <td>{'G': 94, 'T': 103}</td>\n",
       "      <td>{'T': 522, 'C': 1}</td>\n",
       "      <td>{'G': 182, 'T': 172, 'A': 1}</td>\n",
       "    </tr>\n",
       "    <tr>\n",
       "      <th>...</th>\n",
       "      <th>...</th>\n",
       "      <td>...</td>\n",
       "      <td>...</td>\n",
       "      <td>...</td>\n",
       "      <td>...</td>\n",
       "      <td>...</td>\n",
       "      <td>...</td>\n",
       "      <td>...</td>\n",
       "      <td>...</td>\n",
       "      <td>...</td>\n",
       "      <td>...</td>\n",
       "      <td>...</td>\n",
       "      <td>...</td>\n",
       "      <td>...</td>\n",
       "      <td>...</td>\n",
       "      <td>...</td>\n",
       "      <td>...</td>\n",
       "      <td>...</td>\n",
       "      <td>...</td>\n",
       "      <td>...</td>\n",
       "      <td>...</td>\n",
       "      <td>...</td>\n",
       "    </tr>\n",
       "    <tr>\n",
       "      <th>contig000029</th>\n",
       "      <th>696</th>\n",
       "      <td>{'G': 370}</td>\n",
       "      <td>{'G': 530, 'C': 1}</td>\n",
       "      <td>{'DEL': 1}</td>\n",
       "      <td>{'G': 416}</td>\n",
       "      <td>{'G': 976}</td>\n",
       "      <td>{'G': 73}</td>\n",
       "      <td>{'G': 512}</td>\n",
       "      <td>{'G': 115}</td>\n",
       "      <td>{'G': 269, 'T': 2}</td>\n",
       "      <td>{'G': 466}</td>\n",
       "      <td>...</td>\n",
       "      <td>{'G': 471, 'C': 1}</td>\n",
       "      <td>{'G': 438}</td>\n",
       "      <td>{'G': 426}</td>\n",
       "      <td>{'G': 670}</td>\n",
       "      <td>{'G': 800, 'T': 1}</td>\n",
       "      <td>{'G': 237}</td>\n",
       "      <td>{'G': 108}</td>\n",
       "      <td>{'G': 280}</td>\n",
       "      <td>{'G': 1226, 'T': 1, 'C': 1}</td>\n",
       "      <td>{'G': 376}</td>\n",
       "    </tr>\n",
       "    <tr>\n",
       "      <th>contig000032</th>\n",
       "      <th>8535</th>\n",
       "      <td>{'C': 170, 'C_DEL_TCCGTA': 1}</td>\n",
       "      <td>{'C': 219, 'C_DEL_TCCGTA': 7}</td>\n",
       "      <td>{'DEL': 1}</td>\n",
       "      <td>{'C': 34, 'C_DEL_TCCGTA': 159}</td>\n",
       "      <td>{'C': 439, 'G': 1}</td>\n",
       "      <td>{'C': 26}</td>\n",
       "      <td>{'C': 288, 'C_DEL_TCCGTA': 12}</td>\n",
       "      <td>{'C': 148}</td>\n",
       "      <td>{'C': 149, 'C_DEL_TCCGTA': 2}</td>\n",
       "      <td>{'C': 54, 'C_DEL_TCCGTA': 80, 'DEL': 1}</td>\n",
       "      <td>...</td>\n",
       "      <td>{'C': 143}</td>\n",
       "      <td>{'C': 380}</td>\n",
       "      <td>{'C': 195}</td>\n",
       "      <td>{'C': 286}</td>\n",
       "      <td>{'C': 304}</td>\n",
       "      <td>{'C': 159}</td>\n",
       "      <td>{'C': 89, 'T': 1}</td>\n",
       "      <td>{'C': 97, 'G': 1}</td>\n",
       "      <td>{'C': 585, 'T': 1}</td>\n",
       "      <td>{'C': 217}</td>\n",
       "    </tr>\n",
       "    <tr>\n",
       "      <th rowspan=\"3\" valign=\"top\">contig000038</th>\n",
       "      <th>58</th>\n",
       "      <td>{'C': 15}</td>\n",
       "      <td>{'T': 6, 'C': 38}</td>\n",
       "      <td>{'DEL': 1}</td>\n",
       "      <td>{'T': 22, 'C': 7}</td>\n",
       "      <td>{'C': 90, 'T': 8}</td>\n",
       "      <td>{'C': 45}</td>\n",
       "      <td>{'C': 24}</td>\n",
       "      <td>{'T': 17, 'C': 16}</td>\n",
       "      <td>{'T': 21, 'C': 45}</td>\n",
       "      <td>{'T': 10, 'C': 10}</td>\n",
       "      <td>...</td>\n",
       "      <td>{'C': 20}</td>\n",
       "      <td>{'T': 86, 'C': 156}</td>\n",
       "      <td>{'C': 6}</td>\n",
       "      <td>{'C': 8, 'T': 11}</td>\n",
       "      <td>{'C': 22}</td>\n",
       "      <td>{'T': 10, 'C': 9}</td>\n",
       "      <td>{'T': 2, 'C': 12}</td>\n",
       "      <td>{'C': 4}</td>\n",
       "      <td>{'C': 80}</td>\n",
       "      <td>{'C': 5}</td>\n",
       "    </tr>\n",
       "    <tr>\n",
       "      <th>105</th>\n",
       "      <td>{'C': 5, 'C_INS_T': 11, 'T': 1}</td>\n",
       "      <td>{'C': 9, 'C_INS_T': 39, 'T': 2}</td>\n",
       "      <td>{'DEL': 1}</td>\n",
       "      <td>{'C': 32, 'C_INS_T': 6}</td>\n",
       "      <td>{'C_INS_T': 97, 'C': 22, 'T': 5}</td>\n",
       "      <td>{'DEL': 24, 'C_INS_T': 1}</td>\n",
       "      <td>{'C': 5, 'C_INS_T': 21, 'C_INS_A': 1, 'T': 1}</td>\n",
       "      <td>{'C': 29, 'C_INS_T': 15}</td>\n",
       "      <td>{'C_INS_T': 43, 'C': 37, 'T': 1}</td>\n",
       "      <td>{'C': 17, 'C_INS_T': 9, 'T': 1}</td>\n",
       "      <td>...</td>\n",
       "      <td>{'C': 3, 'C_INS_T': 18}</td>\n",
       "      <td>{'C': 157, 'C_INS_T': 154, 'A': 1}</td>\n",
       "      <td>{'C_INS_T': 5, 'C': 3, 'T': 1}</td>\n",
       "      <td>{'C': 22, 'C_INS_T': 5, 'T': 1}</td>\n",
       "      <td>{'C_INS_T': 21, 'C': 2}</td>\n",
       "      <td>{'C': 16, 'C_INS_T': 7}</td>\n",
       "      <td>{'C_INS_T': 15, 'C': 2}</td>\n",
       "      <td>{'C_INS_T': 7, 'C': 1}</td>\n",
       "      <td>{'C_INS_T': 83, 'C': 9, 'C_INS_A': 1, 'T': 1}</td>\n",
       "      <td>{'C_INS_T': 4, 'C': 1}</td>\n",
       "    </tr>\n",
       "    <tr>\n",
       "      <th>155</th>\n",
       "      <td>{'G': 17, 'A': 36}</td>\n",
       "      <td>{'G': 61, 'A': 44}</td>\n",
       "      <td>{'DEL': 1}</td>\n",
       "      <td>{'G': 38, 'A': 46}</td>\n",
       "      <td>{'A': 95, 'G': 138}</td>\n",
       "      <td>{'A': 69, 'C': 1}</td>\n",
       "      <td>{'A': 60, 'G': 32}</td>\n",
       "      <td>{'G': 52, 'A': 25}</td>\n",
       "      <td>{'G': 85, 'A': 36}</td>\n",
       "      <td>{'G': 25, 'A': 30}</td>\n",
       "      <td>...</td>\n",
       "      <td>{'A': 30, 'G': 23}</td>\n",
       "      <td>{'G': 362, 'A': 48}</td>\n",
       "      <td>{'G': 8, 'A': 29}</td>\n",
       "      <td>{'A': 35, 'G': 24, 'C': 1}</td>\n",
       "      <td>{'G': 27, 'A': 61}</td>\n",
       "      <td>{'G': 26, 'A': 20}</td>\n",
       "      <td>{'G': 22, 'A': 13}</td>\n",
       "      <td>{'G': 5, 'A': 24}</td>\n",
       "      <td>{'A': 126, 'G': 125}</td>\n",
       "      <td>{'G': 9, 'A': 41}</td>\n",
       "    </tr>\n",
       "  </tbody>\n",
       "</table>\n",
       "<p>224 rows × 474 columns</p>\n",
       "</div>"
      ],
      "text/plain": [
       "sample                                           10_L1  \\\n",
       "contig       position                                    \n",
       "contig000001 146                             {'T': 46}   \n",
       "             227                             {'C': 78}   \n",
       "             5306                           {'T': 120}   \n",
       "             91539                {'G': 139, 'A': 201}   \n",
       "             91557                {'T': 138, 'G': 214}   \n",
       "...                                                ...   \n",
       "contig000029 696                            {'G': 370}   \n",
       "contig000032 8535        {'C': 170, 'C_DEL_TCCGTA': 1}   \n",
       "contig000038 58                              {'C': 15}   \n",
       "             105       {'C': 5, 'C_INS_T': 11, 'T': 1}   \n",
       "             155                    {'G': 17, 'A': 36}   \n",
       "\n",
       "sample                                           10_L2       10_L3  \\\n",
       "contig       position                                                \n",
       "contig000001 146                     {'T': 48, 'C': 1}  {'DEL': 1}   \n",
       "             227                     {'C': 94, 'T': 1}  {'DEL': 1}   \n",
       "             5306                   {'T': 99, 'C': 53}  {'DEL': 1}   \n",
       "             91539                {'G': 232, 'A': 248}  {'DEL': 1}   \n",
       "             91557                {'G': 269, 'T': 237}  {'DEL': 1}   \n",
       "...                                                ...         ...   \n",
       "contig000029 696                    {'G': 530, 'C': 1}  {'DEL': 1}   \n",
       "contig000032 8535        {'C': 219, 'C_DEL_TCCGTA': 7}  {'DEL': 1}   \n",
       "contig000038 58                      {'T': 6, 'C': 38}  {'DEL': 1}   \n",
       "             105       {'C': 9, 'C_INS_T': 39, 'T': 2}  {'DEL': 1}   \n",
       "             155                    {'G': 61, 'A': 44}  {'DEL': 1}   \n",
       "\n",
       "sample                                          10_L4  \\\n",
       "contig       position                                   \n",
       "contig000001 146                   {'T': 39, 'C': 10}   \n",
       "             227                   {'C': 73, 'T': 12}   \n",
       "             5306                          {'T': 171}   \n",
       "             91539       {'G': 204, 'A': 203, 'T': 1}   \n",
       "             91557               {'T': 212, 'G': 198}   \n",
       "...                                               ...   \n",
       "contig000029 696                           {'G': 416}   \n",
       "contig000032 8535      {'C': 34, 'C_DEL_TCCGTA': 159}   \n",
       "contig000038 58                     {'T': 22, 'C': 7}   \n",
       "             105              {'C': 32, 'C_INS_T': 6}   \n",
       "             155                   {'G': 38, 'A': 46}   \n",
       "\n",
       "sample                                                10_L5  \\\n",
       "contig       position                                         \n",
       "contig000001 146                         {'T': 121, 'C': 7}   \n",
       "             227                         {'C': 209, 'T': 3}   \n",
       "             5306                      {'T': 225, 'C': 125}   \n",
       "             91539                     {'G': 434, 'A': 355}   \n",
       "             91557     {'T': 444, 'G': 389, 'C': 2, 'A': 1}   \n",
       "...                                                     ...   \n",
       "contig000029 696                                 {'G': 976}   \n",
       "contig000032 8535                        {'C': 439, 'G': 1}   \n",
       "contig000038 58                           {'C': 90, 'T': 8}   \n",
       "             105           {'C_INS_T': 97, 'C': 22, 'T': 5}   \n",
       "             155                        {'A': 95, 'G': 138}   \n",
       "\n",
       "sample                                     10_L6  \\\n",
       "contig       position                              \n",
       "contig000001 146                      {'T': 151}   \n",
       "             227                        {'C': 9}   \n",
       "             5306             {'T': 10, 'C': 13}   \n",
       "             91539            {'G': 34, 'A': 33}   \n",
       "             91557            {'G': 32, 'T': 31}   \n",
       "...                                          ...   \n",
       "contig000029 696                       {'G': 73}   \n",
       "contig000032 8535                      {'C': 26}   \n",
       "contig000038 58                        {'C': 45}   \n",
       "             105       {'DEL': 24, 'C_INS_T': 1}   \n",
       "             155               {'A': 69, 'C': 1}   \n",
       "\n",
       "sample                                                         11_L1  \\\n",
       "contig       position                                                  \n",
       "contig000001 146                                           {'T': 80}   \n",
       "             227                                          {'C': 157}   \n",
       "             5306                                 {'C': 184, 'T': 8}   \n",
       "             91539                              {'G': 253, 'A': 277}   \n",
       "             91557                              {'G': 296, 'T': 249}   \n",
       "...                                                              ...   \n",
       "contig000029 696                                          {'G': 512}   \n",
       "contig000032 8535                     {'C': 288, 'C_DEL_TCCGTA': 12}   \n",
       "contig000038 58                                            {'C': 24}   \n",
       "             105       {'C': 5, 'C_INS_T': 21, 'C_INS_A': 1, 'T': 1}   \n",
       "             155                                  {'A': 60, 'G': 32}   \n",
       "\n",
       "sample                                       11_L2  \\\n",
       "contig       position                                \n",
       "contig000001 146                {'T': 37, 'C': 14}   \n",
       "             227                {'C': 92, 'T': 11}   \n",
       "             5306                       {'C': 115}   \n",
       "             91539     {'G': 179, 'A': 64, 'T': 1}   \n",
       "             91557             {'G': 70, 'T': 196}   \n",
       "...                                            ...   \n",
       "contig000029 696                        {'G': 115}   \n",
       "contig000032 8535                       {'C': 148}   \n",
       "contig000038 58                 {'T': 17, 'C': 16}   \n",
       "             105          {'C': 29, 'C_INS_T': 15}   \n",
       "             155                {'G': 52, 'A': 25}   \n",
       "\n",
       "sample                                            11_L3  \\\n",
       "contig       position                                     \n",
       "contig000001 146                     {'T': 38, 'C': 18}   \n",
       "             227                     {'T': 15, 'C': 79}   \n",
       "             5306                    {'T': 53, 'C': 61}   \n",
       "             91539         {'G': 136, 'A': 133, 'T': 1}   \n",
       "             91557         {'G': 143, 'T': 129, 'A': 1}   \n",
       "...                                                 ...   \n",
       "contig000029 696                     {'G': 269, 'T': 2}   \n",
       "contig000032 8535         {'C': 149, 'C_DEL_TCCGTA': 2}   \n",
       "contig000038 58                      {'T': 21, 'C': 45}   \n",
       "             105       {'C_INS_T': 43, 'C': 37, 'T': 1}   \n",
       "             155                     {'G': 85, 'A': 36}   \n",
       "\n",
       "sample                                                   11_L4  ...  \\\n",
       "contig       position                                           ...   \n",
       "contig000001 146                             {'T': 40, 'C': 7}  ...   \n",
       "             227                             {'C': 62, 'T': 8}  ...   \n",
       "             5306                           {'C': 46, 'T': 64}  ...   \n",
       "             91539                {'G': 163, 'A': 199, 'C': 1}  ...   \n",
       "             91557                        {'T': 174, 'G': 211}  ...   \n",
       "...                                                        ...  ...   \n",
       "contig000029 696                                    {'G': 466}  ...   \n",
       "contig000032 8535      {'C': 54, 'C_DEL_TCCGTA': 80, 'DEL': 1}  ...   \n",
       "contig000038 58                             {'T': 10, 'C': 10}  ...   \n",
       "             105               {'C': 17, 'C_INS_T': 9, 'T': 1}  ...   \n",
       "             155                            {'G': 25, 'A': 30}  ...   \n",
       "\n",
       "sample                                        95_L2  \\\n",
       "contig       position                                 \n",
       "contig000001 146                          {'T': 86}   \n",
       "             227                         {'C': 139}   \n",
       "             5306                        {'T': 131}   \n",
       "             91539             {'G': 271, 'A': 214}   \n",
       "             91557     {'T': 267, 'G': 210, 'A': 1}   \n",
       "...                                             ...   \n",
       "contig000029 696                 {'G': 471, 'C': 1}   \n",
       "contig000032 8535                        {'C': 143}   \n",
       "contig000038 58                           {'C': 20}   \n",
       "             105            {'C': 3, 'C_INS_T': 18}   \n",
       "             155                 {'A': 30, 'G': 23}   \n",
       "\n",
       "sample                                              95_L3  \\\n",
       "contig       position                                       \n",
       "contig000001 146                     {'C': 104, 'T': 119}   \n",
       "             227                     {'T': 106, 'C': 218}   \n",
       "             5306                              {'C': 318}   \n",
       "             91539                   {'G': 425, 'A': 196}   \n",
       "             91557           {'G': 202, 'T': 413, 'A': 1}   \n",
       "...                                                   ...   \n",
       "contig000029 696                               {'G': 438}   \n",
       "contig000032 8535                              {'C': 380}   \n",
       "contig000038 58                       {'T': 86, 'C': 156}   \n",
       "             105       {'C': 157, 'C_INS_T': 154, 'A': 1}   \n",
       "             155                      {'G': 362, 'A': 48}   \n",
       "\n",
       "sample                                          95_L4  \\\n",
       "contig       position                                   \n",
       "contig000001 146                            {'T': 58}   \n",
       "             227                            {'C': 80}   \n",
       "             5306                          {'T': 127}   \n",
       "             91539               {'G': 200, 'A': 162}   \n",
       "             91557       {'T': 205, 'G': 172, 'C': 1}   \n",
       "...                                               ...   \n",
       "contig000029 696                           {'G': 426}   \n",
       "contig000032 8535                          {'C': 195}   \n",
       "contig000038 58                              {'C': 6}   \n",
       "             105       {'C_INS_T': 5, 'C': 3, 'T': 1}   \n",
       "             155                    {'G': 8, 'A': 29}   \n",
       "\n",
       "sample                                           95_L5  \\\n",
       "contig       position                                    \n",
       "contig000001 146                     {'C': 6, 'T': 80}   \n",
       "             227                    {'C': 121, 'T': 8}   \n",
       "             5306           {'T': 89, 'C': 80, 'G': 1}   \n",
       "             91539                {'G': 236, 'A': 252}   \n",
       "             91557                {'T': 240, 'G': 264}   \n",
       "...                                                ...   \n",
       "contig000029 696                            {'G': 670}   \n",
       "contig000032 8535                           {'C': 286}   \n",
       "contig000038 58                      {'C': 8, 'T': 11}   \n",
       "             105       {'C': 22, 'C_INS_T': 5, 'T': 1}   \n",
       "             155            {'A': 35, 'G': 24, 'C': 1}   \n",
       "\n",
       "sample                                           9_L1  \\\n",
       "contig       position                                   \n",
       "contig000001 146                            {'T': 88}   \n",
       "             227                           {'C': 123}   \n",
       "             5306                 {'C': 31, 'T': 160}   \n",
       "             91539               {'G': 268, 'A': 387}   \n",
       "             91557     {'G': 410, 'T': 270, 'DEL': 1}   \n",
       "...                                               ...   \n",
       "contig000029 696                   {'G': 800, 'T': 1}   \n",
       "contig000032 8535                          {'C': 304}   \n",
       "contig000038 58                             {'C': 22}   \n",
       "             105              {'C_INS_T': 21, 'C': 2}   \n",
       "             155                   {'G': 27, 'A': 61}   \n",
       "\n",
       "sample                                    9_L2                     9_L3  \\\n",
       "contig       position                                                     \n",
       "contig000001 146             {'T': 35, 'C': 8}        {'T': 24, 'C': 3}   \n",
       "             227            {'C': 60, 'T': 10}        {'C': 48, 'T': 1}   \n",
       "             5306           {'T': 61, 'C': 11}                {'T': 45}   \n",
       "             91539        {'A': 100, 'G': 108}       {'G': 78, 'A': 14}   \n",
       "             91557        {'G': 103, 'T': 108}       {'G': 12, 'T': 78}   \n",
       "...                                        ...                      ...   \n",
       "contig000029 696                    {'G': 237}               {'G': 108}   \n",
       "contig000032 8535                   {'C': 159}        {'C': 89, 'T': 1}   \n",
       "contig000038 58              {'T': 10, 'C': 9}        {'T': 2, 'C': 12}   \n",
       "             105       {'C': 16, 'C_INS_T': 7}  {'C_INS_T': 15, 'C': 2}   \n",
       "             155            {'G': 26, 'A': 20}       {'G': 22, 'A': 13}   \n",
       "\n",
       "sample                                        9_L4  \\\n",
       "contig       position                                \n",
       "contig000001 146                         {'T': 22}   \n",
       "             227                         {'C': 28}   \n",
       "             5306                        {'T': 91}   \n",
       "             91539     {'G': 105, 'A': 88, 'T': 1}   \n",
       "             91557             {'G': 94, 'T': 103}   \n",
       "...                                            ...   \n",
       "contig000029 696                        {'G': 280}   \n",
       "contig000032 8535                {'C': 97, 'G': 1}   \n",
       "contig000038 58                           {'C': 4}   \n",
       "             105            {'C_INS_T': 7, 'C': 1}   \n",
       "             155                 {'G': 5, 'A': 24}   \n",
       "\n",
       "sample                                                          9_L5  \\\n",
       "contig       position                                                  \n",
       "contig000001 146                                          {'T': 124}   \n",
       "             227                                  {'C': 249, 'T': 1}   \n",
       "             5306                                         {'T': 356}   \n",
       "             91539                                        {'G': 526}   \n",
       "             91557                                {'T': 522, 'C': 1}   \n",
       "...                                                              ...   \n",
       "contig000029 696                         {'G': 1226, 'T': 1, 'C': 1}   \n",
       "contig000032 8535                                 {'C': 585, 'T': 1}   \n",
       "contig000038 58                                            {'C': 80}   \n",
       "             105       {'C_INS_T': 83, 'C': 9, 'C_INS_A': 1, 'T': 1}   \n",
       "             155                                {'A': 126, 'G': 125}   \n",
       "\n",
       "sample                                         9_L6  \n",
       "contig       position                                \n",
       "contig000001 146                          {'T': 43}  \n",
       "             227                          {'C': 76}  \n",
       "             5306               {'T': 112, 'C': 19}  \n",
       "             91539             {'G': 168, 'A': 173}  \n",
       "             91557     {'G': 182, 'T': 172, 'A': 1}  \n",
       "...                                             ...  \n",
       "contig000029 696                         {'G': 376}  \n",
       "contig000032 8535                        {'C': 217}  \n",
       "contig000038 58                            {'C': 5}  \n",
       "             105             {'C_INS_T': 4, 'C': 1}  \n",
       "             155                  {'G': 9, 'A': 41}  \n",
       "\n",
       "[224 rows x 474 columns]"
      ]
     },
     "execution_count": 612,
     "metadata": {},
     "output_type": "execute_result"
    }
   ],
   "source": [
    "kk"
   ]
  },
  {
   "cell_type": "code",
   "execution_count": 593,
   "id": "0cc88971",
   "metadata": {},
   "outputs": [
    {
     "data": {
      "text/html": [
       "<div>\n",
       "<style scoped>\n",
       "    .dataframe tbody tr th:only-of-type {\n",
       "        vertical-align: middle;\n",
       "    }\n",
       "\n",
       "    .dataframe tbody tr th {\n",
       "        vertical-align: top;\n",
       "    }\n",
       "\n",
       "    .dataframe thead th {\n",
       "        text-align: right;\n",
       "    }\n",
       "</style>\n",
       "<table border=\"1\" class=\"dataframe\">\n",
       "  <thead>\n",
       "    <tr style=\"text-align: right;\">\n",
       "      <th></th>\n",
       "      <th>contig</th>\n",
       "      <th>position</th>\n",
       "      <th>ref</th>\n",
       "      <th>depth</th>\n",
       "      <th>bases</th>\n",
       "      <th>count</th>\n",
       "      <th>quality</th>\n",
       "    </tr>\n",
       "  </thead>\n",
       "  <tbody>\n",
       "    <tr>\n",
       "      <th>0</th>\n",
       "      <td>contig000001</td>\n",
       "      <td>146</td>\n",
       "      <td>C</td>\n",
       "      <td>86</td>\n",
       "      <td>TTTTTTTTTTTTTTTTTTTTTTTTTTTTTTTTTTTTTTTTTTTTTT...</td>\n",
       "      <td>{'T': 86}</td>\n",
       "      <td>[35, 35, 34, 34, 35, 33, 31, 28, 35, 14, 33, 3...</td>\n",
       "    </tr>\n",
       "    <tr>\n",
       "      <th>1</th>\n",
       "      <td>contig000001</td>\n",
       "      <td>227</td>\n",
       "      <td>T</td>\n",
       "      <td>158</td>\n",
       "      <td>CCCCCCCCCCCCCCCCCCCCCCCCCCCCCCCCCCCCCCCCCCCCCC...</td>\n",
       "      <td>{'C': 158}</td>\n",
       "      <td>[37, 76, 34, 38, 39, 32, 34, 37, 40, 37, 40, 3...</td>\n",
       "    </tr>\n",
       "    <tr>\n",
       "      <th>2</th>\n",
       "      <td>contig000001</td>\n",
       "      <td>5306</td>\n",
       "      <td>C</td>\n",
       "      <td>215</td>\n",
       "      <td>TTTttttTTTTTtTTtTtTTtTTTTtttttttTTttTTttttTttt...</td>\n",
       "      <td>{'T': 215}</td>\n",
       "      <td>[69, 34, 26, 35, 37, 37, 35, 70, 18, 15, 65, 3...</td>\n",
       "    </tr>\n",
       "    <tr>\n",
       "      <th>3</th>\n",
       "      <td>contig000001</td>\n",
       "      <td>91539</td>\n",
       "      <td>A</td>\n",
       "      <td>805</td>\n",
       "      <td>g$g$g$GGGGGggg...............gGG.GGG.gg..........</td>\n",
       "      <td>{'G': 405, 'A': 400}</td>\n",
       "      <td>[20, 39, 39, 76, 33, 76, 40, 78, 39, 37, 37, 3...</td>\n",
       "    </tr>\n",
       "    <tr>\n",
       "      <th>4</th>\n",
       "      <td>contig000001</td>\n",
       "      <td>91557</td>\n",
       "      <td>G</td>\n",
       "      <td>818</td>\n",
       "      <td>.$.TT.Ttt.....T.T..T.....ttt..tT..T..T.T..Tt.....</td>\n",
       "      <td>{'G': 412, 'T': 405, 'C': 1}</td>\n",
       "      <td>[39, 63, 33, 72, 65, 59, 36, 36, 37, 39, 39, 7...</td>\n",
       "    </tr>\n",
       "    <tr>\n",
       "      <th>...</th>\n",
       "      <td>...</td>\n",
       "      <td>...</td>\n",
       "      <td>...</td>\n",
       "      <td>...</td>\n",
       "      <td>...</td>\n",
       "      <td>...</td>\n",
       "      <td>...</td>\n",
       "    </tr>\n",
       "    <tr>\n",
       "      <th>214</th>\n",
       "      <td>contig000029</td>\n",
       "      <td>696</td>\n",
       "      <td>A</td>\n",
       "      <td>720</td>\n",
       "      <td>GGGGgggGggGggggGgGggggggggggggGggGgggggggggggg...</td>\n",
       "      <td>{'G': 719, 'A': 1}</td>\n",
       "      <td>[30, 75, 39, 39, 37, 39, 39, 36, 37, 39, 40, 4...</td>\n",
       "    </tr>\n",
       "    <tr>\n",
       "      <th>215</th>\n",
       "      <td>contig000032</td>\n",
       "      <td>8535</td>\n",
       "      <td>C</td>\n",
       "      <td>419</td>\n",
       "      <td>.$............,......,.,,.....,..,,...,..........</td>\n",
       "      <td>{'C': 419}</td>\n",
       "      <td>[38, 37, 36, 39, 39, 38, 39, 37, 70, 33, 76, 3...</td>\n",
       "    </tr>\n",
       "    <tr>\n",
       "      <th>216</th>\n",
       "      <td>contig000038</td>\n",
       "      <td>58</td>\n",
       "      <td>C</td>\n",
       "      <td>48</td>\n",
       "      <td>................................................</td>\n",
       "      <td>{'C': 48}</td>\n",
       "      <td>[39, 34, 20, 39, 39, 37, 37, 37, 39, 39, 38, 3...</td>\n",
       "    </tr>\n",
       "    <tr>\n",
       "      <th>217</th>\n",
       "      <td>contig000038</td>\n",
       "      <td>105</td>\n",
       "      <td>C</td>\n",
       "      <td>55</td>\n",
       "      <td>.+1T.+1T.+1T.+1T..+1T.+1T.+1T.+1T.+1T.+1T.+1T....</td>\n",
       "      <td>{'C_INS_T': 46, 'C': 6, 'T': 3}</td>\n",
       "      <td>[39, 39, 37, 39, 37, 37, 40, 39, 37, 37, 39, 4...</td>\n",
       "    </tr>\n",
       "    <tr>\n",
       "      <th>218</th>\n",
       "      <td>contig000038</td>\n",
       "      <td>155</td>\n",
       "      <td>G</td>\n",
       "      <td>157</td>\n",
       "      <td>.$.$....A.............AA......AAAAAAAAA,A.AA.A...</td>\n",
       "      <td>{'G': 69, 'A': 88}</td>\n",
       "      <td>[75, 76, 43, 75, 77, 56, 35, 51, 71, 74, 57, 7...</td>\n",
       "    </tr>\n",
       "  </tbody>\n",
       "</table>\n",
       "<p>219 rows × 7 columns</p>\n",
       "</div>"
      ],
      "text/plain": [
       "           contig  position ref  depth  \\\n",
       "0    contig000001       146   C     86   \n",
       "1    contig000001       227   T    158   \n",
       "2    contig000001      5306   C    215   \n",
       "3    contig000001     91539   A    805   \n",
       "4    contig000001     91557   G    818   \n",
       "..            ...       ...  ..    ...   \n",
       "214  contig000029       696   A    720   \n",
       "215  contig000032      8535   C    419   \n",
       "216  contig000038        58   C     48   \n",
       "217  contig000038       105   C     55   \n",
       "218  contig000038       155   G    157   \n",
       "\n",
       "                                                 bases  \\\n",
       "0    TTTTTTTTTTTTTTTTTTTTTTTTTTTTTTTTTTTTTTTTTTTTTT...   \n",
       "1    CCCCCCCCCCCCCCCCCCCCCCCCCCCCCCCCCCCCCCCCCCCCCC...   \n",
       "2    TTTttttTTTTTtTTtTtTTtTTTTtttttttTTttTTttttTttt...   \n",
       "3    g$g$g$GGGGGggg...............gGG.GGG.gg..........   \n",
       "4    .$.TT.Ttt.....T.T..T.....ttt..tT..T..T.T..Tt.....   \n",
       "..                                                 ...   \n",
       "214  GGGGgggGggGggggGgGggggggggggggGggGgggggggggggg...   \n",
       "215  .$............,......,.,,.....,..,,...,..........   \n",
       "216   ................................................   \n",
       "217  .+1T.+1T.+1T.+1T..+1T.+1T.+1T.+1T.+1T.+1T.+1T....   \n",
       "218  .$.$....A.............AA......AAAAAAAAA,A.AA.A...   \n",
       "\n",
       "                               count  \\\n",
       "0                          {'T': 86}   \n",
       "1                         {'C': 158}   \n",
       "2                         {'T': 215}   \n",
       "3               {'G': 405, 'A': 400}   \n",
       "4       {'G': 412, 'T': 405, 'C': 1}   \n",
       "..                               ...   \n",
       "214               {'G': 719, 'A': 1}   \n",
       "215                       {'C': 419}   \n",
       "216                        {'C': 48}   \n",
       "217  {'C_INS_T': 46, 'C': 6, 'T': 3}   \n",
       "218               {'G': 69, 'A': 88}   \n",
       "\n",
       "                                               quality  \n",
       "0    [35, 35, 34, 34, 35, 33, 31, 28, 35, 14, 33, 3...  \n",
       "1    [37, 76, 34, 38, 39, 32, 34, 37, 40, 37, 40, 3...  \n",
       "2    [69, 34, 26, 35, 37, 37, 35, 70, 18, 15, 65, 3...  \n",
       "3    [20, 39, 39, 76, 33, 76, 40, 78, 39, 37, 37, 3...  \n",
       "4    [39, 63, 33, 72, 65, 59, 36, 36, 37, 39, 39, 7...  \n",
       "..                                                 ...  \n",
       "214  [30, 75, 39, 39, 37, 39, 39, 36, 37, 39, 40, 4...  \n",
       "215  [38, 37, 36, 39, 39, 38, 39, 37, 70, 33, 76, 3...  \n",
       "216  [39, 34, 20, 39, 39, 37, 37, 37, 39, 39, 38, 3...  \n",
       "217  [39, 39, 37, 39, 37, 37, 40, 39, 37, 37, 39, 4...  \n",
       "218  [75, 76, 43, 75, 77, 56, 35, 51, 71, 74, 57, 7...  \n",
       "\n",
       "[219 rows x 7 columns]"
      ]
     },
     "execution_count": 593,
     "metadata": {},
     "output_type": "execute_result"
    }
   ],
   "source": [
    "df"
   ]
  },
  {
   "cell_type": "code",
   "execution_count": 556,
   "id": "038c0e63",
   "metadata": {},
   "outputs": [
    {
     "name": "stderr",
     "output_type": "stream",
     "text": [
      "/tmp/ipykernel_9351/1362859674.py:161: FutureWarning: Series.__getitem__ treating keys as positions is deprecated. In a future version, integer keys will always be treated as labels (consistent with DataFrame behavior). To access a value by position, use `ser.iloc[pos]`\n",
      "  char = base_string[i]\n"
     ]
    },
    {
     "ename": "TypeError",
     "evalue": "'in <string>' requires string as left operand, not int",
     "output_type": "error",
     "traceback": [
      "\u001b[0;31m---------------------------------------------------------------------------\u001b[0m",
      "\u001b[0;31mTypeError\u001b[0m                                 Traceback (most recent call last)",
      "Cell \u001b[0;32mIn[556], line 4\u001b[0m\n\u001b[1;32m      1\u001b[0m df \u001b[38;5;241m=\u001b[39m pd\u001b[38;5;241m.\u001b[39mread_csv(\u001b[38;5;124m\"\u001b[39m\u001b[38;5;124mdata/genomes/alignments_paired_end/3_L2__counts.txt\u001b[39m\u001b[38;5;124m\"\u001b[39m, sep\u001b[38;5;241m=\u001b[39m\u001b[38;5;124m\"\u001b[39m\u001b[38;5;130;01m\\t\u001b[39;00m\u001b[38;5;124m\"\u001b[39m, header\u001b[38;5;241m=\u001b[39m\u001b[38;5;28;01mNone\u001b[39;00m)\n\u001b[1;32m      2\u001b[0m df\u001b[38;5;241m.\u001b[39mcolumns \u001b[38;5;241m=\u001b[39m [\u001b[38;5;124m\"\u001b[39m\u001b[38;5;124mcontig\u001b[39m\u001b[38;5;124m\"\u001b[39m, \u001b[38;5;124m\"\u001b[39m\u001b[38;5;124mposition\u001b[39m\u001b[38;5;124m\"\u001b[39m, \u001b[38;5;124m\"\u001b[39m\u001b[38;5;124mref\u001b[39m\u001b[38;5;124m\"\u001b[39m, \u001b[38;5;124m\"\u001b[39m\u001b[38;5;124mdepth\u001b[39m\u001b[38;5;124m\"\u001b[39m, \u001b[38;5;124m\"\u001b[39m\u001b[38;5;124mbases\u001b[39m\u001b[38;5;124m\"\u001b[39m, \u001b[38;5;124m\"\u001b[39m\u001b[38;5;124mqual\u001b[39m\u001b[38;5;124m\"\u001b[39m]\n\u001b[0;32m----> 4\u001b[0m allele_counts \u001b[38;5;241m=\u001b[39m \u001b[43mdf\u001b[49m\u001b[38;5;241;43m.\u001b[39;49m\u001b[43mapply\u001b[49m\u001b[43m(\u001b[49m\u001b[43mprocess_bases\u001b[49m\u001b[43m,\u001b[49m\u001b[43m \u001b[49m\u001b[43maxis\u001b[49m\u001b[38;5;241;43m=\u001b[39;49m\u001b[38;5;241;43m1\u001b[39;49m\u001b[43m)\u001b[49m\n\u001b[1;32m      5\u001b[0m snvs \u001b[38;5;241m=\u001b[39m \u001b[38;5;28mlist\u001b[39m(\u001b[38;5;28mzip\u001b[39m(df\u001b[38;5;241m.\u001b[39mcontig, df\u001b[38;5;241m.\u001b[39mposition))\n\u001b[1;32m      7\u001b[0m allele_counts_df \u001b[38;5;241m=\u001b[39m pd\u001b[38;5;241m.\u001b[39mDataFrame({ snvs[i]: allele_counts[i] \u001b[38;5;28;01mfor\u001b[39;00m i, _ \u001b[38;5;129;01min\u001b[39;00m \u001b[38;5;28menumerate\u001b[39m(snvs) })\u001b[38;5;241m.\u001b[39mT\n",
      "File \u001b[0;32m~/miniconda/envs/scRNA/lib/python3.10/site-packages/pandas/core/frame.py:10374\u001b[0m, in \u001b[0;36mDataFrame.apply\u001b[0;34m(self, func, axis, raw, result_type, args, by_row, engine, engine_kwargs, **kwargs)\u001b[0m\n\u001b[1;32m  10360\u001b[0m \u001b[38;5;28;01mfrom\u001b[39;00m \u001b[38;5;21;01mpandas\u001b[39;00m\u001b[38;5;21;01m.\u001b[39;00m\u001b[38;5;21;01mcore\u001b[39;00m\u001b[38;5;21;01m.\u001b[39;00m\u001b[38;5;21;01mapply\u001b[39;00m \u001b[38;5;28;01mimport\u001b[39;00m frame_apply\n\u001b[1;32m  10362\u001b[0m op \u001b[38;5;241m=\u001b[39m frame_apply(\n\u001b[1;32m  10363\u001b[0m     \u001b[38;5;28mself\u001b[39m,\n\u001b[1;32m  10364\u001b[0m     func\u001b[38;5;241m=\u001b[39mfunc,\n\u001b[0;32m   (...)\u001b[0m\n\u001b[1;32m  10372\u001b[0m     kwargs\u001b[38;5;241m=\u001b[39mkwargs,\n\u001b[1;32m  10373\u001b[0m )\n\u001b[0;32m> 10374\u001b[0m \u001b[38;5;28;01mreturn\u001b[39;00m \u001b[43mop\u001b[49m\u001b[38;5;241;43m.\u001b[39;49m\u001b[43mapply\u001b[49m\u001b[43m(\u001b[49m\u001b[43m)\u001b[49m\u001b[38;5;241m.\u001b[39m__finalize__(\u001b[38;5;28mself\u001b[39m, method\u001b[38;5;241m=\u001b[39m\u001b[38;5;124m\"\u001b[39m\u001b[38;5;124mapply\u001b[39m\u001b[38;5;124m\"\u001b[39m)\n",
      "File \u001b[0;32m~/miniconda/envs/scRNA/lib/python3.10/site-packages/pandas/core/apply.py:916\u001b[0m, in \u001b[0;36mFrameApply.apply\u001b[0;34m(self)\u001b[0m\n\u001b[1;32m    913\u001b[0m \u001b[38;5;28;01melif\u001b[39;00m \u001b[38;5;28mself\u001b[39m\u001b[38;5;241m.\u001b[39mraw:\n\u001b[1;32m    914\u001b[0m     \u001b[38;5;28;01mreturn\u001b[39;00m \u001b[38;5;28mself\u001b[39m\u001b[38;5;241m.\u001b[39mapply_raw(engine\u001b[38;5;241m=\u001b[39m\u001b[38;5;28mself\u001b[39m\u001b[38;5;241m.\u001b[39mengine, engine_kwargs\u001b[38;5;241m=\u001b[39m\u001b[38;5;28mself\u001b[39m\u001b[38;5;241m.\u001b[39mengine_kwargs)\n\u001b[0;32m--> 916\u001b[0m \u001b[38;5;28;01mreturn\u001b[39;00m \u001b[38;5;28;43mself\u001b[39;49m\u001b[38;5;241;43m.\u001b[39;49m\u001b[43mapply_standard\u001b[49m\u001b[43m(\u001b[49m\u001b[43m)\u001b[49m\n",
      "File \u001b[0;32m~/miniconda/envs/scRNA/lib/python3.10/site-packages/pandas/core/apply.py:1063\u001b[0m, in \u001b[0;36mFrameApply.apply_standard\u001b[0;34m(self)\u001b[0m\n\u001b[1;32m   1061\u001b[0m \u001b[38;5;28;01mdef\u001b[39;00m \u001b[38;5;21mapply_standard\u001b[39m(\u001b[38;5;28mself\u001b[39m):\n\u001b[1;32m   1062\u001b[0m     \u001b[38;5;28;01mif\u001b[39;00m \u001b[38;5;28mself\u001b[39m\u001b[38;5;241m.\u001b[39mengine \u001b[38;5;241m==\u001b[39m \u001b[38;5;124m\"\u001b[39m\u001b[38;5;124mpython\u001b[39m\u001b[38;5;124m\"\u001b[39m:\n\u001b[0;32m-> 1063\u001b[0m         results, res_index \u001b[38;5;241m=\u001b[39m \u001b[38;5;28;43mself\u001b[39;49m\u001b[38;5;241;43m.\u001b[39;49m\u001b[43mapply_series_generator\u001b[49m\u001b[43m(\u001b[49m\u001b[43m)\u001b[49m\n\u001b[1;32m   1064\u001b[0m     \u001b[38;5;28;01melse\u001b[39;00m:\n\u001b[1;32m   1065\u001b[0m         results, res_index \u001b[38;5;241m=\u001b[39m \u001b[38;5;28mself\u001b[39m\u001b[38;5;241m.\u001b[39mapply_series_numba()\n",
      "File \u001b[0;32m~/miniconda/envs/scRNA/lib/python3.10/site-packages/pandas/core/apply.py:1081\u001b[0m, in \u001b[0;36mFrameApply.apply_series_generator\u001b[0;34m(self)\u001b[0m\n\u001b[1;32m   1078\u001b[0m \u001b[38;5;28;01mwith\u001b[39;00m option_context(\u001b[38;5;124m\"\u001b[39m\u001b[38;5;124mmode.chained_assignment\u001b[39m\u001b[38;5;124m\"\u001b[39m, \u001b[38;5;28;01mNone\u001b[39;00m):\n\u001b[1;32m   1079\u001b[0m     \u001b[38;5;28;01mfor\u001b[39;00m i, v \u001b[38;5;129;01min\u001b[39;00m \u001b[38;5;28menumerate\u001b[39m(series_gen):\n\u001b[1;32m   1080\u001b[0m         \u001b[38;5;66;03m# ignore SettingWithCopy here in case the user mutates\u001b[39;00m\n\u001b[0;32m-> 1081\u001b[0m         results[i] \u001b[38;5;241m=\u001b[39m \u001b[38;5;28;43mself\u001b[39;49m\u001b[38;5;241;43m.\u001b[39;49m\u001b[43mfunc\u001b[49m\u001b[43m(\u001b[49m\u001b[43mv\u001b[49m\u001b[43m,\u001b[49m\u001b[43m \u001b[49m\u001b[38;5;241;43m*\u001b[39;49m\u001b[38;5;28;43mself\u001b[39;49m\u001b[38;5;241;43m.\u001b[39;49m\u001b[43margs\u001b[49m\u001b[43m,\u001b[49m\u001b[43m \u001b[49m\u001b[38;5;241;43m*\u001b[39;49m\u001b[38;5;241;43m*\u001b[39;49m\u001b[38;5;28;43mself\u001b[39;49m\u001b[38;5;241;43m.\u001b[39;49m\u001b[43mkwargs\u001b[49m\u001b[43m)\u001b[49m\n\u001b[1;32m   1082\u001b[0m         \u001b[38;5;28;01mif\u001b[39;00m \u001b[38;5;28misinstance\u001b[39m(results[i], ABCSeries):\n\u001b[1;32m   1083\u001b[0m             \u001b[38;5;66;03m# If we have a view on v, we need to make a copy because\u001b[39;00m\n\u001b[1;32m   1084\u001b[0m             \u001b[38;5;66;03m#  series_generator will swap out the underlying data\u001b[39;00m\n\u001b[1;32m   1085\u001b[0m             results[i] \u001b[38;5;241m=\u001b[39m results[i]\u001b[38;5;241m.\u001b[39mcopy(deep\u001b[38;5;241m=\u001b[39m\u001b[38;5;28;01mFalse\u001b[39;00m)\n",
      "Cell \u001b[0;32mIn[555], line 9\u001b[0m, in \u001b[0;36mprocess_bases\u001b[0;34m(row)\u001b[0m\n\u001b[1;32m      5\u001b[0m ref_base \u001b[38;5;241m=\u001b[39m row[\u001b[38;5;124m\"\u001b[39m\u001b[38;5;124mref\u001b[39m\u001b[38;5;124m\"\u001b[39m]\u001b[38;5;241m.\u001b[39mupper()\n\u001b[1;32m      7\u001b[0m base_calls \u001b[38;5;241m=\u001b[39m base_calls\u001b[38;5;241m.\u001b[39mreplace(\u001b[38;5;124m\"\u001b[39m\u001b[38;5;124m$\u001b[39m\u001b[38;5;124m\"\u001b[39m, \u001b[38;5;124m\"\u001b[39m\u001b[38;5;124m\"\u001b[39m)\u001b[38;5;241m.\u001b[39mreplace(\u001b[38;5;124m\"\u001b[39m\u001b[38;5;124m^]\u001b[39m\u001b[38;5;124m\"\u001b[39m, \u001b[38;5;124m\"\u001b[39m\u001b[38;5;124m\"\u001b[39m)\u001b[38;5;241m.\u001b[39mreplace(\u001b[38;5;124m\"\u001b[39m\u001b[38;5;124m^I\u001b[39m\u001b[38;5;124m\"\u001b[39m, \u001b[38;5;124m\"\u001b[39m\u001b[38;5;124m\"\u001b[39m)\n\u001b[0;32m----> 9\u001b[0m parsed_bases \u001b[38;5;241m=\u001b[39m \u001b[43mparse_bases\u001b[49m\u001b[43m(\u001b[49m\u001b[43mrow\u001b[49m\u001b[43m,\u001b[49m\u001b[43m \u001b[49m\u001b[43mref_base\u001b[49m\u001b[43m)\u001b[49m\n\u001b[1;32m     11\u001b[0m \u001b[38;5;28;01mreturn\u001b[39;00m parsed_bases, quality_scores\n",
      "Cell \u001b[0;32mIn[552], line 164\u001b[0m, in \u001b[0;36mparse_bases\u001b[0;34m(base_string, ref_base)\u001b[0m\n\u001b[1;32m    161\u001b[0m char \u001b[38;5;241m=\u001b[39m base_string[i]\n\u001b[1;32m    163\u001b[0m \u001b[38;5;66;03m# Reemplazar referencia\u001b[39;00m\n\u001b[0;32m--> 164\u001b[0m \u001b[38;5;28;01mif\u001b[39;00m \u001b[43mchar\u001b[49m\u001b[43m \u001b[49m\u001b[38;5;129;43;01min\u001b[39;49;00m\u001b[43m \u001b[49m\u001b[38;5;124;43m\"\u001b[39;49m\u001b[38;5;124;43m.,\u001b[39;49m\u001b[38;5;124;43m\"\u001b[39;49m:  \n\u001b[1;32m    165\u001b[0m     current_base \u001b[38;5;241m=\u001b[39m ref_base\n\u001b[1;32m    166\u001b[0m     bases_list\u001b[38;5;241m.\u001b[39mappend(current_base)\n",
      "\u001b[0;31mTypeError\u001b[0m: 'in <string>' requires string as left operand, not int"
     ]
    }
   ],
   "source": [
    "df = pd.read_csv(\"data/genomes/alignments_paired_end/3_L2__counts.txt\", sep=\"\\t\", header=None)\n",
    "df.columns = [\"contig\", \"position\", \"ref\", \"depth\", \"bases\", \"qual\"]\n",
    "\n",
    "allele_counts = df.apply(process_bases, axis=1)\n",
    "snvs = list(zip(df.contig, df.position))\n",
    "\n",
    "allele_counts_df = pd.DataFrame({ snvs[i]: allele_counts[i] for i, _ in enumerate(snvs) }).T\n",
    "allele_counts_df.apply(mismatch, axis=1)\n",
    "\n",
    "i = 15\n",
    "kk = allele_counts_df[allele_counts_df.apply(mismatch, axis=1)].iloc[i]\n",
    "print(\"\".join(kk.original_bases))\n",
    "\n",
    "parsed_bases = parse_bases(kk.original_bases, kk.ref_base)\n",
    "print(parsed_bases)\n",
    "print(len(parsed_bases))\n",
    "\n",
    "print(kk.bases)\n",
    "print(len(kk.bases))\n",
    "# print(\"\".join(kk.bases))\n",
    "\n",
    "print(kk.depth)\n",
    "print(kk.depth_high_q)\n",
    "\n",
    "# print(len(kk.quality_scores))\n",
    "print(kk.quality_scores)\n",
    "\n",
    "len([ parsed_bases[i] for i, _ in enumerate(kk.quality_scores) if kk.quality_scores[i] > 20 ])"
   ]
  },
  {
   "cell_type": "code",
   "execution_count": 8,
   "id": "b9482c1f-1688-42e6-8c0c-566795e9efb4",
   "metadata": {},
   "outputs": [
    {
     "name": "stderr",
     "output_type": "stream",
     "text": [
      "  0%|          | 0/469 [00:00<?, ?it/s][W::hts_idx_load3] The index file is older than the data file: data/genomes/alignments_paired_end//22_L1.vcf.gz.tbi\n",
      "[W::hts_idx_load3] The index file is older than the data file: data/genomes/alignments_paired_end//95_L2.vcf.gz.tbi\n",
      "[W::hts_idx_load3] The index file is older than the data file: data/genomes/alignments_paired_end//48_L3.vcf.gz.tbi\n",
      "[W::hts_idx_load3] The index file is older than the data file: data/genomes/alignments_paired_end//68_L1.vcf.gz.tbi\n",
      "[W::hts_idx_load3] The index file is older than the data file: data/genomes/alignments_paired_end//70_L5.vcf.gz.tbi\n",
      "[W::hts_idx_load3] The index file is older than the data file: data/genomes/alignments_paired_end//4_L1.vcf.gz.tbi\n",
      "[W::hts_idx_load3] The index file is older than the data file: data/genomes/alignments_paired_end//11_L4.vcf.gz.tbi\n",
      "[W::hts_idx_load3] The index file is older than the data file: data/genomes/alignments_paired_end//41_L5.vcf.gz.tbi\n",
      "[W::hts_idx_load3] The index file is older than the data file: data/genomes/alignments_paired_end//70_L2.vcf.gz.tbi\n",
      "[W::hts_idx_load3] The index file is older than the data file: data/genomes/alignments_paired_end//33_L1.vcf.gz.tbi\n",
      "[W::hts_idx_load3] The index file is older than the data file: data/genomes/alignments_paired_end//44_L3.vcf.gz.tbi\n",
      "[W::hts_idx_load3] The index file is older than the data file: data/genomes/alignments_paired_end//26_L6.vcf.gz.tbi\n",
      "[W::hts_idx_load3] The index file is older than the data file: data/genomes/alignments_paired_end//35_L2.vcf.gz.tbi\n",
      "[W::hts_idx_load3] The index file is older than the data file: data/genomes/alignments_paired_end//79_L3.vcf.gz.tbi\n",
      "[W::hts_idx_load3] The index file is older than the data file: data/genomes/alignments_paired_end//24_L3.vcf.gz.tbi\n",
      "[W::hts_idx_load3] The index file is older than the data file: data/genomes/alignments_paired_end//85_L2.vcf.gz.tbi\n",
      "[W::hts_idx_load3] The index file is older than the data file: data/genomes/alignments_paired_end//77_L3.vcf.gz.tbi\n",
      "[W::hts_idx_load3] The index file is older than the data file: data/genomes/alignments_paired_end//39_L2.vcf.gz.tbi\n",
      "  8%|▊         | 38/469 [00:00<00:01, 376.60it/s][W::hts_idx_load3] The index file is older than the data file: data/genomes/alignments_paired_end//69_L3.vcf.gz.tbi\n",
      "[W::hts_idx_load3] The index file is older than the data file: data/genomes/alignments_paired_end//81_L5.vcf.gz.tbi\n",
      "[W::hts_idx_load3] The index file is older than the data file: data/genomes/alignments_paired_end//15_L3.vcf.gz.tbi\n",
      "[W::hts_idx_load3] The index file is older than the data file: data/genomes/alignments_paired_end//73_L5.vcf.gz.tbi\n",
      "[W::hts_idx_load3] The index file is older than the data file: data/genomes/alignments_paired_end//87_L2.vcf.gz.tbi\n",
      "[W::hts_idx_load3] The index file is older than the data file: data/genomes/alignments_paired_end//3_L4.vcf.gz.tbi\n",
      "[W::hts_idx_load3] The index file is older than the data file: data/genomes/alignments_paired_end//64_L1.vcf.gz.tbi\n",
      "[W::hts_idx_load3] The index file is older than the data file: data/genomes/alignments_paired_end//37_L2.vcf.gz.tbi\n",
      "[W::hts_idx_load3] The index file is older than the data file: data/genomes/alignments_paired_end//9_L6.vcf.gz.tbi\n",
      "[W::hts_idx_load3] The index file is older than the data file: data/genomes/alignments_paired_end//37_L4.vcf.gz.tbi\n",
      "[W::hts_idx_load3] The index file is older than the data file: data/genomes/alignments_paired_end//80_L3.vcf.gz.tbi\n",
      "[W::hts_idx_load3] The index file is older than the data file: data/genomes/alignments_paired_end//52_L4.vcf.gz.tbi\n",
      "[W::hts_idx_load3] The index file is older than the data file: data/genomes/alignments_paired_end//23_L4.vcf.gz.tbi\n",
      "[W::hts_idx_load3] The index file is older than the data file: data/genomes/alignments_paired_end//11_L3.vcf.gz.tbi\n",
      "[W::hts_idx_load3] The index file is older than the data file: data/genomes/alignments_paired_end//17_L2.vcf.gz.tbi\n",
      "[W::hts_idx_load3] The index file is older than the data file: data/genomes/alignments_paired_end//24_L4.vcf.gz.tbi\n",
      "[W::hts_idx_load3] The index file is older than the data file: data/genomes/alignments_paired_end//27_L2.vcf.gz.tbi\n",
      "[W::hts_idx_load3] The index file is older than the data file: data/genomes/alignments_paired_end//60_L3.vcf.gz.tbi\n",
      "[W::hts_idx_load3] The index file is older than the data file: data/genomes/alignments_paired_end//36_L4.vcf.gz.tbi\n",
      "[W::hts_idx_load3] The index file is older than the data file: data/genomes/alignments_paired_end//67_L4.vcf.gz.tbi\n",
      "[W::hts_idx_load3] The index file is older than the data file: data/genomes/alignments_paired_end//88_L1.vcf.gz.tbi\n",
      "[W::hts_idx_load3] The index file is older than the data file: data/genomes/alignments_paired_end//57_L4.vcf.gz.tbi\n",
      " 16%|█▌        | 76/469 [00:00<00:01, 237.46it/s][W::hts_idx_load3] The index file is older than the data file: data/genomes/alignments_paired_end//72_L3.vcf.gz.tbi\n",
      "[W::hts_idx_load3] The index file is older than the data file: data/genomes/alignments_paired_end//64_L5.vcf.gz.tbi\n",
      "[W::hts_idx_load3] The index file is older than the data file: data/genomes/alignments_paired_end//6_L6.vcf.gz.tbi\n",
      "[W::hts_idx_load3] The index file is older than the data file: data/genomes/alignments_paired_end//8_L2.vcf.gz.tbi\n",
      "[W::hts_idx_load3] The index file is older than the data file: data/genomes/alignments_paired_end//20_L3.vcf.gz.tbi\n",
      "[W::hts_idx_load3] The index file is older than the data file: data/genomes/alignments_paired_end//95_L1.vcf.gz.tbi\n",
      "[W::hts_idx_load3] The index file is older than the data file: data/genomes/alignments_paired_end//62_L4.vcf.gz.tbi\n",
      "[W::hts_idx_load3] The index file is older than the data file: data/genomes/alignments_paired_end//56_L3.vcf.gz.tbi\n",
      "[W::hts_idx_load3] The index file is older than the data file: data/genomes/alignments_paired_end//39_L4.vcf.gz.tbi\n",
      "[W::hts_idx_load3] The index file is older than the data file: data/genomes/alignments_paired_end//8_L4.vcf.gz.tbi\n",
      "[W::hts_idx_load3] The index file is older than the data file: data/genomes/alignments_paired_end//3_L2.vcf.gz.tbi\n",
      "[W::hts_idx_load3] The index file is older than the data file: data/genomes/alignments_paired_end//27_L5.vcf.gz.tbi\n",
      "[W::hts_idx_load3] The index file is older than the data file: data/genomes/alignments_paired_end//85_L3.vcf.gz.tbi\n",
      "[W::hts_idx_load3] The index file is older than the data file: data/genomes/alignments_paired_end//17_L4.vcf.gz.tbi\n",
      "[W::hts_idx_load3] The index file is older than the data file: data/genomes/alignments_paired_end//14_L2.vcf.gz.tbi\n",
      "[W::hts_idx_load3] The index file is older than the data file: data/genomes/alignments_paired_end//12_L6.vcf.gz.tbi\n",
      "[W::hts_idx_load3] The index file is older than the data file: data/genomes/alignments_paired_end//9_L3.vcf.gz.tbi\n",
      "[W::hts_idx_load3] The index file is older than the data file: data/genomes/alignments_paired_end//36_L5.vcf.gz.tbi\n",
      "[W::hts_idx_load3] The index file is older than the data file: data/genomes/alignments_paired_end//39_L1.vcf.gz.tbi\n",
      "[W::hts_idx_load3] The index file is older than the data file: data/genomes/alignments_paired_end//46_L5.vcf.gz.tbi\n",
      "[W::hts_idx_load3] The index file is older than the data file: data/genomes/alignments_paired_end//55_L5.vcf.gz.tbi\n",
      "[W::hts_idx_load3] The index file is older than the data file: data/genomes/alignments_paired_end//60_L5.vcf.gz.tbi\n",
      "[W::hts_idx_load3] The index file is older than the data file: data/genomes/alignments_paired_end//85_L5.vcf.gz.tbi\n",
      "[W::hts_idx_load3] The index file is older than the data file: data/genomes/alignments_paired_end//93_L3.vcf.gz.tbi\n",
      "[W::hts_idx_load3] The index file is older than the data file: data/genomes/alignments_paired_end//9_L2.vcf.gz.tbi\n",
      "[W::hts_idx_load3] The index file is older than the data file: data/genomes/alignments_paired_end//91_L3.vcf.gz.tbi\n",
      "[W::hts_idx_load3] The index file is older than the data file: data/genomes/alignments_paired_end//57_L2.vcf.gz.tbi\n",
      "[W::hts_idx_load3] The index file is older than the data file: data/genomes/alignments_paired_end//42_L1.vcf.gz.tbi\n",
      "[W::hts_idx_load3] The index file is older than the data file: data/genomes/alignments_paired_end//49_L2.vcf.gz.tbi\n",
      "[W::hts_idx_load3] The index file is older than the data file: data/genomes/alignments_paired_end//71_L1.vcf.gz.tbi\n",
      "[W::hts_idx_load3] The index file is older than the data file: data/genomes/alignments_paired_end//22_L6.vcf.gz.tbi\n",
      "[W::hts_idx_load3] The index file is older than the data file: data/genomes/alignments_paired_end//66_L3.vcf.gz.tbi\n",
      "[W::hts_idx_load3] The index file is older than the data file: data/genomes/alignments_paired_end//84_L5.vcf.gz.tbi\n",
      "[W::hts_idx_load3] The index file is older than the data file: data/genomes/alignments_paired_end//62_L3.vcf.gz.tbi\n",
      "[W::hts_idx_load3] The index file is older than the data file: data/genomes/alignments_paired_end//37_L5.vcf.gz.tbi\n",
      "[W::hts_idx_load3] The index file is older than the data file: data/genomes/alignments_paired_end//48_L2.vcf.gz.tbi\n",
      "[W::hts_idx_load3] The index file is older than the data file: data/genomes/alignments_paired_end//24_L2.vcf.gz.tbi\n",
      "[W::hts_idx_load3] The index file is older than the data file: data/genomes/alignments_paired_end//89_L5.vcf.gz.tbi\n",
      "[W::hts_idx_load3] The index file is older than the data file: data/genomes/alignments_paired_end//77_L2.vcf.gz.tbi\n",
      "[W::hts_idx_load3] The index file is older than the data file: data/genomes/alignments_paired_end//55_L2.vcf.gz.tbi\n",
      "[W::hts_idx_load3] The index file is older than the data file: data/genomes/alignments_paired_end//20_L2.vcf.gz.tbi\n",
      "[W::hts_idx_load3] The index file is older than the data file: data/genomes/alignments_paired_end//13_L6.vcf.gz.tbi\n",
      "[W::hts_idx_load3] The index file is older than the data file: data/genomes/alignments_paired_end//35_L4.vcf.gz.tbi\n",
      "[W::hts_idx_load3] The index file is older than the data file: data/genomes/alignments_paired_end//58_L1.vcf.gz.tbi\n",
      "[W::hts_idx_load3] The index file is older than the data file: data/genomes/alignments_paired_end//51_L3.vcf.gz.tbi\n",
      "[W::hts_idx_load3] The index file is older than the data file: data/genomes/alignments_paired_end//57_L1.vcf.gz.tbi\n",
      " 36%|███▋      | 171/469 [00:00<00:00, 480.51it/s][W::hts_idx_load3] The index file is older than the data file: data/genomes/alignments_paired_end//53_L5.vcf.gz.tbi\n",
      "[W::hts_idx_load3] The index file is older than the data file: data/genomes/alignments_paired_end//77_L4.vcf.gz.tbi\n",
      "[W::hts_idx_load3] The index file is older than the data file: data/genomes/alignments_paired_end//73_L1.vcf.gz.tbi\n",
      "[W::hts_idx_load3] The index file is older than the data file: data/genomes/alignments_paired_end//14_L5.vcf.gz.tbi\n",
      "[W::hts_idx_load3] The index file is older than the data file: data/genomes/alignments_paired_end//61_L2.vcf.gz.tbi\n",
      "[W::hts_idx_load3] The index file is older than the data file: data/genomes/alignments_paired_end//1_L4.vcf.gz.tbi\n",
      "[W::hts_idx_load3] The index file is older than the data file: data/genomes/alignments_paired_end//34_L4.vcf.gz.tbi\n",
      "[W::hts_idx_load3] The index file is older than the data file: data/genomes/alignments_paired_end//67_L1.vcf.gz.tbi\n",
      "[W::hts_idx_load3] The index file is older than the data file: data/genomes/alignments_paired_end//15_L1.vcf.gz.tbi\n",
      "[W::hts_idx_load3] The index file is older than the data file: data/genomes/alignments_paired_end//10_L5.vcf.gz.tbi\n",
      "[W::hts_idx_load3] The index file is older than the data file: data/genomes/alignments_paired_end//46_L2.vcf.gz.tbi\n",
      "[W::hts_idx_load3] The index file is older than the data file: data/genomes/alignments_paired_end//22_L4.vcf.gz.tbi\n",
      "[W::hts_idx_load3] The index file is older than the data file: data/genomes/alignments_paired_end//86_L5.vcf.gz.tbi\n",
      "[W::hts_idx_load3] The index file is older than the data file: data/genomes/alignments_paired_end//13_L3.vcf.gz.tbi\n",
      "[W::hts_idx_load3] The index file is older than the data file: data/genomes/alignments_paired_end//18_L2.vcf.gz.tbi\n",
      "[W::hts_idx_load3] The index file is older than the data file: data/genomes/alignments_paired_end//79_L2.vcf.gz.tbi\n",
      "[W::hts_idx_load3] The index file is older than the data file: data/genomes/alignments_paired_end//67_L5.vcf.gz.tbi\n",
      " 49%|████▉     | 229/469 [00:00<00:00, 372.19it/s][W::hts_idx_load3] The index file is older than the data file: data/genomes/alignments_paired_end//2_L2.vcf.gz.tbi\n",
      "[W::hts_idx_load3] The index file is older than the data file: data/genomes/alignments_paired_end//49_L3.vcf.gz.tbi\n",
      "[W::hts_idx_load3] The index file is older than the data file: data/genomes/alignments_paired_end//76_L1.vcf.gz.tbi\n",
      "[W::hts_idx_load3] The index file is older than the data file: data/genomes/alignments_paired_end//54_L2.vcf.gz.tbi\n",
      "[W::hts_idx_load3] The index file is older than the data file: data/genomes/alignments_paired_end//10_L1.vcf.gz.tbi\n",
      "[W::hts_idx_load3] The index file is older than the data file: data/genomes/alignments_paired_end//58_L5.vcf.gz.tbi\n",
      "[W::hts_idx_load3] The index file is older than the data file: data/genomes/alignments_paired_end//14_L3.vcf.gz.tbi\n",
      "[W::hts_idx_load3] The index file is older than the data file: data/genomes/alignments_paired_end//26_L3.vcf.gz.tbi\n",
      "[W::hts_idx_load3] The index file is older than the data file: data/genomes/alignments_paired_end//11_L2.vcf.gz.tbi\n",
      "[W::hts_idx_load3] The index file is older than the data file: data/genomes/alignments_paired_end//21_L5.vcf.gz.tbi\n",
      "[W::hts_idx_load3] The index file is older than the data file: data/genomes/alignments_paired_end//56_L2.vcf.gz.tbi\n",
      "[W::hts_idx_load3] The index file is older than the data file: data/genomes/alignments_paired_end//18_L5.vcf.gz.tbi\n",
      "[W::hts_idx_load3] The index file is older than the data file: data/genomes/alignments_paired_end//1_L2.vcf.gz.tbi\n",
      "[W::hts_idx_load3] The index file is older than the data file: data/genomes/alignments_paired_end//90_L1.vcf.gz.tbi\n",
      "[W::hts_idx_load3] The index file is older than the data file: data/genomes/alignments_paired_end//6_L5.vcf.gz.tbi\n",
      "[W::hts_idx_load3] The index file is older than the data file: data/genomes/alignments_paired_end//78_L5.vcf.gz.tbi\n",
      "[W::hts_idx_load3] The index file is older than the data file: data/genomes/alignments_paired_end//28_L3.vcf.gz.tbi\n",
      "[W::hts_idx_load3] The index file is older than the data file: data/genomes/alignments_paired_end//70_L1.vcf.gz.tbi\n",
      "[W::hts_idx_load3] The index file is older than the data file: data/genomes/alignments_paired_end//57_L3.vcf.gz.tbi\n",
      "[W::hts_idx_load3] The index file is older than the data file: data/genomes/alignments_paired_end//27_L3.vcf.gz.tbi\n",
      " 59%|█████▊    | 275/469 [00:00<00:00, 371.72it/s][W::hts_idx_load3] The index file is older than the data file: data/genomes/alignments_paired_end//61_L4.vcf.gz.tbi\n",
      "[W::hts_idx_load3] The index file is older than the data file: data/genomes/alignments_paired_end//51_L5.vcf.gz.tbi\n",
      "[W::hts_idx_load3] The index file is older than the data file: data/genomes/alignments_paired_end//92_L3.vcf.gz.tbi\n",
      "[W::hts_idx_load3] The index file is older than the data file: data/genomes/alignments_paired_end//28_L4.vcf.gz.tbi\n",
      "[W::hts_idx_load3] The index file is older than the data file: data/genomes/alignments_paired_end//5_L1.vcf.gz.tbi\n",
      "[W::hts_idx_load3] The index file is older than the data file: data/genomes/alignments_paired_end//53_L3.vcf.gz.tbi\n",
      "[W::hts_idx_load3] The index file is older than the data file: data/genomes/alignments_paired_end//84_L3.vcf.gz.tbi\n",
      "[W::hts_idx_load3] The index file is older than the data file: data/genomes/alignments_paired_end//69_L4.vcf.gz.tbi\n",
      "[W::hts_idx_load3] The index file is older than the data file: data/genomes/alignments_paired_end//87_L1.vcf.gz.tbi\n",
      "[W::hts_idx_load3] The index file is older than the data file: data/genomes/alignments_paired_end//95_L5.vcf.gz.tbi\n",
      "[W::hts_idx_load3] The index file is older than the data file: data/genomes/alignments_paired_end//66_L2.vcf.gz.tbi\n",
      "[W::hts_idx_load3] The index file is older than the data file: data/genomes/alignments_paired_end//33_L3.vcf.gz.tbi\n",
      "[W::hts_idx_load3] The index file is older than the data file: data/genomes/alignments_paired_end//45_L2.vcf.gz.tbi\n",
      "[W::hts_idx_load3] The index file is older than the data file: data/genomes/alignments_paired_end//29_L5.vcf.gz.tbi\n",
      "[W::hts_idx_load3] The index file is older than the data file: data/genomes/alignments_paired_end//72_L4.vcf.gz.tbi\n",
      "[W::hts_idx_load3] The index file is older than the data file: data/genomes/alignments_paired_end//9_L5.vcf.gz.tbi\n",
      "[W::hts_idx_load3] The index file is older than the data file: data/genomes/alignments_paired_end//87_L4.vcf.gz.tbi\n",
      "[W::hts_idx_load3] The index file is older than the data file: data/genomes/alignments_paired_end//17_L3.vcf.gz.tbi\n",
      "[W::hts_idx_load3] The index file is older than the data file: data/genomes/alignments_paired_end//87_L5.vcf.gz.tbi\n",
      " 68%|██████▊   | 318/469 [00:00<00:00, 374.88it/s][W::hts_idx_load3] The index file is older than the data file: data/genomes/alignments_paired_end//74_L1.vcf.gz.tbi\n",
      "[W::hts_idx_load3] The index file is older than the data file: data/genomes/alignments_paired_end//35_L3.vcf.gz.tbi\n",
      "[W::hts_idx_load3] The index file is older than the data file: data/genomes/alignments_paired_end//68_L5.vcf.gz.tbi\n",
      "[W::hts_idx_load3] The index file is older than the data file: data/genomes/alignments_paired_end//68_L4.vcf.gz.tbi\n",
      "[W::hts_idx_load3] The index file is older than the data file: data/genomes/alignments_paired_end//89_L2.vcf.gz.tbi\n",
      "[W::hts_idx_load3] The index file is older than the data file: data/genomes/alignments_paired_end//22_L2.vcf.gz.tbi\n",
      "[W::hts_idx_load3] The index file is older than the data file: data/genomes/alignments_paired_end//17_L5.vcf.gz.tbi\n",
      "[W::hts_idx_load3] The index file is older than the data file: data/genomes/alignments_paired_end//34_L2.vcf.gz.tbi\n",
      "[W::hts_idx_load3] The index file is older than the data file: data/genomes/alignments_paired_end//77_L5.vcf.gz.tbi\n",
      "[W::hts_idx_load3] The index file is older than the data file: data/genomes/alignments_paired_end//57_L5.vcf.gz.tbi\n",
      "[W::hts_idx_load3] The index file is older than the data file: data/genomes/alignments_paired_end//88_L3.vcf.gz.tbi\n",
      "[W::hts_idx_load3] The index file is older than the data file: data/genomes/alignments_paired_end//30_L2.vcf.gz.tbi\n",
      "[W::hts_idx_load3] The index file is older than the data file: data/genomes/alignments_paired_end//48_L4.vcf.gz.tbi\n",
      "[W::hts_idx_load3] The index file is older than the data file: data/genomes/alignments_paired_end//64_L4.vcf.gz.tbi\n",
      "[W::hts_idx_load3] The index file is older than the data file: data/genomes/alignments_paired_end//75_L3.vcf.gz.tbi\n",
      "[W::hts_idx_load3] The index file is older than the data file: data/genomes/alignments_paired_end//25_L2.vcf.gz.tbi\n",
      "[W::hts_idx_load3] The index file is older than the data file: data/genomes/alignments_paired_end//44_L2.vcf.gz.tbi\n",
      "[W::hts_idx_load3] The index file is older than the data file: data/genomes/alignments_paired_end//79_L1.vcf.gz.tbi\n",
      "[W::hts_idx_load3] The index file is older than the data file: data/genomes/alignments_paired_end//50_L5.vcf.gz.tbi\n",
      "[W::hts_idx_load3] The index file is older than the data file: data/genomes/alignments_paired_end//94_L1.vcf.gz.tbi\n",
      " 77%|███████▋  | 359/469 [00:02<00:01, 84.83it/s] [W::hts_idx_load3] The index file is older than the data file: data/genomes/alignments_paired_end//86_L4.vcf.gz.tbi\n",
      "[W::hts_idx_load3] The index file is older than the data file: data/genomes/alignments_paired_end//82_L5.vcf.gz.tbi\n",
      "[W::hts_idx_load3] The index file is older than the data file: data/genomes/alignments_paired_end//90_L3.vcf.gz.tbi\n",
      "[W::hts_idx_load3] The index file is older than the data file: data/genomes/alignments_paired_end//71_L5.vcf.gz.tbi\n",
      "[W::hts_idx_load3] The index file is older than the data file: data/genomes/alignments_paired_end//30_L4.vcf.gz.tbi\n",
      "[W::hts_idx_load3] The index file is older than the data file: data/genomes/alignments_paired_end//90_L5.vcf.gz.tbi\n",
      "[W::hts_idx_load3] The index file is older than the data file: data/genomes/alignments_paired_end//65_L2.vcf.gz.tbi\n",
      "[W::hts_idx_load3] The index file is older than the data file: data/genomes/alignments_paired_end//28_L2.vcf.gz.tbi\n",
      "[W::hts_idx_load3] The index file is older than the data file: data/genomes/alignments_paired_end//81_L2.vcf.gz.tbi\n",
      "[W::hts_idx_load3] The index file is older than the data file: data/genomes/alignments_paired_end//18_L1.vcf.gz.tbi\n",
      "[W::hts_idx_load3] The index file is older than the data file: data/genomes/alignments_paired_end//1_L3.vcf.gz.tbi\n",
      "[W::hts_idx_load3] The index file is older than the data file: data/genomes/alignments_paired_end//27_L1.vcf.gz.tbi\n",
      "[W::hts_idx_load3] The index file is older than the data file: data/genomes/alignments_paired_end//50_L2.vcf.gz.tbi\n",
      "[W::hts_idx_load3] The index file is older than the data file: data/genomes/alignments_paired_end//32_L1.vcf.gz.tbi\n",
      "[W::hts_idx_load3] The index file is older than the data file: data/genomes/alignments_paired_end//83_L2.vcf.gz.tbi\n",
      "[W::hts_idx_load3] The index file is older than the data file: data/genomes/alignments_paired_end//93_L4.vcf.gz.tbi\n",
      "[W::hts_idx_load3] The index file is older than the data file: data/genomes/alignments_paired_end//38_L1.vcf.gz.tbi\n",
      "[W::hts_idx_load3] The index file is older than the data file: data/genomes/alignments_paired_end//85_L1.vcf.gz.tbi\n",
      "[W::hts_idx_load3] The index file is older than the data file: data/genomes/alignments_paired_end//32_L2.vcf.gz.tbi\n",
      "[W::hts_idx_load3] The index file is older than the data file: data/genomes/alignments_paired_end//1_L1.vcf.gz.tbi\n",
      "[W::hts_idx_load3] The index file is older than the data file: data/genomes/alignments_paired_end//30_L3.vcf.gz.tbi\n",
      "[W::hts_idx_load3] The index file is older than the data file: data/genomes/alignments_paired_end//31_L3.vcf.gz.tbi\n",
      "[W::hts_idx_load3] The index file is older than the data file: data/genomes/alignments_paired_end//81_L1.vcf.gz.tbi\n",
      " 87%|████████▋ | 407/469 [00:02<00:00, 114.71it/s][W::hts_idx_load3] The index file is older than the data file: data/genomes/alignments_paired_end//62_L5.vcf.gz.tbi\n",
      "[W::hts_idx_load3] The index file is older than the data file: data/genomes/alignments_paired_end//77_L1.vcf.gz.tbi\n",
      "[W::hts_idx_load3] The index file is older than the data file: data/genomes/alignments_paired_end//44_L5.vcf.gz.tbi\n",
      "[W::hts_idx_load3] The index file is older than the data file: data/genomes/alignments_paired_end//58_L2.vcf.gz.tbi\n",
      "[W::hts_idx_load3] The index file is older than the data file: data/genomes/alignments_paired_end//94_L2.vcf.gz.tbi\n",
      "[W::hts_idx_load3] The index file is older than the data file: data/genomes/alignments_paired_end//23_L6.vcf.gz.tbi\n",
      "[W::hts_idx_load3] The index file is older than the data file: data/genomes/alignments_paired_end//49_L4.vcf.gz.tbi\n",
      "[W::hts_idx_load3] The index file is older than the data file: data/genomes/alignments_paired_end//31_L2.vcf.gz.tbi\n",
      "[W::hts_idx_load3] The index file is older than the data file: data/genomes/alignments_paired_end//8_L3.vcf.gz.tbi\n",
      "[W::hts_idx_load3] The index file is older than the data file: data/genomes/alignments_paired_end//89_L4.vcf.gz.tbi\n",
      "[W::hts_idx_load3] The index file is older than the data file: data/genomes/alignments_paired_end//78_L3.vcf.gz.tbi\n",
      "[W::hts_idx_load3] The index file is older than the data file: data/genomes/alignments_paired_end//42_L4.vcf.gz.tbi\n",
      "[W::hts_idx_load3] The index file is older than the data file: data/genomes/alignments_paired_end//21_L1.vcf.gz.tbi\n",
      "[W::hts_idx_load3] The index file is older than the data file: data/genomes/alignments_paired_end//89_L1.vcf.gz.tbi\n",
      " 94%|█████████▍| 442/469 [00:02<00:00, 134.77it/s][W::hts_idx_load3] The index file is older than the data file: data/genomes/alignments_paired_end//80_L2.vcf.gz.tbi\n",
      "[W::hts_idx_load3] The index file is older than the data file: data/genomes/alignments_paired_end//9_L1.vcf.gz.tbi\n",
      "[W::hts_idx_load3] The index file is older than the data file: data/genomes/alignments_paired_end//66_L4.vcf.gz.tbi\n",
      "[W::hts_idx_load3] The index file is older than the data file: data/genomes/alignments_paired_end//68_L3.vcf.gz.tbi\n",
      "[W::hts_idx_load3] The index file is older than the data file: data/genomes/alignments_paired_end//84_L4.vcf.gz.tbi\n",
      "[W::hts_idx_load3] The index file is older than the data file: data/genomes/alignments_paired_end//53_L4.vcf.gz.tbi\n",
      "[W::hts_idx_load3] The index file is older than the data file: data/genomes/alignments_paired_end//11_L6.vcf.gz.tbi\n",
      "[W::hts_idx_load3] The index file is older than the data file: data/genomes/alignments_paired_end//32_L5.vcf.gz.tbi\n",
      "[W::hts_idx_load3] The index file is older than the data file: data/genomes/alignments_paired_end//10_L4.vcf.gz.tbi\n",
      "[W::hts_idx_load3] The index file is older than the data file: data/genomes/alignments_paired_end//52_L3.vcf.gz.tbi\n",
      "[W::hts_idx_load3] The index file is older than the data file: data/genomes/alignments_paired_end//84_L2.vcf.gz.tbi\n",
      "[W::hts_idx_load3] The index file is older than the data file: data/genomes/alignments_paired_end//65_L4.vcf.gz.tbi\n",
      "[W::hts_idx_load3] The index file is older than the data file: data/genomes/alignments_paired_end//72_L2.vcf.gz.tbi\n",
      "100%|██████████| 469/469 [00:02<00:00, 168.43it/s]\n"
     ]
    }
   ],
   "source": [
    "# VCF_DIR = \"data/genomes/alignments_paired_end_new/\"\n",
    "\n",
    "VCF_DIR = \"data/genomes/alignments_paired_end/\"\n",
    "\n",
    "genome_metadata = get_genome_metadata(metadata_file=\"./data/genomes/metadata_whole_genome.xlsx\")\n",
    "\n",
    "variant_freq_dict, variant_counts_dict = process_vcf_folder(vcf_folder=VCF_DIR)"
   ]
  },
  {
   "cell_type": "code",
   "execution_count": 73,
   "id": "5e09fc53",
   "metadata": {},
   "outputs": [],
   "source": [
    "freq_df   = pd.DataFrame(variant_freq_dict)\n",
    "counts_df = pd.DataFrame(variant_counts_dict)\n",
    "depth_df  = counts_df.map(lambda x: sum(x) if isinstance(x, tuple) else x)"
   ]
  },
  {
   "cell_type": "code",
   "execution_count": 105,
   "id": "f5c3d4de",
   "metadata": {},
   "outputs": [],
   "source": [
    "pd.DataFrame(\n",
    "    freq_df[ freq_df.apply(lambda row: row.isna().sum(), axis=1) < 450 ].index.to_list()\n",
    ").to_csv(\"positions.txt\", sep=\"\\t\", header=None, index=False)"
   ]
  },
  {
   "cell_type": "markdown",
   "id": "3969922a",
   "metadata": {},
   "source": [
    "- **Input**: matriz con cuentas para cada alelo, donde `NaN` significa que el SNV no tiene _variaciones o cobertura_.\n",
    "- Ver cobertura para SNVs que no aparecen en los VCFs.\n",
    "- Filtrar variantes.\n",
    "- filas:(planta,SNV),columnas:None -> filas:planta,columnas:SNV."
   ]
  },
  {
   "cell_type": "code",
   "execution_count": 56,
   "id": "8a421b3d",
   "metadata": {},
   "outputs": [
    {
     "data": {
      "text/plain": [
       "26"
      ]
     },
     "execution_count": 56,
     "metadata": {},
     "output_type": "execute_result"
    }
   ],
   "source": [
    "(~freq_df.isna()).sum(axis=1).sort_values(ascending=False).iloc[200]"
   ]
  },
  {
   "cell_type": "code",
   "execution_count": 69,
   "id": "1a8c0d6c",
   "metadata": {},
   "outputs": [],
   "source": [
    "freq_df = freq_df[ freq_df.apply(lambda row: ~(row.dropna()>0.98).all(), axis=1) ]\n",
    "freq_df = freq_df[ freq_df.apply(lambda row: row.isna().sum(), axis=1) < 300     ]\n",
    "\n",
    "variable_variants_freq_dict = {}\n",
    "for batch, variants in variant_freq_dict.items():\n",
    "    variable_variants_freq_dict[batch] = { variant_post: freq for variant_post, freq in variants.items() if freq != 1 } "
   ]
  },
  {
   "cell_type": "code",
   "execution_count": 70,
   "id": "50b48fea",
   "metadata": {},
   "outputs": [
    {
     "data": {
      "text/plain": [
       "contig000001  146        98\n",
       "              227        30\n",
       "              5306      176\n",
       "contig000003  674953    176\n",
       "contig000004  735204     46\n",
       "                       ... \n",
       "contig000024  445       269\n",
       "              13192      80\n",
       "contig000038  105        99\n",
       "contig000024  14093     149\n",
       "contig000028  15902     266\n",
       "Length: 118, dtype: int64"
      ]
     },
     "execution_count": 70,
     "metadata": {},
     "output_type": "execute_result"
    }
   ],
   "source": [
    "freq_df.apply(lambda row: row.isna().sum(), axis=1)"
   ]
  },
  {
   "cell_type": "code",
   "execution_count": 72,
   "id": "005e1edd",
   "metadata": {},
   "outputs": [
    {
     "data": {
      "text/html": [
       "<div>\n",
       "<style scoped>\n",
       "    .dataframe tbody tr th:only-of-type {\n",
       "        vertical-align: middle;\n",
       "    }\n",
       "\n",
       "    .dataframe tbody tr th {\n",
       "        vertical-align: top;\n",
       "    }\n",
       "\n",
       "    .dataframe thead th {\n",
       "        text-align: right;\n",
       "    }\n",
       "</style>\n",
       "<table border=\"1\" class=\"dataframe\">\n",
       "  <thead>\n",
       "    <tr style=\"text-align: right;\">\n",
       "      <th></th>\n",
       "      <th></th>\n",
       "      <th>variable</th>\n",
       "      <th>value</th>\n",
       "    </tr>\n",
       "  </thead>\n",
       "  <tbody>\n",
       "    <tr>\n",
       "      <th rowspan=\"3\" valign=\"top\">contig000001</th>\n",
       "      <th>146</th>\n",
       "      <td>22_L1</td>\n",
       "      <td>1.0</td>\n",
       "    </tr>\n",
       "    <tr>\n",
       "      <th>227</th>\n",
       "      <td>22_L1</td>\n",
       "      <td>1.0</td>\n",
       "    </tr>\n",
       "    <tr>\n",
       "      <th>5306</th>\n",
       "      <td>22_L1</td>\n",
       "      <td>1.0</td>\n",
       "    </tr>\n",
       "    <tr>\n",
       "      <th>contig000003</th>\n",
       "      <th>674953</th>\n",
       "      <td>22_L1</td>\n",
       "      <td>1.0</td>\n",
       "    </tr>\n",
       "    <tr>\n",
       "      <th>contig000004</th>\n",
       "      <th>735204</th>\n",
       "      <td>22_L1</td>\n",
       "      <td>1.0</td>\n",
       "    </tr>\n",
       "    <tr>\n",
       "      <th>...</th>\n",
       "      <th>...</th>\n",
       "      <td>...</td>\n",
       "      <td>...</td>\n",
       "    </tr>\n",
       "    <tr>\n",
       "      <th rowspan=\"2\" valign=\"top\">contig000024</th>\n",
       "      <th>445</th>\n",
       "      <td>72_L2</td>\n",
       "      <td>NaN</td>\n",
       "    </tr>\n",
       "    <tr>\n",
       "      <th>13192</th>\n",
       "      <td>72_L2</td>\n",
       "      <td>NaN</td>\n",
       "    </tr>\n",
       "    <tr>\n",
       "      <th>contig000038</th>\n",
       "      <th>105</th>\n",
       "      <td>72_L2</td>\n",
       "      <td>NaN</td>\n",
       "    </tr>\n",
       "    <tr>\n",
       "      <th>contig000024</th>\n",
       "      <th>14093</th>\n",
       "      <td>72_L2</td>\n",
       "      <td>NaN</td>\n",
       "    </tr>\n",
       "    <tr>\n",
       "      <th>contig000028</th>\n",
       "      <th>15902</th>\n",
       "      <td>72_L2</td>\n",
       "      <td>NaN</td>\n",
       "    </tr>\n",
       "  </tbody>\n",
       "</table>\n",
       "<p>55342 rows × 2 columns</p>\n",
       "</div>"
      ],
      "text/plain": [
       "                    variable  value\n",
       "contig000001 146       22_L1    1.0\n",
       "             227       22_L1    1.0\n",
       "             5306      22_L1    1.0\n",
       "contig000003 674953    22_L1    1.0\n",
       "contig000004 735204    22_L1    1.0\n",
       "...                      ...    ...\n",
       "contig000024 445       72_L2    NaN\n",
       "             13192     72_L2    NaN\n",
       "contig000038 105       72_L2    NaN\n",
       "contig000024 14093     72_L2    NaN\n",
       "contig000028 15902     72_L2    NaN\n",
       "\n",
       "[55342 rows x 2 columns]"
      ]
     },
     "execution_count": 72,
     "metadata": {},
     "output_type": "execute_result"
    }
   ],
   "source": [
    "TOP_N_VARIANTS = 200\n",
    "\n",
    "# allele_freqs = pd.DataFrame(variable_variants_freq_dict).melt(ignore_index=False)\n",
    "allele_freqs = freq_df.melt(ignore_index=False)\n",
    "allele_freqs"
   ]
  },
  {
   "cell_type": "code",
   "execution_count": 71,
   "id": "a0ba5fc1",
   "metadata": {},
   "outputs": [
    {
     "ename": "ValueError",
     "evalue": "Length mismatch: Expected axis has 2 elements, new values have 4 elements",
     "output_type": "error",
     "traceback": [
      "\u001b[0;31m---------------------------------------------------------------------------\u001b[0m",
      "\u001b[0;31mValueError\u001b[0m                                Traceback (most recent call last)",
      "Cell \u001b[0;32mIn[71], line 5\u001b[0m\n\u001b[1;32m      3\u001b[0m \u001b[38;5;66;03m# allele_freqs = pd.DataFrame(variable_variants_freq_dict).melt(ignore_index=False)\u001b[39;00m\n\u001b[1;32m      4\u001b[0m allele_freqs \u001b[38;5;241m=\u001b[39m freq_df\u001b[38;5;241m.\u001b[39mmelt(ignore_index\u001b[38;5;241m=\u001b[39m\u001b[38;5;28;01mFalse\u001b[39;00m)\n\u001b[0;32m----> 5\u001b[0m allele_freqs\u001b[38;5;241m.\u001b[39mcolumns \u001b[38;5;241m=\u001b[39m [\u001b[38;5;124m\"\u001b[39m\u001b[38;5;124mgeneration\u001b[39m\u001b[38;5;124m\"\u001b[39m, \u001b[38;5;124m\"\u001b[39m\u001b[38;5;124mreplica\u001b[39m\u001b[38;5;124m\"\u001b[39m, \u001b[38;5;124m\"\u001b[39m\u001b[38;5;124mtreatment\u001b[39m\u001b[38;5;124m\"\u001b[39m, \u001b[38;5;124m\"\u001b[39m\u001b[38;5;124mfreq\u001b[39m\u001b[38;5;124m\"\u001b[39m]\n\u001b[1;32m      6\u001b[0m allele_freqs \u001b[38;5;241m=\u001b[39m allele_freqs\u001b[38;5;241m.\u001b[39mreset_index()\n\u001b[1;32m      7\u001b[0m allele_freqs\u001b[38;5;241m.\u001b[39mgeneration \u001b[38;5;241m=\u001b[39m allele_freqs\u001b[38;5;241m.\u001b[39mgeneration\u001b[38;5;241m.\u001b[39mastype(\u001b[38;5;28mint\u001b[39m)\n",
      "File \u001b[0;32m~/miniconda/envs/scRNA/lib/python3.10/site-packages/pandas/core/generic.py:6313\u001b[0m, in \u001b[0;36mNDFrame.__setattr__\u001b[0;34m(self, name, value)\u001b[0m\n\u001b[1;32m   6311\u001b[0m \u001b[38;5;28;01mtry\u001b[39;00m:\n\u001b[1;32m   6312\u001b[0m     \u001b[38;5;28mobject\u001b[39m\u001b[38;5;241m.\u001b[39m\u001b[38;5;21m__getattribute__\u001b[39m(\u001b[38;5;28mself\u001b[39m, name)\n\u001b[0;32m-> 6313\u001b[0m     \u001b[38;5;28;01mreturn\u001b[39;00m \u001b[38;5;28;43mobject\u001b[39;49m\u001b[38;5;241;43m.\u001b[39;49m\u001b[38;5;21;43m__setattr__\u001b[39;49m\u001b[43m(\u001b[49m\u001b[38;5;28;43mself\u001b[39;49m\u001b[43m,\u001b[49m\u001b[43m \u001b[49m\u001b[43mname\u001b[49m\u001b[43m,\u001b[49m\u001b[43m \u001b[49m\u001b[43mvalue\u001b[49m\u001b[43m)\u001b[49m\n\u001b[1;32m   6314\u001b[0m \u001b[38;5;28;01mexcept\u001b[39;00m \u001b[38;5;167;01mAttributeError\u001b[39;00m:\n\u001b[1;32m   6315\u001b[0m     \u001b[38;5;28;01mpass\u001b[39;00m\n",
      "File \u001b[0;32mproperties.pyx:69\u001b[0m, in \u001b[0;36mpandas._libs.properties.AxisProperty.__set__\u001b[0;34m()\u001b[0m\n",
      "File \u001b[0;32m~/miniconda/envs/scRNA/lib/python3.10/site-packages/pandas/core/generic.py:814\u001b[0m, in \u001b[0;36mNDFrame._set_axis\u001b[0;34m(self, axis, labels)\u001b[0m\n\u001b[1;32m    809\u001b[0m \u001b[38;5;250m\u001b[39m\u001b[38;5;124;03m\"\"\"\u001b[39;00m\n\u001b[1;32m    810\u001b[0m \u001b[38;5;124;03mThis is called from the cython code when we set the `index` attribute\u001b[39;00m\n\u001b[1;32m    811\u001b[0m \u001b[38;5;124;03mdirectly, e.g. `series.index = [1, 2, 3]`.\u001b[39;00m\n\u001b[1;32m    812\u001b[0m \u001b[38;5;124;03m\"\"\"\u001b[39;00m\n\u001b[1;32m    813\u001b[0m labels \u001b[38;5;241m=\u001b[39m ensure_index(labels)\n\u001b[0;32m--> 814\u001b[0m \u001b[38;5;28;43mself\u001b[39;49m\u001b[38;5;241;43m.\u001b[39;49m\u001b[43m_mgr\u001b[49m\u001b[38;5;241;43m.\u001b[39;49m\u001b[43mset_axis\u001b[49m\u001b[43m(\u001b[49m\u001b[43maxis\u001b[49m\u001b[43m,\u001b[49m\u001b[43m \u001b[49m\u001b[43mlabels\u001b[49m\u001b[43m)\u001b[49m\n\u001b[1;32m    815\u001b[0m \u001b[38;5;28mself\u001b[39m\u001b[38;5;241m.\u001b[39m_clear_item_cache()\n",
      "File \u001b[0;32m~/miniconda/envs/scRNA/lib/python3.10/site-packages/pandas/core/internals/managers.py:238\u001b[0m, in \u001b[0;36mBaseBlockManager.set_axis\u001b[0;34m(self, axis, new_labels)\u001b[0m\n\u001b[1;32m    236\u001b[0m \u001b[38;5;28;01mdef\u001b[39;00m \u001b[38;5;21mset_axis\u001b[39m(\u001b[38;5;28mself\u001b[39m, axis: AxisInt, new_labels: Index) \u001b[38;5;241m-\u001b[39m\u001b[38;5;241m>\u001b[39m \u001b[38;5;28;01mNone\u001b[39;00m:\n\u001b[1;32m    237\u001b[0m     \u001b[38;5;66;03m# Caller is responsible for ensuring we have an Index object.\u001b[39;00m\n\u001b[0;32m--> 238\u001b[0m     \u001b[38;5;28;43mself\u001b[39;49m\u001b[38;5;241;43m.\u001b[39;49m\u001b[43m_validate_set_axis\u001b[49m\u001b[43m(\u001b[49m\u001b[43maxis\u001b[49m\u001b[43m,\u001b[49m\u001b[43m \u001b[49m\u001b[43mnew_labels\u001b[49m\u001b[43m)\u001b[49m\n\u001b[1;32m    239\u001b[0m     \u001b[38;5;28mself\u001b[39m\u001b[38;5;241m.\u001b[39maxes[axis] \u001b[38;5;241m=\u001b[39m new_labels\n",
      "File \u001b[0;32m~/miniconda/envs/scRNA/lib/python3.10/site-packages/pandas/core/internals/base.py:98\u001b[0m, in \u001b[0;36mDataManager._validate_set_axis\u001b[0;34m(self, axis, new_labels)\u001b[0m\n\u001b[1;32m     95\u001b[0m     \u001b[38;5;28;01mpass\u001b[39;00m\n\u001b[1;32m     97\u001b[0m \u001b[38;5;28;01melif\u001b[39;00m new_len \u001b[38;5;241m!=\u001b[39m old_len:\n\u001b[0;32m---> 98\u001b[0m     \u001b[38;5;28;01mraise\u001b[39;00m \u001b[38;5;167;01mValueError\u001b[39;00m(\n\u001b[1;32m     99\u001b[0m         \u001b[38;5;124mf\u001b[39m\u001b[38;5;124m\"\u001b[39m\u001b[38;5;124mLength mismatch: Expected axis has \u001b[39m\u001b[38;5;132;01m{\u001b[39;00mold_len\u001b[38;5;132;01m}\u001b[39;00m\u001b[38;5;124m elements, new \u001b[39m\u001b[38;5;124m\"\u001b[39m\n\u001b[1;32m    100\u001b[0m         \u001b[38;5;124mf\u001b[39m\u001b[38;5;124m\"\u001b[39m\u001b[38;5;124mvalues have \u001b[39m\u001b[38;5;132;01m{\u001b[39;00mnew_len\u001b[38;5;132;01m}\u001b[39;00m\u001b[38;5;124m elements\u001b[39m\u001b[38;5;124m\"\u001b[39m\n\u001b[1;32m    101\u001b[0m     )\n",
      "\u001b[0;31mValueError\u001b[0m: Length mismatch: Expected axis has 2 elements, new values have 4 elements"
     ]
    }
   ],
   "source": [
    "allele_freqs.columns = [\"generation\", \"replica\", \"treatment\", \"freq\"]\n",
    "allele_freqs = allele_freqs.reset_index()\n",
    "allele_freqs.generation = allele_freqs.generation.astype(int)"
   ]
  },
  {
   "cell_type": "code",
   "execution_count": 8,
   "id": "a1b6f24c",
   "metadata": {},
   "outputs": [],
   "source": [
    "kk = allele_freqs[~allele_freqs.freq.isna()]"
   ]
  },
  {
   "cell_type": "code",
   "execution_count": 9,
   "id": "a3deb186",
   "metadata": {},
   "outputs": [],
   "source": [
    "# kk.apply(lambda row: (row.level_0, row.level_1), axis=1)"
   ]
  },
  {
   "cell_type": "code",
   "execution_count": 10,
   "id": "428f43bb",
   "metadata": {},
   "outputs": [],
   "source": [
    "variant_count = kk.groupby('generation')[['level_0', 'level_1']].count().reset_index()"
   ]
  },
  {
   "cell_type": "code",
   "execution_count": null,
   "id": "ed2ea878",
   "metadata": {},
   "outputs": [
    {
     "data": {
      "text/html": [
       "<div>\n",
       "<style scoped>\n",
       "    .dataframe tbody tr th:only-of-type {\n",
       "        vertical-align: middle;\n",
       "    }\n",
       "\n",
       "    .dataframe tbody tr th {\n",
       "        vertical-align: top;\n",
       "    }\n",
       "\n",
       "    .dataframe thead th {\n",
       "        text-align: right;\n",
       "    }\n",
       "</style>\n",
       "<table border=\"1\" class=\"dataframe\">\n",
       "  <thead>\n",
       "    <tr style=\"text-align: right;\">\n",
       "      <th></th>\n",
       "      <th>generation</th>\n",
       "      <th>replica</th>\n",
       "      <th>treatment</th>\n",
       "      <th>level_0</th>\n",
       "      <th>level_1</th>\n",
       "    </tr>\n",
       "  </thead>\n",
       "  <tbody>\n",
       "    <tr>\n",
       "      <th>189</th>\n",
       "      <td>34</td>\n",
       "      <td>1</td>\n",
       "      <td>MS</td>\n",
       "      <td>84050</td>\n",
       "      <td>84050</td>\n",
       "    </tr>\n",
       "    <tr>\n",
       "      <th>150</th>\n",
       "      <td>27</td>\n",
       "      <td>2</td>\n",
       "      <td>K</td>\n",
       "      <td>84086</td>\n",
       "      <td>84086</td>\n",
       "    </tr>\n",
       "    <tr>\n",
       "      <th>267</th>\n",
       "      <td>48</td>\n",
       "      <td>2</td>\n",
       "      <td>K</td>\n",
       "      <td>83665</td>\n",
       "      <td>83665</td>\n",
       "    </tr>\n",
       "    <tr>\n",
       "      <th>420</th>\n",
       "      <td>74</td>\n",
       "      <td>3</td>\n",
       "      <td>MS</td>\n",
       "      <td>83858</td>\n",
       "      <td>83858</td>\n",
       "    </tr>\n",
       "    <tr>\n",
       "      <th>444</th>\n",
       "      <td>79</td>\n",
       "      <td>1</td>\n",
       "      <td>MS</td>\n",
       "      <td>84123</td>\n",
       "      <td>84123</td>\n",
       "    </tr>\n",
       "    <tr>\n",
       "      <th>462</th>\n",
       "      <td>82</td>\n",
       "      <td>1</td>\n",
       "      <td>MS</td>\n",
       "      <td>83936</td>\n",
       "      <td>83936</td>\n",
       "    </tr>\n",
       "    <tr>\n",
       "      <th>21</th>\n",
       "      <td>5</td>\n",
       "      <td>1</td>\n",
       "      <td>K</td>\n",
       "      <td>83939</td>\n",
       "      <td>83939</td>\n",
       "    </tr>\n",
       "    <tr>\n",
       "      <th>102</th>\n",
       "      <td>19</td>\n",
       "      <td>1</td>\n",
       "      <td>K</td>\n",
       "      <td>83488</td>\n",
       "      <td>83488</td>\n",
       "    </tr>\n",
       "    <tr>\n",
       "      <th>280</th>\n",
       "      <td>50</td>\n",
       "      <td>2</td>\n",
       "      <td>MS</td>\n",
       "      <td>83417</td>\n",
       "      <td>83417</td>\n",
       "    </tr>\n",
       "    <tr>\n",
       "      <th>394</th>\n",
       "      <td>70</td>\n",
       "      <td>2</td>\n",
       "      <td>K</td>\n",
       "      <td>84034</td>\n",
       "      <td>84034</td>\n",
       "    </tr>\n",
       "  </tbody>\n",
       "</table>\n",
       "</div>"
      ],
      "text/plain": [
       "     generation replica treatment  level_0  level_1\n",
       "189          34       1        MS    84050    84050\n",
       "150          27       2         K    84086    84086\n",
       "267          48       2         K    83665    83665\n",
       "420          74       3        MS    83858    83858\n",
       "444          79       1        MS    84123    84123\n",
       "462          82       1        MS    83936    83936\n",
       "21            5       1         K    83939    83939\n",
       "102          19       1         K    83488    83488\n",
       "280          50       2        MS    83417    83417\n",
       "394          70       2         K    84034    84034"
      ]
     },
     "execution_count": 11,
     "metadata": {},
     "output_type": "execute_result"
    }
   ],
   "source": [
    "variant_count = kk.groupby(['generation', 'replica', 'treatment'])[['level_0', 'level_1']].count().reset_index()\n",
    "variant_count.sample(10)"
   ]
  },
  {
   "cell_type": "code",
   "execution_count": 12,
   "id": "32dbb67a",
   "metadata": {},
   "outputs": [],
   "source": [
    "# valid_generations = variant_count[variant_count['level_0'] <= 1000]['generation']\n",
    "# filtered_df = kk[kk['generation'].isin(valid_generations)]\n",
    "# filtered_df"
   ]
  },
  {
   "cell_type": "code",
   "execution_count": 13,
   "id": "35ecaa10",
   "metadata": {},
   "outputs": [],
   "source": [
    "filtered_df = kk\n",
    "filtered_df = filtered_df.pivot(\n",
    "    columns=['replica', 'treatment'], \n",
    "    index=['level_0', 'level_1', 'generation'], \n",
    "    values='freq'\n",
    ").reset_index()"
   ]
  },
  {
   "cell_type": "code",
   "execution_count": 14,
   "id": "c529a535",
   "metadata": {},
   "outputs": [],
   "source": [
    "# filtered_df.apply(lambda row: (row.level_0[0], row.level_1[0]), axis=1)\n",
    "# data = [filtered_df.apply(lambda row: (row.level_0[0], row.level_1[0]), axis=1), filtered_df.generation, filtered_df.loc[:, ['1', '2', '3']]]\n",
    "\n",
    "# filtered_df.set_index(['level_0', 'level_1', 'generation']).pivot(columns=, index, values)\n",
    "# filtered_df = filtered_df.pivot(columns=['replica', 'treatment'], index=['level_0', 'level_1', 'generation'], values='freq').reset_index()\n",
    "\n",
    "# filtered_df.apply(lambda row: (row.level_0[0], row.level_1[0]), axis=1)\n",
    "# filtered_df.apply(lambda row: (row.level_0, row.level_1), axis=1)\n",
    "# data = [filtered_df.apply(lambda row: (row.level_0[0], row.level_1[0]), axis=1), filtered_df.generation, filtered_df.loc[:, ['1', '2', '3']]]"
   ]
  },
  {
   "cell_type": "code",
   "execution_count": 15,
   "id": "29c52676",
   "metadata": {},
   "outputs": [],
   "source": [
    "variant_names = pd.Series(zip(filtered_df['level_0'], filtered_df['level_1']))\n",
    "generations = filtered_df.generation\n",
    "_allele_freqs = filtered_df.loc[:, ['1', '2', '3']]\n",
    "\n",
    "data = [ variant_names, generations, _allele_freqs]\n",
    "data = pd.concat(data, axis=1).sort_values(\"generation\")\n",
    "data.columns = ['Variant', 'Generation'] + data.columns[2:].to_list()"
   ]
  },
  {
   "cell_type": "code",
   "execution_count": 613,
   "id": "8069d1d4",
   "metadata": {},
   "outputs": [],
   "source": [
    "# genotype_pipeline = Pipeline(steps=[\n",
    "#     (, ),\n",
    "#     (, ),\n",
    "#     (, ),\n",
    "#     (, )\n",
    "# ])\n",
    "# \n",
    "# phenotype_pipeline = Pipeline(steps=[\n",
    "#     (, ),\n",
    "#     (, ),\n",
    "#     (, ),\n",
    "#     (, )\n",
    "# ])"
   ]
  },
  {
   "cell_type": "code",
   "execution_count": 101,
   "id": "f9378779",
   "metadata": {},
   "outputs": [],
   "source": [
    "filtered_variants = data.groupby('Variant')['Generation'].nunique()"
   ]
  },
  {
   "cell_type": "code",
   "execution_count": 103,
   "id": "fd94647d",
   "metadata": {},
   "outputs": [
    {
     "data": {
      "text/plain": [
       "Generation\n",
       "84    83032\n",
       "83      846\n",
       "82      441\n",
       "81      223\n",
       "80      173\n",
       "79      112\n",
       "78       86\n",
       "77       70\n",
       "76       37\n",
       "75       15\n",
       "74        5\n",
       "73        5\n",
       "70        1\n",
       "71        1\n",
       "Name: count, dtype: int64"
      ]
     },
     "execution_count": 103,
     "metadata": {},
     "output_type": "execute_result"
    }
   ],
   "source": [
    "filtered_variants.value_counts()"
   ]
  },
  {
   "cell_type": "code",
   "execution_count": 23,
   "id": "df1d1a23",
   "metadata": {},
   "outputs": [],
   "source": [
    "# freq_data.query(\"Generation == 12\").apply(lambda x: x.isna(), axis=1).all(axis=0)"
   ]
  },
  {
   "cell_type": "code",
   "execution_count": 24,
   "id": "20359f58",
   "metadata": {},
   "outputs": [],
   "source": [
    "# freq_data[freq_data.isna()] = 0"
   ]
  },
  {
   "cell_type": "code",
   "execution_count": null,
   "id": "76bd2678",
   "metadata": {},
   "outputs": [],
   "source": [
    "EXPERIMENTS = [('1', 'K'), ('1', 'MS'), (2', 'MS'), ('2', 'K'), ('3', 'K'), ('3', 'MS')]"
   ]
  },
  {
   "cell_type": "code",
   "execution_count": 25,
   "id": "ef988944-c036-4473-8b41-51cf656d3256",
   "metadata": {},
   "outputs": [],
   "source": [
    "# Number of generations where a given SNV is present\n",
    "filtered_variants = data.groupby('Variant')['Generation'].nunique()\n",
    "\n",
    "# Keep only those variants that are present in at least 10 generations\n",
    "filtered_variants = filtered_variants[filtered_variants >= 10].index\n",
    "filtered_data = data.set_index(\"Variant\").loc[filtered_variants].reset_index()\n",
    "\n",
    "changing_variants = filtered_data.groupby(\"Variant\")[[('1', 'MS')]].std().iloc[:,0].sort_values(ascending=False)[:TOP_N_VARIANTS].index\n",
    "top_changing_variants_df = filtered_data.set_index(\"Variant\").loc[changing_variants]\n",
    "freq_data = top_changing_variants_df.reset_index()\n",
    "\n",
    "variants_lst = [list(x) for x in top_changing_variants_df.index.unique()]\n",
    "display_options = [f'{item[0]} - {item[1]}' for item in sorted(variants_lst)]\n",
    "value_dict = {f'{item[0]} - {item[1]}': item for item in sorted(variants_lst)}\n",
    "\n",
    "\n",
    "genotype_data = freq_data.melt(\n",
    "    id_vars=[\"Variant\", \"Generation\"], \n",
    "    value_vars=EXPERIMENTS, \n",
    "    var_name=\"replica\", value_name=\"af\"\n",
    ")\n",
    "\n",
    "genotype_data[\"id\"] = genotype_data.apply(lambda x: (x.replica[1], x.replica[0], x.Generation), axis=1)\n",
    "genotype_data = genotype_data.drop([\"Generation\", \"replica\"], axis=1)\n",
    "genotype_data_wide = genotype_data.pivot(index=\"id\", columns=\"Variant\")\n",
    "# genotype_data_wide[genotype_data_wide.isna()] = 0\n",
    "genotype_data_wide = genotype_data_wide.reset_index()\n",
    "genotype_data_wide.id = genotype_data_wide.id.apply(lambda x: (x[0], int(x[1]), int(x[2])))\n",
    "genotype_data_wide = genotype_data_wide.set_index(\"id\")\n",
    "\n",
    "# Remove rows for which all values are NaN, which means that the VCF was not present.\n",
    "genotype_data_wide = genotype_data_wide[~genotype_data_wide.isna().all(axis=1)]"
   ]
  },
  {
   "cell_type": "code",
   "execution_count": 29,
   "id": "9a5b02a7-8bae-4397-92f2-473e677301a1",
   "metadata": {},
   "outputs": [
    {
     "data": {
      "text/html": [
       "<div>\n",
       "<style scoped>\n",
       "    .dataframe tbody tr th:only-of-type {\n",
       "        vertical-align: middle;\n",
       "    }\n",
       "\n",
       "    .dataframe tbody tr th {\n",
       "        vertical-align: top;\n",
       "    }\n",
       "\n",
       "    .dataframe thead th {\n",
       "        text-align: right;\n",
       "    }\n",
       "</style>\n",
       "<table border=\"1\" class=\"dataframe\">\n",
       "  <thead>\n",
       "    <tr style=\"text-align: right;\">\n",
       "      <th></th>\n",
       "      <th>Batch</th>\n",
       "      <th>Treatment</th>\n",
       "      <th>PR_Length</th>\n",
       "      <th>LR_number</th>\n",
       "      <th>LR_Density</th>\n",
       "      <th>n_replica</th>\n",
       "      <th>id</th>\n",
       "      <th>Treatment_NB</th>\n",
       "      <th>n_replica_NB</th>\n",
       "      <th>PR_Length_NB</th>\n",
       "      <th>LR_number_NB</th>\n",
       "      <th>LR_Density_NB</th>\n",
       "      <th>PR_Length_adj</th>\n",
       "      <th>LR_number_adj</th>\n",
       "      <th>LR_Density_adj</th>\n",
       "      <th>PR_Length_adj_irn</th>\n",
       "      <th>LR_number_adj_irn</th>\n",
       "      <th>LR_Density_adj_irn</th>\n",
       "    </tr>\n",
       "  </thead>\n",
       "  <tbody>\n",
       "    <tr>\n",
       "      <th>4700</th>\n",
       "      <td>50</td>\n",
       "      <td>NB</td>\n",
       "      <td>5.83100</td>\n",
       "      <td>16</td>\n",
       "      <td>2.743955</td>\n",
       "      <td>1</td>\n",
       "      <td>(NB, 1, 50)</td>\n",
       "      <td>NB</td>\n",
       "      <td>1</td>\n",
       "      <td>6.101000</td>\n",
       "      <td>17.0</td>\n",
       "      <td>2.762229</td>\n",
       "      <td>-0.270000</td>\n",
       "      <td>-1.0</td>\n",
       "      <td>-0.018275</td>\n",
       "      <td>0.718463</td>\n",
       "      <td>-0.692053</td>\n",
       "      <td>-0.956182</td>\n",
       "    </tr>\n",
       "    <tr>\n",
       "      <th>5403</th>\n",
       "      <td>80</td>\n",
       "      <td>NB</td>\n",
       "      <td>5.51706</td>\n",
       "      <td>15</td>\n",
       "      <td>2.718839</td>\n",
       "      <td>1</td>\n",
       "      <td>(NB, 1, 80)</td>\n",
       "      <td>NB</td>\n",
       "      <td>1</td>\n",
       "      <td>4.791965</td>\n",
       "      <td>13.0</td>\n",
       "      <td>2.727826</td>\n",
       "      <td>0.725095</td>\n",
       "      <td>2.0</td>\n",
       "      <td>-0.008987</td>\n",
       "      <td>1.660915</td>\n",
       "      <td>-0.021233</td>\n",
       "      <td>-0.941529</td>\n",
       "    </tr>\n",
       "    <tr>\n",
       "      <th>2091</th>\n",
       "      <td>2</td>\n",
       "      <td>MS</td>\n",
       "      <td>2.94400</td>\n",
       "      <td>13</td>\n",
       "      <td>4.415761</td>\n",
       "      <td>1</td>\n",
       "      <td>(MS, 1, 2)</td>\n",
       "      <td>NB</td>\n",
       "      <td>1</td>\n",
       "      <td>5.942000</td>\n",
       "      <td>14.0</td>\n",
       "      <td>2.507942</td>\n",
       "      <td>-2.998000</td>\n",
       "      <td>-1.0</td>\n",
       "      <td>1.907819</td>\n",
       "      <td>-1.298433</td>\n",
       "      <td>-0.692053</td>\n",
       "      <td>-0.037377</td>\n",
       "    </tr>\n",
       "    <tr>\n",
       "      <th>558</th>\n",
       "      <td>77</td>\n",
       "      <td>K</td>\n",
       "      <td>2.45300</td>\n",
       "      <td>9</td>\n",
       "      <td>3.668977</td>\n",
       "      <td>1</td>\n",
       "      <td>(K, 1, 77)</td>\n",
       "      <td>NB</td>\n",
       "      <td>1</td>\n",
       "      <td>6.288000</td>\n",
       "      <td>10.0</td>\n",
       "      <td>1.624256</td>\n",
       "      <td>-3.835000</td>\n",
       "      <td>-1.0</td>\n",
       "      <td>2.044721</td>\n",
       "      <td>-2.163627</td>\n",
       "      <td>-0.692053</td>\n",
       "      <td>0.023357</td>\n",
       "    </tr>\n",
       "    <tr>\n",
       "      <th>3586</th>\n",
       "      <td>78</td>\n",
       "      <td>MS</td>\n",
       "      <td>3.77200</td>\n",
       "      <td>16</td>\n",
       "      <td>4.241782</td>\n",
       "      <td>3</td>\n",
       "      <td>(MS, 3, 78)</td>\n",
       "      <td>NB</td>\n",
       "      <td>1</td>\n",
       "      <td>4.049000</td>\n",
       "      <td>9.0</td>\n",
       "      <td>2.222771</td>\n",
       "      <td>-0.277000</td>\n",
       "      <td>7.0</td>\n",
       "      <td>2.019010</td>\n",
       "      <td>0.712430</td>\n",
       "      <td>0.968326</td>\n",
       "      <td>0.011890</td>\n",
       "    </tr>\n",
       "  </tbody>\n",
       "</table>\n",
       "</div>"
      ],
      "text/plain": [
       "      Batch Treatment  PR_Length  LR_number  LR_Density  n_replica  \\\n",
       "4700     50        NB    5.83100         16    2.743955          1   \n",
       "5403     80        NB    5.51706         15    2.718839          1   \n",
       "2091      2        MS    2.94400         13    4.415761          1   \n",
       "558      77         K    2.45300          9    3.668977          1   \n",
       "3586     78        MS    3.77200         16    4.241782          3   \n",
       "\n",
       "               id Treatment_NB  n_replica_NB  PR_Length_NB  LR_number_NB  \\\n",
       "4700  (NB, 1, 50)           NB             1      6.101000          17.0   \n",
       "5403  (NB, 1, 80)           NB             1      4.791965          13.0   \n",
       "2091   (MS, 1, 2)           NB             1      5.942000          14.0   \n",
       "558    (K, 1, 77)           NB             1      6.288000          10.0   \n",
       "3586  (MS, 3, 78)           NB             1      4.049000           9.0   \n",
       "\n",
       "      LR_Density_NB  PR_Length_adj  LR_number_adj  LR_Density_adj  \\\n",
       "4700       2.762229      -0.270000           -1.0       -0.018275   \n",
       "5403       2.727826       0.725095            2.0       -0.008987   \n",
       "2091       2.507942      -2.998000           -1.0        1.907819   \n",
       "558        1.624256      -3.835000           -1.0        2.044721   \n",
       "3586       2.222771      -0.277000            7.0        2.019010   \n",
       "\n",
       "      PR_Length_adj_irn  LR_number_adj_irn  LR_Density_adj_irn  \n",
       "4700           0.718463          -0.692053           -0.956182  \n",
       "5403           1.660915          -0.021233           -0.941529  \n",
       "2091          -1.298433          -0.692053           -0.037377  \n",
       "558           -2.163627          -0.692053            0.023357  \n",
       "3586           0.712430           0.968326            0.011890  "
      ]
     },
     "execution_count": 29,
     "metadata": {},
     "output_type": "execute_result"
    }
   ],
   "source": [
    "phenotypes_df, phenotypes_df_reds, phenotypes_df_red_nb = process_plant_phenotype()\n",
    "phenotype_df_red_nb = phenotypes_df_red_nb.groupby(['Treatment', 'n_replica', 'Batch']).agg(\"median\").reset_index()\n",
    "\n",
    "phenotypes_df[\"id\"] = phenotypes_df.apply(lambda row: (row.Treatment, row.n_replica, row.Batch), axis=1)\n",
    "\n",
    "phenotypes_with_nb_df = pd.merge(phenotypes_df, phenotype_df_red_nb, on=[\"Batch\"], suffixes=(\"\", \"_NB\"))\n",
    "\n",
    "phenotypes_with_nb_df[\"PR_Length_adj\"] = phenotypes_with_nb_df[\"PR_Length\"] - phenotypes_with_nb_df[\"PR_Length_NB\"]\n",
    "phenotypes_with_nb_df[\"LR_number_adj\"] = phenotypes_with_nb_df[\"LR_number\"] - phenotypes_with_nb_df[\"LR_number_NB\"]\n",
    "phenotypes_with_nb_df[\"LR_Density_adj\"] = phenotypes_with_nb_df[\"LR_Density\"] - phenotypes_with_nb_df[\"LR_Density_NB\"]\n",
    "\n",
    "phenotypes_with_nb_df[\"PR_Length_adj_irn\"] = inverse_rank_normalization(phenotypes_with_nb_df[\"PR_Length_adj\"])\n",
    "phenotypes_with_nb_df[\"LR_number_adj_irn\"] = inverse_rank_normalization(phenotypes_with_nb_df[\"LR_number_adj\"])\n",
    "phenotypes_with_nb_df[\"LR_Density_adj_irn\"] = inverse_rank_normalization(phenotypes_with_nb_df[\"LR_Density_adj\"])\n",
    "\n",
    "phenotypes_with_nb_df.sample(5)"
   ]
  },
  {
   "cell_type": "code",
   "execution_count": 30,
   "id": "377ebbfa-c36e-4a4c-bd86-f2ba118b25ff",
   "metadata": {},
   "outputs": [],
   "source": [
    "phenotype_data_clean = phenotypes_with_nb_df.drop([\"Treatment\", \"n_replica\", \"Batch\", \"PR_Length\", \"LR_number\", \"LR_Density\", \"PR_Length_NB\", \t\"LR_number_NB\", \t\"LR_Density_NB\", \t\"PR_Length_adj\", \t\"LR_number_adj\", \t\"LR_Density_adj\"], axis=1)\n",
    "phenotypes = [ \"PR_Length_adj_irn\", \"LR_number_adj_irn\", \"LR_Density_adj_irn\" ]\n",
    "phenotype_data_clean = phenotype_data_clean[phenotype_data_clean.id.isin(set(genotype_data_wide.index))]\n",
    "phenotype_data_clean = phenotype_data_clean.drop([\"Treatment_NB\", \"n_replica_NB\"], axis=1).set_index(\"id\")"
   ]
  },
  {
   "cell_type": "code",
   "execution_count": 31,
   "id": "4a3fd364",
   "metadata": {},
   "outputs": [
    {
     "data": {
      "text/html": [
       "<div>\n",
       "<style scoped>\n",
       "    .dataframe tbody tr th:only-of-type {\n",
       "        vertical-align: middle;\n",
       "    }\n",
       "\n",
       "    .dataframe tbody tr th {\n",
       "        vertical-align: top;\n",
       "    }\n",
       "\n",
       "    .dataframe thead th {\n",
       "        text-align: right;\n",
       "    }\n",
       "</style>\n",
       "<table border=\"1\" class=\"dataframe\">\n",
       "  <thead>\n",
       "    <tr style=\"text-align: right;\">\n",
       "      <th></th>\n",
       "      <th>PR_Length_adj_irn</th>\n",
       "      <th>LR_number_adj_irn</th>\n",
       "      <th>LR_Density_adj_irn</th>\n",
       "    </tr>\n",
       "    <tr>\n",
       "      <th>id</th>\n",
       "      <th></th>\n",
       "      <th></th>\n",
       "      <th></th>\n",
       "    </tr>\n",
       "  </thead>\n",
       "  <tbody>\n",
       "    <tr>\n",
       "      <th>(K, 1, 65)</th>\n",
       "      <td>-1.721220</td>\n",
       "      <td>-0.583516</td>\n",
       "      <td>1.327079</td>\n",
       "    </tr>\n",
       "    <tr>\n",
       "      <th>(K, 2, 11)</th>\n",
       "      <td>-0.997931</td>\n",
       "      <td>-0.445060</td>\n",
       "      <td>0.626866</td>\n",
       "    </tr>\n",
       "    <tr>\n",
       "      <th>(K, 2, 65)</th>\n",
       "      <td>-1.351018</td>\n",
       "      <td>-0.310441</td>\n",
       "      <td>0.914745</td>\n",
       "    </tr>\n",
       "    <tr>\n",
       "      <th>(K, 1, 17)</th>\n",
       "      <td>0.800633</td>\n",
       "      <td>0.574728</td>\n",
       "      <td>-0.095262</td>\n",
       "    </tr>\n",
       "    <tr>\n",
       "      <th>(K, 3, 7)</th>\n",
       "      <td>-1.671122</td>\n",
       "      <td>-0.918624</td>\n",
       "      <td>1.344698</td>\n",
       "    </tr>\n",
       "  </tbody>\n",
       "</table>\n",
       "</div>"
      ],
      "text/plain": [
       "            PR_Length_adj_irn  LR_number_adj_irn  LR_Density_adj_irn\n",
       "id                                                                  \n",
       "(K, 1, 65)          -1.721220          -0.583516            1.327079\n",
       "(K, 2, 11)          -0.997931          -0.445060            0.626866\n",
       "(K, 2, 65)          -1.351018          -0.310441            0.914745\n",
       "(K, 1, 17)           0.800633           0.574728           -0.095262\n",
       "(K, 3, 7)           -1.671122          -0.918624            1.344698"
      ]
     },
     "execution_count": 31,
     "metadata": {},
     "output_type": "execute_result"
    }
   ],
   "source": [
    "phenotype_data_clean.sample(5)"
   ]
  },
  {
   "cell_type": "code",
   "execution_count": 32,
   "id": "8be28393",
   "metadata": {},
   "outputs": [
    {
     "data": {
      "text/html": [
       "<div>\n",
       "<style scoped>\n",
       "    .dataframe tbody tr th:only-of-type {\n",
       "        vertical-align: middle;\n",
       "    }\n",
       "\n",
       "    .dataframe tbody tr th {\n",
       "        vertical-align: top;\n",
       "    }\n",
       "\n",
       "    .dataframe thead tr th {\n",
       "        text-align: left;\n",
       "    }\n",
       "\n",
       "    .dataframe thead tr:last-of-type th {\n",
       "        text-align: right;\n",
       "    }\n",
       "</style>\n",
       "<table border=\"1\" class=\"dataframe\">\n",
       "  <thead>\n",
       "    <tr>\n",
       "      <th></th>\n",
       "      <th colspan=\"21\" halign=\"left\">af</th>\n",
       "    </tr>\n",
       "    <tr>\n",
       "      <th>Variant</th>\n",
       "      <th>(PRKV01000002.1, 13730)</th>\n",
       "      <th>(PRKV01000002.1, 13915)</th>\n",
       "      <th>(PRKV01000002.1, 13938)</th>\n",
       "      <th>(PRKV01000002.1, 14581)</th>\n",
       "      <th>(PRKV01000002.1, 42521)</th>\n",
       "      <th>(PRKV01000002.1, 95242)</th>\n",
       "      <th>(PRKV01000002.1, 97759)</th>\n",
       "      <th>(PRKV01000002.1, 103364)</th>\n",
       "      <th>(PRKV01000002.1, 104934)</th>\n",
       "      <th>(PRKV01000002.1, 143111)</th>\n",
       "      <th>...</th>\n",
       "      <th>(PRKV01000035.1, 7879)</th>\n",
       "      <th>(PRKV01000035.1, 41980)</th>\n",
       "      <th>(PRKV01000035.1, 123040)</th>\n",
       "      <th>(PRKV01000035.1, 123042)</th>\n",
       "      <th>(PRKV01000035.1, 183446)</th>\n",
       "      <th>(PRKV01000035.1, 403806)</th>\n",
       "      <th>(PRKV01000035.1, 403807)</th>\n",
       "      <th>(PRKV01000035.1, 495534)</th>\n",
       "      <th>(PRKV01000035.1, 606980)</th>\n",
       "      <th>(PRKV01000035.1, 606983)</th>\n",
       "    </tr>\n",
       "    <tr>\n",
       "      <th>id</th>\n",
       "      <th></th>\n",
       "      <th></th>\n",
       "      <th></th>\n",
       "      <th></th>\n",
       "      <th></th>\n",
       "      <th></th>\n",
       "      <th></th>\n",
       "      <th></th>\n",
       "      <th></th>\n",
       "      <th></th>\n",
       "      <th></th>\n",
       "      <th></th>\n",
       "      <th></th>\n",
       "      <th></th>\n",
       "      <th></th>\n",
       "      <th></th>\n",
       "      <th></th>\n",
       "      <th></th>\n",
       "      <th></th>\n",
       "      <th></th>\n",
       "      <th></th>\n",
       "    </tr>\n",
       "  </thead>\n",
       "  <tbody>\n",
       "    <tr>\n",
       "      <th>(K, 1, 1)</th>\n",
       "      <td>NaN</td>\n",
       "      <td>1.0</td>\n",
       "      <td>0.571429</td>\n",
       "      <td>NaN</td>\n",
       "      <td>NaN</td>\n",
       "      <td>NaN</td>\n",
       "      <td>0.666667</td>\n",
       "      <td>NaN</td>\n",
       "      <td>NaN</td>\n",
       "      <td>1.000000</td>\n",
       "      <td>...</td>\n",
       "      <td>0.375</td>\n",
       "      <td>1.0</td>\n",
       "      <td>0.733333</td>\n",
       "      <td>0.714286</td>\n",
       "      <td>1.0</td>\n",
       "      <td>0.571429</td>\n",
       "      <td>0.800000</td>\n",
       "      <td>0.333333</td>\n",
       "      <td>0.555556</td>\n",
       "      <td>0.777778</td>\n",
       "    </tr>\n",
       "    <tr>\n",
       "      <th>(K, 1, 3)</th>\n",
       "      <td>0.750000</td>\n",
       "      <td>1.0</td>\n",
       "      <td>1.000000</td>\n",
       "      <td>1.000</td>\n",
       "      <td>NaN</td>\n",
       "      <td>NaN</td>\n",
       "      <td>NaN</td>\n",
       "      <td>NaN</td>\n",
       "      <td>1.0</td>\n",
       "      <td>NaN</td>\n",
       "      <td>...</td>\n",
       "      <td>NaN</td>\n",
       "      <td>1.0</td>\n",
       "      <td>0.555556</td>\n",
       "      <td>0.555556</td>\n",
       "      <td>1.0</td>\n",
       "      <td>NaN</td>\n",
       "      <td>NaN</td>\n",
       "      <td>NaN</td>\n",
       "      <td>0.750000</td>\n",
       "      <td>0.857143</td>\n",
       "    </tr>\n",
       "    <tr>\n",
       "      <th>(K, 1, 4)</th>\n",
       "      <td>NaN</td>\n",
       "      <td>1.0</td>\n",
       "      <td>0.222222</td>\n",
       "      <td>0.750</td>\n",
       "      <td>NaN</td>\n",
       "      <td>NaN</td>\n",
       "      <td>0.750000</td>\n",
       "      <td>1.000000</td>\n",
       "      <td>1.0</td>\n",
       "      <td>0.833333</td>\n",
       "      <td>...</td>\n",
       "      <td>NaN</td>\n",
       "      <td>NaN</td>\n",
       "      <td>NaN</td>\n",
       "      <td>NaN</td>\n",
       "      <td>1.0</td>\n",
       "      <td>0.625000</td>\n",
       "      <td>0.625000</td>\n",
       "      <td>0.903226</td>\n",
       "      <td>0.571429</td>\n",
       "      <td>0.875000</td>\n",
       "    </tr>\n",
       "    <tr>\n",
       "      <th>(K, 1, 5)</th>\n",
       "      <td>NaN</td>\n",
       "      <td>NaN</td>\n",
       "      <td>1.000000</td>\n",
       "      <td>NaN</td>\n",
       "      <td>NaN</td>\n",
       "      <td>1.000000</td>\n",
       "      <td>NaN</td>\n",
       "      <td>NaN</td>\n",
       "      <td>1.0</td>\n",
       "      <td>1.000000</td>\n",
       "      <td>...</td>\n",
       "      <td>NaN</td>\n",
       "      <td>NaN</td>\n",
       "      <td>NaN</td>\n",
       "      <td>NaN</td>\n",
       "      <td>1.0</td>\n",
       "      <td>NaN</td>\n",
       "      <td>1.000000</td>\n",
       "      <td>0.941176</td>\n",
       "      <td>0.833333</td>\n",
       "      <td>0.800000</td>\n",
       "    </tr>\n",
       "    <tr>\n",
       "      <th>(K, 1, 6)</th>\n",
       "      <td>1.000000</td>\n",
       "      <td>NaN</td>\n",
       "      <td>NaN</td>\n",
       "      <td>NaN</td>\n",
       "      <td>NaN</td>\n",
       "      <td>1.000000</td>\n",
       "      <td>NaN</td>\n",
       "      <td>NaN</td>\n",
       "      <td>NaN</td>\n",
       "      <td>NaN</td>\n",
       "      <td>...</td>\n",
       "      <td>NaN</td>\n",
       "      <td>NaN</td>\n",
       "      <td>NaN</td>\n",
       "      <td>NaN</td>\n",
       "      <td>NaN</td>\n",
       "      <td>NaN</td>\n",
       "      <td>1.000000</td>\n",
       "      <td>1.000000</td>\n",
       "      <td>NaN</td>\n",
       "      <td>NaN</td>\n",
       "    </tr>\n",
       "    <tr>\n",
       "      <th>...</th>\n",
       "      <td>...</td>\n",
       "      <td>...</td>\n",
       "      <td>...</td>\n",
       "      <td>...</td>\n",
       "      <td>...</td>\n",
       "      <td>...</td>\n",
       "      <td>...</td>\n",
       "      <td>...</td>\n",
       "      <td>...</td>\n",
       "      <td>...</td>\n",
       "      <td>...</td>\n",
       "      <td>...</td>\n",
       "      <td>...</td>\n",
       "      <td>...</td>\n",
       "      <td>...</td>\n",
       "      <td>...</td>\n",
       "      <td>...</td>\n",
       "      <td>...</td>\n",
       "      <td>...</td>\n",
       "      <td>...</td>\n",
       "      <td>...</td>\n",
       "    </tr>\n",
       "    <tr>\n",
       "      <th>(MS, 3, 79)</th>\n",
       "      <td>1.000000</td>\n",
       "      <td>1.0</td>\n",
       "      <td>NaN</td>\n",
       "      <td>NaN</td>\n",
       "      <td>NaN</td>\n",
       "      <td>NaN</td>\n",
       "      <td>1.000000</td>\n",
       "      <td>1.000000</td>\n",
       "      <td>1.0</td>\n",
       "      <td>NaN</td>\n",
       "      <td>...</td>\n",
       "      <td>NaN</td>\n",
       "      <td>NaN</td>\n",
       "      <td>NaN</td>\n",
       "      <td>NaN</td>\n",
       "      <td>1.0</td>\n",
       "      <td>NaN</td>\n",
       "      <td>NaN</td>\n",
       "      <td>NaN</td>\n",
       "      <td>1.000000</td>\n",
       "      <td>1.000000</td>\n",
       "    </tr>\n",
       "    <tr>\n",
       "      <th>(MS, 3, 80)</th>\n",
       "      <td>NaN</td>\n",
       "      <td>NaN</td>\n",
       "      <td>0.600000</td>\n",
       "      <td>1.000</td>\n",
       "      <td>NaN</td>\n",
       "      <td>0.600000</td>\n",
       "      <td>1.000000</td>\n",
       "      <td>NaN</td>\n",
       "      <td>1.0</td>\n",
       "      <td>1.000000</td>\n",
       "      <td>...</td>\n",
       "      <td>1.000</td>\n",
       "      <td>NaN</td>\n",
       "      <td>0.625000</td>\n",
       "      <td>0.625000</td>\n",
       "      <td>1.0</td>\n",
       "      <td>0.666667</td>\n",
       "      <td>0.642857</td>\n",
       "      <td>0.787879</td>\n",
       "      <td>0.714286</td>\n",
       "      <td>0.769231</td>\n",
       "    </tr>\n",
       "    <tr>\n",
       "      <th>(MS, 3, 81)</th>\n",
       "      <td>0.666667</td>\n",
       "      <td>1.0</td>\n",
       "      <td>NaN</td>\n",
       "      <td>1.000</td>\n",
       "      <td>NaN</td>\n",
       "      <td>0.777778</td>\n",
       "      <td>0.500000</td>\n",
       "      <td>0.714286</td>\n",
       "      <td>1.0</td>\n",
       "      <td>0.916667</td>\n",
       "      <td>...</td>\n",
       "      <td>NaN</td>\n",
       "      <td>NaN</td>\n",
       "      <td>NaN</td>\n",
       "      <td>NaN</td>\n",
       "      <td>1.0</td>\n",
       "      <td>NaN</td>\n",
       "      <td>NaN</td>\n",
       "      <td>0.500000</td>\n",
       "      <td>1.000000</td>\n",
       "      <td>1.000000</td>\n",
       "    </tr>\n",
       "    <tr>\n",
       "      <th>(MS, 3, 82)</th>\n",
       "      <td>0.625000</td>\n",
       "      <td>1.0</td>\n",
       "      <td>NaN</td>\n",
       "      <td>1.000</td>\n",
       "      <td>NaN</td>\n",
       "      <td>NaN</td>\n",
       "      <td>NaN</td>\n",
       "      <td>NaN</td>\n",
       "      <td>NaN</td>\n",
       "      <td>NaN</td>\n",
       "      <td>...</td>\n",
       "      <td>1.000</td>\n",
       "      <td>1.0</td>\n",
       "      <td>NaN</td>\n",
       "      <td>NaN</td>\n",
       "      <td>1.0</td>\n",
       "      <td>NaN</td>\n",
       "      <td>NaN</td>\n",
       "      <td>NaN</td>\n",
       "      <td>1.000000</td>\n",
       "      <td>1.000000</td>\n",
       "    </tr>\n",
       "    <tr>\n",
       "      <th>(MS, 3, 83)</th>\n",
       "      <td>NaN</td>\n",
       "      <td>1.0</td>\n",
       "      <td>0.375000</td>\n",
       "      <td>0.875</td>\n",
       "      <td>1.0</td>\n",
       "      <td>0.666667</td>\n",
       "      <td>0.666667</td>\n",
       "      <td>NaN</td>\n",
       "      <td>1.0</td>\n",
       "      <td>1.000000</td>\n",
       "      <td>...</td>\n",
       "      <td>1.000</td>\n",
       "      <td>NaN</td>\n",
       "      <td>NaN</td>\n",
       "      <td>NaN</td>\n",
       "      <td>0.8</td>\n",
       "      <td>0.666667</td>\n",
       "      <td>0.800000</td>\n",
       "      <td>NaN</td>\n",
       "      <td>1.000000</td>\n",
       "      <td>1.000000</td>\n",
       "    </tr>\n",
       "  </tbody>\n",
       "</table>\n",
       "<p>463 rows × 200 columns</p>\n",
       "</div>"
      ],
      "text/plain": [
       "                                 af                          \\\n",
       "Variant     (PRKV01000002.1, 13730) (PRKV01000002.1, 13915)   \n",
       "id                                                            \n",
       "(K, 1, 1)                       NaN                     1.0   \n",
       "(K, 1, 3)                  0.750000                     1.0   \n",
       "(K, 1, 4)                       NaN                     1.0   \n",
       "(K, 1, 5)                       NaN                     NaN   \n",
       "(K, 1, 6)                  1.000000                     NaN   \n",
       "...                             ...                     ...   \n",
       "(MS, 3, 79)                1.000000                     1.0   \n",
       "(MS, 3, 80)                     NaN                     NaN   \n",
       "(MS, 3, 81)                0.666667                     1.0   \n",
       "(MS, 3, 82)                0.625000                     1.0   \n",
       "(MS, 3, 83)                     NaN                     1.0   \n",
       "\n",
       "                                                             \\\n",
       "Variant     (PRKV01000002.1, 13938) (PRKV01000002.1, 14581)   \n",
       "id                                                            \n",
       "(K, 1, 1)                  0.571429                     NaN   \n",
       "(K, 1, 3)                  1.000000                   1.000   \n",
       "(K, 1, 4)                  0.222222                   0.750   \n",
       "(K, 1, 5)                  1.000000                     NaN   \n",
       "(K, 1, 6)                       NaN                     NaN   \n",
       "...                             ...                     ...   \n",
       "(MS, 3, 79)                     NaN                     NaN   \n",
       "(MS, 3, 80)                0.600000                   1.000   \n",
       "(MS, 3, 81)                     NaN                   1.000   \n",
       "(MS, 3, 82)                     NaN                   1.000   \n",
       "(MS, 3, 83)                0.375000                   0.875   \n",
       "\n",
       "                                                             \\\n",
       "Variant     (PRKV01000002.1, 42521) (PRKV01000002.1, 95242)   \n",
       "id                                                            \n",
       "(K, 1, 1)                       NaN                     NaN   \n",
       "(K, 1, 3)                       NaN                     NaN   \n",
       "(K, 1, 4)                       NaN                     NaN   \n",
       "(K, 1, 5)                       NaN                1.000000   \n",
       "(K, 1, 6)                       NaN                1.000000   \n",
       "...                             ...                     ...   \n",
       "(MS, 3, 79)                     NaN                     NaN   \n",
       "(MS, 3, 80)                     NaN                0.600000   \n",
       "(MS, 3, 81)                     NaN                0.777778   \n",
       "(MS, 3, 82)                     NaN                     NaN   \n",
       "(MS, 3, 83)                     1.0                0.666667   \n",
       "\n",
       "                                                              \\\n",
       "Variant     (PRKV01000002.1, 97759) (PRKV01000002.1, 103364)   \n",
       "id                                                             \n",
       "(K, 1, 1)                  0.666667                      NaN   \n",
       "(K, 1, 3)                       NaN                      NaN   \n",
       "(K, 1, 4)                  0.750000                 1.000000   \n",
       "(K, 1, 5)                       NaN                      NaN   \n",
       "(K, 1, 6)                       NaN                      NaN   \n",
       "...                             ...                      ...   \n",
       "(MS, 3, 79)                1.000000                 1.000000   \n",
       "(MS, 3, 80)                1.000000                      NaN   \n",
       "(MS, 3, 81)                0.500000                 0.714286   \n",
       "(MS, 3, 82)                     NaN                      NaN   \n",
       "(MS, 3, 83)                0.666667                      NaN   \n",
       "\n",
       "                                                               ...  \\\n",
       "Variant     (PRKV01000002.1, 104934) (PRKV01000002.1, 143111)  ...   \n",
       "id                                                             ...   \n",
       "(K, 1, 1)                        NaN                 1.000000  ...   \n",
       "(K, 1, 3)                        1.0                      NaN  ...   \n",
       "(K, 1, 4)                        1.0                 0.833333  ...   \n",
       "(K, 1, 5)                        1.0                 1.000000  ...   \n",
       "(K, 1, 6)                        NaN                      NaN  ...   \n",
       "...                              ...                      ...  ...   \n",
       "(MS, 3, 79)                      1.0                      NaN  ...   \n",
       "(MS, 3, 80)                      1.0                 1.000000  ...   \n",
       "(MS, 3, 81)                      1.0                 0.916667  ...   \n",
       "(MS, 3, 82)                      NaN                      NaN  ...   \n",
       "(MS, 3, 83)                      1.0                 1.000000  ...   \n",
       "\n",
       "                                                            \\\n",
       "Variant     (PRKV01000035.1, 7879) (PRKV01000035.1, 41980)   \n",
       "id                                                           \n",
       "(K, 1, 1)                    0.375                     1.0   \n",
       "(K, 1, 3)                      NaN                     1.0   \n",
       "(K, 1, 4)                      NaN                     NaN   \n",
       "(K, 1, 5)                      NaN                     NaN   \n",
       "(K, 1, 6)                      NaN                     NaN   \n",
       "...                            ...                     ...   \n",
       "(MS, 3, 79)                    NaN                     NaN   \n",
       "(MS, 3, 80)                  1.000                     NaN   \n",
       "(MS, 3, 81)                    NaN                     NaN   \n",
       "(MS, 3, 82)                  1.000                     1.0   \n",
       "(MS, 3, 83)                  1.000                     NaN   \n",
       "\n",
       "                                                               \\\n",
       "Variant     (PRKV01000035.1, 123040) (PRKV01000035.1, 123042)   \n",
       "id                                                              \n",
       "(K, 1, 1)                   0.733333                 0.714286   \n",
       "(K, 1, 3)                   0.555556                 0.555556   \n",
       "(K, 1, 4)                        NaN                      NaN   \n",
       "(K, 1, 5)                        NaN                      NaN   \n",
       "(K, 1, 6)                        NaN                      NaN   \n",
       "...                              ...                      ...   \n",
       "(MS, 3, 79)                      NaN                      NaN   \n",
       "(MS, 3, 80)                 0.625000                 0.625000   \n",
       "(MS, 3, 81)                      NaN                      NaN   \n",
       "(MS, 3, 82)                      NaN                      NaN   \n",
       "(MS, 3, 83)                      NaN                      NaN   \n",
       "\n",
       "                                                               \\\n",
       "Variant     (PRKV01000035.1, 183446) (PRKV01000035.1, 403806)   \n",
       "id                                                              \n",
       "(K, 1, 1)                        1.0                 0.571429   \n",
       "(K, 1, 3)                        1.0                      NaN   \n",
       "(K, 1, 4)                        1.0                 0.625000   \n",
       "(K, 1, 5)                        1.0                      NaN   \n",
       "(K, 1, 6)                        NaN                      NaN   \n",
       "...                              ...                      ...   \n",
       "(MS, 3, 79)                      1.0                      NaN   \n",
       "(MS, 3, 80)                      1.0                 0.666667   \n",
       "(MS, 3, 81)                      1.0                      NaN   \n",
       "(MS, 3, 82)                      1.0                      NaN   \n",
       "(MS, 3, 83)                      0.8                 0.666667   \n",
       "\n",
       "                                                               \\\n",
       "Variant     (PRKV01000035.1, 403807) (PRKV01000035.1, 495534)   \n",
       "id                                                              \n",
       "(K, 1, 1)                   0.800000                 0.333333   \n",
       "(K, 1, 3)                        NaN                      NaN   \n",
       "(K, 1, 4)                   0.625000                 0.903226   \n",
       "(K, 1, 5)                   1.000000                 0.941176   \n",
       "(K, 1, 6)                   1.000000                 1.000000   \n",
       "...                              ...                      ...   \n",
       "(MS, 3, 79)                      NaN                      NaN   \n",
       "(MS, 3, 80)                 0.642857                 0.787879   \n",
       "(MS, 3, 81)                      NaN                 0.500000   \n",
       "(MS, 3, 82)                      NaN                      NaN   \n",
       "(MS, 3, 83)                 0.800000                      NaN   \n",
       "\n",
       "                                                               \n",
       "Variant     (PRKV01000035.1, 606980) (PRKV01000035.1, 606983)  \n",
       "id                                                             \n",
       "(K, 1, 1)                   0.555556                 0.777778  \n",
       "(K, 1, 3)                   0.750000                 0.857143  \n",
       "(K, 1, 4)                   0.571429                 0.875000  \n",
       "(K, 1, 5)                   0.833333                 0.800000  \n",
       "(K, 1, 6)                        NaN                      NaN  \n",
       "...                              ...                      ...  \n",
       "(MS, 3, 79)                 1.000000                 1.000000  \n",
       "(MS, 3, 80)                 0.714286                 0.769231  \n",
       "(MS, 3, 81)                 1.000000                 1.000000  \n",
       "(MS, 3, 82)                 1.000000                 1.000000  \n",
       "(MS, 3, 83)                 1.000000                 1.000000  \n",
       "\n",
       "[463 rows x 200 columns]"
      ]
     },
     "execution_count": 32,
     "metadata": {},
     "output_type": "execute_result"
    }
   ],
   "source": [
    "genotype_data_wide"
   ]
  },
  {
   "cell_type": "code",
   "execution_count": 33,
   "id": "14bf71c7",
   "metadata": {},
   "outputs": [],
   "source": [
    "# genotype_data_wide[genotype_data_wide.isna()] = 0"
   ]
  },
  {
   "cell_type": "code",
   "execution_count": 34,
   "id": "712eef0b",
   "metadata": {},
   "outputs": [
    {
     "data": {
      "text/html": [
       "<div>\n",
       "<style scoped>\n",
       "    .dataframe tbody tr th:only-of-type {\n",
       "        vertical-align: middle;\n",
       "    }\n",
       "\n",
       "    .dataframe tbody tr th {\n",
       "        vertical-align: top;\n",
       "    }\n",
       "\n",
       "    .dataframe thead th {\n",
       "        text-align: right;\n",
       "    }\n",
       "</style>\n",
       "<table border=\"1\" class=\"dataframe\">\n",
       "  <thead>\n",
       "    <tr style=\"text-align: right;\">\n",
       "      <th></th>\n",
       "      <th>PR_Length_adj_irn</th>\n",
       "      <th>LR_number_adj_irn</th>\n",
       "      <th>LR_Density_adj_irn</th>\n",
       "    </tr>\n",
       "    <tr>\n",
       "      <th>id</th>\n",
       "      <th></th>\n",
       "      <th></th>\n",
       "      <th></th>\n",
       "    </tr>\n",
       "  </thead>\n",
       "  <tbody>\n",
       "    <tr>\n",
       "      <th>(K, 1, 1)</th>\n",
       "      <td>-1.534723</td>\n",
       "      <td>-0.445060</td>\n",
       "      <td>0.150892</td>\n",
       "    </tr>\n",
       "    <tr>\n",
       "      <th>(K, 1, 1)</th>\n",
       "      <td>-1.448232</td>\n",
       "      <td>-0.021233</td>\n",
       "      <td>0.439207</td>\n",
       "    </tr>\n",
       "    <tr>\n",
       "      <th>(K, 1, 1)</th>\n",
       "      <td>-1.860255</td>\n",
       "      <td>-0.692053</td>\n",
       "      <td>0.237461</td>\n",
       "    </tr>\n",
       "    <tr>\n",
       "      <th>(K, 1, 1)</th>\n",
       "      <td>-2.406788</td>\n",
       "      <td>-0.445060</td>\n",
       "      <td>1.272721</td>\n",
       "    </tr>\n",
       "    <tr>\n",
       "      <th>(K, 1, 1)</th>\n",
       "      <td>-1.757847</td>\n",
       "      <td>0.574728</td>\n",
       "      <td>1.505072</td>\n",
       "    </tr>\n",
       "    <tr>\n",
       "      <th>...</th>\n",
       "      <td>...</td>\n",
       "      <td>...</td>\n",
       "      <td>...</td>\n",
       "    </tr>\n",
       "    <tr>\n",
       "      <th>(K, 2, 79)</th>\n",
       "      <td>-0.443420</td>\n",
       "      <td>2.570188</td>\n",
       "      <td>2.860095</td>\n",
       "    </tr>\n",
       "    <tr>\n",
       "      <th>(K, 2, 79)</th>\n",
       "      <td>-0.907030</td>\n",
       "      <td>1.618571</td>\n",
       "      <td>2.639581</td>\n",
       "    </tr>\n",
       "    <tr>\n",
       "      <th>(K, 2, 79)</th>\n",
       "      <td>-0.581503</td>\n",
       "      <td>1.453097</td>\n",
       "      <td>1.929237</td>\n",
       "    </tr>\n",
       "    <tr>\n",
       "      <th>(K, 2, 79)</th>\n",
       "      <td>-0.672492</td>\n",
       "      <td>1.453097</td>\n",
       "      <td>2.119473</td>\n",
       "    </tr>\n",
       "    <tr>\n",
       "      <th>(K, 2, 79)</th>\n",
       "      <td>-0.597164</td>\n",
       "      <td>2.307872</td>\n",
       "      <td>2.835602</td>\n",
       "    </tr>\n",
       "  </tbody>\n",
       "</table>\n",
       "<p>3769 rows × 3 columns</p>\n",
       "</div>"
      ],
      "text/plain": [
       "            PR_Length_adj_irn  LR_number_adj_irn  LR_Density_adj_irn\n",
       "id                                                                  \n",
       "(K, 1, 1)           -1.534723          -0.445060            0.150892\n",
       "(K, 1, 1)           -1.448232          -0.021233            0.439207\n",
       "(K, 1, 1)           -1.860255          -0.692053            0.237461\n",
       "(K, 1, 1)           -2.406788          -0.445060            1.272721\n",
       "(K, 1, 1)           -1.757847           0.574728            1.505072\n",
       "...                       ...                ...                 ...\n",
       "(K, 2, 79)          -0.443420           2.570188            2.860095\n",
       "(K, 2, 79)          -0.907030           1.618571            2.639581\n",
       "(K, 2, 79)          -0.581503           1.453097            1.929237\n",
       "(K, 2, 79)          -0.672492           1.453097            2.119473\n",
       "(K, 2, 79)          -0.597164           2.307872            2.835602\n",
       "\n",
       "[3769 rows x 3 columns]"
      ]
     },
     "execution_count": 34,
     "metadata": {},
     "output_type": "execute_result"
    }
   ],
   "source": [
    "phenotype_data_clean"
   ]
  },
  {
   "cell_type": "code",
   "execution_count": 35,
   "id": "05cf3fde",
   "metadata": {},
   "outputs": [],
   "source": [
    "genotype_data_wide_K = genotype_data_wide[['K' in x for x in genotype_data_wide.index]]"
   ]
  },
  {
   "cell_type": "code",
   "execution_count": 36,
   "id": "40f7191a-58e1-4d5f-b8e6-c16ad8dea51c",
   "metadata": {},
   "outputs": [],
   "source": [
    "common_rows = genotype_data_wide.reset_index().id.isin(set(phenotype_data_clean.index))\n",
    "\n",
    "genotype_data_wide = genotype_data_wide.reset_index().loc[common_rows].set_index('id')# .reset_index(drop=True)\n",
    "# genotype_data_wide = genotype_data_wide.set_index('id')\n",
    "\n",
    "\n",
    "snps = [genotype_data_wide.columns[i][1] for i in range(TOP_N_VARIANTS)]\n",
    "genotype_data_wide.columns = snps"
   ]
  },
  {
   "cell_type": "code",
   "execution_count": 37,
   "id": "c819d9a7-790a-4a49-9c42-e7ec93845043",
   "metadata": {},
   "outputs": [],
   "source": [
    "# phenotype_data_clean.id.apply(lambda x: (x[0], int(x[1]), int(x[2])))\n",
    "# phenotype_data_clean = phenotype_data_clean.set_index(\"id\")\n",
    "# genotype_data_wide = genotype_data_wide.set_index(\"id\")"
   ]
  },
  {
   "cell_type": "code",
   "execution_count": 38,
   "id": "4ccfa1d2",
   "metadata": {},
   "outputs": [],
   "source": [
    "all_data = pd.merge(phenotype_data_clean, genotype_data_wide, left_index=True, right_index=True)\n",
    "all_data"
   ]
  },
  {
   "cell_type": "markdown",
   "id": "1f21616b",
   "metadata": {},
   "source": [
    "### GWAS: one plant, one data point"
   ]
  },
  {
   "cell_type": "code",
   "execution_count": 59,
   "id": "0c118638-a1dd-41a4-8579-ac55b5d0e558",
   "metadata": {},
   "outputs": [
    {
     "data": {
      "text/html": [
       "<div>\n",
       "<style scoped>\n",
       "    .dataframe tbody tr th:only-of-type {\n",
       "        vertical-align: middle;\n",
       "    }\n",
       "\n",
       "    .dataframe tbody tr th {\n",
       "        vertical-align: top;\n",
       "    }\n",
       "\n",
       "    .dataframe thead th {\n",
       "        text-align: right;\n",
       "    }\n",
       "</style>\n",
       "<table border=\"1\" class=\"dataframe\">\n",
       "  <thead>\n",
       "    <tr style=\"text-align: right;\">\n",
       "      <th></th>\n",
       "      <th>SNP</th>\n",
       "      <th>phenotype</th>\n",
       "      <th>p_value</th>\n",
       "      <th>beta</th>\n",
       "      <th>r_squared</th>\n",
       "    </tr>\n",
       "  </thead>\n",
       "  <tbody>\n",
       "    <tr>\n",
       "      <th>0</th>\n",
       "      <td>(PRKV01000002.1, 13730)</td>\n",
       "      <td>PR_Length_adj_irn</td>\n",
       "      <td>0.744604</td>\n",
       "      <td>-0.060245</td>\n",
       "      <td>0.000063</td>\n",
       "    </tr>\n",
       "    <tr>\n",
       "      <th>1</th>\n",
       "      <td>(PRKV01000002.1, 13730)</td>\n",
       "      <td>LR_number_adj_irn</td>\n",
       "      <td>0.094454</td>\n",
       "      <td>0.308587</td>\n",
       "      <td>0.001654</td>\n",
       "    </tr>\n",
       "    <tr>\n",
       "      <th>2</th>\n",
       "      <td>(PRKV01000002.1, 13730)</td>\n",
       "      <td>LR_Density_adj_irn</td>\n",
       "      <td>0.212750</td>\n",
       "      <td>0.230386</td>\n",
       "      <td>0.000919</td>\n",
       "    </tr>\n",
       "    <tr>\n",
       "      <th>3</th>\n",
       "      <td>(PRKV01000002.1, 13915)</td>\n",
       "      <td>PR_Length_adj_irn</td>\n",
       "      <td>0.165011</td>\n",
       "      <td>0.219581</td>\n",
       "      <td>0.000966</td>\n",
       "    </tr>\n",
       "    <tr>\n",
       "      <th>4</th>\n",
       "      <td>(PRKV01000002.1, 13915)</td>\n",
       "      <td>LR_number_adj_irn</td>\n",
       "      <td>0.521499</td>\n",
       "      <td>0.101233</td>\n",
       "      <td>0.000206</td>\n",
       "    </tr>\n",
       "    <tr>\n",
       "      <th>...</th>\n",
       "      <td>...</td>\n",
       "      <td>...</td>\n",
       "      <td>...</td>\n",
       "      <td>...</td>\n",
       "      <td>...</td>\n",
       "    </tr>\n",
       "    <tr>\n",
       "      <th>595</th>\n",
       "      <td>(PRKV01000035.1, 606980)</td>\n",
       "      <td>LR_number_adj_irn</td>\n",
       "      <td>0.706354</td>\n",
       "      <td>0.042402</td>\n",
       "      <td>0.000053</td>\n",
       "    </tr>\n",
       "    <tr>\n",
       "      <th>596</th>\n",
       "      <td>(PRKV01000035.1, 606980)</td>\n",
       "      <td>LR_Density_adj_irn</td>\n",
       "      <td>0.123544</td>\n",
       "      <td>-0.173569</td>\n",
       "      <td>0.000892</td>\n",
       "    </tr>\n",
       "    <tr>\n",
       "      <th>597</th>\n",
       "      <td>(PRKV01000035.1, 606983)</td>\n",
       "      <td>PR_Length_adj_irn</td>\n",
       "      <td>0.087681</td>\n",
       "      <td>0.217494</td>\n",
       "      <td>0.001070</td>\n",
       "    </tr>\n",
       "    <tr>\n",
       "      <th>598</th>\n",
       "      <td>(PRKV01000035.1, 606983)</td>\n",
       "      <td>LR_number_adj_irn</td>\n",
       "      <td>0.062954</td>\n",
       "      <td>-0.236463</td>\n",
       "      <td>0.001268</td>\n",
       "    </tr>\n",
       "    <tr>\n",
       "      <th>599</th>\n",
       "      <td>(PRKV01000035.1, 606983)</td>\n",
       "      <td>LR_Density_adj_irn</td>\n",
       "      <td>0.003015</td>\n",
       "      <td>-0.377557</td>\n",
       "      <td>0.003224</td>\n",
       "    </tr>\n",
       "  </tbody>\n",
       "</table>\n",
       "<p>600 rows × 5 columns</p>\n",
       "</div>"
      ],
      "text/plain": [
       "                          SNP           phenotype   p_value      beta  \\\n",
       "0     (PRKV01000002.1, 13730)   PR_Length_adj_irn  0.744604 -0.060245   \n",
       "1     (PRKV01000002.1, 13730)   LR_number_adj_irn  0.094454  0.308587   \n",
       "2     (PRKV01000002.1, 13730)  LR_Density_adj_irn  0.212750  0.230386   \n",
       "3     (PRKV01000002.1, 13915)   PR_Length_adj_irn  0.165011  0.219581   \n",
       "4     (PRKV01000002.1, 13915)   LR_number_adj_irn  0.521499  0.101233   \n",
       "..                        ...                 ...       ...       ...   \n",
       "595  (PRKV01000035.1, 606980)   LR_number_adj_irn  0.706354  0.042402   \n",
       "596  (PRKV01000035.1, 606980)  LR_Density_adj_irn  0.123544 -0.173569   \n",
       "597  (PRKV01000035.1, 606983)   PR_Length_adj_irn  0.087681  0.217494   \n",
       "598  (PRKV01000035.1, 606983)   LR_number_adj_irn  0.062954 -0.236463   \n",
       "599  (PRKV01000035.1, 606983)  LR_Density_adj_irn  0.003015 -0.377557   \n",
       "\n",
       "     r_squared  \n",
       "0     0.000063  \n",
       "1     0.001654  \n",
       "2     0.000919  \n",
       "3     0.000966  \n",
       "4     0.000206  \n",
       "..         ...  \n",
       "595   0.000053  \n",
       "596   0.000892  \n",
       "597   0.001070  \n",
       "598   0.001268  \n",
       "599   0.003224  \n",
       "\n",
       "[600 rows x 5 columns]"
      ]
     },
     "metadata": {},
     "output_type": "display_data"
    }
   ],
   "source": [
    "results = []\n",
    "\n",
    "for snp in snps:\n",
    "    \n",
    "    for phenotype in phenotypes:\n",
    "        \n",
    "        X = all_data[snp]\n",
    "        valid = ~X.isna()\n",
    "        X = X[valid]\n",
    "        X = sm.add_constant(X)\n",
    "        \n",
    "        # Y si permutamos los datos? Da lo esperado\n",
    "        #X = X.sample(len(X))\n",
    "        \n",
    "        y = all_data[phenotype][valid]\n",
    "        y = inverse_rank_normalization(y)\n",
    "    \n",
    "        model = sm.OLS(y, X)\n",
    "        result = model.fit()\n",
    "        \n",
    "        results.append({\n",
    "            'SNP': snp,\n",
    "            'phenotype': phenotype,\n",
    "            'p_value': result.pvalues[snp],\n",
    "            'beta': result.params[snp],\n",
    "            'r_squared': result.rsquared\n",
    "        })\n",
    "\n",
    "results_df = pd.DataFrame(results)\n",
    "display(results_df)"
   ]
  },
  {
   "cell_type": "code",
   "execution_count": 41,
   "id": "27c21846-ab94-481c-9c1b-13214cd1d24d",
   "metadata": {},
   "outputs": [
    {
     "data": {
      "text/html": [
       "<div>\n",
       "<style scoped>\n",
       "    .dataframe tbody tr th:only-of-type {\n",
       "        vertical-align: middle;\n",
       "    }\n",
       "\n",
       "    .dataframe tbody tr th {\n",
       "        vertical-align: top;\n",
       "    }\n",
       "\n",
       "    .dataframe thead th {\n",
       "        text-align: right;\n",
       "    }\n",
       "</style>\n",
       "<table border=\"1\" class=\"dataframe\">\n",
       "  <thead>\n",
       "    <tr style=\"text-align: right;\">\n",
       "      <th></th>\n",
       "      <th>SNP</th>\n",
       "      <th>phenotype</th>\n",
       "      <th>p_value</th>\n",
       "      <th>beta</th>\n",
       "      <th>r_squared</th>\n",
       "    </tr>\n",
       "  </thead>\n",
       "  <tbody>\n",
       "    <tr>\n",
       "      <th>0</th>\n",
       "      <td>(PRKV01000002.1, 13730)</td>\n",
       "      <td>PR_Length_adj_irn</td>\n",
       "      <td>0.744604</td>\n",
       "      <td>-0.060245</td>\n",
       "      <td>0.000063</td>\n",
       "    </tr>\n",
       "    <tr>\n",
       "      <th>1</th>\n",
       "      <td>(PRKV01000002.1, 13730)</td>\n",
       "      <td>LR_number_adj_irn</td>\n",
       "      <td>0.094454</td>\n",
       "      <td>0.308587</td>\n",
       "      <td>0.001654</td>\n",
       "    </tr>\n",
       "    <tr>\n",
       "      <th>2</th>\n",
       "      <td>(PRKV01000002.1, 13730)</td>\n",
       "      <td>LR_Density_adj_irn</td>\n",
       "      <td>0.212750</td>\n",
       "      <td>0.230386</td>\n",
       "      <td>0.000919</td>\n",
       "    </tr>\n",
       "    <tr>\n",
       "      <th>3</th>\n",
       "      <td>(PRKV01000002.1, 13915)</td>\n",
       "      <td>PR_Length_adj_irn</td>\n",
       "      <td>0.165011</td>\n",
       "      <td>0.219581</td>\n",
       "      <td>0.000966</td>\n",
       "    </tr>\n",
       "    <tr>\n",
       "      <th>4</th>\n",
       "      <td>(PRKV01000002.1, 13915)</td>\n",
       "      <td>LR_number_adj_irn</td>\n",
       "      <td>0.521499</td>\n",
       "      <td>0.101233</td>\n",
       "      <td>0.000206</td>\n",
       "    </tr>\n",
       "    <tr>\n",
       "      <th>...</th>\n",
       "      <td>...</td>\n",
       "      <td>...</td>\n",
       "      <td>...</td>\n",
       "      <td>...</td>\n",
       "      <td>...</td>\n",
       "    </tr>\n",
       "    <tr>\n",
       "      <th>595</th>\n",
       "      <td>(PRKV01000035.1, 606980)</td>\n",
       "      <td>LR_number_adj_irn</td>\n",
       "      <td>0.706354</td>\n",
       "      <td>0.042402</td>\n",
       "      <td>0.000053</td>\n",
       "    </tr>\n",
       "    <tr>\n",
       "      <th>596</th>\n",
       "      <td>(PRKV01000035.1, 606980)</td>\n",
       "      <td>LR_Density_adj_irn</td>\n",
       "      <td>0.123544</td>\n",
       "      <td>-0.173569</td>\n",
       "      <td>0.000892</td>\n",
       "    </tr>\n",
       "    <tr>\n",
       "      <th>597</th>\n",
       "      <td>(PRKV01000035.1, 606983)</td>\n",
       "      <td>PR_Length_adj_irn</td>\n",
       "      <td>0.087681</td>\n",
       "      <td>0.217494</td>\n",
       "      <td>0.001070</td>\n",
       "    </tr>\n",
       "    <tr>\n",
       "      <th>598</th>\n",
       "      <td>(PRKV01000035.1, 606983)</td>\n",
       "      <td>LR_number_adj_irn</td>\n",
       "      <td>0.062954</td>\n",
       "      <td>-0.236463</td>\n",
       "      <td>0.001268</td>\n",
       "    </tr>\n",
       "    <tr>\n",
       "      <th>599</th>\n",
       "      <td>(PRKV01000035.1, 606983)</td>\n",
       "      <td>LR_Density_adj_irn</td>\n",
       "      <td>0.003015</td>\n",
       "      <td>-0.377557</td>\n",
       "      <td>0.003224</td>\n",
       "    </tr>\n",
       "  </tbody>\n",
       "</table>\n",
       "<p>600 rows × 5 columns</p>\n",
       "</div>"
      ],
      "text/plain": [
       "                          SNP           phenotype   p_value      beta  \\\n",
       "0     (PRKV01000002.1, 13730)   PR_Length_adj_irn  0.744604 -0.060245   \n",
       "1     (PRKV01000002.1, 13730)   LR_number_adj_irn  0.094454  0.308587   \n",
       "2     (PRKV01000002.1, 13730)  LR_Density_adj_irn  0.212750  0.230386   \n",
       "3     (PRKV01000002.1, 13915)   PR_Length_adj_irn  0.165011  0.219581   \n",
       "4     (PRKV01000002.1, 13915)   LR_number_adj_irn  0.521499  0.101233   \n",
       "..                        ...                 ...       ...       ...   \n",
       "595  (PRKV01000035.1, 606980)   LR_number_adj_irn  0.706354  0.042402   \n",
       "596  (PRKV01000035.1, 606980)  LR_Density_adj_irn  0.123544 -0.173569   \n",
       "597  (PRKV01000035.1, 606983)   PR_Length_adj_irn  0.087681  0.217494   \n",
       "598  (PRKV01000035.1, 606983)   LR_number_adj_irn  0.062954 -0.236463   \n",
       "599  (PRKV01000035.1, 606983)  LR_Density_adj_irn  0.003015 -0.377557   \n",
       "\n",
       "     r_squared  \n",
       "0     0.000063  \n",
       "1     0.001654  \n",
       "2     0.000919  \n",
       "3     0.000966  \n",
       "4     0.000206  \n",
       "..         ...  \n",
       "595   0.000053  \n",
       "596   0.000892  \n",
       "597   0.001070  \n",
       "598   0.001268  \n",
       "599   0.003224  \n",
       "\n",
       "[600 rows x 5 columns]"
      ]
     },
     "execution_count": 41,
     "metadata": {},
     "output_type": "execute_result"
    }
   ],
   "source": [
    "results_df.sort_values(\"p_value\")\n",
    "results_df"
   ]
  },
  {
   "cell_type": "code",
   "execution_count": 42,
   "id": "3d8ce6fb",
   "metadata": {},
   "outputs": [
    {
     "data": {
      "text/html": [
       "<div>\n",
       "<style scoped>\n",
       "    .dataframe tbody tr th:only-of-type {\n",
       "        vertical-align: middle;\n",
       "    }\n",
       "\n",
       "    .dataframe tbody tr th {\n",
       "        vertical-align: top;\n",
       "    }\n",
       "\n",
       "    .dataframe thead th {\n",
       "        text-align: right;\n",
       "    }\n",
       "</style>\n",
       "<table border=\"1\" class=\"dataframe\">\n",
       "  <thead>\n",
       "    <tr style=\"text-align: right;\">\n",
       "      <th></th>\n",
       "      <th>SNP</th>\n",
       "      <th>phenotype</th>\n",
       "      <th>p_value</th>\n",
       "      <th>beta</th>\n",
       "      <th>r_squared</th>\n",
       "    </tr>\n",
       "  </thead>\n",
       "  <tbody>\n",
       "    <tr>\n",
       "      <th>2</th>\n",
       "      <td>(PRKV01000002.1, 13730)</td>\n",
       "      <td>LR_Density_adj_irn</td>\n",
       "      <td>2.127500e-01</td>\n",
       "      <td>0.230386</td>\n",
       "      <td>0.000919</td>\n",
       "    </tr>\n",
       "    <tr>\n",
       "      <th>5</th>\n",
       "      <td>(PRKV01000002.1, 13915)</td>\n",
       "      <td>LR_Density_adj_irn</td>\n",
       "      <td>8.211209e-01</td>\n",
       "      <td>-0.035767</td>\n",
       "      <td>0.000026</td>\n",
       "    </tr>\n",
       "    <tr>\n",
       "      <th>8</th>\n",
       "      <td>(PRKV01000002.1, 13938)</td>\n",
       "      <td>LR_Density_adj_irn</td>\n",
       "      <td>8.448930e-02</td>\n",
       "      <td>-0.171109</td>\n",
       "      <td>0.001541</td>\n",
       "    </tr>\n",
       "    <tr>\n",
       "      <th>11</th>\n",
       "      <td>(PRKV01000002.1, 14581)</td>\n",
       "      <td>LR_Density_adj_irn</td>\n",
       "      <td>9.244687e-03</td>\n",
       "      <td>-0.359421</td>\n",
       "      <td>0.003172</td>\n",
       "    </tr>\n",
       "    <tr>\n",
       "      <th>14</th>\n",
       "      <td>(PRKV01000002.1, 42521)</td>\n",
       "      <td>LR_Density_adj_irn</td>\n",
       "      <td>2.115898e-01</td>\n",
       "      <td>-0.167695</td>\n",
       "      <td>0.000848</td>\n",
       "    </tr>\n",
       "    <tr>\n",
       "      <th>...</th>\n",
       "      <td>...</td>\n",
       "      <td>...</td>\n",
       "      <td>...</td>\n",
       "      <td>...</td>\n",
       "      <td>...</td>\n",
       "    </tr>\n",
       "    <tr>\n",
       "      <th>587</th>\n",
       "      <td>(PRKV01000035.1, 403806)</td>\n",
       "      <td>LR_Density_adj_irn</td>\n",
       "      <td>7.334654e-01</td>\n",
       "      <td>-0.048154</td>\n",
       "      <td>0.000074</td>\n",
       "    </tr>\n",
       "    <tr>\n",
       "      <th>590</th>\n",
       "      <td>(PRKV01000035.1, 403807)</td>\n",
       "      <td>LR_Density_adj_irn</td>\n",
       "      <td>1.417543e-01</td>\n",
       "      <td>-0.189086</td>\n",
       "      <td>0.001020</td>\n",
       "    </tr>\n",
       "    <tr>\n",
       "      <th>593</th>\n",
       "      <td>(PRKV01000035.1, 495534)</td>\n",
       "      <td>LR_Density_adj_irn</td>\n",
       "      <td>5.709684e-09</td>\n",
       "      <td>-0.784642</td>\n",
       "      <td>0.023216</td>\n",
       "    </tr>\n",
       "    <tr>\n",
       "      <th>596</th>\n",
       "      <td>(PRKV01000035.1, 606980)</td>\n",
       "      <td>LR_Density_adj_irn</td>\n",
       "      <td>1.235442e-01</td>\n",
       "      <td>-0.173569</td>\n",
       "      <td>0.000892</td>\n",
       "    </tr>\n",
       "    <tr>\n",
       "      <th>599</th>\n",
       "      <td>(PRKV01000035.1, 606983)</td>\n",
       "      <td>LR_Density_adj_irn</td>\n",
       "      <td>3.015310e-03</td>\n",
       "      <td>-0.377557</td>\n",
       "      <td>0.003224</td>\n",
       "    </tr>\n",
       "  </tbody>\n",
       "</table>\n",
       "<p>200 rows × 5 columns</p>\n",
       "</div>"
      ],
      "text/plain": [
       "                          SNP           phenotype       p_value      beta  \\\n",
       "2     (PRKV01000002.1, 13730)  LR_Density_adj_irn  2.127500e-01  0.230386   \n",
       "5     (PRKV01000002.1, 13915)  LR_Density_adj_irn  8.211209e-01 -0.035767   \n",
       "8     (PRKV01000002.1, 13938)  LR_Density_adj_irn  8.448930e-02 -0.171109   \n",
       "11    (PRKV01000002.1, 14581)  LR_Density_adj_irn  9.244687e-03 -0.359421   \n",
       "14    (PRKV01000002.1, 42521)  LR_Density_adj_irn  2.115898e-01 -0.167695   \n",
       "..                        ...                 ...           ...       ...   \n",
       "587  (PRKV01000035.1, 403806)  LR_Density_adj_irn  7.334654e-01 -0.048154   \n",
       "590  (PRKV01000035.1, 403807)  LR_Density_adj_irn  1.417543e-01 -0.189086   \n",
       "593  (PRKV01000035.1, 495534)  LR_Density_adj_irn  5.709684e-09 -0.784642   \n",
       "596  (PRKV01000035.1, 606980)  LR_Density_adj_irn  1.235442e-01 -0.173569   \n",
       "599  (PRKV01000035.1, 606983)  LR_Density_adj_irn  3.015310e-03 -0.377557   \n",
       "\n",
       "     r_squared  \n",
       "2     0.000919  \n",
       "5     0.000026  \n",
       "8     0.001541  \n",
       "11    0.003172  \n",
       "14    0.000848  \n",
       "..         ...  \n",
       "587   0.000074  \n",
       "590   0.001020  \n",
       "593   0.023216  \n",
       "596   0.000892  \n",
       "599   0.003224  \n",
       "\n",
       "[200 rows x 5 columns]"
      ]
     },
     "execution_count": 42,
     "metadata": {},
     "output_type": "execute_result"
    }
   ],
   "source": [
    "results_df.query(\"phenotype == 'LR_Density_adj_irn'\")"
   ]
  },
  {
   "cell_type": "code",
   "execution_count": 60,
   "id": "7356502d",
   "metadata": {},
   "outputs": [],
   "source": [
    "def qqplot(p_values):\n",
    "    \n",
    "    observed = -np.log10(p_values)\n",
    "    expected = -np.log10(np.linspace(1/len(p_values), 1, len(p_values)))\n",
    "    \n",
    "    plt.figure(figsize=(6, 6))\n",
    "    plt.scatter(np.sort(expected), np.sort(observed), c=\"blue\", s=10, label=\"SNPs\")\n",
    "    plt.plot([0, max(expected)], [0, max(expected)], color=\"red\", linestyle=\"--\", label=\"Expected under the null (y=x)\")\n",
    "    plt.xlabel(\"Expected -log10(p)\")\n",
    "    plt.ylabel(\"Observed -log10(p)\")\n",
    "    plt.title(\"QQ-plot\")\n",
    "    plt.legend()\n",
    "    plt.grid(alpha=0.3)"
   ]
  },
  {
   "cell_type": "code",
   "execution_count": 63,
   "id": "0a8fee0d-02f3-4513-8b0b-7abacf9b1aad",
   "metadata": {},
   "outputs": [
    {
     "data": {
      "image/png": "[encoded data removed]",
      "text/plain": [
       "<Figure size 600x600 with 1 Axes>"
      ]
     },
     "metadata": {},
     "output_type": "display_data"
    },
    {
     "data": {
      "image/png": "[encoded data removed]",
      "text/plain": [
       "<Figure size 600x600 with 1 Axes>"
      ]
     },
     "metadata": {},
     "output_type": "display_data"
    }
   ],
   "source": [
    "qqplot(results_df.query(\"phenotype == 'LR_number_adj_irn'\").p_value)\n",
    "qqplot(results_df.query(\"phenotype == 'LR_Density_adj_irn'\").p_value)"
   ]
  },
  {
   "cell_type": "code",
   "execution_count": 44,
   "id": "ef35f9ad",
   "metadata": {},
   "outputs": [
    {
     "data": {
      "text/plain": [
       "PR_Length_adj_irn          -3.760749\n",
       "LR_number_adj_irn          -3.760749\n",
       "LR_Density_adj_irn         -3.760749\n",
       "(PRKV01000012.1, 27754)     0.042254\n",
       "(PRKV01000009.1, 241180)    0.050000\n",
       "                              ...   \n",
       "(PRKV01000002.1, 143111)    0.500000\n",
       "(PRKV01000002.1, 104934)    0.500000\n",
       "(PRKV01000031.1, 36626)     0.500000\n",
       "(PRKV01000005.1, 1)         0.500000\n",
       "(PRKV01000013.1, 128134)    0.500000\n",
       "Length: 203, dtype: float64"
      ]
     },
     "execution_count": 44,
     "metadata": {},
     "output_type": "execute_result"
    }
   ],
   "source": [
    "all_data.min(axis=0).sort_values()"
   ]
  },
  {
   "cell_type": "code",
   "execution_count": 45,
   "id": "23b42d78",
   "metadata": {},
   "outputs": [],
   "source": []
  },
  {
   "cell_type": "code",
   "execution_count": 46,
   "id": "ce1fcb46",
   "metadata": {},
   "outputs": [
    {
     "data": {
      "application/vnd.jupyter.widget-view+json": {
       "model_id": "ee310b533d434d33a262353baaa0c854",
       "version_major": 2,
       "version_minor": 0
      },
      "text/plain": [
       "interactive(children=(IntSlider(value=0, description='index'), Output()), _dom_classes=('widget-interact',))"
      ]
     },
     "metadata": {},
     "output_type": "display_data"
    }
   ],
   "source": [
    "# PRKV01000004.1, 665\n",
    "# pp = all_data.groupby((\"contig000024\", 14027)).agg(\"mean\").reset_index()\n",
    "# pp = all_data[[SNP]]# all_data.groupby(SNP).agg(\"mean\").reset_index()\n",
    "@interact\n",
    "def select_association(index=widgets.IntSlider(min=0,max=100)):\n",
    "    # index = 10\n",
    "    SNP = results_df.SNP.iloc[index] # (\"PRKV01000004.1\", 66535)\n",
    "    phenotype = results_df.phenotype.iloc[index]\n",
    "    \n",
    "    plt.scatter(all_data[[SNP]], all_data[[phenotype]]);\n",
    "    plt.title(SNP)"
   ]
  },
  {
   "cell_type": "markdown",
   "id": "ad83c479",
   "metadata": {},
   "source": [
    "___"
   ]
  },
  {
   "cell_type": "code",
   "execution_count": 47,
   "id": "2a08e6b6",
   "metadata": {},
   "outputs": [],
   "source": [
    "gff = \"/home/rodrigo/Postdoc/plant-microbiota-interaction/data/genomes/reference/ensembl_compatible.gff3\""
   ]
  },
  {
   "cell_type": "code",
   "execution_count": 48,
   "id": "85f62ec2",
   "metadata": {},
   "outputs": [],
   "source": [
    "gff = \"/home/rodrigo/Postdoc/plant-microbiota-interaction/data/genomes/reference_2/annotations/annotations2.gff3\""
   ]
  },
  {
   "cell_type": "code",
   "execution_count": 49,
   "id": "e0ae57be",
   "metadata": {},
   "outputs": [
    {
     "ename": "FileNotFoundError",
     "evalue": "[Errno 2] No such file or directory: '/home/rodrigo/Postdoc/plant-microbiota-interaction/data/genomes/reference_2/annotations/annotations2.gff3'",
     "output_type": "error",
     "traceback": [
      "\u001b[0;31m---------------------------------------------------------------------------\u001b[0m",
      "\u001b[0;31mFileNotFoundError\u001b[0m                         Traceback (most recent call last)",
      "Cell \u001b[0;32mIn[49], line 1\u001b[0m\n\u001b[0;32m----> 1\u001b[0m annot \u001b[38;5;241m=\u001b[39m \u001b[43mpd\u001b[49m\u001b[38;5;241;43m.\u001b[39;49m\u001b[43mread_csv\u001b[49m\u001b[43m(\u001b[49m\u001b[43mgff\u001b[49m\u001b[43m,\u001b[49m\u001b[43m \u001b[49m\u001b[43msep\u001b[49m\u001b[38;5;241;43m=\u001b[39;49m\u001b[38;5;124;43m'\u001b[39;49m\u001b[38;5;130;43;01m\\t\u001b[39;49;00m\u001b[38;5;124;43m'\u001b[39;49m\u001b[43m,\u001b[49m\u001b[43m \u001b[49m\u001b[43mheader\u001b[49m\u001b[38;5;241;43m=\u001b[39;49m\u001b[38;5;28;43;01mNone\u001b[39;49;00m\u001b[43m)\u001b[49m\n",
      "File \u001b[0;32m~/miniconda/envs/scRNA/lib/python3.10/site-packages/pandas/io/parsers/readers.py:1026\u001b[0m, in \u001b[0;36mread_csv\u001b[0;34m(filepath_or_buffer, sep, delimiter, header, names, index_col, usecols, dtype, engine, converters, true_values, false_values, skipinitialspace, skiprows, skipfooter, nrows, na_values, keep_default_na, na_filter, verbose, skip_blank_lines, parse_dates, infer_datetime_format, keep_date_col, date_parser, date_format, dayfirst, cache_dates, iterator, chunksize, compression, thousands, decimal, lineterminator, quotechar, quoting, doublequote, escapechar, comment, encoding, encoding_errors, dialect, on_bad_lines, delim_whitespace, low_memory, memory_map, float_precision, storage_options, dtype_backend)\u001b[0m\n\u001b[1;32m   1013\u001b[0m kwds_defaults \u001b[38;5;241m=\u001b[39m _refine_defaults_read(\n\u001b[1;32m   1014\u001b[0m     dialect,\n\u001b[1;32m   1015\u001b[0m     delimiter,\n\u001b[0;32m   (...)\u001b[0m\n\u001b[1;32m   1022\u001b[0m     dtype_backend\u001b[38;5;241m=\u001b[39mdtype_backend,\n\u001b[1;32m   1023\u001b[0m )\n\u001b[1;32m   1024\u001b[0m kwds\u001b[38;5;241m.\u001b[39mupdate(kwds_defaults)\n\u001b[0;32m-> 1026\u001b[0m \u001b[38;5;28;01mreturn\u001b[39;00m \u001b[43m_read\u001b[49m\u001b[43m(\u001b[49m\u001b[43mfilepath_or_buffer\u001b[49m\u001b[43m,\u001b[49m\u001b[43m \u001b[49m\u001b[43mkwds\u001b[49m\u001b[43m)\u001b[49m\n",
      "File \u001b[0;32m~/miniconda/envs/scRNA/lib/python3.10/site-packages/pandas/io/parsers/readers.py:620\u001b[0m, in \u001b[0;36m_read\u001b[0;34m(filepath_or_buffer, kwds)\u001b[0m\n\u001b[1;32m    617\u001b[0m _validate_names(kwds\u001b[38;5;241m.\u001b[39mget(\u001b[38;5;124m\"\u001b[39m\u001b[38;5;124mnames\u001b[39m\u001b[38;5;124m\"\u001b[39m, \u001b[38;5;28;01mNone\u001b[39;00m))\n\u001b[1;32m    619\u001b[0m \u001b[38;5;66;03m# Create the parser.\u001b[39;00m\n\u001b[0;32m--> 620\u001b[0m parser \u001b[38;5;241m=\u001b[39m \u001b[43mTextFileReader\u001b[49m\u001b[43m(\u001b[49m\u001b[43mfilepath_or_buffer\u001b[49m\u001b[43m,\u001b[49m\u001b[43m \u001b[49m\u001b[38;5;241;43m*\u001b[39;49m\u001b[38;5;241;43m*\u001b[39;49m\u001b[43mkwds\u001b[49m\u001b[43m)\u001b[49m\n\u001b[1;32m    622\u001b[0m \u001b[38;5;28;01mif\u001b[39;00m chunksize \u001b[38;5;129;01mor\u001b[39;00m iterator:\n\u001b[1;32m    623\u001b[0m     \u001b[38;5;28;01mreturn\u001b[39;00m parser\n",
      "File \u001b[0;32m~/miniconda/envs/scRNA/lib/python3.10/site-packages/pandas/io/parsers/readers.py:1620\u001b[0m, in \u001b[0;36mTextFileReader.__init__\u001b[0;34m(self, f, engine, **kwds)\u001b[0m\n\u001b[1;32m   1617\u001b[0m     \u001b[38;5;28mself\u001b[39m\u001b[38;5;241m.\u001b[39moptions[\u001b[38;5;124m\"\u001b[39m\u001b[38;5;124mhas_index_names\u001b[39m\u001b[38;5;124m\"\u001b[39m] \u001b[38;5;241m=\u001b[39m kwds[\u001b[38;5;124m\"\u001b[39m\u001b[38;5;124mhas_index_names\u001b[39m\u001b[38;5;124m\"\u001b[39m]\n\u001b[1;32m   1619\u001b[0m \u001b[38;5;28mself\u001b[39m\u001b[38;5;241m.\u001b[39mhandles: IOHandles \u001b[38;5;241m|\u001b[39m \u001b[38;5;28;01mNone\u001b[39;00m \u001b[38;5;241m=\u001b[39m \u001b[38;5;28;01mNone\u001b[39;00m\n\u001b[0;32m-> 1620\u001b[0m \u001b[38;5;28mself\u001b[39m\u001b[38;5;241m.\u001b[39m_engine \u001b[38;5;241m=\u001b[39m \u001b[38;5;28;43mself\u001b[39;49m\u001b[38;5;241;43m.\u001b[39;49m\u001b[43m_make_engine\u001b[49m\u001b[43m(\u001b[49m\u001b[43mf\u001b[49m\u001b[43m,\u001b[49m\u001b[43m \u001b[49m\u001b[38;5;28;43mself\u001b[39;49m\u001b[38;5;241;43m.\u001b[39;49m\u001b[43mengine\u001b[49m\u001b[43m)\u001b[49m\n",
      "File \u001b[0;32m~/miniconda/envs/scRNA/lib/python3.10/site-packages/pandas/io/parsers/readers.py:1880\u001b[0m, in \u001b[0;36mTextFileReader._make_engine\u001b[0;34m(self, f, engine)\u001b[0m\n\u001b[1;32m   1878\u001b[0m     \u001b[38;5;28;01mif\u001b[39;00m \u001b[38;5;124m\"\u001b[39m\u001b[38;5;124mb\u001b[39m\u001b[38;5;124m\"\u001b[39m \u001b[38;5;129;01mnot\u001b[39;00m \u001b[38;5;129;01min\u001b[39;00m mode:\n\u001b[1;32m   1879\u001b[0m         mode \u001b[38;5;241m+\u001b[39m\u001b[38;5;241m=\u001b[39m \u001b[38;5;124m\"\u001b[39m\u001b[38;5;124mb\u001b[39m\u001b[38;5;124m\"\u001b[39m\n\u001b[0;32m-> 1880\u001b[0m \u001b[38;5;28mself\u001b[39m\u001b[38;5;241m.\u001b[39mhandles \u001b[38;5;241m=\u001b[39m \u001b[43mget_handle\u001b[49m\u001b[43m(\u001b[49m\n\u001b[1;32m   1881\u001b[0m \u001b[43m    \u001b[49m\u001b[43mf\u001b[49m\u001b[43m,\u001b[49m\n\u001b[1;32m   1882\u001b[0m \u001b[43m    \u001b[49m\u001b[43mmode\u001b[49m\u001b[43m,\u001b[49m\n\u001b[1;32m   1883\u001b[0m \u001b[43m    \u001b[49m\u001b[43mencoding\u001b[49m\u001b[38;5;241;43m=\u001b[39;49m\u001b[38;5;28;43mself\u001b[39;49m\u001b[38;5;241;43m.\u001b[39;49m\u001b[43moptions\u001b[49m\u001b[38;5;241;43m.\u001b[39;49m\u001b[43mget\u001b[49m\u001b[43m(\u001b[49m\u001b[38;5;124;43m\"\u001b[39;49m\u001b[38;5;124;43mencoding\u001b[39;49m\u001b[38;5;124;43m\"\u001b[39;49m\u001b[43m,\u001b[49m\u001b[43m \u001b[49m\u001b[38;5;28;43;01mNone\u001b[39;49;00m\u001b[43m)\u001b[49m\u001b[43m,\u001b[49m\n\u001b[1;32m   1884\u001b[0m \u001b[43m    \u001b[49m\u001b[43mcompression\u001b[49m\u001b[38;5;241;43m=\u001b[39;49m\u001b[38;5;28;43mself\u001b[39;49m\u001b[38;5;241;43m.\u001b[39;49m\u001b[43moptions\u001b[49m\u001b[38;5;241;43m.\u001b[39;49m\u001b[43mget\u001b[49m\u001b[43m(\u001b[49m\u001b[38;5;124;43m\"\u001b[39;49m\u001b[38;5;124;43mcompression\u001b[39;49m\u001b[38;5;124;43m\"\u001b[39;49m\u001b[43m,\u001b[49m\u001b[43m \u001b[49m\u001b[38;5;28;43;01mNone\u001b[39;49;00m\u001b[43m)\u001b[49m\u001b[43m,\u001b[49m\n\u001b[1;32m   1885\u001b[0m \u001b[43m    \u001b[49m\u001b[43mmemory_map\u001b[49m\u001b[38;5;241;43m=\u001b[39;49m\u001b[38;5;28;43mself\u001b[39;49m\u001b[38;5;241;43m.\u001b[39;49m\u001b[43moptions\u001b[49m\u001b[38;5;241;43m.\u001b[39;49m\u001b[43mget\u001b[49m\u001b[43m(\u001b[49m\u001b[38;5;124;43m\"\u001b[39;49m\u001b[38;5;124;43mmemory_map\u001b[39;49m\u001b[38;5;124;43m\"\u001b[39;49m\u001b[43m,\u001b[49m\u001b[43m \u001b[49m\u001b[38;5;28;43;01mFalse\u001b[39;49;00m\u001b[43m)\u001b[49m\u001b[43m,\u001b[49m\n\u001b[1;32m   1886\u001b[0m \u001b[43m    \u001b[49m\u001b[43mis_text\u001b[49m\u001b[38;5;241;43m=\u001b[39;49m\u001b[43mis_text\u001b[49m\u001b[43m,\u001b[49m\n\u001b[1;32m   1887\u001b[0m \u001b[43m    \u001b[49m\u001b[43merrors\u001b[49m\u001b[38;5;241;43m=\u001b[39;49m\u001b[38;5;28;43mself\u001b[39;49m\u001b[38;5;241;43m.\u001b[39;49m\u001b[43moptions\u001b[49m\u001b[38;5;241;43m.\u001b[39;49m\u001b[43mget\u001b[49m\u001b[43m(\u001b[49m\u001b[38;5;124;43m\"\u001b[39;49m\u001b[38;5;124;43mencoding_errors\u001b[39;49m\u001b[38;5;124;43m\"\u001b[39;49m\u001b[43m,\u001b[49m\u001b[43m \u001b[49m\u001b[38;5;124;43m\"\u001b[39;49m\u001b[38;5;124;43mstrict\u001b[39;49m\u001b[38;5;124;43m\"\u001b[39;49m\u001b[43m)\u001b[49m\u001b[43m,\u001b[49m\n\u001b[1;32m   1888\u001b[0m \u001b[43m    \u001b[49m\u001b[43mstorage_options\u001b[49m\u001b[38;5;241;43m=\u001b[39;49m\u001b[38;5;28;43mself\u001b[39;49m\u001b[38;5;241;43m.\u001b[39;49m\u001b[43moptions\u001b[49m\u001b[38;5;241;43m.\u001b[39;49m\u001b[43mget\u001b[49m\u001b[43m(\u001b[49m\u001b[38;5;124;43m\"\u001b[39;49m\u001b[38;5;124;43mstorage_options\u001b[39;49m\u001b[38;5;124;43m\"\u001b[39;49m\u001b[43m,\u001b[49m\u001b[43m \u001b[49m\u001b[38;5;28;43;01mNone\u001b[39;49;00m\u001b[43m)\u001b[49m\u001b[43m,\u001b[49m\n\u001b[1;32m   1889\u001b[0m \u001b[43m\u001b[49m\u001b[43m)\u001b[49m\n\u001b[1;32m   1890\u001b[0m \u001b[38;5;28;01massert\u001b[39;00m \u001b[38;5;28mself\u001b[39m\u001b[38;5;241m.\u001b[39mhandles \u001b[38;5;129;01mis\u001b[39;00m \u001b[38;5;129;01mnot\u001b[39;00m \u001b[38;5;28;01mNone\u001b[39;00m\n\u001b[1;32m   1891\u001b[0m f \u001b[38;5;241m=\u001b[39m \u001b[38;5;28mself\u001b[39m\u001b[38;5;241m.\u001b[39mhandles\u001b[38;5;241m.\u001b[39mhandle\n",
      "File \u001b[0;32m~/miniconda/envs/scRNA/lib/python3.10/site-packages/pandas/io/common.py:873\u001b[0m, in \u001b[0;36mget_handle\u001b[0;34m(path_or_buf, mode, encoding, compression, memory_map, is_text, errors, storage_options)\u001b[0m\n\u001b[1;32m    868\u001b[0m \u001b[38;5;28;01melif\u001b[39;00m \u001b[38;5;28misinstance\u001b[39m(handle, \u001b[38;5;28mstr\u001b[39m):\n\u001b[1;32m    869\u001b[0m     \u001b[38;5;66;03m# Check whether the filename is to be opened in binary mode.\u001b[39;00m\n\u001b[1;32m    870\u001b[0m     \u001b[38;5;66;03m# Binary mode does not support 'encoding' and 'newline'.\u001b[39;00m\n\u001b[1;32m    871\u001b[0m     \u001b[38;5;28;01mif\u001b[39;00m ioargs\u001b[38;5;241m.\u001b[39mencoding \u001b[38;5;129;01mand\u001b[39;00m \u001b[38;5;124m\"\u001b[39m\u001b[38;5;124mb\u001b[39m\u001b[38;5;124m\"\u001b[39m \u001b[38;5;129;01mnot\u001b[39;00m \u001b[38;5;129;01min\u001b[39;00m ioargs\u001b[38;5;241m.\u001b[39mmode:\n\u001b[1;32m    872\u001b[0m         \u001b[38;5;66;03m# Encoding\u001b[39;00m\n\u001b[0;32m--> 873\u001b[0m         handle \u001b[38;5;241m=\u001b[39m \u001b[38;5;28;43mopen\u001b[39;49m\u001b[43m(\u001b[49m\n\u001b[1;32m    874\u001b[0m \u001b[43m            \u001b[49m\u001b[43mhandle\u001b[49m\u001b[43m,\u001b[49m\n\u001b[1;32m    875\u001b[0m \u001b[43m            \u001b[49m\u001b[43mioargs\u001b[49m\u001b[38;5;241;43m.\u001b[39;49m\u001b[43mmode\u001b[49m\u001b[43m,\u001b[49m\n\u001b[1;32m    876\u001b[0m \u001b[43m            \u001b[49m\u001b[43mencoding\u001b[49m\u001b[38;5;241;43m=\u001b[39;49m\u001b[43mioargs\u001b[49m\u001b[38;5;241;43m.\u001b[39;49m\u001b[43mencoding\u001b[49m\u001b[43m,\u001b[49m\n\u001b[1;32m    877\u001b[0m \u001b[43m            \u001b[49m\u001b[43merrors\u001b[49m\u001b[38;5;241;43m=\u001b[39;49m\u001b[43merrors\u001b[49m\u001b[43m,\u001b[49m\n\u001b[1;32m    878\u001b[0m \u001b[43m            \u001b[49m\u001b[43mnewline\u001b[49m\u001b[38;5;241;43m=\u001b[39;49m\u001b[38;5;124;43m\"\u001b[39;49m\u001b[38;5;124;43m\"\u001b[39;49m\u001b[43m,\u001b[49m\n\u001b[1;32m    879\u001b[0m \u001b[43m        \u001b[49m\u001b[43m)\u001b[49m\n\u001b[1;32m    880\u001b[0m     \u001b[38;5;28;01melse\u001b[39;00m:\n\u001b[1;32m    881\u001b[0m         \u001b[38;5;66;03m# Binary mode\u001b[39;00m\n\u001b[1;32m    882\u001b[0m         handle \u001b[38;5;241m=\u001b[39m \u001b[38;5;28mopen\u001b[39m(handle, ioargs\u001b[38;5;241m.\u001b[39mmode)\n",
      "\u001b[0;31mFileNotFoundError\u001b[0m: [Errno 2] No such file or directory: '/home/rodrigo/Postdoc/plant-microbiota-interaction/data/genomes/reference_2/annotations/annotations2.gff3'"
     ]
    }
   ],
   "source": [
    "annot = pd.read_csv(gff, sep='\\t', header=None)"
   ]
  },
  {
   "cell_type": "code",
   "execution_count": 55,
   "id": "9ad5d41e",
   "metadata": {},
   "outputs": [
    {
     "name": "stdout",
     "output_type": "stream",
     "text": [
      "            seqid            source    type  start     end score strand phase  \\\n",
      "0  PRKV01000011.1           Genbank  region      1  184751     .      +     .   \n",
      "1  PRKV01000011.1           Genbank    gene    265    1509     .      +     .   \n",
      "2  PRKV01000011.1  Protein Homology     CDS    265    1509     .      +     0   \n",
      "3  PRKV01000011.1           Genbank    gene   1502    2557     .      +     .   \n",
      "4  PRKV01000011.1  Protein Homology     CDS   1502    2557     .      +     0   \n",
      "\n",
      "                                          attributes  \n",
      "0  ID=PRKV01000011.1:1..184751;Dbxref=taxon:1404;...  \n",
      "1  ID=gene-C2I27_15215;Name=C2I27_15215;gbkey=Gen...  \n",
      "2  ID=cds-PVC67978.1;Parent=gene-C2I27_15215;Dbxr...  \n",
      "3  ID=gene-C2I27_15220;Name=C2I27_15220;gbkey=Gen...  \n",
      "4  ID=cds-PVC67979.1;Parent=gene-C2I27_15220;Dbxr...  \n"
     ]
    }
   ],
   "source": [
    "col_names = [\"seqid\", \"source\", \"type\", \"start\", \"end\", \"score\", \"strand\", \"phase\", \"attributes\"]\n",
    "gff_data = pd.read_csv(\n",
    "    gff,\n",
    "    sep=\"\\t\",\n",
    "    comment=\"#\",  # Skip comment lines\n",
    "    names=col_names,\n",
    "    dtype={\"seqid\": str, \"source\": str, \"type\": str, \"start\": int, \"end\": int, \"score\": str, \"strand\": str, \"phase\": str, \"attributes\": str},\n",
    ")\n",
    "\n",
    "# Preview the data\n",
    "print(gff_data.head())\n",
    "\n",
    "# Example: Extracting genes\n",
    "genes = gff_data[gff_data['type'] == 'gene']\n",
    "# gff_data['contig'] = gff_data.seqid.apply(lambda x: x.split(\"_\")[1].split(\".\")[0])\n",
    "gff_data.attributes = gff_data.attributes.apply(lambda x: x.split(\";\"))"
   ]
  },
  {
   "cell_type": "code",
   "execution_count": 56,
   "id": "99e1e9d0",
   "metadata": {},
   "outputs": [],
   "source": [
    "gff_data.attributes = gff_data.attributes.apply(lambda xx: {x.split(\"=\")[0]:x.split(\"=\")[1] for x in xx})"
   ]
  },
  {
   "cell_type": "code",
   "execution_count": 57,
   "id": "5518d800",
   "metadata": {},
   "outputs": [
    {
     "data": {
      "text/html": [
       "<div>\n",
       "<style scoped>\n",
       "    .dataframe tbody tr th:only-of-type {\n",
       "        vertical-align: middle;\n",
       "    }\n",
       "\n",
       "    .dataframe tbody tr th {\n",
       "        vertical-align: top;\n",
       "    }\n",
       "\n",
       "    .dataframe thead th {\n",
       "        text-align: right;\n",
       "    }\n",
       "</style>\n",
       "<table border=\"1\" class=\"dataframe\">\n",
       "  <thead>\n",
       "    <tr style=\"text-align: right;\">\n",
       "      <th></th>\n",
       "      <th>SNP</th>\n",
       "      <th>phenotype</th>\n",
       "      <th>p_value</th>\n",
       "      <th>beta</th>\n",
       "      <th>r_squared</th>\n",
       "    </tr>\n",
       "  </thead>\n",
       "  <tbody>\n",
       "    <tr>\n",
       "      <th>0</th>\n",
       "      <td>(PRKV01000002.1, 13730)</td>\n",
       "      <td>PR_Length_adj_irn</td>\n",
       "      <td>0.744604</td>\n",
       "      <td>-0.060245</td>\n",
       "      <td>0.000063</td>\n",
       "    </tr>\n",
       "    <tr>\n",
       "      <th>1</th>\n",
       "      <td>(PRKV01000002.1, 13730)</td>\n",
       "      <td>LR_number_adj_irn</td>\n",
       "      <td>0.094454</td>\n",
       "      <td>0.308587</td>\n",
       "      <td>0.001654</td>\n",
       "    </tr>\n",
       "    <tr>\n",
       "      <th>2</th>\n",
       "      <td>(PRKV01000002.1, 13730)</td>\n",
       "      <td>LR_Density_adj_irn</td>\n",
       "      <td>0.212750</td>\n",
       "      <td>0.230386</td>\n",
       "      <td>0.000919</td>\n",
       "    </tr>\n",
       "    <tr>\n",
       "      <th>3</th>\n",
       "      <td>(PRKV01000002.1, 13915)</td>\n",
       "      <td>PR_Length_adj_irn</td>\n",
       "      <td>0.165011</td>\n",
       "      <td>0.219581</td>\n",
       "      <td>0.000966</td>\n",
       "    </tr>\n",
       "    <tr>\n",
       "      <th>4</th>\n",
       "      <td>(PRKV01000002.1, 13915)</td>\n",
       "      <td>LR_number_adj_irn</td>\n",
       "      <td>0.521499</td>\n",
       "      <td>0.101233</td>\n",
       "      <td>0.000206</td>\n",
       "    </tr>\n",
       "    <tr>\n",
       "      <th>...</th>\n",
       "      <td>...</td>\n",
       "      <td>...</td>\n",
       "      <td>...</td>\n",
       "      <td>...</td>\n",
       "      <td>...</td>\n",
       "    </tr>\n",
       "    <tr>\n",
       "      <th>595</th>\n",
       "      <td>(PRKV01000035.1, 606980)</td>\n",
       "      <td>LR_number_adj_irn</td>\n",
       "      <td>0.706354</td>\n",
       "      <td>0.042402</td>\n",
       "      <td>0.000053</td>\n",
       "    </tr>\n",
       "    <tr>\n",
       "      <th>596</th>\n",
       "      <td>(PRKV01000035.1, 606980)</td>\n",
       "      <td>LR_Density_adj_irn</td>\n",
       "      <td>0.123544</td>\n",
       "      <td>-0.173569</td>\n",
       "      <td>0.000892</td>\n",
       "    </tr>\n",
       "    <tr>\n",
       "      <th>597</th>\n",
       "      <td>(PRKV01000035.1, 606983)</td>\n",
       "      <td>PR_Length_adj_irn</td>\n",
       "      <td>0.087681</td>\n",
       "      <td>0.217494</td>\n",
       "      <td>0.001070</td>\n",
       "    </tr>\n",
       "    <tr>\n",
       "      <th>598</th>\n",
       "      <td>(PRKV01000035.1, 606983)</td>\n",
       "      <td>LR_number_adj_irn</td>\n",
       "      <td>0.062954</td>\n",
       "      <td>-0.236463</td>\n",
       "      <td>0.001268</td>\n",
       "    </tr>\n",
       "    <tr>\n",
       "      <th>599</th>\n",
       "      <td>(PRKV01000035.1, 606983)</td>\n",
       "      <td>LR_Density_adj_irn</td>\n",
       "      <td>0.003015</td>\n",
       "      <td>-0.377557</td>\n",
       "      <td>0.003224</td>\n",
       "    </tr>\n",
       "  </tbody>\n",
       "</table>\n",
       "<p>600 rows × 5 columns</p>\n",
       "</div>"
      ],
      "text/plain": [
       "                          SNP           phenotype   p_value      beta  \\\n",
       "0     (PRKV01000002.1, 13730)   PR_Length_adj_irn  0.744604 -0.060245   \n",
       "1     (PRKV01000002.1, 13730)   LR_number_adj_irn  0.094454  0.308587   \n",
       "2     (PRKV01000002.1, 13730)  LR_Density_adj_irn  0.212750  0.230386   \n",
       "3     (PRKV01000002.1, 13915)   PR_Length_adj_irn  0.165011  0.219581   \n",
       "4     (PRKV01000002.1, 13915)   LR_number_adj_irn  0.521499  0.101233   \n",
       "..                        ...                 ...       ...       ...   \n",
       "595  (PRKV01000035.1, 606980)   LR_number_adj_irn  0.706354  0.042402   \n",
       "596  (PRKV01000035.1, 606980)  LR_Density_adj_irn  0.123544 -0.173569   \n",
       "597  (PRKV01000035.1, 606983)   PR_Length_adj_irn  0.087681  0.217494   \n",
       "598  (PRKV01000035.1, 606983)   LR_number_adj_irn  0.062954 -0.236463   \n",
       "599  (PRKV01000035.1, 606983)  LR_Density_adj_irn  0.003015 -0.377557   \n",
       "\n",
       "     r_squared  \n",
       "0     0.000063  \n",
       "1     0.001654  \n",
       "2     0.000919  \n",
       "3     0.000966  \n",
       "4     0.000206  \n",
       "..         ...  \n",
       "595   0.000053  \n",
       "596   0.000892  \n",
       "597   0.001070  \n",
       "598   0.001268  \n",
       "599   0.003224  \n",
       "\n",
       "[600 rows x 5 columns]"
      ]
     },
     "execution_count": 57,
     "metadata": {},
     "output_type": "execute_result"
    }
   ],
   "source": [
    "results_df"
   ]
  },
  {
   "cell_type": "code",
   "execution_count": 73,
   "id": "b6b2bb6f",
   "metadata": {},
   "outputs": [
    {
     "data": {
      "text/html": [
       "<div>\n",
       "<style scoped>\n",
       "    .dataframe tbody tr th:only-of-type {\n",
       "        vertical-align: middle;\n",
       "    }\n",
       "\n",
       "    .dataframe tbody tr th {\n",
       "        vertical-align: top;\n",
       "    }\n",
       "\n",
       "    .dataframe thead th {\n",
       "        text-align: right;\n",
       "    }\n",
       "</style>\n",
       "<table border=\"1\" class=\"dataframe\">\n",
       "  <thead>\n",
       "    <tr style=\"text-align: right;\">\n",
       "      <th></th>\n",
       "      <th>seqid</th>\n",
       "      <th>source</th>\n",
       "      <th>type</th>\n",
       "      <th>start</th>\n",
       "      <th>end</th>\n",
       "      <th>score</th>\n",
       "      <th>strand</th>\n",
       "      <th>phase</th>\n",
       "      <th>attributes</th>\n",
       "    </tr>\n",
       "  </thead>\n",
       "  <tbody>\n",
       "    <tr>\n",
       "      <th>2</th>\n",
       "      <td>PRKV01000011.1</td>\n",
       "      <td>Protein Homology</td>\n",
       "      <td>CDS</td>\n",
       "      <td>265</td>\n",
       "      <td>1509</td>\n",
       "      <td>.</td>\n",
       "      <td>+</td>\n",
       "      <td>0</td>\n",
       "      <td>{'ID': 'cds-PVC67978.1', 'Parent': 'gene-C2I27...</td>\n",
       "    </tr>\n",
       "    <tr>\n",
       "      <th>4</th>\n",
       "      <td>PRKV01000011.1</td>\n",
       "      <td>Protein Homology</td>\n",
       "      <td>CDS</td>\n",
       "      <td>1502</td>\n",
       "      <td>2557</td>\n",
       "      <td>.</td>\n",
       "      <td>+</td>\n",
       "      <td>0</td>\n",
       "      <td>{'ID': 'cds-PVC67979.1', 'Parent': 'gene-C2I27...</td>\n",
       "    </tr>\n",
       "    <tr>\n",
       "      <th>6</th>\n",
       "      <td>PRKV01000011.1</td>\n",
       "      <td>Protein Homology</td>\n",
       "      <td>CDS</td>\n",
       "      <td>2750</td>\n",
       "      <td>4024</td>\n",
       "      <td>.</td>\n",
       "      <td>+</td>\n",
       "      <td>0</td>\n",
       "      <td>{'ID': 'cds-PVC67980.1', 'Parent': 'gene-C2I27...</td>\n",
       "    </tr>\n",
       "    <tr>\n",
       "      <th>8</th>\n",
       "      <td>PRKV01000011.1</td>\n",
       "      <td>Protein Homology</td>\n",
       "      <td>CDS</td>\n",
       "      <td>4543</td>\n",
       "      <td>5376</td>\n",
       "      <td>.</td>\n",
       "      <td>+</td>\n",
       "      <td>0</td>\n",
       "      <td>{'ID': 'cds-PVC67981.1', 'Parent': 'gene-C2I27...</td>\n",
       "    </tr>\n",
       "    <tr>\n",
       "      <th>10</th>\n",
       "      <td>PRKV01000011.1</td>\n",
       "      <td>Protein Homology</td>\n",
       "      <td>CDS</td>\n",
       "      <td>6281</td>\n",
       "      <td>7675</td>\n",
       "      <td>.</td>\n",
       "      <td>+</td>\n",
       "      <td>0</td>\n",
       "      <td>{'ID': 'cds-PVC68147.1', 'Parent': 'gene-C2I27...</td>\n",
       "    </tr>\n",
       "    <tr>\n",
       "      <th>...</th>\n",
       "      <td>...</td>\n",
       "      <td>...</td>\n",
       "      <td>...</td>\n",
       "      <td>...</td>\n",
       "      <td>...</td>\n",
       "      <td>...</td>\n",
       "      <td>...</td>\n",
       "      <td>...</td>\n",
       "      <td>...</td>\n",
       "    </tr>\n",
       "    <tr>\n",
       "      <th>11730</th>\n",
       "      <td>PRKV01000001.1</td>\n",
       "      <td>Protein Homology</td>\n",
       "      <td>CDS</td>\n",
       "      <td>63681</td>\n",
       "      <td>64289</td>\n",
       "      <td>.</td>\n",
       "      <td>+</td>\n",
       "      <td>0</td>\n",
       "      <td>{'ID': 'cds-PVC76758.1', 'Parent': 'gene-C2I27...</td>\n",
       "    </tr>\n",
       "    <tr>\n",
       "      <th>11732</th>\n",
       "      <td>PRKV01000001.1</td>\n",
       "      <td>Protein Homology</td>\n",
       "      <td>CDS</td>\n",
       "      <td>64317</td>\n",
       "      <td>64994</td>\n",
       "      <td>.</td>\n",
       "      <td>-</td>\n",
       "      <td>0</td>\n",
       "      <td>{'ID': 'cds-PVC76759.1', 'Parent': 'gene-C2I27...</td>\n",
       "    </tr>\n",
       "    <tr>\n",
       "      <th>11734</th>\n",
       "      <td>PRKV01000001.1</td>\n",
       "      <td>Protein Homology</td>\n",
       "      <td>CDS</td>\n",
       "      <td>65114</td>\n",
       "      <td>66700</td>\n",
       "      <td>.</td>\n",
       "      <td>-</td>\n",
       "      <td>0</td>\n",
       "      <td>{'ID': 'cds-PVC76760.1', 'Parent': 'gene-C2I27...</td>\n",
       "    </tr>\n",
       "    <tr>\n",
       "      <th>11736</th>\n",
       "      <td>PRKV01000001.1</td>\n",
       "      <td>Protein Homology</td>\n",
       "      <td>CDS</td>\n",
       "      <td>66945</td>\n",
       "      <td>67139</td>\n",
       "      <td>.</td>\n",
       "      <td>-</td>\n",
       "      <td>0</td>\n",
       "      <td>{'ID': 'cds-PVC76761.1', 'Parent': 'gene-C2I27...</td>\n",
       "    </tr>\n",
       "    <tr>\n",
       "      <th>11807</th>\n",
       "      <td>PRKV01000001.1</td>\n",
       "      <td>Protein Homology</td>\n",
       "      <td>CDS</td>\n",
       "      <td>74543</td>\n",
       "      <td>76144</td>\n",
       "      <td>.</td>\n",
       "      <td>+</td>\n",
       "      <td>0</td>\n",
       "      <td>{'ID': 'cds-C2I27_00520', 'Parent': 'gene-C2I2...</td>\n",
       "    </tr>\n",
       "  </tbody>\n",
       "</table>\n",
       "<p>5512 rows × 9 columns</p>\n",
       "</div>"
      ],
      "text/plain": [
       "                seqid            source type  start    end score strand phase  \\\n",
       "2      PRKV01000011.1  Protein Homology  CDS    265   1509     .      +     0   \n",
       "4      PRKV01000011.1  Protein Homology  CDS   1502   2557     .      +     0   \n",
       "6      PRKV01000011.1  Protein Homology  CDS   2750   4024     .      +     0   \n",
       "8      PRKV01000011.1  Protein Homology  CDS   4543   5376     .      +     0   \n",
       "10     PRKV01000011.1  Protein Homology  CDS   6281   7675     .      +     0   \n",
       "...               ...               ...  ...    ...    ...   ...    ...   ...   \n",
       "11730  PRKV01000001.1  Protein Homology  CDS  63681  64289     .      +     0   \n",
       "11732  PRKV01000001.1  Protein Homology  CDS  64317  64994     .      -     0   \n",
       "11734  PRKV01000001.1  Protein Homology  CDS  65114  66700     .      -     0   \n",
       "11736  PRKV01000001.1  Protein Homology  CDS  66945  67139     .      -     0   \n",
       "11807  PRKV01000001.1  Protein Homology  CDS  74543  76144     .      +     0   \n",
       "\n",
       "                                              attributes  \n",
       "2      {'ID': 'cds-PVC67978.1', 'Parent': 'gene-C2I27...  \n",
       "4      {'ID': 'cds-PVC67979.1', 'Parent': 'gene-C2I27...  \n",
       "6      {'ID': 'cds-PVC67980.1', 'Parent': 'gene-C2I27...  \n",
       "8      {'ID': 'cds-PVC67981.1', 'Parent': 'gene-C2I27...  \n",
       "10     {'ID': 'cds-PVC68147.1', 'Parent': 'gene-C2I27...  \n",
       "...                                                  ...  \n",
       "11730  {'ID': 'cds-PVC76758.1', 'Parent': 'gene-C2I27...  \n",
       "11732  {'ID': 'cds-PVC76759.1', 'Parent': 'gene-C2I27...  \n",
       "11734  {'ID': 'cds-PVC76760.1', 'Parent': 'gene-C2I27...  \n",
       "11736  {'ID': 'cds-PVC76761.1', 'Parent': 'gene-C2I27...  \n",
       "11807  {'ID': 'cds-C2I27_00520', 'Parent': 'gene-C2I2...  \n",
       "\n",
       "[5512 rows x 9 columns]"
      ]
     },
     "execution_count": 73,
     "metadata": {},
     "output_type": "execute_result"
    }
   ],
   "source": [
    "gff_gene_data = gff_data.query(\"type == 'CDS'\")\n",
    "gff_gene_data"
   ]
  },
  {
   "cell_type": "code",
   "execution_count": 74,
   "id": "69b67a27",
   "metadata": {},
   "outputs": [
    {
     "name": "stdout",
     "output_type": "stream",
     "text": [
      "Variant does not belong to any row.\n",
      "Variant does not belong to any row.\n",
      "Variant does not belong to any row.\n",
      "Variant does not belong to any row.\n",
      "Variant does not belong to any row.\n",
      "Variant does not belong to any row.\n",
      "Variant does not belong to any row.\n",
      "Variant does not belong to any row.\n",
      "Variant does not belong to any row.\n",
      "Variant does not belong to any row.\n",
      "Variant does not belong to any row.\n",
      "Variant does not belong to any row.\n",
      "Variant does not belong to any row.\n",
      "Variant does not belong to any row.\n",
      "Variant does not belong to any row.\n",
      "Variant does not belong to any row.\n",
      "Variant does not belong to any row.\n",
      "Variant does not belong to any row.\n",
      "Variant does not belong to any row.\n",
      "Variant does not belong to any row.\n",
      "Variant does not belong to any row.\n",
      "Variant does not belong to any row.\n",
      "Variant does not belong to any row.\n",
      "Variant does not belong to any row.\n",
      "Variant does not belong to any row.\n",
      "Variant does not belong to any row.\n",
      "Variant does not belong to any row.\n",
      "Variant does not belong to any row.\n",
      "Variant does not belong to any row.\n",
      "Variant does not belong to any row.\n",
      "Variant does not belong to any row.\n",
      "Variant does not belong to any row.\n",
      "Variant does not belong to any row.\n",
      "Variant does not belong to any row.\n",
      "Variant does not belong to any row.\n",
      "Variant does not belong to any row.\n",
      "Variant does not belong to any row.\n",
      "Variant does not belong to any row.\n",
      "Variant does not belong to any row.\n",
      "Variant does not belong to any row.\n",
      "Variant does not belong to any row.\n",
      "Variant does not belong to any row.\n",
      "Variant does not belong to any row.\n",
      "Variant does not belong to any row.\n",
      "Variant does not belong to any row.\n",
      "Variant does not belong to any row.\n",
      "Variant does not belong to any row.\n",
      "Variant does not belong to any row.\n",
      "Variant does not belong to any row.\n",
      "Variant does not belong to any row.\n",
      "Variant does not belong to any row.\n",
      "Variant does not belong to any row.\n",
      "Variant does not belong to any row.\n",
      "Variant does not belong to any row.\n",
      "Variant does not belong to any row.\n",
      "Variant does not belong to any row.\n",
      "Variant does not belong to any row.\n",
      "Variant does not belong to any row.\n",
      "Variant does not belong to any row.\n",
      "Variant does not belong to any row.\n",
      "Variant does not belong to any row.\n",
      "Variant does not belong to any row.\n",
      "Variant does not belong to any row.\n",
      "Variant does not belong to any row.\n",
      "Variant does not belong to any row.\n",
      "Variant does not belong to any row.\n",
      "Variant does not belong to any row.\n",
      "Variant does not belong to any row.\n",
      "Variant does not belong to any row.\n",
      "Variant does not belong to any row.\n",
      "Variant does not belong to any row.\n",
      "Variant does not belong to any row.\n",
      "Variant does not belong to any row.\n",
      "Variant does not belong to any row.\n",
      "Variant does not belong to any row.\n",
      "Variant does not belong to any row.\n",
      "Variant does not belong to any row.\n",
      "Variant does not belong to any row.\n",
      "Variant does not belong to any row.\n",
      "Variant does not belong to any row.\n",
      "Variant does not belong to any row.\n",
      "Variant does not belong to any row.\n",
      "Variant does not belong to any row.\n",
      "Variant does not belong to any row.\n",
      "Variant does not belong to any row.\n",
      "Variant does not belong to any row.\n",
      "Variant does not belong to any row.\n",
      "Variant does not belong to any row.\n",
      "Variant does not belong to any row.\n",
      "Variant does not belong to any row.\n",
      "Variant does not belong to any row.\n",
      "Variant does not belong to any row.\n",
      "Variant does not belong to any row.\n",
      "Variant does not belong to any row.\n",
      "Variant does not belong to any row.\n",
      "Variant does not belong to any row.\n",
      "Variant does not belong to any row.\n",
      "Variant does not belong to any row.\n",
      "Variant does not belong to any row.\n",
      "Variant does not belong to any row.\n",
      "Variant does not belong to any row.\n",
      "Variant does not belong to any row.\n",
      "Variant does not belong to any row.\n",
      "Variant does not belong to any row.\n",
      "Variant does not belong to any row.\n",
      "Variant does not belong to any row.\n",
      "Variant does not belong to any row.\n",
      "Variant does not belong to any row.\n",
      "Variant does not belong to any row.\n",
      "Variant does not belong to any row.\n",
      "Variant does not belong to any row.\n",
      "Variant does not belong to any row.\n",
      "Variant does not belong to any row.\n",
      "Variant does not belong to any row.\n",
      "Variant does not belong to any row.\n",
      "Variant does not belong to any row.\n",
      "Variant does not belong to any row.\n",
      "Variant does not belong to any row.\n",
      "Variant does not belong to any row.\n",
      "Variant does not belong to any row.\n",
      "Variant does not belong to any row.\n",
      "Variant does not belong to any row.\n",
      "Variant does not belong to any row.\n",
      "Variant does not belong to any row.\n",
      "Variant does not belong to any row.\n",
      "Variant does not belong to any row.\n",
      "Variant does not belong to any row.\n",
      "Variant does not belong to any row.\n",
      "Variant does not belong to any row.\n",
      "Variant does not belong to any row.\n",
      "Variant does not belong to any row.\n",
      "Variant does not belong to any row.\n",
      "Variant does not belong to any row.\n",
      "Variant does not belong to any row.\n",
      "Variant does not belong to any row.\n",
      "Variant does not belong to any row.\n",
      "Variant does not belong to any row.\n",
      "Variant does not belong to any row.\n",
      "Variant does not belong to any row.\n",
      "Variant does not belong to any row.\n",
      "Variant does not belong to any row.\n",
      "Variant does not belong to any row.\n",
      "Variant does not belong to any row.\n",
      "Variant does not belong to any row.\n",
      "Variant does not belong to any row.\n",
      "Variant does not belong to any row.\n",
      "Variant does not belong to any row.\n",
      "Variant does not belong to any row.\n",
      "Variant does not belong to any row.\n",
      "Variant does not belong to any row.\n",
      "Variant does not belong to any row.\n",
      "Variant does not belong to any row.\n",
      "Variant does not belong to any row.\n",
      "Variant does not belong to any row.\n",
      "Variant does not belong to any row.\n",
      "Variant does not belong to any row.\n",
      "Variant does not belong to any row.\n",
      "Variant does not belong to any row.\n",
      "Variant does not belong to any row.\n",
      "Variant does not belong to any row.\n",
      "Variant does not belong to any row.\n",
      "Variant does not belong to any row.\n",
      "Variant does not belong to any row.\n",
      "Variant does not belong to any row.\n",
      "Variant does not belong to any row.\n",
      "Variant does not belong to any row.\n",
      "Variant does not belong to any row.\n",
      "Variant does not belong to any row.\n",
      "Variant does not belong to any row.\n",
      "Variant does not belong to any row.\n",
      "Variant does not belong to any row.\n",
      "Variant does not belong to any row.\n",
      "Variant does not belong to any row.\n",
      "Variant does not belong to any row.\n",
      "Variant does not belong to any row.\n",
      "Variant does not belong to any row.\n",
      "Variant does not belong to any row.\n",
      "Variant does not belong to any row.\n",
      "Variant does not belong to any row.\n",
      "Variant does not belong to any row.\n",
      "Variant does not belong to any row.\n",
      "Variant does not belong to any row.\n",
      "Variant does not belong to any row.\n",
      "Variant does not belong to any row.\n",
      "Variant does not belong to any row.\n",
      "Variant does not belong to any row.\n",
      "Variant does not belong to any row.\n",
      "Variant does not belong to any row.\n",
      "Variant does not belong to any row.\n",
      "Variant does not belong to any row.\n",
      "Variant does not belong to any row.\n",
      "Variant does not belong to any row.\n",
      "Variant does not belong to any row.\n",
      "Variant does not belong to any row.\n",
      "Variant does not belong to any row.\n",
      "Variant does not belong to any row.\n",
      "Variant does not belong to any row.\n",
      "Variant does not belong to any row.\n",
      "Variant does not belong to any row.\n",
      "Variant does not belong to any row.\n",
      "Variant does not belong to any row.\n",
      "Variant does not belong to any row.\n",
      "Variant does not belong to any row.\n",
      "Variant does not belong to any row.\n",
      "Variant does not belong to any row.\n",
      "Variant does not belong to any row.\n",
      "Variant does not belong to any row.\n",
      "Variant does not belong to any row.\n",
      "Variant does not belong to any row.\n",
      "Variant does not belong to any row.\n",
      "Variant does not belong to any row.\n",
      "Variant does not belong to any row.\n",
      "Variant does not belong to any row.\n",
      "Variant does not belong to any row.\n",
      "Variant does not belong to any row.\n",
      "Variant does not belong to any row.\n",
      "Variant does not belong to any row.\n",
      "Variant does not belong to any row.\n",
      "Variant does not belong to any row.\n",
      "Variant does not belong to any row.\n",
      "Variant does not belong to any row.\n",
      "Variant does not belong to any row.\n",
      "Variant does not belong to any row.\n",
      "Variant does not belong to any row.\n",
      "Variant does not belong to any row.\n",
      "Variant does not belong to any row.\n",
      "Variant does not belong to any row.\n",
      "Variant does not belong to any row.\n",
      "Variant does not belong to any row.\n",
      "Variant does not belong to any row.\n",
      "Variant does not belong to any row.\n",
      "Variant does not belong to any row.\n",
      "Variant does not belong to any row.\n",
      "Variant does not belong to any row.\n",
      "Variant does not belong to any row.\n",
      "Variant does not belong to any row.\n",
      "Variant does not belong to any row.\n",
      "Variant does not belong to any row.\n",
      "Variant does not belong to any row.\n",
      "Variant does not belong to any row.\n",
      "Variant does not belong to any row.\n",
      "Variant does not belong to any row.\n",
      "Variant does not belong to any row.\n",
      "Variant does not belong to any row.\n",
      "Variant does not belong to any row.\n",
      "Variant does not belong to any row.\n",
      "Variant does not belong to any row.\n",
      "Variant does not belong to any row.\n",
      "Variant does not belong to any row.\n",
      "Variant does not belong to any row.\n",
      "Variant does not belong to any row.\n",
      "Variant does not belong to any row.\n",
      "Variant does not belong to any row.\n",
      "Variant does not belong to any row.\n",
      "Variant does not belong to any row.\n",
      "Variant does not belong to any row.\n",
      "Variant does not belong to any row.\n",
      "Variant does not belong to any row.\n",
      "Variant does not belong to any row.\n",
      "Variant does not belong to any row.\n",
      "Variant does not belong to any row.\n",
      "Variant does not belong to any row.\n",
      "Variant does not belong to any row.\n",
      "Variant does not belong to any row.\n",
      "Variant does not belong to any row.\n",
      "Variant does not belong to any row.\n",
      "Variant does not belong to any row.\n",
      "Variant does not belong to any row.\n",
      "Variant does not belong to any row.\n",
      "Variant does not belong to any row.\n",
      "Variant does not belong to any row.\n",
      "Variant does not belong to any row.\n",
      "Variant does not belong to any row.\n",
      "Variant does not belong to any row.\n",
      "Variant does not belong to any row.\n",
      "Variant does not belong to any row.\n",
      "Variant does not belong to any row.\n",
      "Variant does not belong to any row.\n",
      "Variant does not belong to any row.\n",
      "Variant does not belong to any row.\n",
      "Variant does not belong to any row.\n",
      "Variant does not belong to any row.\n",
      "Variant does not belong to any row.\n",
      "Variant does not belong to any row.\n",
      "Variant does not belong to any row.\n",
      "Variant does not belong to any row.\n",
      "Variant does not belong to any row.\n",
      "Variant does not belong to any row.\n",
      "Variant does not belong to any row.\n",
      "Variant does not belong to any row.\n",
      "Variant does not belong to any row.\n",
      "Variant does not belong to any row.\n",
      "Variant does not belong to any row.\n",
      "Variant does not belong to any row.\n",
      "Variant does not belong to any row.\n",
      "Variant does not belong to any row.\n",
      "Variant does not belong to any row.\n",
      "Variant does not belong to any row.\n",
      "Variant does not belong to any row.\n",
      "Variant does not belong to any row.\n",
      "Variant does not belong to any row.\n",
      "Variant does not belong to any row.\n",
      "Variant does not belong to any row.\n",
      "Variant does not belong to any row.\n",
      "Variant does not belong to any row.\n",
      "Variant does not belong to any row.\n",
      "Variant does not belong to any row.\n",
      "Variant does not belong to any row.\n",
      "Variant does not belong to any row.\n",
      "Variant does not belong to any row.\n",
      "Variant does not belong to any row.\n",
      "Variant does not belong to any row.\n",
      "Variant does not belong to any row.\n",
      "Variant does not belong to any row.\n",
      "Variant does not belong to any row.\n",
      "Variant does not belong to any row.\n",
      "Variant does not belong to any row.\n",
      "Variant does not belong to any row.\n",
      "Variant does not belong to any row.\n",
      "Variant does not belong to any row.\n",
      "Variant does not belong to any row.\n",
      "Variant does not belong to any row.\n",
      "Variant does not belong to any row.\n",
      "Variant does not belong to any row.\n",
      "Variant does not belong to any row.\n",
      "Variant does not belong to any row.\n",
      "Variant does not belong to any row.\n",
      "Variant does not belong to any row.\n",
      "Variant does not belong to any row.\n",
      "Variant does not belong to any row.\n",
      "Variant does not belong to any row.\n",
      "Variant does not belong to any row.\n",
      "Variant does not belong to any row.\n",
      "Variant does not belong to any row.\n",
      "Variant does not belong to any row.\n",
      "Variant does not belong to any row.\n",
      "Variant does not belong to any row.\n",
      "Variant does not belong to any row.\n",
      "Variant does not belong to any row.\n",
      "Variant does not belong to any row.\n",
      "Variant does not belong to any row.\n",
      "Variant does not belong to any row.\n",
      "Variant does not belong to any row.\n",
      "Variant does not belong to any row.\n",
      "Variant does not belong to any row.\n",
      "Variant does not belong to any row.\n",
      "Variant does not belong to any row.\n",
      "Variant does not belong to any row.\n",
      "Variant does not belong to any row.\n",
      "Variant does not belong to any row.\n",
      "Variant does not belong to any row.\n",
      "Variant does not belong to any row.\n",
      "Variant does not belong to any row.\n",
      "Variant does not belong to any row.\n",
      "Variant does not belong to any row.\n",
      "Variant does not belong to any row.\n",
      "Variant does not belong to any row.\n",
      "Variant does not belong to any row.\n",
      "Variant does not belong to any row.\n",
      "Variant does not belong to any row.\n",
      "Variant does not belong to any row.\n",
      "Variant does not belong to any row.\n",
      "Variant does not belong to any row.\n",
      "Variant does not belong to any row.\n",
      "Variant does not belong to any row.\n",
      "Variant does not belong to any row.\n",
      "Variant does not belong to any row.\n",
      "Variant does not belong to any row.\n",
      "Variant does not belong to any row.\n",
      "Variant does not belong to any row.\n",
      "Variant does not belong to any row.\n",
      "Variant does not belong to any row.\n",
      "Variant does not belong to any row.\n",
      "Variant does not belong to any row.\n",
      "Variant does not belong to any row.\n",
      "Variant does not belong to any row.\n",
      "Variant does not belong to any row.\n",
      "Variant does not belong to any row.\n",
      "Variant does not belong to any row.\n",
      "Variant does not belong to any row.\n",
      "Variant does not belong to any row.\n",
      "Variant does not belong to any row.\n",
      "Variant does not belong to any row.\n",
      "Variant does not belong to any row.\n",
      "Variant does not belong to any row.\n",
      "Variant does not belong to any row.\n",
      "Variant does not belong to any row.\n",
      "Variant does not belong to any row.\n",
      "Variant does not belong to any row.\n",
      "Variant does not belong to any row.\n",
      "Variant does not belong to any row.\n",
      "Variant does not belong to any row.\n",
      "Variant does not belong to any row.\n",
      "Variant does not belong to any row.\n",
      "Variant does not belong to any row.\n",
      "Variant does not belong to any row.\n",
      "Variant does not belong to any row.\n",
      "Variant does not belong to any row.\n",
      "Variant does not belong to any row.\n",
      "Variant does not belong to any row.\n",
      "Variant does not belong to any row.\n",
      "Variant does not belong to any row.\n",
      "402\n"
     ]
    }
   ],
   "source": [
    "annotations = list()\n",
    "\n",
    "count= 0\n",
    "for i, row in results_df.iterrows():\n",
    "\n",
    "    variant_contig = row.SNP[0] # row.contig\n",
    "    variant_position = row.SNP[1] # row.position\n",
    "\n",
    "    matching_rows = gff_gene_data[\n",
    "        # (gff_data[\"contig\"] == variant_contig) & \n",
    "        (gff_gene_data[\"seqid\"] == variant_contig) & \n",
    "        (gff_gene_data[\"start\"] <= variant_position) & \n",
    "        (gff_gene_data[\"end\"] >= variant_position)\n",
    "    ]\n",
    "    \n",
    "    annotations.append(matching_rows.attributes if len(matching_rows) > 0 else None)\n",
    "\n",
    "    # Result\n",
    "    if matching_rows.empty:        \n",
    "        # print(\"Variant belongs to the following rows:\")\n",
    "        # print(matching_rows)\n",
    "        count += 1\n",
    "        print(\"Variant does not belong to any row.\")\n",
    "        \n",
    "print(count)"
   ]
  },
  {
   "cell_type": "code",
   "execution_count": 75,
   "id": "99116963",
   "metadata": {},
   "outputs": [],
   "source": [
    "results_df['contig'] = results_df.SNP.apply(lambda x: x[0])\n",
    "results_df['position'] = results_df.SNP.apply(lambda x: x[1])"
   ]
  },
  {
   "cell_type": "code",
   "execution_count": 76,
   "id": "20bc9f53",
   "metadata": {},
   "outputs": [],
   "source": [
    "results_df[\"annotation\"] = pd.Series(annotations).apply(lambda x: None if x is None else x.to_list()[0])"
   ]
  },
  {
   "cell_type": "code",
   "execution_count": 77,
   "id": "3216fa2f",
   "metadata": {},
   "outputs": [
    {
     "data": {
      "image/png": "[encoded data removed]",
      "text/plain": [
       "<Figure size 1200x600 with 1 Axes>"
      ]
     },
     "metadata": {},
     "output_type": "display_data"
    }
   ],
   "source": [
    "import pandas as pd\n",
    "import matplotlib.pyplot as plt\n",
    "import numpy as np\n",
    "\n",
    "# Sort chromosomes naturally (1, 2, ..., X)\n",
    "results_df['Chromosome'] = pd.Categorical(results_df['contig'], \n",
    "                                    categories=sorted(results_df['contig'].unique(), key=lambda x: (not x.isdigit(), x)),\n",
    "                                    ordered=True)\n",
    "results_df = results_df.sort_values(['Chromosome', 'position'])\n",
    "\n",
    "# Add a column for -log10(P-value)\n",
    "results_df['-log10(P-value)'] = -np.log10(results_df['p_value'])\n",
    "\n",
    "# Generate chromosome-specific positions\n",
    "chrom_offsets = {}\n",
    "cumulative_position = 0\n",
    "\n",
    "for chrom in results_df['Chromosome'].cat.categories:\n",
    "    chrom_data = results_df[results_df['Chromosome'] == chrom]\n",
    "    chrom_offsets[chrom] = cumulative_position\n",
    "    results_df.loc[results_df['Chromosome'] == chrom, 'Cumulative Position'] = chrom_data['position'] + cumulative_position\n",
    "    cumulative_position += chrom_data['position'].max()\n",
    "\n",
    "# Create the plot\n",
    "plt.figure(figsize=(12, 6))\n",
    "\n",
    "# Alternate colors for chromosomes\n",
    "colors = ['#1f77b4', '#ff7f0e']\n",
    "for i, chrom in enumerate(results_df['Chromosome'].cat.categories):\n",
    "    chrom_data = results_df[results_df['Chromosome'] == chrom]\n",
    "    plt.scatter(chrom_data['Cumulative Position'], chrom_data['-log10(P-value)'], \n",
    "                c=colors[i % len(colors)], s=10, label=f\"Chr {chrom}\")\n",
    "\n",
    "# Add a genome-wide significance line (optional)\n",
    "significance_threshold = -np.log10(5e-8)\n",
    "plt.axhline(y=significance_threshold, color='red', linestyle='--', label='Genome-wide significance')\n",
    "\n",
    "labels = [x[10:-2] for x in chrom_offsets.keys()]\n",
    "\n",
    "# Customize the plot\n",
    "plt.xlabel('Chromosome')\n",
    "plt.ylabel('-log10(P-value)')\n",
    "plt.title('Manhattan Plot')\n",
    "plt.xticks(ticks=[chrom_offsets[chrom] + (results_df[results_df['Chromosome'] == chrom]['position'].max() / 2) for chrom in chrom_offsets],\n",
    "           labels=labels, rotation=0)\n",
    "# plt.legend(loc='upper right')\n",
    "plt.tight_layout()\n",
    "\n",
    "# Show the plot\n",
    "plt.show()"
   ]
  },
  {
   "cell_type": "code",
   "execution_count": 78,
   "id": "b08ba508",
   "metadata": {},
   "outputs": [
    {
     "data": {
      "text/plain": [
       "array(['PR_Length_adj_irn', 'LR_number_adj_irn', 'LR_Density_adj_irn'],\n",
       "      dtype=object)"
      ]
     },
     "execution_count": 78,
     "metadata": {},
     "output_type": "execute_result"
    }
   ],
   "source": [
    "results_df.phenotype.unique()"
   ]
  },
  {
   "cell_type": "code",
   "execution_count": 79,
   "id": "5918253d",
   "metadata": {},
   "outputs": [],
   "source": [
    "results_per_pheno_df = results_df.query(\"phenotype == 'LR_Density_adj_irn'\")"
   ]
  },
  {
   "cell_type": "code",
   "execution_count": 80,
   "id": "8a3a5c2a",
   "metadata": {},
   "outputs": [],
   "source": [
    "results_per_pheno_df = results_per_pheno_df.apply(lambda x: str(x))"
   ]
  },
  {
   "cell_type": "code",
   "execution_count": 91,
   "id": "6da9f910",
   "metadata": {},
   "outputs": [],
   "source": [
    "results_df['annotation_as_str'] = results_df.annotation.apply(lambda x: \"None\" if x is None else str(x.get(\"product\", \"None\")))"
   ]
  },
  {
   "cell_type": "code",
   "execution_count": 92,
   "id": "a744c0ff",
   "metadata": {},
   "outputs": [
    {
     "data": {
      "application/vnd.plotly.v1+json": {
       "config": {
        "plotlyServerURL": "https://plot.ly"
       },
       "data": [
        {
         "customdata": [
          [
           "PRKV01000002.1",
           13730,
           0.7446038634296975,
           "None"
          ],
          [
           "PRKV01000002.1",
           13730,
           0.09445395036145823,
           "None"
          ],
          [
           "PRKV01000002.1",
           13730,
           0.21274995749960143,
           "None"
          ],
          [
           "PRKV01000002.1",
           13915,
           0.16501075330386752,
           "None"
          ],
          [
           "PRKV01000002.1",
           13915,
           0.521498684453783,
           "None"
          ],
          [
           "PRKV01000002.1",
           13915,
           0.8211209363198537,
           "None"
          ],
          [
           "PRKV01000002.1",
           13938,
           0.00006739096458664942,
           "None"
          ],
          [
           "PRKV01000002.1",
           13938,
           0.9235358633710877,
           "None"
          ],
          [
           "PRKV01000002.1",
           13938,
           0.08448929783916072,
           "None"
          ],
          [
           "PRKV01000002.1",
           14581,
           0.7820172470388916,
           "aminoglycoside phosphotransferase"
          ],
          [
           "PRKV01000002.1",
           14581,
           0.4281244266047186,
           "aminoglycoside phosphotransferase"
          ],
          [
           "PRKV01000002.1",
           14581,
           0.009244686577860418,
           "aminoglycoside phosphotransferase"
          ],
          [
           "PRKV01000002.1",
           42521,
           1.6643852817865075e-10,
           "None"
          ],
          [
           "PRKV01000002.1",
           42521,
           0.0011372772160374391,
           "None"
          ],
          [
           "PRKV01000002.1",
           42521,
           0.2115897796129617,
           "None"
          ],
          [
           "PRKV01000002.1",
           95242,
           0.13924641736902305,
           "None"
          ],
          [
           "PRKV01000002.1",
           95242,
           0.00037524595014837655,
           "None"
          ],
          [
           "PRKV01000002.1",
           95242,
           0.03158862618708896,
           "None"
          ],
          [
           "PRKV01000002.1",
           97759,
           0.27899804559986296,
           "MFS transporter"
          ],
          [
           "PRKV01000002.1",
           97759,
           0.0016211661323796425,
           "MFS transporter"
          ],
          [
           "PRKV01000002.1",
           97759,
           0.1161137436376205,
           "MFS transporter"
          ],
          [
           "PRKV01000002.1",
           103364,
           0.20200062844553082,
           "None"
          ],
          [
           "PRKV01000002.1",
           103364,
           0.6841793750991656,
           "None"
          ],
          [
           "PRKV01000002.1",
           103364,
           0.7905532464728573,
           "None"
          ],
          [
           "PRKV01000002.1",
           104934,
           0.0009072376017755343,
           "ribonuclease J"
          ],
          [
           "PRKV01000002.1",
           104934,
           0.15525772082667524,
           "ribonuclease J"
          ],
          [
           "PRKV01000002.1",
           104934,
           0.5451779337945062,
           "ribonuclease J"
          ],
          [
           "PRKV01000002.1",
           143111,
           0.3510272232485204,
           "iron ABC transporter permease"
          ],
          [
           "PRKV01000002.1",
           143111,
           0.5050917359816709,
           "iron ABC transporter permease"
          ],
          [
           "PRKV01000002.1",
           143111,
           0.4878109721841931,
           "iron ABC transporter permease"
          ],
          [
           "PRKV01000002.1",
           154373,
           0.00719225046616828,
           "None"
          ],
          [
           "PRKV01000002.1",
           154373,
           0.20334779147187548,
           "None"
          ],
          [
           "PRKV01000002.1",
           154373,
           0.10921231058933784,
           "None"
          ],
          [
           "PRKV01000002.1",
           175438,
           0.8706547170549174,
           "iron citrate ABC transporter substrate-binding protein"
          ],
          [
           "PRKV01000002.1",
           175438,
           0.3433633973635656,
           "iron citrate ABC transporter substrate-binding protein"
          ],
          [
           "PRKV01000002.1",
           175438,
           0.17154297139824454,
           "iron citrate ABC transporter substrate-binding protein"
          ],
          [
           "PRKV01000002.1",
           242876,
           0.00004063450286679266,
           "sodium/proline symporter PutP"
          ],
          [
           "PRKV01000002.1",
           242876,
           0.06756114994532984,
           "sodium/proline symporter PutP"
          ],
          [
           "PRKV01000002.1",
           242876,
           0.006948060023364645,
           "sodium/proline symporter PutP"
          ],
          [
           "PRKV01000002.1",
           248420,
           0.0107956374234301,
           "spore coat protein"
          ],
          [
           "PRKV01000002.1",
           248420,
           0.6517551570469553,
           "spore coat protein"
          ],
          [
           "PRKV01000002.1",
           248420,
           0.00032022315272703763,
           "spore coat protein"
          ],
          [
           "PRKV01000002.1",
           248426,
           0.3713873221949734,
           "spore coat protein"
          ],
          [
           "PRKV01000002.1",
           248426,
           0.8911419422974958,
           "spore coat protein"
          ],
          [
           "PRKV01000002.1",
           248426,
           0.49656081451047585,
           "spore coat protein"
          ],
          [
           "PRKV01000002.1",
           251180,
           0.11410973188859433,
           "hypothetical protein"
          ],
          [
           "PRKV01000002.1",
           251180,
           0.5192227053618267,
           "hypothetical protein"
          ],
          [
           "PRKV01000002.1",
           251180,
           0.4299195453784116,
           "hypothetical protein"
          ],
          [
           "PRKV01000002.1",
           254882,
           0.011713936194867814,
           "DUF2515 domain-containing protein"
          ],
          [
           "PRKV01000002.1",
           254882,
           0.00006116145110901195,
           "DUF2515 domain-containing protein"
          ],
          [
           "PRKV01000002.1",
           254882,
           0.015352523131624636,
           "DUF2515 domain-containing protein"
          ],
          [
           "PRKV01000002.1",
           254883,
           2.2393114331251045e-8,
           "DUF2515 domain-containing protein"
          ],
          [
           "PRKV01000002.1",
           254883,
           0.15568689467869032,
           "DUF2515 domain-containing protein"
          ],
          [
           "PRKV01000002.1",
           254883,
           0.022666111204359532,
           "DUF2515 domain-containing protein"
          ],
          [
           "PRKV01000002.1",
           257590,
           0.0035535570602873833,
           "penicillin-binding protein"
          ],
          [
           "PRKV01000002.1",
           257590,
           0.03367201111386396,
           "penicillin-binding protein"
          ],
          [
           "PRKV01000002.1",
           257590,
           0.57163816232253,
           "penicillin-binding protein"
          ],
          [
           "PRKV01000002.1",
           473718,
           0.07257621919022195,
           "None"
          ],
          [
           "PRKV01000002.1",
           473718,
           0.21227785455675832,
           "None"
          ],
          [
           "PRKV01000002.1",
           473718,
           0.23741421400563759,
           "None"
          ],
          [
           "PRKV01000002.1",
           482545,
           0.03977867209314404,
           "None"
          ],
          [
           "PRKV01000002.1",
           482545,
           0.547296484283367,
           "None"
          ],
          [
           "PRKV01000002.1",
           482545,
           0.8103301940185423,
           "None"
          ],
          [
           "PRKV01000002.1",
           496961,
           2.6424328074427017e-10,
           "glucose transporter GlcU"
          ],
          [
           "PRKV01000002.1",
           496961,
           0.509165459372063,
           "glucose transporter GlcU"
          ],
          [
           "PRKV01000002.1",
           496961,
           0.0000039048655766466395,
           "glucose transporter GlcU"
          ],
          [
           "PRKV01000002.1",
           504914,
           0.5283735543280937,
           "None"
          ],
          [
           "PRKV01000002.1",
           504914,
           0.4073661595545507,
           "None"
          ],
          [
           "PRKV01000002.1",
           504914,
           0.9913323878435343,
           "None"
          ],
          [
           "PRKV01000002.1",
           505419,
           0.2952208711370758,
           "None"
          ],
          [
           "PRKV01000002.1",
           505419,
           0.010019392914834162,
           "None"
          ],
          [
           "PRKV01000002.1",
           505419,
           0.15652989646602988,
           "None"
          ],
          [
           "PRKV01000002.1",
           507796,
           0.5674441463180501,
           "None"
          ],
          [
           "PRKV01000002.1",
           507796,
           0.16821210886903037,
           "None"
          ],
          [
           "PRKV01000002.1",
           507796,
           0.22574214361321662,
           "None"
          ],
          [
           "PRKV01000002.1",
           531981,
           0.11417346912370122,
           "UTP--glucose-1-phosphate uridylyltransferase"
          ],
          [
           "PRKV01000002.1",
           531981,
           0.9983576607815807,
           "UTP--glucose-1-phosphate uridylyltransferase"
          ],
          [
           "PRKV01000002.1",
           531981,
           0.1031726819374489,
           "UTP--glucose-1-phosphate uridylyltransferase"
          ],
          [
           "PRKV01000002.1",
           531984,
           0.9965045931212487,
           "UTP--glucose-1-phosphate uridylyltransferase"
          ],
          [
           "PRKV01000002.1",
           531984,
           0.5559826884051432,
           "UTP--glucose-1-phosphate uridylyltransferase"
          ],
          [
           "PRKV01000002.1",
           531984,
           0.24882424074936835,
           "UTP--glucose-1-phosphate uridylyltransferase"
          ],
          [
           "PRKV01000002.1",
           532074,
           0.34324277617766985,
           "UTP--glucose-1-phosphate uridylyltransferase"
          ],
          [
           "PRKV01000002.1",
           532074,
           0.7919258827750117,
           "UTP--glucose-1-phosphate uridylyltransferase"
          ],
          [
           "PRKV01000002.1",
           532074,
           0.004873198929059192,
           "UTP--glucose-1-phosphate uridylyltransferase"
          ]
         ],
         "hovertemplate": "-log10(P-value)=%{y}<br>position=%{customdata[1]}<br>p_value=%{customdata[2]}<br>annotation_as_str=%{customdata[3]}<extra></extra>",
         "legendgroup": "PRKV01000002.1",
         "marker": {
          "color": "rgb(141,211,199)",
          "symbol": "circle"
         },
         "mode": "markers",
         "name": "PRKV01000002.1",
         "orientation": "v",
         "showlegend": true,
         "type": "scatter",
         "x": [
          13730,
          13730,
          13730,
          13915,
          13915,
          13915,
          13938,
          13938,
          13938,
          14581,
          14581,
          14581,
          42521,
          42521,
          42521,
          95242,
          95242,
          95242,
          97759,
          97759,
          97759,
          103364,
          103364,
          103364,
          104934,
          104934,
          104934,
          143111,
          143111,
          143111,
          154373,
          154373,
          154373,
          175438,
          175438,
          175438,
          242876,
          242876,
          242876,
          248420,
          248420,
          248420,
          248426,
          248426,
          248426,
          251180,
          251180,
          251180,
          254882,
          254882,
          254882,
          254883,
          254883,
          254883,
          257590,
          257590,
          257590,
          473718,
          473718,
          473718,
          482545,
          482545,
          482545,
          496961,
          496961,
          496961,
          504914,
          504914,
          504914,
          505419,
          505419,
          505419,
          507796,
          507796,
          507796,
          531981,
          531981,
          531981,
          531984,
          531984,
          531984,
          532074,
          532074,
          532074
         ],
         "xaxis": "x",
         "y": [
          0.12807471474420995,
          1.0247798738003158,
          0.6721305180010263,
          0.7824877530687623,
          0.28274678279868404,
          0.08559287441720498,
          4.171398327399464,
          0.03454623507837182,
          1.0731982991420932,
          0.10678366866493247,
          0.36842999282206484,
          2.034107808118988,
          9.77874613334242,
          2.9441336613272453,
          0.6745053137866241,
          0.856215969848163,
          3.425683986193829,
          1.500469261475047,
          0.5543988389779001,
          2.7901724776383836,
          0.9351163725721712,
          0.6946472794147542,
          0.1648300219598301,
          0.10206887352359628,
          3.042278958114744,
          0.8089467935407814,
          0.2634617306532512,
          0.4546592013457186,
          0.2966297371042001,
          0.31174843545841274,
          2.143135196944915,
          0.6917605400372947,
          0.9617284044913691,
          0.06015404270551248,
          0.4642460026237708,
          0.7656270715191542,
          4.391105049151692,
          1.1703029669953304,
          2.158136438396578,
          1.9667517098554073,
          0.18591552376811096,
          3.4945472709861023,
          0.430172925568614,
          0.050053115439151946,
          0.30402755524728686,
          0.9426773150447092,
          0.2846463243014016,
          0.3666128101585612,
          1.9312971458785124,
          4.213522219120405,
          1.8138202395944267,
          7.649885502543324,
          0.8077479436828267,
          1.6446229848297826,
          2.44933670659865,
          1.4727309439157423,
          0.24287878559686005,
          1.13920565982783,
          0.6730953103344817,
          0.6244932833619686,
          1.400349718754212,
          0.26177734166425126,
          0.09133797838113746,
          9.577996047247735,
          0.2931410655700578,
          5.408393911934039,
          0.2770589274254096,
          0.3900150512542268,
          0.0037807047447541713,
          0.5298529425832428,
          1.9991585920141755,
          0.8054027020139065,
          0.24607687975534107,
          0.7741427444137448,
          0.6463873552771358,
          0.9424348028484967,
          0.000713845208548882,
          0.9864352799798314,
          0.0015206951946869134,
          0.25493873080493334,
          0.6041073124423745,
          0.4643985940742784,
          0.10131546261261207,
          2.3121858599034724
         ],
         "yaxis": "y"
        },
        {
         "customdata": [
          [
           "PRKV01000004.1",
           49070,
           0.013744030463477736,
           "None"
          ],
          [
           "PRKV01000004.1",
           49070,
           0.26069148351694915,
           "None"
          ],
          [
           "PRKV01000004.1",
           49070,
           0.4835262543977643,
           "None"
          ],
          [
           "PRKV01000004.1",
           49138,
           0.005361272565825499,
           "None"
          ],
          [
           "PRKV01000004.1",
           49138,
           0.8475454453089107,
           "None"
          ],
          [
           "PRKV01000004.1",
           49138,
           0.905862969122349,
           "None"
          ],
          [
           "PRKV01000004.1",
           126311,
           0.0038151178425231006,
           "None"
          ],
          [
           "PRKV01000004.1",
           126311,
           0.019281406542741693,
           "None"
          ],
          [
           "PRKV01000004.1",
           126311,
           0.6706074297130502,
           "None"
          ],
          [
           "PRKV01000004.1",
           126366,
           0.009783575461951202,
           "None"
          ],
          [
           "PRKV01000004.1",
           126366,
           0.005865869036228503,
           "None"
          ],
          [
           "PRKV01000004.1",
           126366,
           0.6746352876965179,
           "None"
          ],
          [
           "PRKV01000004.1",
           126371,
           0.15561337535869998,
           "None"
          ],
          [
           "PRKV01000004.1",
           126371,
           0.028031979252284546,
           "None"
          ],
          [
           "PRKV01000004.1",
           126371,
           0.09289066359401697,
           "None"
          ],
          [
           "PRKV01000004.1",
           133647,
           0.0005657040159751311,
           "None"
          ],
          [
           "PRKV01000004.1",
           133647,
           0.01707598421469176,
           "None"
          ],
          [
           "PRKV01000004.1",
           133647,
           0.24594648746002995,
           "None"
          ],
          [
           "PRKV01000004.1",
           141794,
           0.0009698861342100477,
           "None"
          ],
          [
           "PRKV01000004.1",
           141794,
           0.012649661096977391,
           "None"
          ],
          [
           "PRKV01000004.1",
           141794,
           0.585107205394223,
           "None"
          ],
          [
           "PRKV01000004.1",
           161157,
           0.2850125603900255,
           "None"
          ],
          [
           "PRKV01000004.1",
           161157,
           0.9045133833754335,
           "None"
          ],
          [
           "PRKV01000004.1",
           161157,
           0.9726389000125599,
           "None"
          ],
          [
           "PRKV01000004.1",
           194432,
           0.7473228720226598,
           "None"
          ],
          [
           "PRKV01000004.1",
           194432,
           0.9880690683982689,
           "None"
          ],
          [
           "PRKV01000004.1",
           194432,
           0.02190715255921868,
           "None"
          ],
          [
           "PRKV01000004.1",
           206334,
           0.1697161677722284,
           "None"
          ],
          [
           "PRKV01000004.1",
           206334,
           0.2368097776803111,
           "None"
          ],
          [
           "PRKV01000004.1",
           206334,
           0.002295167649403508,
           "None"
          ],
          [
           "PRKV01000004.1",
           305899,
           0.011664145448562823,
           "None"
          ],
          [
           "PRKV01000004.1",
           305899,
           0.005271599597232237,
           "None"
          ],
          [
           "PRKV01000004.1",
           305899,
           0.4261547386181467,
           "None"
          ],
          [
           "PRKV01000004.1",
           359116,
           0.0007456143842053717,
           "None"
          ],
          [
           "PRKV01000004.1",
           359116,
           0.39034054011275543,
           "None"
          ],
          [
           "PRKV01000004.1",
           359116,
           0.0034586563776728006,
           "None"
          ],
          [
           "PRKV01000004.1",
           387500,
           0.07148206847993828,
           "None"
          ],
          [
           "PRKV01000004.1",
           387500,
           0.4098259916182605,
           "None"
          ],
          [
           "PRKV01000004.1",
           387500,
           0.004931386100839794,
           "None"
          ],
          [
           "PRKV01000004.1",
           402690,
           0.02525996459436944,
           "dihydrolipoyl dehydrogenase"
          ],
          [
           "PRKV01000004.1",
           402690,
           0.03522003840531782,
           "dihydrolipoyl dehydrogenase"
          ],
          [
           "PRKV01000004.1",
           402690,
           0.2702832864383475,
           "dihydrolipoyl dehydrogenase"
          ],
          [
           "PRKV01000004.1",
           402970,
           0.23412403531547923,
           "None"
          ],
          [
           "PRKV01000004.1",
           402970,
           0.009574556288124456,
           "None"
          ],
          [
           "PRKV01000004.1",
           402970,
           0.18328160575019883,
           "None"
          ],
          [
           "PRKV01000004.1",
           460554,
           0.21017833723439805,
           "hypothetical protein"
          ],
          [
           "PRKV01000004.1",
           460554,
           0.03507959104079722,
           "hypothetical protein"
          ],
          [
           "PRKV01000004.1",
           460554,
           0.24710248772438795,
           "hypothetical protein"
          ],
          [
           "PRKV01000004.1",
           461986,
           0.00002049011943232047,
           "None"
          ],
          [
           "PRKV01000004.1",
           461986,
           0.04541724701685137,
           "None"
          ],
          [
           "PRKV01000004.1",
           461986,
           0.6098719500417098,
           "None"
          ]
         ],
         "hovertemplate": "-log10(P-value)=%{y}<br>position=%{customdata[1]}<br>p_value=%{customdata[2]}<br>annotation_as_str=%{customdata[3]}<extra></extra>",
         "legendgroup": "PRKV01000004.1",
         "marker": {
          "color": "rgb(255,255,179)",
          "symbol": "circle"
         },
         "mode": "markers",
         "name": "PRKV01000004.1",
         "orientation": "v",
         "showlegend": true,
         "type": "scatter",
         "x": [
          581144,
          581144,
          581144,
          581212,
          581212,
          581212,
          658385,
          658385,
          658385,
          658440,
          658440,
          658440,
          658445,
          658445,
          658445,
          665721,
          665721,
          665721,
          673868,
          673868,
          673868,
          693231,
          693231,
          693231,
          726506,
          726506,
          726506,
          738408,
          738408,
          738408,
          837973,
          837973,
          837973,
          891190,
          891190,
          891190,
          919574,
          919574,
          919574,
          934764,
          934764,
          934764,
          935044,
          935044,
          935044,
          992628,
          992628,
          992628,
          994060,
          994060,
          994060
         ],
         "xaxis": "x",
         "y": [
          1.8618858909032856,
          0.5838731564880155,
          0.3155799397184899,
          2.270732112784977,
          0.07183700567031943,
          0.0429374935538615,
          2.4184920428815513,
          1.71486128830298,
          0.1735316392974382,
          2.0095024008748954,
          2.2316676374819946,
          0.17093094620186333,
          0.8079530770453828,
          1.5523462369525693,
          1.032027934589384,
          3.2474107381596293,
          1.7676142553365515,
          0.6091593755344918,
          3.013279249431652,
          1.8979211097201187,
          0.23276455366900653,
          0.5451360003848966,
          0.04358500284164717,
          0.012048365116429571,
          0.12649172583800272,
          0.005212696125104037,
          1.659414067358619,
          0.7702767832580305,
          0.6256003699181267,
          2.6391855861390874,
          1.9331470734641671,
          2.278057583868598,
          0.3704326780666928,
          3.1274857222732253,
          0.4085563412810087,
          2.461092583603905,
          1.1458028887849512,
          0.38740050162435663,
          2.307030993230425,
          1.5975672625091424,
          1.453210174796666,
          0.5681808090257289,
          0.6305539990797164,
          2.0188813433211363,
          0.7368811189005238,
          0.6774120480812412,
          1.454945478298026,
          0.6071228822809006,
          4.688455510186087,
          1.342779194238378,
          0.21476134077288095
         ],
         "yaxis": "y"
        },
        {
         "customdata": [
          [
           "PRKV01000005.1",
           1,
           0.5996777535410214,
           "glycoside hydrolase"
          ],
          [
           "PRKV01000005.1",
           1,
           0.0018430247902590652,
           "glycoside hydrolase"
          ],
          [
           "PRKV01000005.1",
           1,
           0.00011210602826936722,
           "glycoside hydrolase"
          ],
          [
           "PRKV01000005.1",
           1429,
           0.033057756742863105,
           "None"
          ],
          [
           "PRKV01000005.1",
           1429,
           0.003000108745964274,
           "None"
          ],
          [
           "PRKV01000005.1",
           1429,
           0.07953334479293114,
           "None"
          ],
          [
           "PRKV01000005.1",
           12722,
           0.004216515384228723,
           "None"
          ],
          [
           "PRKV01000005.1",
           12722,
           0.018012170029962866,
           "None"
          ],
          [
           "PRKV01000005.1",
           12722,
           0.06104415526341609,
           "None"
          ],
          [
           "PRKV01000005.1",
           21659,
           0.016814111004491324,
           "None"
          ],
          [
           "PRKV01000005.1",
           21659,
           0.2237897766989107,
           "None"
          ],
          [
           "PRKV01000005.1",
           21659,
           0.0000036319817317473906,
           "None"
          ],
          [
           "PRKV01000005.1",
           30369,
           0.6073733748645596,
           "None"
          ],
          [
           "PRKV01000005.1",
           30369,
           0.8191661040147887,
           "None"
          ],
          [
           "PRKV01000005.1",
           30369,
           0.035961387770464634,
           "None"
          ],
          [
           "PRKV01000005.1",
           75388,
           0.5869707998814591,
           "None"
          ],
          [
           "PRKV01000005.1",
           75388,
           0.5798090697944411,
           "None"
          ],
          [
           "PRKV01000005.1",
           75388,
           0.36445016382907947,
           "None"
          ],
          [
           "PRKV01000005.1",
           100026,
           0.5357688650945971,
           "PepSY domain-containing protein"
          ],
          [
           "PRKV01000005.1",
           100026,
           0.2937088034848604,
           "PepSY domain-containing protein"
          ],
          [
           "PRKV01000005.1",
           100026,
           0.3906213908263202,
           "PepSY domain-containing protein"
          ],
          [
           "PRKV01000005.1",
           100030,
           0.006578806121575717,
           "PepSY domain-containing protein"
          ],
          [
           "PRKV01000005.1",
           100030,
           0.014361976695525493,
           "PepSY domain-containing protein"
          ],
          [
           "PRKV01000005.1",
           100030,
           0.7855028917025791,
           "PepSY domain-containing protein"
          ],
          [
           "PRKV01000005.1",
           100032,
           0.00011102023199180785,
           "PepSY domain-containing protein"
          ],
          [
           "PRKV01000005.1",
           100032,
           0.018379527369184717,
           "PepSY domain-containing protein"
          ],
          [
           "PRKV01000005.1",
           100032,
           0.0004409635911425243,
           "PepSY domain-containing protein"
          ],
          [
           "PRKV01000005.1",
           104091,
           0.5892479549518819,
           "None"
          ],
          [
           "PRKV01000005.1",
           104091,
           0.34795826887885306,
           "None"
          ],
          [
           "PRKV01000005.1",
           104091,
           0.08319141331101262,
           "None"
          ],
          [
           "PRKV01000005.1",
           140389,
           0.0021489017882597044,
           "None"
          ],
          [
           "PRKV01000005.1",
           140389,
           0.022601228922977258,
           "None"
          ],
          [
           "PRKV01000005.1",
           140389,
           0.35462929272666066,
           "None"
          ],
          [
           "PRKV01000005.1",
           158770,
           0.008062902606293271,
           "None"
          ],
          [
           "PRKV01000005.1",
           158770,
           0.41168741663096176,
           "None"
          ],
          [
           "PRKV01000005.1",
           158770,
           0.0005703608766237815,
           "None"
          ],
          [
           "PRKV01000005.1",
           164981,
           0.9470503436223129,
           "None"
          ],
          [
           "PRKV01000005.1",
           164981,
           0.23903505153715351,
           "None"
          ],
          [
           "PRKV01000005.1",
           164981,
           0.20387672125372708,
           "None"
          ],
          [
           "PRKV01000005.1",
           299712,
           0.02725896442096533,
           "None"
          ],
          [
           "PRKV01000005.1",
           299712,
           0.06211199269711857,
           "None"
          ],
          [
           "PRKV01000005.1",
           299712,
           0.9248615753552645,
           "None"
          ],
          [
           "PRKV01000005.1",
           306071,
           0.005322928277747915,
           "hypothetical protein"
          ],
          [
           "PRKV01000005.1",
           306071,
           0.017789288995617554,
           "hypothetical protein"
          ],
          [
           "PRKV01000005.1",
           306071,
           0.2893523670881738,
           "hypothetical protein"
          ],
          [
           "PRKV01000005.1",
           306072,
           0.055342590814924236,
           "hypothetical protein"
          ],
          [
           "PRKV01000005.1",
           306072,
           0.8666005641886265,
           "hypothetical protein"
          ],
          [
           "PRKV01000005.1",
           306072,
           0.2363603806482025,
           "hypothetical protein"
          ],
          [
           "PRKV01000005.1",
           343327,
           0.07670550755806149,
           "None"
          ],
          [
           "PRKV01000005.1",
           343327,
           0.2296771766601818,
           "None"
          ],
          [
           "PRKV01000005.1",
           343327,
           0.279053284702521,
           "None"
          ],
          [
           "PRKV01000005.1",
           344624,
           0.0000015749430849199743,
           "3-ketoacyl-ACP reductase"
          ],
          [
           "PRKV01000005.1",
           344624,
           0.11345771033998274,
           "3-ketoacyl-ACP reductase"
          ],
          [
           "PRKV01000005.1",
           344624,
           0.19554359199567048,
           "3-ketoacyl-ACP reductase"
          ],
          [
           "PRKV01000005.1",
           374188,
           0.5590355902798965,
           "ABC transporter ATP-binding protein"
          ],
          [
           "PRKV01000005.1",
           374188,
           0.8647979872640417,
           "ABC transporter ATP-binding protein"
          ],
          [
           "PRKV01000005.1",
           374188,
           0.5458255276232766,
           "ABC transporter ATP-binding protein"
          ],
          [
           "PRKV01000005.1",
           404119,
           0.039322835932845884,
           "None"
          ],
          [
           "PRKV01000005.1",
           404119,
           0.02094093533690913,
           "None"
          ],
          [
           "PRKV01000005.1",
           404119,
           0.10629858379626082,
           "None"
          ],
          [
           "PRKV01000005.1",
           404126,
           0.07453520176941847,
           "None"
          ],
          [
           "PRKV01000005.1",
           404126,
           0.18565660437993994,
           "None"
          ],
          [
           "PRKV01000005.1",
           404126,
           0.19123679546062902,
           "None"
          ],
          [
           "PRKV01000005.1",
           407563,
           0.0027993300031689933,
           "None"
          ],
          [
           "PRKV01000005.1",
           407563,
           0.04346934514364327,
           "None"
          ],
          [
           "PRKV01000005.1",
           407563,
           0.49848676618336174,
           "None"
          ]
         ],
         "hovertemplate": "-log10(P-value)=%{y}<br>position=%{customdata[1]}<br>p_value=%{customdata[2]}<br>annotation_as_str=%{customdata[3]}<extra></extra>",
         "legendgroup": "PRKV01000005.1",
         "marker": {
          "color": "rgb(190,186,218)",
          "symbol": "circle"
         },
         "mode": "markers",
         "name": "PRKV01000005.1",
         "orientation": "v",
         "showlegend": true,
         "type": "scatter",
         "x": [
          994061,
          994061,
          994061,
          995489,
          995489,
          995489,
          1006782,
          1006782,
          1006782,
          1015719,
          1015719,
          1015719,
          1024429,
          1024429,
          1024429,
          1069448,
          1069448,
          1069448,
          1094086,
          1094086,
          1094086,
          1094090,
          1094090,
          1094090,
          1094092,
          1094092,
          1094092,
          1098151,
          1098151,
          1098151,
          1134449,
          1134449,
          1134449,
          1152830,
          1152830,
          1152830,
          1159041,
          1159041,
          1159041,
          1293772,
          1293772,
          1293772,
          1300131,
          1300131,
          1300131,
          1300132,
          1300132,
          1300132,
          1337387,
          1337387,
          1337387,
          1338684,
          1338684,
          1338684,
          1368248,
          1368248,
          1368248,
          1398179,
          1398179,
          1398179,
          1398186,
          1398186,
          1398186,
          1401623,
          1401623,
          1401623
         ],
         "xaxis": "x",
         "y": [
          0.222082062040297,
          2.7344688231095704,
          3.9503710334912854,
          1.4807266204333687,
          2.522863002974917,
          1.0994507528098187,
          2.375046310782519,
          1.7444339620685263,
          1.2143559117086244,
          1.7743260897558422,
          0.6501597570599565,
          5.439856344573104,
          0.21654424995947588,
          0.0866280265146018,
          1.4441635569436615,
          0.23138350312339226,
          0.23671499537827978,
          0.43836185020957574,
          0.2710225279627751,
          0.5320830359504825,
          0.40824397798757334,
          2.1818529121391443,
          1.842785782316612,
          0.10485221183576875,
          3.954597869486083,
          1.7356656607189054,
          3.355597267263804,
          0.22970191606652218,
          0.45847283847407533,
          1.0799214975565425,
          2.6677834327130885,
          1.6458679458102405,
          0.4502253941041845,
          2.093508586114682,
          0.3854324071614994,
          3.2438502721623883,
          0.023626934010207688,
          0.6215384104618883,
          0.6906323593528202,
          1.564490647210195,
          1.2068245373543487,
          0.03392326353991191,
          2.273849385562763,
          1.7498414095018313,
          0.5385729604781527,
          1.2569405136033116,
          0.062181032559978304,
          0.6264253192792691,
          1.1151734520066654,
          0.6388821591062906,
          0.5543128610893248,
          5.802735136066008,
          0.9451659850648526,
          0.7087564113994953,
          0.2525605424353231,
          0.06308532983311962,
          0.2629461567447781,
          1.405355168724621,
          1.6790039242528594,
          0.9734725214933192,
          1.1276385685467238,
          0.7312895969643641,
          0.7184285423524572,
          2.5529459010667734,
          1.3618169023130593,
          0.3023463668404507
         ],
         "yaxis": "y"
        },
        {
         "customdata": [
          [
           "PRKV01000006.1",
           14962,
           0.00043162673556812903,
           "hypothetical protein"
          ],
          [
           "PRKV01000006.1",
           14962,
           0.06362614393157087,
           "hypothetical protein"
          ],
          [
           "PRKV01000006.1",
           14962,
           0.30695825305718155,
           "hypothetical protein"
          ],
          [
           "PRKV01000006.1",
           14977,
           0.002285935773045781,
           "hypothetical protein"
          ],
          [
           "PRKV01000006.1",
           14977,
           0.25056959183151317,
           "hypothetical protein"
          ],
          [
           "PRKV01000006.1",
           14977,
           0.705687472016186,
           "hypothetical protein"
          ],
          [
           "PRKV01000006.1",
           24470,
           0.02105238399257422,
           "None"
          ],
          [
           "PRKV01000006.1",
           24470,
           0.21921367685673276,
           "None"
          ],
          [
           "PRKV01000006.1",
           24470,
           0.4908918663134323,
           "None"
          ],
          [
           "PRKV01000006.1",
           35317,
           0.19710962414442312,
           "None"
          ],
          [
           "PRKV01000006.1",
           35317,
           0.012141584941523446,
           "None"
          ],
          [
           "PRKV01000006.1",
           35317,
           0.29363844505951436,
           "None"
          ],
          [
           "PRKV01000006.1",
           56697,
           0.040725809590568034,
           "None"
          ],
          [
           "PRKV01000006.1",
           56697,
           0.1440611409772274,
           "None"
          ],
          [
           "PRKV01000006.1",
           56697,
           0.8842975850959407,
           "None"
          ],
          [
           "PRKV01000006.1",
           56826,
           0.008141007552774264,
           "None"
          ],
          [
           "PRKV01000006.1",
           56826,
           0.6010621961278138,
           "None"
          ],
          [
           "PRKV01000006.1",
           56826,
           0.30479290829656924,
           "None"
          ],
          [
           "PRKV01000006.1",
           56843,
           0.7145507142787106,
           "None"
          ],
          [
           "PRKV01000006.1",
           56843,
           0.1925258422134211,
           "None"
          ],
          [
           "PRKV01000006.1",
           56843,
           0.07347638726628473,
           "None"
          ],
          [
           "PRKV01000006.1",
           75471,
           0.6316373771762235,
           "hypothetical protein"
          ],
          [
           "PRKV01000006.1",
           75471,
           0.15731900707293134,
           "hypothetical protein"
          ],
          [
           "PRKV01000006.1",
           75471,
           0.011909708104299645,
           "hypothetical protein"
          ],
          [
           "PRKV01000006.1",
           75475,
           0.37949584115229384,
           "hypothetical protein"
          ],
          [
           "PRKV01000006.1",
           75475,
           0.02919486474426842,
           "hypothetical protein"
          ],
          [
           "PRKV01000006.1",
           75475,
           0.08235929533421854,
           "hypothetical protein"
          ],
          [
           "PRKV01000006.1",
           75497,
           0.03076116203867821,
           "hypothetical protein"
          ],
          [
           "PRKV01000006.1",
           75497,
           0.11314647286204631,
           "hypothetical protein"
          ],
          [
           "PRKV01000006.1",
           75497,
           0.20557752255602427,
           "hypothetical protein"
          ],
          [
           "PRKV01000006.1",
           75560,
           0.0006712538146369615,
           "hypothetical protein"
          ],
          [
           "PRKV01000006.1",
           75560,
           0.04473269424299764,
           "hypothetical protein"
          ],
          [
           "PRKV01000006.1",
           75560,
           0.8193432520257637,
           "hypothetical protein"
          ],
          [
           "PRKV01000006.1",
           75574,
           8.17857467147284e-7,
           "hypothetical protein"
          ],
          [
           "PRKV01000006.1",
           75574,
           0.06579360168913445,
           "hypothetical protein"
          ],
          [
           "PRKV01000006.1",
           75574,
           0.5171693850882284,
           "hypothetical protein"
          ],
          [
           "PRKV01000006.1",
           75579,
           0.0009299661187746241,
           "hypothetical protein"
          ],
          [
           "PRKV01000006.1",
           75579,
           0.01040552463502604,
           "hypothetical protein"
          ],
          [
           "PRKV01000006.1",
           75579,
           0.3176241903725339,
           "hypothetical protein"
          ],
          [
           "PRKV01000006.1",
           75646,
           0.00015038756810162654,
           "None"
          ],
          [
           "PRKV01000006.1",
           75646,
           0.0036938004987524665,
           "None"
          ],
          [
           "PRKV01000006.1",
           75646,
           0.1456509628204949,
           "None"
          ],
          [
           "PRKV01000006.1",
           106088,
           0.003366412062549982,
           "cytochrome P450"
          ],
          [
           "PRKV01000006.1",
           106088,
           0.0005102748913721817,
           "cytochrome P450"
          ],
          [
           "PRKV01000006.1",
           106088,
           0.23120416381980607,
           "cytochrome P450"
          ],
          [
           "PRKV01000006.1",
           137342,
           0.0000232635068213424,
           "peptidase S1"
          ],
          [
           "PRKV01000006.1",
           137342,
           0.6328316740009653,
           "peptidase S1"
          ],
          [
           "PRKV01000006.1",
           137342,
           0.006040691048727688,
           "peptidase S1"
          ],
          [
           "PRKV01000006.1",
           147074,
           0.6695799930560868,
           "None"
          ],
          [
           "PRKV01000006.1",
           147074,
           0.2718241856647668,
           "None"
          ],
          [
           "PRKV01000006.1",
           147074,
           0.7739322380748483,
           "None"
          ],
          [
           "PRKV01000006.1",
           152191,
           0.009638713001611805,
           "None"
          ],
          [
           "PRKV01000006.1",
           152191,
           0.2168877527283188,
           "None"
          ],
          [
           "PRKV01000006.1",
           152191,
           0.00017521420717011896,
           "None"
          ],
          [
           "PRKV01000006.1",
           198409,
           0.17991398826697308,
           "glycosyltransferase"
          ],
          [
           "PRKV01000006.1",
           198409,
           0.4756939199961683,
           "glycosyltransferase"
          ],
          [
           "PRKV01000006.1",
           198409,
           0.034772709621777635,
           "glycosyltransferase"
          ],
          [
           "PRKV01000006.1",
           229825,
           0.7315344795761749,
           "None"
          ],
          [
           "PRKV01000006.1",
           229825,
           0.44217531710711167,
           "None"
          ],
          [
           "PRKV01000006.1",
           229825,
           0.7535852852746948,
           "None"
          ],
          [
           "PRKV01000006.1",
           265339,
           0.7944979586334932,
           "None"
          ],
          [
           "PRKV01000006.1",
           265339,
           0.4631521538346782,
           "None"
          ],
          [
           "PRKV01000006.1",
           265339,
           0.3169531327185704,
           "None"
          ],
          [
           "PRKV01000006.1",
           280865,
           0.3876041416583943,
           "hypothetical protein"
          ],
          [
           "PRKV01000006.1",
           280865,
           0.8553110526435799,
           "hypothetical protein"
          ],
          [
           "PRKV01000006.1",
           280865,
           0.39945348361286315,
           "hypothetical protein"
          ],
          [
           "PRKV01000006.1",
           294117,
           0.0027630087451080516,
           "None"
          ],
          [
           "PRKV01000006.1",
           294117,
           0.7720010040752541,
           "None"
          ],
          [
           "PRKV01000006.1",
           294117,
           0.012724554231040542,
           "None"
          ],
          [
           "PRKV01000006.1",
           351947,
           0.3136161267912468,
           "DUF4115 domain-containing protein"
          ],
          [
           "PRKV01000006.1",
           351947,
           0.4187603130324751,
           "DUF4115 domain-containing protein"
          ],
          [
           "PRKV01000006.1",
           351947,
           0.2933586468277667,
           "DUF4115 domain-containing protein"
          ]
         ],
         "hovertemplate": "-log10(P-value)=%{y}<br>position=%{customdata[1]}<br>p_value=%{customdata[2]}<br>annotation_as_str=%{customdata[3]}<extra></extra>",
         "legendgroup": "PRKV01000006.1",
         "marker": {
          "color": "rgb(251,128,114)",
          "symbol": "circle"
         },
         "mode": "markers",
         "name": "PRKV01000006.1",
         "orientation": "v",
         "showlegend": true,
         "type": "scatter",
         "x": [
          1416585,
          1416585,
          1416585,
          1416600,
          1416600,
          1416600,
          1426093,
          1426093,
          1426093,
          1436940,
          1436940,
          1436940,
          1458320,
          1458320,
          1458320,
          1458449,
          1458449,
          1458449,
          1458466,
          1458466,
          1458466,
          1477094,
          1477094,
          1477094,
          1477098,
          1477098,
          1477098,
          1477120,
          1477120,
          1477120,
          1477183,
          1477183,
          1477183,
          1477197,
          1477197,
          1477197,
          1477202,
          1477202,
          1477202,
          1477269,
          1477269,
          1477269,
          1507711,
          1507711,
          1507711,
          1538965,
          1538965,
          1538965,
          1548697,
          1548697,
          1548697,
          1553814,
          1553814,
          1553814,
          1600032,
          1600032,
          1600032,
          1631448,
          1631448,
          1631448,
          1666962,
          1666962,
          1666962,
          1682488,
          1682488,
          1682488,
          1695740,
          1695740,
          1695740,
          1753570,
          1753570,
          1753570
         ],
         "xaxis": "x",
         "y": [
          3.36489166234386,
          1.1963643964240984,
          0.5129206854340076,
          2.6409359759545854,
          0.6010716344634455,
          0.15138759247451672,
          1.6766987171111931,
          0.6591323534809538,
          0.3090141637535801,
          0.7052921701864407,
          1.9157246175087823,
          0.5321870843685352,
          1.3901302735701828,
          0.8414531498942482,
          0.053401560986155706,
          2.0893218423428292,
          0.22108058617109477,
          0.5159951420683206,
          0.1459669423106817,
          0.7155109680909076,
          1.133852205508432,
          0.19953217850369268,
          0.8032188033257774,
          1.9240988825344714,
          0.4207929791216144,
          1.5346935324337228,
          1.0842873778598547,
          1.5119972625814846,
          0.9463589798482342,
          0.6870243719896811,
          3.1731132332535417,
          1.349374943552611,
          0.08653411871521974,
          6.087322376799408,
          1.181816338699302,
          0.28636719199113575,
          3.0315328737011846,
          1.9827360182536178,
          0.49808642896145316,
          3.822788063531727,
          2.432526564399475,
          0.836686640138642,
          2.472832725692724,
          3.292195801071629,
          0.6360043488514998,
          4.633324817622977,
          0.19871179199523312,
          2.218913375703061,
          0.17419753147111586,
          0.5657119043605148,
          0.11129706246756767,
          2.015980950911715,
          0.6637649711424771,
          3.7564306821552123,
          0.7449350690558618,
          0.3226723994083275,
          1.4587614661204362,
          0.1357651993585305,
          0.3544055040534754,
          0.12286759029266572,
          0.09990721432236427,
          0.334276311972442,
          0.49900495136742784,
          0.411611591038773,
          0.06787591582180391,
          0.3985337870294819,
          2.5586177405101407,
          0.1123821348144469,
          1.8953574230100865,
          0.5036016130910053,
          0.37803448422269686,
          0.5326011063082574
         ],
         "yaxis": "y"
        },
        {
         "customdata": [
          [
           "PRKV01000007.1",
           375,
           0.4089808570984318,
           "sodium:alanine symporter"
          ],
          [
           "PRKV01000007.1",
           375,
           0.6328571376673557,
           "sodium:alanine symporter"
          ],
          [
           "PRKV01000007.1",
           375,
           0.4971164477239529,
           "sodium:alanine symporter"
          ],
          [
           "PRKV01000007.1",
           36669,
           0.001304921369216247,
           "None"
          ],
          [
           "PRKV01000007.1",
           36669,
           0.5831857671668201,
           "None"
          ],
          [
           "PRKV01000007.1",
           36669,
           0.04053078702300932,
           "None"
          ],
          [
           "PRKV01000007.1",
           159287,
           0.1942220612375422,
           "None"
          ],
          [
           "PRKV01000007.1",
           159287,
           0.5589669083023492,
           "None"
          ],
          [
           "PRKV01000007.1",
           159287,
           0.028608250915401156,
           "None"
          ]
         ],
         "hovertemplate": "-log10(P-value)=%{y}<br>position=%{customdata[1]}<br>p_value=%{customdata[2]}<br>annotation_as_str=%{customdata[3]}<extra></extra>",
         "legendgroup": "PRKV01000007.1",
         "marker": {
          "color": "rgb(128,177,211)",
          "symbol": "circle"
         },
         "mode": "markers",
         "name": "PRKV01000007.1",
         "orientation": "v",
         "showlegend": true,
         "type": "scatter",
         "x": [
          1753945,
          1753945,
          1753945,
          1790239,
          1790239,
          1790239,
          1912857,
          1912857,
          1912857
         ],
         "xaxis": "x",
         "y": [
          0.3882970192569164,
          0.1986943173526481,
          0.3035418674432153,
          2.8844156568654156,
          0.23419308365499744,
          1.3922149630870377,
          0.7117014411141012,
          0.25261390225147795,
          1.5435086937854534
         ],
         "yaxis": "y"
        },
        {
         "customdata": [
          [
           "PRKV01000008.1",
           59819,
           0.00015282687085791527,
           "None"
          ],
          [
           "PRKV01000008.1",
           59819,
           0.4834945934479675,
           "None"
          ],
          [
           "PRKV01000008.1",
           59819,
           0.43175028031767737,
           "None"
          ],
          [
           "PRKV01000008.1",
           62602,
           0.10038659222150728,
           "flagellar hook-associated protein FlgK"
          ],
          [
           "PRKV01000008.1",
           62602,
           0.25003283691939604,
           "flagellar hook-associated protein FlgK"
          ],
          [
           "PRKV01000008.1",
           62602,
           0.05101497108027561,
           "flagellar hook-associated protein FlgK"
          ],
          [
           "PRKV01000008.1",
           164022,
           0.3584923508718293,
           "None"
          ],
          [
           "PRKV01000008.1",
           164022,
           0.6154407208316133,
           "None"
          ],
          [
           "PRKV01000008.1",
           164022,
           0.19115945644852606,
           "None"
          ],
          [
           "PRKV01000008.1",
           164118,
           0.2750123851828697,
           "None"
          ],
          [
           "PRKV01000008.1",
           164118,
           0.3563942109864652,
           "None"
          ],
          [
           "PRKV01000008.1",
           164118,
           0.3990095406969275,
           "None"
          ],
          [
           "PRKV01000008.1",
           211819,
           0.0000274929026406863,
           "serine protease"
          ],
          [
           "PRKV01000008.1",
           211819,
           0.001131681279844863,
           "serine protease"
          ],
          [
           "PRKV01000008.1",
           211819,
           0.0000014691674424260723,
           "serine protease"
          ]
         ],
         "hovertemplate": "-log10(P-value)=%{y}<br>position=%{customdata[1]}<br>p_value=%{customdata[2]}<br>annotation_as_str=%{customdata[3]}<extra></extra>",
         "legendgroup": "PRKV01000008.1",
         "marker": {
          "color": "rgb(253,180,98)",
          "symbol": "circle"
         },
         "mode": "markers",
         "name": "PRKV01000008.1",
         "orientation": "v",
         "showlegend": true,
         "type": "scatter",
         "x": [
          1972676,
          1972676,
          1972676,
          1975459,
          1975459,
          1975459,
          2076879,
          2076879,
          2076879,
          2076975,
          2076975,
          2076975,
          2124676,
          2124676,
          2124676
         ],
         "xaxis": "x",
         "y": [
          3.815800279010809,
          0.31560837793846025,
          0.36476737179088936,
          0.9983242883170528,
          0.6020029515023191,
          1.2923023552074269,
          0.44552010641067485,
          0.21081377190494976,
          0.7186042130421276,
          0.5606477472771616,
          0.4480693589478807,
          0.39901671979572906,
          4.560779405871886,
          2.94627586810755,
          5.832928704429229
         ],
         "yaxis": "y"
        },
        {
         "customdata": [
          [
           "PRKV01000009.1",
           17891,
           0.16192978954273038,
           "None"
          ],
          [
           "PRKV01000009.1",
           17891,
           0.49427537244947894,
           "None"
          ],
          [
           "PRKV01000009.1",
           17891,
           0.3023652059041417,
           "None"
          ],
          [
           "PRKV01000009.1",
           17892,
           0.2443572821131408,
           "None"
          ],
          [
           "PRKV01000009.1",
           17892,
           0.9474670208417888,
           "None"
          ],
          [
           "PRKV01000009.1",
           17892,
           0.7558007919197721,
           "None"
          ],
          [
           "PRKV01000009.1",
           17893,
           0.4698281593758106,
           "None"
          ],
          [
           "PRKV01000009.1",
           17893,
           0.3296094654687395,
           "None"
          ],
          [
           "PRKV01000009.1",
           17893,
           0.5458455983293338,
           "None"
          ],
          [
           "PRKV01000009.1",
           18942,
           0.004226159011886924,
           "None"
          ],
          [
           "PRKV01000009.1",
           18942,
           0.6999720418277764,
           "None"
          ],
          [
           "PRKV01000009.1",
           18942,
           0.24118646546238567,
           "None"
          ],
          [
           "PRKV01000009.1",
           34296,
           0.18184203170684923,
           "None"
          ],
          [
           "PRKV01000009.1",
           34296,
           0.11970484670272932,
           "None"
          ],
          [
           "PRKV01000009.1",
           34296,
           0.0016019857630139931,
           "None"
          ],
          [
           "PRKV01000009.1",
           55306,
           0.07498955084116805,
           "None"
          ],
          [
           "PRKV01000009.1",
           55306,
           0.33245780473070374,
           "None"
          ],
          [
           "PRKV01000009.1",
           55306,
           0.005180692066418091,
           "None"
          ],
          [
           "PRKV01000009.1",
           63676,
           0.0010085987783055152,
           "hypothetical protein"
          ],
          [
           "PRKV01000009.1",
           63676,
           0.10986848008802337,
           "hypothetical protein"
          ],
          [
           "PRKV01000009.1",
           63676,
           0.002309397568761655,
           "hypothetical protein"
          ],
          [
           "PRKV01000009.1",
           63677,
           0.2293120693319917,
           "hypothetical protein"
          ],
          [
           "PRKV01000009.1",
           63677,
           0.5193104938973065,
           "hypothetical protein"
          ],
          [
           "PRKV01000009.1",
           63677,
           0.4061911184814402,
           "hypothetical protein"
          ],
          [
           "PRKV01000009.1",
           63678,
           0.0029575669553394,
           "hypothetical protein"
          ],
          [
           "PRKV01000009.1",
           63678,
           0.4552557302014014,
           "hypothetical protein"
          ],
          [
           "PRKV01000009.1",
           63678,
           0.1979408192859815,
           "hypothetical protein"
          ],
          [
           "PRKV01000009.1",
           73010,
           0.961484407056804,
           "None"
          ],
          [
           "PRKV01000009.1",
           73010,
           0.1574612930035097,
           "None"
          ],
          [
           "PRKV01000009.1",
           73010,
           0.4023431699793961,
           "None"
          ],
          [
           "PRKV01000009.1",
           73011,
           0.8137343734151787,
           "None"
          ],
          [
           "PRKV01000009.1",
           73011,
           0.22241497785581518,
           "None"
          ],
          [
           "PRKV01000009.1",
           73011,
           0.10873706981594217,
           "None"
          ],
          [
           "PRKV01000009.1",
           73018,
           0.09632454960580855,
           "None"
          ],
          [
           "PRKV01000009.1",
           73018,
           0.3568670626283311,
           "None"
          ],
          [
           "PRKV01000009.1",
           73018,
           0.10072140154437885,
           "None"
          ],
          [
           "PRKV01000009.1",
           90919,
           0.0029425026994806523,
           "hypothetical protein"
          ],
          [
           "PRKV01000009.1",
           90919,
           0.021817423249627488,
           "hypothetical protein"
          ],
          [
           "PRKV01000009.1",
           90919,
           0.5778174383269051,
           "hypothetical protein"
          ],
          [
           "PRKV01000009.1",
           90920,
           0.05753201553402348,
           "hypothetical protein"
          ],
          [
           "PRKV01000009.1",
           90920,
           0.05683614710827384,
           "hypothetical protein"
          ],
          [
           "PRKV01000009.1",
           90920,
           0.3046690362975607,
           "hypothetical protein"
          ],
          [
           "PRKV01000009.1",
           124951,
           1.5645878113668269e-9,
           "None"
          ],
          [
           "PRKV01000009.1",
           124951,
           0.7341309706413535,
           "None"
          ],
          [
           "PRKV01000009.1",
           124951,
           0.00007588962094252009,
           "None"
          ],
          [
           "PRKV01000009.1",
           132078,
           0.000018565320848467667,
           "None"
          ],
          [
           "PRKV01000009.1",
           132078,
           0.997357896884576,
           "None"
          ],
          [
           "PRKV01000009.1",
           132078,
           0.019022469397579705,
           "None"
          ],
          [
           "PRKV01000009.1",
           175856,
           0.0035689132531702664,
           "None"
          ],
          [
           "PRKV01000009.1",
           175856,
           0.6860556967803003,
           "None"
          ],
          [
           "PRKV01000009.1",
           175856,
           0.3854074149896656,
           "None"
          ],
          [
           "PRKV01000009.1",
           175907,
           0.002899196220587405,
           "None"
          ],
          [
           "PRKV01000009.1",
           175907,
           0.29397015813541916,
           "None"
          ],
          [
           "PRKV01000009.1",
           175907,
           0.06705060002633656,
           "None"
          ],
          [
           "PRKV01000009.1",
           197048,
           0.000016953980522551836,
           "None"
          ],
          [
           "PRKV01000009.1",
           197048,
           0.10292471483110456,
           "None"
          ],
          [
           "PRKV01000009.1",
           197048,
           0.8641686822166155,
           "None"
          ],
          [
           "PRKV01000009.1",
           228616,
           0.0011175205344204596,
           "sucrose-6-phosphate hydrolase"
          ],
          [
           "PRKV01000009.1",
           228616,
           0.33378455990234623,
           "sucrose-6-phosphate hydrolase"
          ],
          [
           "PRKV01000009.1",
           228616,
           0.777993878474706,
           "sucrose-6-phosphate hydrolase"
          ],
          [
           "PRKV01000009.1",
           241180,
           0.45167050518641505,
           "hypothetical protein"
          ],
          [
           "PRKV01000009.1",
           241180,
           0.00004637136876022218,
           "hypothetical protein"
          ],
          [
           "PRKV01000009.1",
           241180,
           0.22641228053148912,
           "hypothetical protein"
          ],
          [
           "PRKV01000009.1",
           248297,
           0.002493787150971283,
           "None"
          ],
          [
           "PRKV01000009.1",
           248297,
           0.00010490081818041628,
           "None"
          ],
          [
           "PRKV01000009.1",
           248297,
           1.6817608172999547e-8,
           "None"
          ]
         ],
         "hovertemplate": "-log10(P-value)=%{y}<br>position=%{customdata[1]}<br>p_value=%{customdata[2]}<br>annotation_as_str=%{customdata[3]}<extra></extra>",
         "legendgroup": "PRKV01000009.1",
         "marker": {
          "color": "rgb(179,222,105)",
          "symbol": "circle"
         },
         "mode": "markers",
         "name": "PRKV01000009.1",
         "orientation": "v",
         "showlegend": true,
         "type": "scatter",
         "x": [
          2142567,
          2142567,
          2142567,
          2142568,
          2142568,
          2142568,
          2142569,
          2142569,
          2142569,
          2143618,
          2143618,
          2143618,
          2158972,
          2158972,
          2158972,
          2179982,
          2179982,
          2179982,
          2188352,
          2188352,
          2188352,
          2188353,
          2188353,
          2188353,
          2188354,
          2188354,
          2188354,
          2197686,
          2197686,
          2197686,
          2197687,
          2197687,
          2197687,
          2197694,
          2197694,
          2197694,
          2215595,
          2215595,
          2215595,
          2215596,
          2215596,
          2215596,
          2249627,
          2249627,
          2249627,
          2256754,
          2256754,
          2256754,
          2300532,
          2300532,
          2300532,
          2300583,
          2300583,
          2300583,
          2321724,
          2321724,
          2321724,
          2353292,
          2353292,
          2353292,
          2365856,
          2365856,
          2365856,
          2372973,
          2372973,
          2372973
         ],
         "xaxis": "x",
         "y": [
          0.7906732485663881,
          0.30603102796881465,
          0.5194681858997621,
          0.6119747139943975,
          0.023435897893605787,
          0.1215926573697757,
          0.32806095713050376,
          0.48200032506407164,
          0.26293018747219726,
          2.374054166373659,
          0.154919306160609,
          0.6176470669295795,
          0.7403057249175764,
          0.9218882651855872,
          2.795341347847247,
          1.124999247650611,
          0.478263467159302,
          2.2856122208435137,
          2.9962815622283374,
          0.9591268834386159,
          2.636501295728812,
          0.6395730865420164,
          0.2845729013686513,
          0.3912695768363589,
          2.529065414745582,
          0.3417445791317528,
          0.7034646365028377,
          0.017057754570689546,
          0.8028261866423559,
          0.39540336668805487,
          0.0895173383373876,
          0.6528359698727885,
          0.9636223742947022,
          1.016263012983732,
          0.4474935338007649,
          0.9968782396242315,
          2.531283130058355,
          1.661196543140404,
          0.2382093554394394,
          1.2400904109567468,
          1.245375370335181,
          0.5161716811511943,
          8.805600057367986,
          0.13422645404471434,
          4.1198176164051254,
          4.731297540835078,
          0.0011489693206282964,
          1.720733105898614,
          2.4474640079780254,
          0.16364062507685606,
          0.4140799340549385,
          2.5377223901522545,
          0.5316967539922941,
          1.173597331355097,
          4.770728320114248,
          0.9874803276090701,
          0.06340147672759067,
          2.951744487969126,
          0.4765337566450892,
          0.10902382017626884,
          0.3451782686438615,
          4.3337500846899575,
          0.6451000208476448,
          2.6031406170577402,
          3.979221124486573,
          7.774235770198708
         ],
         "yaxis": "y"
        },
        {
         "customdata": [
          [
           "PRKV01000010.1",
           25397,
           0.007257495326030437,
           "methyl-accepting chemotaxis protein"
          ],
          [
           "PRKV01000010.1",
           25397,
           0.0711850180631764,
           "methyl-accepting chemotaxis protein"
          ],
          [
           "PRKV01000010.1",
           25397,
           0.010807654564312678,
           "methyl-accepting chemotaxis protein"
          ]
         ],
         "hovertemplate": "-log10(P-value)=%{y}<br>position=%{customdata[1]}<br>p_value=%{customdata[2]}<br>annotation_as_str=%{customdata[3]}<extra></extra>",
         "legendgroup": "PRKV01000010.1",
         "marker": {
          "color": "rgb(252,205,229)",
          "symbol": "circle"
         },
         "mode": "markers",
         "name": "PRKV01000010.1",
         "orientation": "v",
         "showlegend": true,
         "type": "scatter",
         "x": [
          2398370,
          2398370,
          2398370
         ],
         "xaxis": "x",
         "y": [
          2.1392132351903768,
          1.1476114004241653,
          1.9662685447419772
         ],
         "yaxis": "y"
        },
        {
         "customdata": [
          [
           "PRKV01000011.1",
           62510,
           0.07010654835718645,
           "None"
          ],
          [
           "PRKV01000011.1",
           62510,
           0.007901603855615412,
           "None"
          ],
          [
           "PRKV01000011.1",
           62510,
           0.3819057976902117,
           "None"
          ],
          [
           "PRKV01000011.1",
           62557,
           0.3349638640917436,
           "None"
          ],
          [
           "PRKV01000011.1",
           62557,
           0.1248450884969115,
           "None"
          ],
          [
           "PRKV01000011.1",
           62557,
           0.3390966891817674,
           "None"
          ],
          [
           "PRKV01000011.1",
           82717,
           0.41819575012176813,
           "None"
          ],
          [
           "PRKV01000011.1",
           82717,
           0.2985719746678966,
           "None"
          ],
          [
           "PRKV01000011.1",
           82717,
           0.15611019391610717,
           "None"
          ],
          [
           "PRKV01000011.1",
           119705,
           0.3030626024485321,
           "sugar diacid utilization regulator"
          ],
          [
           "PRKV01000011.1",
           119705,
           0.013933117116753803,
           "sugar diacid utilization regulator"
          ],
          [
           "PRKV01000011.1",
           119705,
           0.3372743833156786,
           "sugar diacid utilization regulator"
          ],
          [
           "PRKV01000011.1",
           122777,
           0.3116694533559062,
           "None"
          ],
          [
           "PRKV01000011.1",
           122777,
           0.14226789811076196,
           "None"
          ],
          [
           "PRKV01000011.1",
           122777,
           0.6396538175041924,
           "None"
          ],
          [
           "PRKV01000011.1",
           122778,
           0.9716901734498561,
           "None"
          ],
          [
           "PRKV01000011.1",
           122778,
           0.05176469442538959,
           "None"
          ],
          [
           "PRKV01000011.1",
           122778,
           0.0007874031436052221,
           "None"
          ]
         ],
         "hovertemplate": "-log10(P-value)=%{y}<br>position=%{customdata[1]}<br>p_value=%{customdata[2]}<br>annotation_as_str=%{customdata[3]}<extra></extra>",
         "legendgroup": "PRKV01000011.1",
         "marker": {
          "color": "rgb(217,217,217)",
          "symbol": "circle"
         },
         "mode": "markers",
         "name": "PRKV01000011.1",
         "orientation": "v",
         "showlegend": true,
         "type": "scatter",
         "x": [
          2460880,
          2460880,
          2460880,
          2460927,
          2460927,
          2460927,
          2481087,
          2481087,
          2481087,
          2518075,
          2518075,
          2518075,
          2521147,
          2521147,
          2521147,
          2521148,
          2521148,
          2521148
         ],
         "xaxis": "x",
         "y": [
          1.1542414145216666,
          2.1022847473238793,
          0.41804374857678805,
          0.475002042133418,
          0.9036285384599809,
          0.46967645049648876,
          0.37862038497612605,
          0.5249509595657578,
          0.8065687368032745,
          0.5184676517296777,
          1.8559517123510367,
          0.47201664311890734,
          0.5063057607294474,
          0.8468930847798304,
          0.1940550038660155,
          0.012472189199853385,
          1.2859663453495151,
          3.103802855677773
         ],
         "yaxis": "y"
        },
        {
         "customdata": [
          [
           "PRKV01000012.1",
           11994,
           0.4793448440855784,
           "None"
          ],
          [
           "PRKV01000012.1",
           11994,
           0.0003312119898435957,
           "None"
          ],
          [
           "PRKV01000012.1",
           11994,
           0.04223016851394394,
           "None"
          ],
          [
           "PRKV01000012.1",
           22600,
           0.0002858762064707317,
           "None"
          ],
          [
           "PRKV01000012.1",
           22600,
           0.17102320403607774,
           "None"
          ],
          [
           "PRKV01000012.1",
           22600,
           0.29850786833234444,
           "None"
          ],
          [
           "PRKV01000012.1",
           27754,
           0.019499281185427007,
           "YjcZ family sporulation protein"
          ],
          [
           "PRKV01000012.1",
           27754,
           0.10206953465765974,
           "YjcZ family sporulation protein"
          ],
          [
           "PRKV01000012.1",
           27754,
           0.1038093772130157,
           "YjcZ family sporulation protein"
          ],
          [
           "PRKV01000012.1",
           34678,
           0.645985255156214,
           "None"
          ],
          [
           "PRKV01000012.1",
           34678,
           0.4874377427112515,
           "None"
          ],
          [
           "PRKV01000012.1",
           34678,
           0.3778107155441863,
           "None"
          ]
         ],
         "hovertemplate": "-log10(P-value)=%{y}<br>position=%{customdata[1]}<br>p_value=%{customdata[2]}<br>annotation_as_str=%{customdata[3]}<extra></extra>",
         "legendgroup": "PRKV01000012.1",
         "marker": {
          "color": "rgb(188,128,189)",
          "symbol": "circle"
         },
         "mode": "markers",
         "name": "PRKV01000012.1",
         "orientation": "v",
         "showlegend": true,
         "type": "scatter",
         "x": [
          2533142,
          2533142,
          2533142,
          2543748,
          2543748,
          2543748,
          2548902,
          2548902,
          2548902,
          2555826,
          2555826,
          2555826
         ],
         "xaxis": "x",
         "y": [
          0.31935193961266023,
          3.479893950182258,
          1.3743771855765141,
          3.543821989547501,
          0.766944961530903,
          0.5250442168686753,
          1.709981398019866,
          0.9911038652042858,
          0.9837634144266031,
          0.18977739481818914,
          0.3120808460651018,
          0.422725728691275
         ],
         "yaxis": "y"
        },
        {
         "customdata": [
          [
           "PRKV01000013.1",
           64672,
           0.0037461775990454667,
           "None"
          ],
          [
           "PRKV01000013.1",
           64672,
           0.05441018287014361,
           "None"
          ],
          [
           "PRKV01000013.1",
           64672,
           0.5335632839026054,
           "None"
          ],
          [
           "PRKV01000013.1",
           81005,
           0.32484605991189697,
           "None"
          ],
          [
           "PRKV01000013.1",
           81005,
           0.35938425157415044,
           "None"
          ],
          [
           "PRKV01000013.1",
           81005,
           0.012370864277633658,
           "None"
          ],
          [
           "PRKV01000013.1",
           81195,
           0.6160191352808466,
           "hypothetical protein"
          ],
          [
           "PRKV01000013.1",
           81195,
           0.00003118512332700611,
           "hypothetical protein"
          ],
          [
           "PRKV01000013.1",
           81195,
           0.026922549314210578,
           "hypothetical protein"
          ],
          [
           "PRKV01000013.1",
           81211,
           0.8928174731959476,
           "None"
          ],
          [
           "PRKV01000013.1",
           81211,
           0.07563190796862904,
           "None"
          ],
          [
           "PRKV01000013.1",
           81211,
           0.6079500765175462,
           "None"
          ],
          [
           "PRKV01000013.1",
           98754,
           0.40087837872138643,
           "None"
          ],
          [
           "PRKV01000013.1",
           98754,
           0.01702577565394312,
           "None"
          ],
          [
           "PRKV01000013.1",
           98754,
           0.9599136209746394,
           "None"
          ],
          [
           "PRKV01000013.1",
           100975,
           0.19449051488516086,
           "MFS transporter"
          ],
          [
           "PRKV01000013.1",
           100975,
           0.08927991793754043,
           "MFS transporter"
          ],
          [
           "PRKV01000013.1",
           100975,
           0.06832316005954711,
           "MFS transporter"
          ],
          [
           "PRKV01000013.1",
           128134,
           0.11404738482414602,
           "None"
          ],
          [
           "PRKV01000013.1",
           128134,
           0.6063013104702974,
           "None"
          ],
          [
           "PRKV01000013.1",
           128134,
           0.45432324374698263,
           "None"
          ],
          [
           "PRKV01000013.1",
           128172,
           0.00864319683979189,
           "None"
          ],
          [
           "PRKV01000013.1",
           128172,
           0.000019028526574283758,
           "None"
          ],
          [
           "PRKV01000013.1",
           128172,
           0.3931858368877067,
           "None"
          ],
          [
           "PRKV01000013.1",
           128266,
           0.10180537408194197,
           "None"
          ],
          [
           "PRKV01000013.1",
           128266,
           0.6305523756434437,
           "None"
          ],
          [
           "PRKV01000013.1",
           128266,
           0.0159300755125482,
           "None"
          ],
          [
           "PRKV01000013.1",
           128275,
           0.00009233653632147207,
           "None"
          ],
          [
           "PRKV01000013.1",
           128275,
           0.000191314435970248,
           "None"
          ],
          [
           "PRKV01000013.1",
           128275,
           0.6551936006944089,
           "None"
          ],
          [
           "PRKV01000013.1",
           128436,
           0.2138137963087039,
           "None"
          ],
          [
           "PRKV01000013.1",
           128436,
           0.04946616675065905,
           "None"
          ],
          [
           "PRKV01000013.1",
           128436,
           0.21770455914173895,
           "None"
          ],
          [
           "PRKV01000013.1",
           128443,
           0.0002823731922789595,
           "None"
          ],
          [
           "PRKV01000013.1",
           128443,
           0.01161278290663503,
           "None"
          ],
          [
           "PRKV01000013.1",
           128443,
           0.7085295444485156,
           "None"
          ],
          [
           "PRKV01000013.1",
           128446,
           0.06510951525185678,
           "None"
          ],
          [
           "PRKV01000013.1",
           128446,
           0.021374140390039792,
           "None"
          ],
          [
           "PRKV01000013.1",
           128446,
           0.27621334025800937,
           "None"
          ]
         ],
         "hovertemplate": "-log10(P-value)=%{y}<br>position=%{customdata[1]}<br>p_value=%{customdata[2]}<br>annotation_as_str=%{customdata[3]}<extra></extra>",
         "legendgroup": "PRKV01000013.1",
         "marker": {
          "color": "rgb(204,235,197)",
          "symbol": "circle"
         },
         "mode": "markers",
         "name": "PRKV01000013.1",
         "orientation": "v",
         "showlegend": true,
         "type": "scatter",
         "x": [
          2620498,
          2620498,
          2620498,
          2636831,
          2636831,
          2636831,
          2637021,
          2637021,
          2637021,
          2637037,
          2637037,
          2637037,
          2654580,
          2654580,
          2654580,
          2656801,
          2656801,
          2656801,
          2683960,
          2683960,
          2683960,
          2683998,
          2683998,
          2683998,
          2684092,
          2684092,
          2684092,
          2684101,
          2684101,
          2684101,
          2684262,
          2684262,
          2684262,
          2684269,
          2684269,
          2684269,
          2684272,
          2684272,
          2684272
         ],
         "xaxis": "x",
         "y": [
          2.4264116374100313,
          1.264319814447692,
          0.2728140631753066,
          0.4883223964648699,
          0.44444095784556853,
          1.90759995777629,
          0.21040579722224875,
          4.506052534116223,
          1.5698838188658133,
          0.049237318811599554,
          1.1212949435045219,
          0.21613208254164046,
          0.3969873666859033,
          1.7688930935382947,
          0.01776784573322821,
          0.7111015739448605,
          1.0492462175920894,
          1.1654320550139357,
          0.9429146689095973,
          0.2173114930723009,
          0.3426350435665716,
          2.063325596283507,
          4.720594838903309,
          0.405402134462225,
          0.9922292959429734,
          0.20027883374084093,
          1.79778216552936,
          4.034626420500547,
          3.7182522582754904,
          0.18363035300081007,
          0.6699642754255055,
          1.30569174283044,
          0.66213247592277,
          3.5491765363665277,
          1.9350636927361808,
          0.14964203571511997,
          1.1863555380155268,
          1.6701113423948422,
          0.5587553501580689
         ],
         "yaxis": "y"
        },
        {
         "customdata": [
          [
           "PRKV01000014.1",
           19526,
           4.851976117377944e-9,
           "None"
          ],
          [
           "PRKV01000014.1",
           19526,
           0.8403472786825538,
           "None"
          ],
          [
           "PRKV01000014.1",
           19526,
           0.006263208173609974,
           "None"
          ]
         ],
         "hovertemplate": "-log10(P-value)=%{y}<br>position=%{customdata[1]}<br>p_value=%{customdata[2]}<br>annotation_as_str=%{customdata[3]}<extra></extra>",
         "legendgroup": "PRKV01000014.1",
         "marker": {
          "color": "rgb(255,237,111)",
          "symbol": "circle"
         },
         "mode": "markers",
         "name": "PRKV01000014.1",
         "orientation": "v",
         "showlegend": true,
         "type": "scatter",
         "x": [
          2703798,
          2703798,
          2703798
         ],
         "xaxis": "x",
         "y": [
          8.314081345504661,
          0.07554120197701787,
          2.203203153180124
         ],
         "yaxis": "y"
        },
        {
         "customdata": [
          [
           "PRKV01000015.1",
           34717,
           0.6666658581725906,
           "None"
          ],
          [
           "PRKV01000015.1",
           34717,
           0.4894155450868132,
           "None"
          ],
          [
           "PRKV01000015.1",
           34717,
           0.0012935196383726617,
           "None"
          ]
         ],
         "hovertemplate": "-log10(P-value)=%{y}<br>position=%{customdata[1]}<br>p_value=%{customdata[2]}<br>annotation_as_str=%{customdata[3]}<extra></extra>",
         "legendgroup": "PRKV01000015.1",
         "marker": {
          "color": "rgb(141,211,199)",
          "symbol": "circle"
         },
         "mode": "markers",
         "name": "PRKV01000015.1",
         "orientation": "v",
         "showlegend": true,
         "type": "scatter",
         "x": [
          2738515,
          2738515,
          2738515
         ],
         "xaxis": "x",
         "y": [
          0.17609178574277443,
          0.31032224046398904,
          2.8882269733856774
         ],
         "yaxis": "y"
        },
        {
         "customdata": [
          [
           "PRKV01000016.1",
           25608,
           0.7879699880701359,
           "None"
          ],
          [
           "PRKV01000016.1",
           25608,
           0.8860884960842591,
           "None"
          ],
          [
           "PRKV01000016.1",
           25608,
           0.06776925947674808,
           "None"
          ],
          [
           "PRKV01000016.1",
           40235,
           0.21805221130460023,
           "None"
          ],
          [
           "PRKV01000016.1",
           40235,
           0.02557715280688448,
           "None"
          ],
          [
           "PRKV01000016.1",
           40235,
           0.6550455948662146,
           "None"
          ],
          [
           "PRKV01000016.1",
           51471,
           0.032417919162137446,
           "None"
          ],
          [
           "PRKV01000016.1",
           51471,
           0.025685583811230473,
           "None"
          ],
          [
           "PRKV01000016.1",
           51471,
           7.010808763823328e-7,
           "None"
          ],
          [
           "PRKV01000016.1",
           62174,
           0.769755536396546,
           "None"
          ],
          [
           "PRKV01000016.1",
           62174,
           0.00245568781884144,
           "None"
          ],
          [
           "PRKV01000016.1",
           62174,
           0.0008632359470396769,
           "None"
          ],
          [
           "PRKV01000016.1",
           62175,
           0.00041691623457133033,
           "None"
          ],
          [
           "PRKV01000016.1",
           62175,
           0.06953796831779369,
           "None"
          ],
          [
           "PRKV01000016.1",
           62175,
           0.35800879214942094,
           "None"
          ]
         ],
         "hovertemplate": "-log10(P-value)=%{y}<br>position=%{customdata[1]}<br>p_value=%{customdata[2]}<br>annotation_as_str=%{customdata[3]}<extra></extra>",
         "legendgroup": "PRKV01000016.1",
         "marker": {
          "color": "rgb(255,255,179)",
          "symbol": "circle"
         },
         "mode": "markers",
         "name": "PRKV01000016.1",
         "orientation": "v",
         "showlegend": true,
         "type": "scatter",
         "x": [
          2764123,
          2764123,
          2764123,
          2778750,
          2778750,
          2778750,
          2789986,
          2789986,
          2789986,
          2800689,
          2800689,
          2800689,
          2800690,
          2800690,
          2800690
         ],
         "xaxis": "x",
         "y": [
          0.10349032345428436,
          0.052522901767828055,
          1.1689672599246659,
          0.6614395047139389,
          1.5921478018855042,
          0.18372846961183117,
          1.4892148650397559,
          1.5903105586873798,
          6.154231879122455,
          0.11364717879004817,
          2.6098268440340924,
          3.063870482973064,
          3.379951193270274,
          1.157778002195481,
          0.44610630761564973
         ],
         "yaxis": "y"
        },
        {
         "customdata": [
          [
           "PRKV01000017.1",
           41262,
           0.009243127807575045,
           "None"
          ],
          [
           "PRKV01000017.1",
           41262,
           0.8880600192950332,
           "None"
          ],
          [
           "PRKV01000017.1",
           41262,
           0.14415063446283863,
           "None"
          ]
         ],
         "hovertemplate": "-log10(P-value)=%{y}<br>position=%{customdata[1]}<br>p_value=%{customdata[2]}<br>annotation_as_str=%{customdata[3]}<extra></extra>",
         "legendgroup": "PRKV01000017.1",
         "marker": {
          "color": "rgb(190,186,218)",
          "symbol": "circle"
         },
         "mode": "markers",
         "name": "PRKV01000017.1",
         "orientation": "v",
         "showlegend": true,
         "type": "scatter",
         "x": [
          2841952,
          2841952,
          2841952
         ],
         "xaxis": "x",
         "y": [
          2.0341810417983166,
          0.051557681554971736,
          0.8411834417731483
         ],
         "yaxis": "y"
        },
        {
         "customdata": [
          [
           "PRKV01000018.1",
           65564,
           0.23072743601873275,
           "hypothetical protein"
          ],
          [
           "PRKV01000018.1",
           65564,
           0.9693240644316647,
           "hypothetical protein"
          ],
          [
           "PRKV01000018.1",
           65564,
           0.14734058081975598,
           "hypothetical protein"
          ],
          [
           "PRKV01000018.1",
           65567,
           0.3194933071581768,
           "hypothetical protein"
          ],
          [
           "PRKV01000018.1",
           65567,
           0.6065929290896374,
           "hypothetical protein"
          ],
          [
           "PRKV01000018.1",
           65567,
           0.10203687326410546,
           "hypothetical protein"
          ],
          [
           "PRKV01000018.1",
           65587,
           0.0849802267829814,
           "hypothetical protein"
          ],
          [
           "PRKV01000018.1",
           65587,
           0.7432285321764193,
           "hypothetical protein"
          ],
          [
           "PRKV01000018.1",
           65587,
           0.01911932510308503,
           "hypothetical protein"
          ]
         ],
         "hovertemplate": "-log10(P-value)=%{y}<br>position=%{customdata[1]}<br>p_value=%{customdata[2]}<br>annotation_as_str=%{customdata[3]}<extra></extra>",
         "legendgroup": "PRKV01000018.1",
         "marker": {
          "color": "rgb(251,128,114)",
          "symbol": "circle"
         },
         "mode": "markers",
         "name": "PRKV01000018.1",
         "orientation": "v",
         "showlegend": true,
         "type": "scatter",
         "x": [
          2907516,
          2907516,
          2907516,
          2907519,
          2907519,
          2907519,
          2907539,
          2907539,
          2907539
         ],
         "xaxis": "x",
         "y": [
          0.6369007600385839,
          0.01353100533743591,
          0.8316776224795206,
          0.495538235141627,
          0.2171026564639484,
          0.9912428580292284,
          1.0706821142624376,
          0.12887762634363517,
          1.7185274420379069
         ],
         "yaxis": "y"
        },
        {
         "customdata": [
          [
           "PRKV01000021.1",
           17416,
           0.4833662851481414,
           "None"
          ],
          [
           "PRKV01000021.1",
           17416,
           0.5159661568847705,
           "None"
          ],
          [
           "PRKV01000021.1",
           17416,
           0.8580499324911137,
           "None"
          ]
         ],
         "hovertemplate": "-log10(P-value)=%{y}<br>position=%{customdata[1]}<br>p_value=%{customdata[2]}<br>annotation_as_str=%{customdata[3]}<extra></extra>",
         "legendgroup": "PRKV01000021.1",
         "marker": {
          "color": "rgb(128,177,211)",
          "symbol": "circle"
         },
         "mode": "markers",
         "name": "PRKV01000021.1",
         "orientation": "v",
         "showlegend": true,
         "type": "scatter",
         "x": [
          2924955,
          2924955,
          2924955
         ],
         "xaxis": "x",
         "y": [
          0.31572364496013333,
          0.2873787835670012,
          0.06648743852148471
         ],
         "yaxis": "y"
        },
        {
         "customdata": [
          [
           "PRKV01000022.1",
           7118,
           0.0016486463620669937,
           "None"
          ],
          [
           "PRKV01000022.1",
           7118,
           0.764884692176145,
           "None"
          ],
          [
           "PRKV01000022.1",
           7118,
           0.05064852298964015,
           "None"
          ],
          [
           "PRKV01000022.1",
           9344,
           1.097591441226524e-7,
           "None"
          ],
          [
           "PRKV01000022.1",
           9344,
           0.2328432749394982,
           "None"
          ],
          [
           "PRKV01000022.1",
           9344,
           0.006838631414492437,
           "None"
          ],
          [
           "PRKV01000022.1",
           12174,
           0.1611967891200543,
           "None"
          ],
          [
           "PRKV01000022.1",
           12174,
           0.1812372088066655,
           "None"
          ],
          [
           "PRKV01000022.1",
           12174,
           0.03221337766318904,
           "None"
          ],
          [
           "PRKV01000022.1",
           33451,
           0.003822797134602947,
           "hypothetical protein"
          ],
          [
           "PRKV01000022.1",
           33451,
           0.0021840015808795455,
           "hypothetical protein"
          ],
          [
           "PRKV01000022.1",
           33451,
           0.000012263005049048755,
           "hypothetical protein"
          ],
          [
           "PRKV01000022.1",
           34387,
           0.6491972335428595,
           "None"
          ],
          [
           "PRKV01000022.1",
           34387,
           0.3457319908832469,
           "None"
          ],
          [
           "PRKV01000022.1",
           34387,
           0.5809228502718359,
           "None"
          ],
          [
           "PRKV01000022.1",
           34487,
           0.05610502068672201,
           "None"
          ],
          [
           "PRKV01000022.1",
           34487,
           0.000024250117293432213,
           "None"
          ],
          [
           "PRKV01000022.1",
           34487,
           0.011540007859054147,
           "None"
          ]
         ],
         "hovertemplate": "-log10(P-value)=%{y}<br>position=%{customdata[1]}<br>p_value=%{customdata[2]}<br>annotation_as_str=%{customdata[3]}<extra></extra>",
         "legendgroup": "PRKV01000022.1",
         "marker": {
          "color": "rgb(253,180,98)",
          "symbol": "circle"
         },
         "mode": "markers",
         "name": "PRKV01000022.1",
         "orientation": "v",
         "showlegend": true,
         "type": "scatter",
         "x": [
          2932073,
          2932073,
          2932073,
          2934299,
          2934299,
          2934299,
          2937129,
          2937129,
          2937129,
          2958406,
          2958406,
          2958406,
          2959342,
          2959342,
          2959342,
          2959442,
          2959442,
          2959442
         ],
         "xaxis": "x",
         "y": [
          2.7828724913983245,
          0.11640403063210002,
          1.2954332149987053,
          6.959559288155713,
          0.6329363009944825,
          2.1650308030465846,
          0.7926436131595298,
          0.7417526349126127,
          1.4919637357957163,
          2.417618748190799,
          2.660747051605114,
          4.911403092925091,
          0.18762333952299373,
          0.46126043295033736,
          0.23588154045991644,
          1.2509982731649751,
          4.615286156452762,
          1.9377938954140235
         ],
         "yaxis": "y"
        },
        {
         "customdata": [
          [
           "PRKV01000023.1",
           2787,
           0.40393490215499606,
           "None"
          ],
          [
           "PRKV01000023.1",
           2787,
           0.994847804282482,
           "None"
          ],
          [
           "PRKV01000023.1",
           2787,
           0.6036651568327533,
           "None"
          ],
          [
           "PRKV01000023.1",
           2907,
           0.6024589014854591,
           "None"
          ],
          [
           "PRKV01000023.1",
           2907,
           0.09405677725318148,
           "None"
          ],
          [
           "PRKV01000023.1",
           2907,
           0.3145808533076983,
           "None"
          ],
          [
           "PRKV01000023.1",
           2915,
           0.5100764037666039,
           "None"
          ],
          [
           "PRKV01000023.1",
           2915,
           0.7115510297777285,
           "None"
          ],
          [
           "PRKV01000023.1",
           2915,
           0.12574138676279004,
           "None"
          ],
          [
           "PRKV01000023.1",
           4649,
           0.00005559606455261681,
           "None"
          ],
          [
           "PRKV01000023.1",
           4649,
           0.30155931679363224,
           "None"
          ],
          [
           "PRKV01000023.1",
           4649,
           0.20277283326006182,
           "None"
          ],
          [
           "PRKV01000023.1",
           7784,
           0.7713696441320556,
           "None"
          ],
          [
           "PRKV01000023.1",
           7784,
           0.0036714179279099582,
           "None"
          ],
          [
           "PRKV01000023.1",
           7784,
           0.045744915605934695,
           "None"
          ]
         ],
         "hovertemplate": "-log10(P-value)=%{y}<br>position=%{customdata[1]}<br>p_value=%{customdata[2]}<br>annotation_as_str=%{customdata[3]}<extra></extra>",
         "legendgroup": "PRKV01000023.1",
         "marker": {
          "color": "rgb(179,222,105)",
          "symbol": "circle"
         },
         "mode": "markers",
         "name": "PRKV01000023.1",
         "orientation": "v",
         "showlegend": true,
         "type": "scatter",
         "x": [
          2962229,
          2962229,
          2962229,
          2962349,
          2962349,
          2962349,
          2962357,
          2962357,
          2962357,
          2964091,
          2964091,
          2964091,
          2967226,
          2967226,
          2967226
         ],
         "xaxis": "x",
         "y": [
          0.3936886198222276,
          0.0022433542452060325,
          0.21920389062320286,
          0.22007257442425082,
          1.0266099059337388,
          0.5022677138674048,
          0.2923647665511197,
          0.14779394848739164,
          0.9005217542601568,
          4.254955949489399,
          0.5206272492870164,
          0.6929902305791426,
          0.11273745601358919,
          2.435166175710072,
          1.339657169291405
         ],
         "yaxis": "y"
        },
        {
         "customdata": [
          [
           "PRKV01000024.1",
           14584,
           0.2513448687501328,
           "None"
          ],
          [
           "PRKV01000024.1",
           14584,
           0.013203809363174746,
           "None"
          ],
          [
           "PRKV01000024.1",
           14584,
           0.00032823793338933684,
           "None"
          ],
          [
           "PRKV01000024.1",
           64744,
           0.6762170425106895,
           "None"
          ],
          [
           "PRKV01000024.1",
           64744,
           0.23053607452799485,
           "None"
          ],
          [
           "PRKV01000024.1",
           64744,
           0.00038247666542166235,
           "None"
          ],
          [
           "PRKV01000024.1",
           71613,
           0.37377781672942556,
           "None"
          ],
          [
           "PRKV01000024.1",
           71613,
           0.46818588968729624,
           "None"
          ],
          [
           "PRKV01000024.1",
           71613,
           0.9428394821614625,
           "None"
          ],
          [
           "PRKV01000024.1",
           71711,
           0.3419120337566065,
           "None"
          ],
          [
           "PRKV01000024.1",
           71711,
           0.043359212816839646,
           "None"
          ],
          [
           "PRKV01000024.1",
           71711,
           0.1571518207702532,
           "None"
          ],
          [
           "PRKV01000024.1",
           71766,
           0.0005454924973349516,
           "None"
          ],
          [
           "PRKV01000024.1",
           71766,
           0.6948098897916452,
           "None"
          ],
          [
           "PRKV01000024.1",
           71766,
           0.002899480840816265,
           "None"
          ],
          [
           "PRKV01000024.1",
           89343,
           0.41241703722541645,
           "None"
          ],
          [
           "PRKV01000024.1",
           89343,
           0.8275515640952145,
           "None"
          ],
          [
           "PRKV01000024.1",
           89343,
           0.9959132599465641,
           "None"
          ]
         ],
         "hovertemplate": "-log10(P-value)=%{y}<br>position=%{customdata[1]}<br>p_value=%{customdata[2]}<br>annotation_as_str=%{customdata[3]}<extra></extra>",
         "legendgroup": "PRKV01000024.1",
         "marker": {
          "color": "rgb(252,205,229)",
          "symbol": "circle"
         },
         "mode": "markers",
         "name": "PRKV01000024.1",
         "orientation": "v",
         "showlegend": true,
         "type": "scatter",
         "x": [
          2981810,
          2981810,
          2981810,
          3031970,
          3031970,
          3031970,
          3038839,
          3038839,
          3038839,
          3038937,
          3038937,
          3038937,
          3038992,
          3038992,
          3038992,
          3056569,
          3056569,
          3056569
         ],
         "xaxis": "x",
         "y": [
          0.5997299765439218,
          1.879300754647613,
          3.4838112303831883,
          0.16991388802887025,
          0.6372611060982393,
          3.4173950556417076,
          0.4273864770553162,
          0.32958167932646915,
          0.025562239336267115,
          0.46608561373361745,
          1.3629186109808797,
          0.8036805828558004,
          3.263211218290007,
          0.15813400851599996,
          2.5376797566364986,
          0.38466340202055116,
          0.08220493615728891,
          0.0017784852379521038
         ],
         "yaxis": "y"
        },
        {
         "customdata": [
          [
           "PRKV01000028.1",
           12273,
           0.20753630698625727,
           "None"
          ],
          [
           "PRKV01000028.1",
           12273,
           0.32192826592495116,
           "None"
          ],
          [
           "PRKV01000028.1",
           12273,
           0.04288814098278571,
           "None"
          ]
         ],
         "hovertemplate": "-log10(P-value)=%{y}<br>position=%{customdata[1]}<br>p_value=%{customdata[2]}<br>annotation_as_str=%{customdata[3]}<extra></extra>",
         "legendgroup": "PRKV01000028.1",
         "marker": {
          "color": "rgb(217,217,217)",
          "symbol": "circle"
         },
         "mode": "markers",
         "name": "PRKV01000028.1",
         "orientation": "v",
         "showlegend": true,
         "type": "scatter",
         "x": [
          3068842,
          3068842,
          3068842
         ],
         "xaxis": "x",
         "y": [
          0.6829059156050782,
          0.4922408897440238,
          1.3676627781585835
         ],
         "yaxis": "y"
        },
        {
         "customdata": [
          [
           "PRKV01000031.1",
           28032,
           0.00002551499133001948,
           "None"
          ],
          [
           "PRKV01000031.1",
           28032,
           0.14890035433269255,
           "None"
          ],
          [
           "PRKV01000031.1",
           28032,
           0.4049184817078161,
           "None"
          ],
          [
           "PRKV01000031.1",
           36626,
           0.0036105197259762934,
           "None"
          ],
          [
           "PRKV01000031.1",
           36626,
           0.6620236268624818,
           "None"
          ],
          [
           "PRKV01000031.1",
           36626,
           0.007737836778210351,
           "None"
          ],
          [
           "PRKV01000031.1",
           36647,
           0.6307227510471409,
           "None"
          ],
          [
           "PRKV01000031.1",
           36647,
           0.9681181041876636,
           "None"
          ],
          [
           "PRKV01000031.1",
           36647,
           0.029945095457404057,
           "None"
          ],
          [
           "PRKV01000031.1",
           36648,
           0.9699075003632698,
           "None"
          ],
          [
           "PRKV01000031.1",
           36648,
           0.0003587329370449303,
           "None"
          ],
          [
           "PRKV01000031.1",
           36648,
           0.2399103297373112,
           "None"
          ],
          [
           "PRKV01000031.1",
           36651,
           0.2724328688014595,
           "None"
          ],
          [
           "PRKV01000031.1",
           36651,
           0.3749070724265581,
           "None"
          ],
          [
           "PRKV01000031.1",
           36651,
           0.037370617595457414,
           "None"
          ],
          [
           "PRKV01000031.1",
           106689,
           0.2354767800126372,
           "phosphoenolpyruvate mutase"
          ],
          [
           "PRKV01000031.1",
           106689,
           0.00006391007274063025,
           "phosphoenolpyruvate mutase"
          ],
          [
           "PRKV01000031.1",
           106689,
           0.00006384212229171617,
           "phosphoenolpyruvate mutase"
          ],
          [
           "PRKV01000031.1",
           106690,
           0.0000017286113644997143,
           "phosphoenolpyruvate mutase"
          ],
          [
           "PRKV01000031.1",
           106690,
           0.08693367892473933,
           "phosphoenolpyruvate mutase"
          ],
          [
           "PRKV01000031.1",
           106690,
           0.691798787444116,
           "phosphoenolpyruvate mutase"
          ],
          [
           "PRKV01000031.1",
           179012,
           0.291378319349247,
           "MFS transporter"
          ],
          [
           "PRKV01000031.1",
           179012,
           0.00021809589941642861,
           "MFS transporter"
          ],
          [
           "PRKV01000031.1",
           179012,
           0.000026927526694980945,
           "MFS transporter"
          ],
          [
           "PRKV01000031.1",
           185513,
           0.0024156584035331945,
           "None"
          ],
          [
           "PRKV01000031.1",
           185513,
           0.1255250147420974,
           "None"
          ],
          [
           "PRKV01000031.1",
           185513,
           0.8805094491392853,
           "None"
          ],
          [
           "PRKV01000031.1",
           212298,
           0.03131794471790368,
           "None"
          ],
          [
           "PRKV01000031.1",
           212298,
           0.000529024836857313,
           "None"
          ],
          [
           "PRKV01000031.1",
           212298,
           0.0816792227620887,
           "None"
          ],
          [
           "PRKV01000031.1",
           291050,
           0.10841188361986775,
           "None"
          ],
          [
           "PRKV01000031.1",
           291050,
           0.4542604053572854,
           "None"
          ],
          [
           "PRKV01000031.1",
           291050,
           0.024697433877629026,
           "None"
          ],
          [
           "PRKV01000031.1",
           309577,
           0.11563892919774547,
           "None"
          ],
          [
           "PRKV01000031.1",
           309577,
           0.987314173955249,
           "None"
          ],
          [
           "PRKV01000031.1",
           309577,
           0.006935294523451398,
           "None"
          ],
          [
           "PRKV01000031.1",
           309579,
           0.018441981832818526,
           "None"
          ],
          [
           "PRKV01000031.1",
           309579,
           0.8768342808832181,
           "None"
          ],
          [
           "PRKV01000031.1",
           309579,
           0.4692328913909005,
           "None"
          ]
         ],
         "hovertemplate": "-log10(P-value)=%{y}<br>position=%{customdata[1]}<br>p_value=%{customdata[2]}<br>annotation_as_str=%{customdata[3]}<extra></extra>",
         "legendgroup": "PRKV01000031.1",
         "marker": {
          "color": "rgb(188,128,189)",
          "symbol": "circle"
         },
         "mode": "markers",
         "name": "PRKV01000031.1",
         "orientation": "v",
         "showlegend": true,
         "type": "scatter",
         "x": [
          3096874,
          3096874,
          3096874,
          3105468,
          3105468,
          3105468,
          3105489,
          3105489,
          3105489,
          3105490,
          3105490,
          3105490,
          3105493,
          3105493,
          3105493,
          3175531,
          3175531,
          3175531,
          3175532,
          3175532,
          3175532,
          3247854,
          3247854,
          3247854,
          3254355,
          3254355,
          3254355,
          3281140,
          3281140,
          3281140,
          3359892,
          3359892,
          3359892,
          3378419,
          3378419,
          3378419,
          3378421,
          3378421,
          3378421
         ],
         "xaxis": "x",
         "y": [
          4.593204574904759,
          0.8271042687720009,
          0.3926324002616165,
          2.4424302779067206,
          0.17912651081272238,
          2.1113804355181345,
          0.2001615031179467,
          0.014071658323612804,
          1.5236742981564042,
          0.013269682225864088,
          3.4452287467693483,
          0.6199510523600847,
          0.564740496326256,
          0.42607636676208127,
          1.4274697248401438,
          0.6280519115056333,
          4.194430688149514,
          4.19489268424722,
          5.762302636121729,
          1.0608119411857504,
          0.16002020353413335,
          0.5355427660089891,
          3.6613524998388107,
          4.569803534893375,
          2.61696447897034,
          0.9012697189485473,
          0.05526597906407407,
          1.5042067468363645,
          3.2765239380652487,
          1.087888403533071,
          0.9649231097933786,
          0.34269511589115637,
          1.607348168630243,
          0.9368959384962212,
          0.005544628177531353,
          2.1589350908713456,
          1.7341924101365769,
          0.05708247926643442,
          0.32861155314450285
         ],
         "yaxis": "y"
        },
        {
         "customdata": [
          [
           "PRKV01000034.1",
           34654,
           0.20698568285919405,
           "flagellar hook-length control protein FliK"
          ],
          [
           "PRKV01000034.1",
           34654,
           0.03362479538826949,
           "flagellar hook-length control protein FliK"
          ],
          [
           "PRKV01000034.1",
           34654,
           0.07665662892531368,
           "flagellar hook-length control protein FliK"
          ],
          [
           "PRKV01000034.1",
           34656,
           0.0010390524334969208,
           "flagellar hook-length control protein FliK"
          ],
          [
           "PRKV01000034.1",
           34656,
           0.5561903486120277,
           "flagellar hook-length control protein FliK"
          ],
          [
           "PRKV01000034.1",
           34656,
           0.8214884598982941,
           "flagellar hook-length control protein FliK"
          ]
         ],
         "hovertemplate": "-log10(P-value)=%{y}<br>position=%{customdata[1]}<br>p_value=%{customdata[2]}<br>annotation_as_str=%{customdata[3]}<extra></extra>",
         "legendgroup": "PRKV01000034.1",
         "marker": {
          "color": "rgb(204,235,197)",
          "symbol": "circle"
         },
         "mode": "markers",
         "name": "PRKV01000034.1",
         "orientation": "v",
         "showlegend": true,
         "type": "scatter",
         "x": [
          3413075,
          3413075,
          3413075,
          3413077,
          3413077,
          3413077
         ],
         "xaxis": "x",
         "y": [
          0.6840596935299776,
          1.4733403497260666,
          1.1154502833248885,
          2.9833625361735145,
          0.25477655157560997,
          0.08539853306603899
         ],
         "yaxis": "y"
        },
        {
         "customdata": [
          [
           "PRKV01000035.1",
           7879,
           0.6574784573068828,
           "1%2C4-alpha-glucan branching enzyme"
          ],
          [
           "PRKV01000035.1",
           7879,
           0.8472834010588357,
           "1%2C4-alpha-glucan branching enzyme"
          ],
          [
           "PRKV01000035.1",
           7879,
           0.805775390608264,
           "1%2C4-alpha-glucan branching enzyme"
          ],
          [
           "PRKV01000035.1",
           41980,
           0.001455654209541982,
           "None"
          ],
          [
           "PRKV01000035.1",
           41980,
           0.18571745269284048,
           "None"
          ],
          [
           "PRKV01000035.1",
           41980,
           0.07467697097392614,
           "None"
          ],
          [
           "PRKV01000035.1",
           123040,
           0.000019420022671744944,
           "None"
          ],
          [
           "PRKV01000035.1",
           123040,
           0.018038354981807597,
           "None"
          ],
          [
           "PRKV01000035.1",
           123040,
           0.8730189409261536,
           "None"
          ],
          [
           "PRKV01000035.1",
           123042,
           0.00026935709659651927,
           "None"
          ],
          [
           "PRKV01000035.1",
           123042,
           0.041534695784216306,
           "None"
          ],
          [
           "PRKV01000035.1",
           123042,
           0.927193662936757,
           "None"
          ],
          [
           "PRKV01000035.1",
           183446,
           0.958656118774214,
           "None"
          ],
          [
           "PRKV01000035.1",
           183446,
           0.11467073922686129,
           "None"
          ],
          [
           "PRKV01000035.1",
           183446,
           0.27300232886822035,
           "None"
          ],
          [
           "PRKV01000035.1",
           403806,
           0.4795263091630736,
           "None"
          ],
          [
           "PRKV01000035.1",
           403806,
           0.10368537127319474,
           "None"
          ],
          [
           "PRKV01000035.1",
           403806,
           0.7334654081889167,
           "None"
          ],
          [
           "PRKV01000035.1",
           403807,
           0.1123882147851359,
           "None"
          ],
          [
           "PRKV01000035.1",
           403807,
           0.00025617922941434813,
           "None"
          ],
          [
           "PRKV01000035.1",
           403807,
           0.14175429502397785,
           "None"
          ],
          [
           "PRKV01000035.1",
           495534,
           1.0079717110551488e-7,
           "None"
          ],
          [
           "PRKV01000035.1",
           495534,
           0.1280637182382839,
           "None"
          ],
          [
           "PRKV01000035.1",
           495534,
           5.7096838084643296e-9,
           "None"
          ],
          [
           "PRKV01000035.1",
           606980,
           0.3092386491880711,
           "penicillin-binding protein"
          ],
          [
           "PRKV01000035.1",
           606980,
           0.7063536800948469,
           "penicillin-binding protein"
          ],
          [
           "PRKV01000035.1",
           606980,
           0.12354419897527383,
           "penicillin-binding protein"
          ],
          [
           "PRKV01000035.1",
           606983,
           0.08768069159191651,
           "penicillin-binding protein"
          ],
          [
           "PRKV01000035.1",
           606983,
           0.06295357539154872,
           "penicillin-binding protein"
          ],
          [
           "PRKV01000035.1",
           606983,
           0.0030153102655865733,
           "penicillin-binding protein"
          ]
         ],
         "hovertemplate": "-log10(P-value)=%{y}<br>position=%{customdata[1]}<br>p_value=%{customdata[2]}<br>annotation_as_str=%{customdata[3]}<extra></extra>",
         "legendgroup": "PRKV01000035.1",
         "marker": {
          "color": "rgb(255,237,111)",
          "symbol": "circle"
         },
         "mode": "markers",
         "name": "PRKV01000035.1",
         "orientation": "v",
         "showlegend": true,
         "type": "scatter",
         "x": [
          3420956,
          3420956,
          3420956,
          3455057,
          3455057,
          3455057,
          3536117,
          3536117,
          3536117,
          3536119,
          3536119,
          3536119,
          3596523,
          3596523,
          3596523,
          3816883,
          3816883,
          3816883,
          3816884,
          3816884,
          3816884,
          3908611,
          3908611,
          3908611,
          4020057,
          4020057,
          4020057,
          4020060,
          4020060,
          4020060
         ],
         "xaxis": "x",
         "y": [
          0.18211847253557328,
          0.07197130167663632,
          0.09378600064364563,
          2.836941779365984,
          0.7311472817635092,
          1.1268133060950578,
          4.711750267414215,
          1.743803070724159,
          0.058976333785294585,
          3.5696715778603383,
          1.3815889661237475,
          0.03282954529403216,
          0.018337151433736546,
          0.9405473877962868,
          0.5638336481595987,
          0.31918756031625917,
          0.9842825128827531,
          0.13462036360246574,
          0.9492792272200578,
          3.5914560850378985,
          0.8484637735147424,
          6.996551656288357,
          0.892573892899744,
          8.2433879414987,
          0.5097062324763899,
          0.15097778782626328,
          0.9081776421046798,
          1.0570960332966526,
          1.2009795994921748,
          2.520667993739604
         ],
         "yaxis": "y"
        }
       ],
       "layout": {
        "annotations": [
         {
          "showarrow": false,
          "text": "Genome-wide significance",
          "x": 0,
          "xanchor": "left",
          "xref": "x domain",
          "y": 4.079181246047625,
          "yanchor": "bottom",
          "yref": "y"
         }
        ],
        "legend": {
         "title": {
          "text": "Contig"
         },
         "tracegroupgap": 0
        },
        "shapes": [
         {
          "line": {
           "color": "red",
           "dash": "dash"
          },
          "type": "line",
          "x0": 0,
          "x1": 1,
          "xref": "x domain",
          "y0": 4.079181246047625,
          "y1": 4.079181246047625,
          "yref": "y"
         }
        ],
        "template": {
         "data": {
          "bar": [
           {
            "error_x": {
             "color": "#2a3f5f"
            },
            "error_y": {
             "color": "#2a3f5f"
            },
            "marker": {
             "line": {
              "color": "white",
              "width": 0.5
             },
             "pattern": {
              "fillmode": "overlay",
              "size": 10,
              "solidity": 0.2
             }
            },
            "type": "bar"
           }
          ],
          "barpolar": [
           {
            "marker": {
             "line": {
              "color": "white",
              "width": 0.5
             },
             "pattern": {
              "fillmode": "overlay",
              "size": 10,
              "solidity": 0.2
             }
            },
            "type": "barpolar"
           }
          ],
          "carpet": [
           {
            "aaxis": {
             "endlinecolor": "#2a3f5f",
             "gridcolor": "#C8D4E3",
             "linecolor": "#C8D4E3",
             "minorgridcolor": "#C8D4E3",
             "startlinecolor": "#2a3f5f"
            },
            "baxis": {
             "endlinecolor": "#2a3f5f",
             "gridcolor": "#C8D4E3",
             "linecolor": "#C8D4E3",
             "minorgridcolor": "#C8D4E3",
             "startlinecolor": "#2a3f5f"
            },
            "type": "carpet"
           }
          ],
          "choropleth": [
           {
            "colorbar": {
             "outlinewidth": 0,
             "ticks": ""
            },
            "type": "choropleth"
           }
          ],
          "contour": [
           {
            "colorbar": {
             "outlinewidth": 0,
             "ticks": ""
            },
            "colorscale": [
             [
              0,
              "#0d0887"
             ],
             [
              0.1111111111111111,
              "#46039f"
             ],
             [
              0.2222222222222222,
              "#7201a8"
             ],
             [
              0.3333333333333333,
              "#9c179e"
             ],
             [
              0.4444444444444444,
              "#bd3786"
             ],
             [
              0.5555555555555556,
              "#d8576b"
             ],
             [
              0.6666666666666666,
              "#ed7953"
             ],
             [
              0.7777777777777778,
              "#fb9f3a"
             ],
             [
              0.8888888888888888,
              "#fdca26"
             ],
             [
              1,
              "#f0f921"
             ]
            ],
            "type": "contour"
           }
          ],
          "contourcarpet": [
           {
            "colorbar": {
             "outlinewidth": 0,
             "ticks": ""
            },
            "type": "contourcarpet"
           }
          ],
          "heatmap": [
           {
            "colorbar": {
             "outlinewidth": 0,
             "ticks": ""
            },
            "colorscale": [
             [
              0,
              "#0d0887"
             ],
             [
              0.1111111111111111,
              "#46039f"
             ],
             [
              0.2222222222222222,
              "#7201a8"
             ],
             [
              0.3333333333333333,
              "#9c179e"
             ],
             [
              0.4444444444444444,
              "#bd3786"
             ],
             [
              0.5555555555555556,
              "#d8576b"
             ],
             [
              0.6666666666666666,
              "#ed7953"
             ],
             [
              0.7777777777777778,
              "#fb9f3a"
             ],
             [
              0.8888888888888888,
              "#fdca26"
             ],
             [
              1,
              "#f0f921"
             ]
            ],
            "type": "heatmap"
           }
          ],
          "heatmapgl": [
           {
            "colorbar": {
             "outlinewidth": 0,
             "ticks": ""
            },
            "colorscale": [
             [
              0,
              "#0d0887"
             ],
             [
              0.1111111111111111,
              "#46039f"
             ],
             [
              0.2222222222222222,
              "#7201a8"
             ],
             [
              0.3333333333333333,
              "#9c179e"
             ],
             [
              0.4444444444444444,
              "#bd3786"
             ],
             [
              0.5555555555555556,
              "#d8576b"
             ],
             [
              0.6666666666666666,
              "#ed7953"
             ],
             [
              0.7777777777777778,
              "#fb9f3a"
             ],
             [
              0.8888888888888888,
              "#fdca26"
             ],
             [
              1,
              "#f0f921"
             ]
            ],
            "type": "heatmapgl"
           }
          ],
          "histogram": [
           {
            "marker": {
             "pattern": {
              "fillmode": "overlay",
              "size": 10,
              "solidity": 0.2
             }
            },
            "type": "histogram"
           }
          ],
          "histogram2d": [
           {
            "colorbar": {
             "outlinewidth": 0,
             "ticks": ""
            },
            "colorscale": [
             [
              0,
              "#0d0887"
             ],
             [
              0.1111111111111111,
              "#46039f"
             ],
             [
              0.2222222222222222,
              "#7201a8"
             ],
             [
              0.3333333333333333,
              "#9c179e"
             ],
             [
              0.4444444444444444,
              "#bd3786"
             ],
             [
              0.5555555555555556,
              "#d8576b"
             ],
             [
              0.6666666666666666,
              "#ed7953"
             ],
             [
              0.7777777777777778,
              "#fb9f3a"
             ],
             [
              0.8888888888888888,
              "#fdca26"
             ],
             [
              1,
              "#f0f921"
             ]
            ],
            "type": "histogram2d"
           }
          ],
          "histogram2dcontour": [
           {
            "colorbar": {
             "outlinewidth": 0,
             "ticks": ""
            },
            "colorscale": [
             [
              0,
              "#0d0887"
             ],
             [
              0.1111111111111111,
              "#46039f"
             ],
             [
              0.2222222222222222,
              "#7201a8"
             ],
             [
              0.3333333333333333,
              "#9c179e"
             ],
             [
              0.4444444444444444,
              "#bd3786"
             ],
             [
              0.5555555555555556,
              "#d8576b"
             ],
             [
              0.6666666666666666,
              "#ed7953"
             ],
             [
              0.7777777777777778,
              "#fb9f3a"
             ],
             [
              0.8888888888888888,
              "#fdca26"
             ],
             [
              1,
              "#f0f921"
             ]
            ],
            "type": "histogram2dcontour"
           }
          ],
          "mesh3d": [
           {
            "colorbar": {
             "outlinewidth": 0,
             "ticks": ""
            },
            "type": "mesh3d"
           }
          ],
          "parcoords": [
           {
            "line": {
             "colorbar": {
              "outlinewidth": 0,
              "ticks": ""
             }
            },
            "type": "parcoords"
           }
          ],
          "pie": [
           {
            "automargin": true,
            "type": "pie"
           }
          ],
          "scatter": [
           {
            "fillpattern": {
             "fillmode": "overlay",
             "size": 10,
             "solidity": 0.2
            },
            "type": "scatter"
           }
          ],
          "scatter3d": [
           {
            "line": {
             "colorbar": {
              "outlinewidth": 0,
              "ticks": ""
             }
            },
            "marker": {
             "colorbar": {
              "outlinewidth": 0,
              "ticks": ""
             }
            },
            "type": "scatter3d"
           }
          ],
          "scattercarpet": [
           {
            "marker": {
             "colorbar": {
              "outlinewidth": 0,
              "ticks": ""
             }
            },
            "type": "scattercarpet"
           }
          ],
          "scattergeo": [
           {
            "marker": {
             "colorbar": {
              "outlinewidth": 0,
              "ticks": ""
             }
            },
            "type": "scattergeo"
           }
          ],
          "scattergl": [
           {
            "marker": {
             "colorbar": {
              "outlinewidth": 0,
              "ticks": ""
             }
            },
            "type": "scattergl"
           }
          ],
          "scattermapbox": [
           {
            "marker": {
             "colorbar": {
              "outlinewidth": 0,
              "ticks": ""
             }
            },
            "type": "scattermapbox"
           }
          ],
          "scatterpolar": [
           {
            "marker": {
             "colorbar": {
              "outlinewidth": 0,
              "ticks": ""
             }
            },
            "type": "scatterpolar"
           }
          ],
          "scatterpolargl": [
           {
            "marker": {
             "colorbar": {
              "outlinewidth": 0,
              "ticks": ""
             }
            },
            "type": "scatterpolargl"
           }
          ],
          "scatterternary": [
           {
            "marker": {
             "colorbar": {
              "outlinewidth": 0,
              "ticks": ""
             }
            },
            "type": "scatterternary"
           }
          ],
          "surface": [
           {
            "colorbar": {
             "outlinewidth": 0,
             "ticks": ""
            },
            "colorscale": [
             [
              0,
              "#0d0887"
             ],
             [
              0.1111111111111111,
              "#46039f"
             ],
             [
              0.2222222222222222,
              "#7201a8"
             ],
             [
              0.3333333333333333,
              "#9c179e"
             ],
             [
              0.4444444444444444,
              "#bd3786"
             ],
             [
              0.5555555555555556,
              "#d8576b"
             ],
             [
              0.6666666666666666,
              "#ed7953"
             ],
             [
              0.7777777777777778,
              "#fb9f3a"
             ],
             [
              0.8888888888888888,
              "#fdca26"
             ],
             [
              1,
              "#f0f921"
             ]
            ],
            "type": "surface"
           }
          ],
          "table": [
           {
            "cells": {
             "fill": {
              "color": "#EBF0F8"
             },
             "line": {
              "color": "white"
             }
            },
            "header": {
             "fill": {
              "color": "#C8D4E3"
             },
             "line": {
              "color": "white"
             }
            },
            "type": "table"
           }
          ]
         },
         "layout": {
          "annotationdefaults": {
           "arrowcolor": "#2a3f5f",
           "arrowhead": 0,
           "arrowwidth": 1
          },
          "autotypenumbers": "strict",
          "coloraxis": {
           "colorbar": {
            "outlinewidth": 0,
            "ticks": ""
           }
          },
          "colorscale": {
           "diverging": [
            [
             0,
             "#8e0152"
            ],
            [
             0.1,
             "#c51b7d"
            ],
            [
             0.2,
             "#de77ae"
            ],
            [
             0.3,
             "#f1b6da"
            ],
            [
             0.4,
             "#fde0ef"
            ],
            [
             0.5,
             "#f7f7f7"
            ],
            [
             0.6,
             "#e6f5d0"
            ],
            [
             0.7,
             "#b8e186"
            ],
            [
             0.8,
             "#7fbc41"
            ],
            [
             0.9,
             "#4d9221"
            ],
            [
             1,
             "#276419"
            ]
           ],
           "sequential": [
            [
             0,
             "#0d0887"
            ],
            [
             0.1111111111111111,
             "#46039f"
            ],
            [
             0.2222222222222222,
             "#7201a8"
            ],
            [
             0.3333333333333333,
             "#9c179e"
            ],
            [
             0.4444444444444444,
             "#bd3786"
            ],
            [
             0.5555555555555556,
             "#d8576b"
            ],
            [
             0.6666666666666666,
             "#ed7953"
            ],
            [
             0.7777777777777778,
             "#fb9f3a"
            ],
            [
             0.8888888888888888,
             "#fdca26"
            ],
            [
             1,
             "#f0f921"
            ]
           ],
           "sequentialminus": [
            [
             0,
             "#0d0887"
            ],
            [
             0.1111111111111111,
             "#46039f"
            ],
            [
             0.2222222222222222,
             "#7201a8"
            ],
            [
             0.3333333333333333,
             "#9c179e"
            ],
            [
             0.4444444444444444,
             "#bd3786"
            ],
            [
             0.5555555555555556,
             "#d8576b"
            ],
            [
             0.6666666666666666,
             "#ed7953"
            ],
            [
             0.7777777777777778,
             "#fb9f3a"
            ],
            [
             0.8888888888888888,
             "#fdca26"
            ],
            [
             1,
             "#f0f921"
            ]
           ]
          },
          "colorway": [
           "#636efa",
           "#EF553B",
           "#00cc96",
           "#ab63fa",
           "#FFA15A",
           "#19d3f3",
           "#FF6692",
           "#B6E880",
           "#FF97FF",
           "#FECB52"
          ],
          "font": {
           "color": "#2a3f5f"
          },
          "geo": {
           "bgcolor": "white",
           "lakecolor": "white",
           "landcolor": "white",
           "showlakes": true,
           "showland": true,
           "subunitcolor": "#C8D4E3"
          },
          "hoverlabel": {
           "align": "left"
          },
          "hovermode": "closest",
          "mapbox": {
           "style": "light"
          },
          "paper_bgcolor": "white",
          "plot_bgcolor": "white",
          "polar": {
           "angularaxis": {
            "gridcolor": "#EBF0F8",
            "linecolor": "#EBF0F8",
            "ticks": ""
           },
           "bgcolor": "white",
           "radialaxis": {
            "gridcolor": "#EBF0F8",
            "linecolor": "#EBF0F8",
            "ticks": ""
           }
          },
          "scene": {
           "xaxis": {
            "backgroundcolor": "white",
            "gridcolor": "#DFE8F3",
            "gridwidth": 2,
            "linecolor": "#EBF0F8",
            "showbackground": true,
            "ticks": "",
            "zerolinecolor": "#EBF0F8"
           },
           "yaxis": {
            "backgroundcolor": "white",
            "gridcolor": "#DFE8F3",
            "gridwidth": 2,
            "linecolor": "#EBF0F8",
            "showbackground": true,
            "ticks": "",
            "zerolinecolor": "#EBF0F8"
           },
           "zaxis": {
            "backgroundcolor": "white",
            "gridcolor": "#DFE8F3",
            "gridwidth": 2,
            "linecolor": "#EBF0F8",
            "showbackground": true,
            "ticks": "",
            "zerolinecolor": "#EBF0F8"
           }
          },
          "shapedefaults": {
           "line": {
            "color": "#2a3f5f"
           }
          },
          "ternary": {
           "aaxis": {
            "gridcolor": "#DFE8F3",
            "linecolor": "#A2B1C6",
            "ticks": ""
           },
           "baxis": {
            "gridcolor": "#DFE8F3",
            "linecolor": "#A2B1C6",
            "ticks": ""
           },
           "bgcolor": "white",
           "caxis": {
            "gridcolor": "#DFE8F3",
            "linecolor": "#A2B1C6",
            "ticks": ""
           }
          },
          "title": {
           "x": 0.05
          },
          "xaxis": {
           "automargin": true,
           "gridcolor": "#EBF0F8",
           "linecolor": "#EBF0F8",
           "ticks": "",
           "title": {
            "standoff": 15
           },
           "zerolinecolor": "#EBF0F8",
           "zerolinewidth": 2
          },
          "yaxis": {
           "automargin": true,
           "gridcolor": "#EBF0F8",
           "linecolor": "#EBF0F8",
           "ticks": "",
           "title": {
            "standoff": 15
           },
           "zerolinecolor": "#EBF0F8",
           "zerolinewidth": 2
          }
         }
        },
        "title": {
         "text": "Interactive Manhattan Plot"
        },
        "xaxis": {
         "anchor": "y",
         "domain": [
          0,
          1
         ],
         "ticktext": [
          "02",
          "04",
          "05",
          "06",
          "07",
          "08",
          "09",
          "10",
          "11",
          "12",
          "13",
          "14",
          "15",
          "16",
          "17",
          "18",
          "21",
          "22",
          "23",
          "24",
          "28",
          "31",
          "34",
          "35"
         ],
         "tickvals": [
          266037,
          763067,
          1197841.5,
          1577596.5,
          1833213.5,
          2018766.5,
          2248824.5,
          2385671.5,
          2459759,
          2538487,
          2620049,
          2694035,
          2721156.5,
          2769602.5,
          2821321,
          2874745.5,
          2916247,
          2942198.5,
          2963334,
          3011897.5,
          3062705.5,
          3223631.5,
          3395749,
          3716568.5
         ],
         "title": {
          "text": "Contig"
         }
        },
        "yaxis": {
         "anchor": "x",
         "domain": [
          0,
          1
         ],
         "title": {
          "text": "-log10(P-value)"
         }
        }
       }
      }
     },
     "metadata": {},
     "output_type": "display_data"
    }
   ],
   "source": [
    "import pandas as pd\n",
    "import numpy as np\n",
    "import plotly.express as px\n",
    "import plotly.graph_objects as go\n",
    "\n",
    "# Assuming results_df is already defined and contains columns: contig, position, p_value, annotation\n",
    "# Sort chromosomes naturally (1, 2, ..., X)\n",
    "results_df['Chromosome'] = pd.Categorical(\n",
    "    results_df['contig'], \n",
    "    categories=sorted(results_df['contig'].unique(), key=lambda x: (not x.isdigit(), x)),\n",
    "    ordered=True\n",
    ")\n",
    "results_df = results_df.sort_values(['Chromosome', 'position'])\n",
    "\n",
    "# Add a column for -log10(P-value)\n",
    "results_df['-log10(P-value)'] = -np.log10(results_df['p_value'])\n",
    "\n",
    "# Generate chromosome-specific positions\n",
    "chrom_offsets = {}\n",
    "cumulative_position = 0\n",
    "ticks = []\n",
    "\n",
    "for chrom in results_df['Chromosome'].cat.categories:\n",
    "    chrom_data = results_df[results_df['Chromosome'] == chrom]\n",
    "    chrom_offsets[chrom] = cumulative_position\n",
    "    results_df.loc[results_df['Chromosome'] == chrom, 'Cumulative Position'] = (\n",
    "        chrom_data['position'] + cumulative_position\n",
    "    )\n",
    "    ticks.append(cumulative_position + (chrom_data['position'].max() / 2))\n",
    "    cumulative_position += chrom_data['position'].max()\n",
    "\n",
    "# Create interactive scatter plot\n",
    "fig = px.scatter(\n",
    "    results_df,\n",
    "    x='Cumulative Position',\n",
    "    y='-log10(P-value)',\n",
    "    color='Chromosome',\n",
    "    hover_data={\n",
    "        'Chromosome': True,\n",
    "        'position': True,\n",
    "        'p_value': True,\n",
    "        'annotation_as_str': True,  # Include annotation in hover data\n",
    "        'Cumulative Position': False  # Hide cumulative position from hover\n",
    "    },\n",
    "    title='Interactive Manhattan Plot',\n",
    "    labels={'Cumulative Position': 'Chromosome', '-log10(P-value)': '-log10(P-value)'},\n",
    "    color_discrete_sequence=px.colors.qualitative.Set3\n",
    ")\n",
    "\n",
    "# Add genome-wide significance threshold\n",
    "significance_threshold = -np.log10(5e-2/600)\n",
    "fig.add_hline(\n",
    "    y=significance_threshold,\n",
    "    line_dash=\"dash\",\n",
    "    line_color=\"red\",\n",
    "    annotation_text=\"Genome-wide significance\",\n",
    "    annotation_position=\"top left\"\n",
    ")\n",
    "\n",
    "\n",
    "labels = [x[10:-2] for x in  results_df['Chromosome'].cat.categories]\n",
    "\n",
    "# Customize axis\n",
    "fig.update_layout(\n",
    "    xaxis=dict(\n",
    "        title='Contig',\n",
    "        tickvals=ticks,\n",
    "        ticktext=labels\n",
    "    ),\n",
    "    yaxis=dict(title='-log10(P-value)'),\n",
    "    legend_title='Contig',\n",
    "    template='plotly_white'\n",
    ")\n",
    "\n",
    "# Show the plot\n",
    "fig.show()\n"
   ]
  },
  {
   "cell_type": "code",
   "execution_count": 83,
   "id": "78d86a50",
   "metadata": {},
   "outputs": [],
   "source": [
    "from Bio import SeqIO\n",
    "\n",
    "def get_contig_range(input_fasta, contig_name, start=None, end=None):\n",
    "    \"\"\"\n",
    "    Retrieves a specific contig (and optionally a range within it) as a string.\n",
    "\n",
    "    Parameters:\n",
    "    - input_fasta: str, path to the input FASTA file.\n",
    "    - contig_name: str, the name of the contig to query.\n",
    "    - start: int or None, start position (1-based, inclusive). Default is None for full contig.\n",
    "    - end: int or None, end position (1-based, inclusive). Default is None for full contig.\n",
    "\n",
    "    Returns:\n",
    "    - str: The extracted sequence as a string.\n",
    "    - None: If the contig is not found.\n",
    "    \"\"\"\n",
    "    for record in SeqIO.parse(input_fasta, \"fasta\"):\n",
    "        if record.id == contig_name:\n",
    "            if start is not None and end is not None:\n",
    "                return str(record.seq[start - 1:end])\n",
    "            return str(record.seq)\n",
    "    print(f\"Contig '{contig_name}' not found in {input_fasta}\")\n",
    "    return None"
   ]
  },
  {
   "cell_type": "code",
   "execution_count": 84,
   "id": "39497724",
   "metadata": {},
   "outputs": [
    {
     "data": {
      "text/html": [
       "<div>\n",
       "<style scoped>\n",
       "    .dataframe tbody tr th:only-of-type {\n",
       "        vertical-align: middle;\n",
       "    }\n",
       "\n",
       "    .dataframe tbody tr th {\n",
       "        vertical-align: top;\n",
       "    }\n",
       "\n",
       "    .dataframe thead th {\n",
       "        text-align: right;\n",
       "    }\n",
       "</style>\n",
       "<table border=\"1\" class=\"dataframe\">\n",
       "  <thead>\n",
       "    <tr style=\"text-align: right;\">\n",
       "      <th></th>\n",
       "      <th>SNP</th>\n",
       "      <th>phenotype</th>\n",
       "      <th>p_value</th>\n",
       "      <th>beta</th>\n",
       "      <th>r_squared</th>\n",
       "      <th>contig</th>\n",
       "      <th>position</th>\n",
       "      <th>annotation</th>\n",
       "      <th>Chromosome</th>\n",
       "      <th>-log10(P-value)</th>\n",
       "      <th>Cumulative Position</th>\n",
       "      <th>annotation_as_str</th>\n",
       "    </tr>\n",
       "  </thead>\n",
       "  <tbody>\n",
       "    <tr>\n",
       "      <th>0</th>\n",
       "      <td>(PRKV01000002.1, 13730)</td>\n",
       "      <td>PR_Length_adj_irn</td>\n",
       "      <td>0.744604</td>\n",
       "      <td>-0.060245</td>\n",
       "      <td>0.000063</td>\n",
       "      <td>PRKV01000002.1</td>\n",
       "      <td>13730</td>\n",
       "      <td>None</td>\n",
       "      <td>PRKV01000002.1</td>\n",
       "      <td>0.128075</td>\n",
       "      <td>13730.0</td>\n",
       "      <td>None</td>\n",
       "    </tr>\n",
       "    <tr>\n",
       "      <th>1</th>\n",
       "      <td>(PRKV01000002.1, 13730)</td>\n",
       "      <td>LR_number_adj_irn</td>\n",
       "      <td>0.094454</td>\n",
       "      <td>0.308587</td>\n",
       "      <td>0.001654</td>\n",
       "      <td>PRKV01000002.1</td>\n",
       "      <td>13730</td>\n",
       "      <td>None</td>\n",
       "      <td>PRKV01000002.1</td>\n",
       "      <td>1.024780</td>\n",
       "      <td>13730.0</td>\n",
       "      <td>None</td>\n",
       "    </tr>\n",
       "    <tr>\n",
       "      <th>2</th>\n",
       "      <td>(PRKV01000002.1, 13730)</td>\n",
       "      <td>LR_Density_adj_irn</td>\n",
       "      <td>0.212750</td>\n",
       "      <td>0.230386</td>\n",
       "      <td>0.000919</td>\n",
       "      <td>PRKV01000002.1</td>\n",
       "      <td>13730</td>\n",
       "      <td>None</td>\n",
       "      <td>PRKV01000002.1</td>\n",
       "      <td>0.672131</td>\n",
       "      <td>13730.0</td>\n",
       "      <td>None</td>\n",
       "    </tr>\n",
       "    <tr>\n",
       "      <th>3</th>\n",
       "      <td>(PRKV01000002.1, 13915)</td>\n",
       "      <td>PR_Length_adj_irn</td>\n",
       "      <td>0.165011</td>\n",
       "      <td>0.219581</td>\n",
       "      <td>0.000966</td>\n",
       "      <td>PRKV01000002.1</td>\n",
       "      <td>13915</td>\n",
       "      <td>None</td>\n",
       "      <td>PRKV01000002.1</td>\n",
       "      <td>0.782488</td>\n",
       "      <td>13915.0</td>\n",
       "      <td>None</td>\n",
       "    </tr>\n",
       "    <tr>\n",
       "      <th>4</th>\n",
       "      <td>(PRKV01000002.1, 13915)</td>\n",
       "      <td>LR_number_adj_irn</td>\n",
       "      <td>0.521499</td>\n",
       "      <td>0.101233</td>\n",
       "      <td>0.000206</td>\n",
       "      <td>PRKV01000002.1</td>\n",
       "      <td>13915</td>\n",
       "      <td>None</td>\n",
       "      <td>PRKV01000002.1</td>\n",
       "      <td>0.282747</td>\n",
       "      <td>13915.0</td>\n",
       "      <td>None</td>\n",
       "    </tr>\n",
       "    <tr>\n",
       "      <th>...</th>\n",
       "      <td>...</td>\n",
       "      <td>...</td>\n",
       "      <td>...</td>\n",
       "      <td>...</td>\n",
       "      <td>...</td>\n",
       "      <td>...</td>\n",
       "      <td>...</td>\n",
       "      <td>...</td>\n",
       "      <td>...</td>\n",
       "      <td>...</td>\n",
       "      <td>...</td>\n",
       "      <td>...</td>\n",
       "    </tr>\n",
       "    <tr>\n",
       "      <th>595</th>\n",
       "      <td>(PRKV01000035.1, 606980)</td>\n",
       "      <td>LR_number_adj_irn</td>\n",
       "      <td>0.706354</td>\n",
       "      <td>0.042402</td>\n",
       "      <td>0.000053</td>\n",
       "      <td>PRKV01000035.1</td>\n",
       "      <td>606980</td>\n",
       "      <td>{'ID': 'cds-PVC61973.1', 'Parent': 'gene-C2I27...</td>\n",
       "      <td>PRKV01000035.1</td>\n",
       "      <td>0.150978</td>\n",
       "      <td>4020057.0</td>\n",
       "      <td>{'ID': 'cds-PVC61973.1', 'Parent': 'gene-C2I27...</td>\n",
       "    </tr>\n",
       "    <tr>\n",
       "      <th>596</th>\n",
       "      <td>(PRKV01000035.1, 606980)</td>\n",
       "      <td>LR_Density_adj_irn</td>\n",
       "      <td>0.123544</td>\n",
       "      <td>-0.173569</td>\n",
       "      <td>0.000892</td>\n",
       "      <td>PRKV01000035.1</td>\n",
       "      <td>606980</td>\n",
       "      <td>{'ID': 'cds-PVC61973.1', 'Parent': 'gene-C2I27...</td>\n",
       "      <td>PRKV01000035.1</td>\n",
       "      <td>0.908178</td>\n",
       "      <td>4020057.0</td>\n",
       "      <td>{'ID': 'cds-PVC61973.1', 'Parent': 'gene-C2I27...</td>\n",
       "    </tr>\n",
       "    <tr>\n",
       "      <th>597</th>\n",
       "      <td>(PRKV01000035.1, 606983)</td>\n",
       "      <td>PR_Length_adj_irn</td>\n",
       "      <td>0.087681</td>\n",
       "      <td>0.217494</td>\n",
       "      <td>0.001070</td>\n",
       "      <td>PRKV01000035.1</td>\n",
       "      <td>606983</td>\n",
       "      <td>{'ID': 'cds-PVC61973.1', 'Parent': 'gene-C2I27...</td>\n",
       "      <td>PRKV01000035.1</td>\n",
       "      <td>1.057096</td>\n",
       "      <td>4020060.0</td>\n",
       "      <td>{'ID': 'cds-PVC61973.1', 'Parent': 'gene-C2I27...</td>\n",
       "    </tr>\n",
       "    <tr>\n",
       "      <th>598</th>\n",
       "      <td>(PRKV01000035.1, 606983)</td>\n",
       "      <td>LR_number_adj_irn</td>\n",
       "      <td>0.062954</td>\n",
       "      <td>-0.236463</td>\n",
       "      <td>0.001268</td>\n",
       "      <td>PRKV01000035.1</td>\n",
       "      <td>606983</td>\n",
       "      <td>{'ID': 'cds-PVC61973.1', 'Parent': 'gene-C2I27...</td>\n",
       "      <td>PRKV01000035.1</td>\n",
       "      <td>1.200980</td>\n",
       "      <td>4020060.0</td>\n",
       "      <td>{'ID': 'cds-PVC61973.1', 'Parent': 'gene-C2I27...</td>\n",
       "    </tr>\n",
       "    <tr>\n",
       "      <th>599</th>\n",
       "      <td>(PRKV01000035.1, 606983)</td>\n",
       "      <td>LR_Density_adj_irn</td>\n",
       "      <td>0.003015</td>\n",
       "      <td>-0.377557</td>\n",
       "      <td>0.003224</td>\n",
       "      <td>PRKV01000035.1</td>\n",
       "      <td>606983</td>\n",
       "      <td>{'ID': 'cds-PVC61973.1', 'Parent': 'gene-C2I27...</td>\n",
       "      <td>PRKV01000035.1</td>\n",
       "      <td>2.520668</td>\n",
       "      <td>4020060.0</td>\n",
       "      <td>{'ID': 'cds-PVC61973.1', 'Parent': 'gene-C2I27...</td>\n",
       "    </tr>\n",
       "  </tbody>\n",
       "</table>\n",
       "<p>600 rows × 12 columns</p>\n",
       "</div>"
      ],
      "text/plain": [
       "                          SNP           phenotype   p_value      beta  \\\n",
       "0     (PRKV01000002.1, 13730)   PR_Length_adj_irn  0.744604 -0.060245   \n",
       "1     (PRKV01000002.1, 13730)   LR_number_adj_irn  0.094454  0.308587   \n",
       "2     (PRKV01000002.1, 13730)  LR_Density_adj_irn  0.212750  0.230386   \n",
       "3     (PRKV01000002.1, 13915)   PR_Length_adj_irn  0.165011  0.219581   \n",
       "4     (PRKV01000002.1, 13915)   LR_number_adj_irn  0.521499  0.101233   \n",
       "..                        ...                 ...       ...       ...   \n",
       "595  (PRKV01000035.1, 606980)   LR_number_adj_irn  0.706354  0.042402   \n",
       "596  (PRKV01000035.1, 606980)  LR_Density_adj_irn  0.123544 -0.173569   \n",
       "597  (PRKV01000035.1, 606983)   PR_Length_adj_irn  0.087681  0.217494   \n",
       "598  (PRKV01000035.1, 606983)   LR_number_adj_irn  0.062954 -0.236463   \n",
       "599  (PRKV01000035.1, 606983)  LR_Density_adj_irn  0.003015 -0.377557   \n",
       "\n",
       "     r_squared          contig  position  \\\n",
       "0     0.000063  PRKV01000002.1     13730   \n",
       "1     0.001654  PRKV01000002.1     13730   \n",
       "2     0.000919  PRKV01000002.1     13730   \n",
       "3     0.000966  PRKV01000002.1     13915   \n",
       "4     0.000206  PRKV01000002.1     13915   \n",
       "..         ...             ...       ...   \n",
       "595   0.000053  PRKV01000035.1    606980   \n",
       "596   0.000892  PRKV01000035.1    606980   \n",
       "597   0.001070  PRKV01000035.1    606983   \n",
       "598   0.001268  PRKV01000035.1    606983   \n",
       "599   0.003224  PRKV01000035.1    606983   \n",
       "\n",
       "                                            annotation      Chromosome  \\\n",
       "0                                                 None  PRKV01000002.1   \n",
       "1                                                 None  PRKV01000002.1   \n",
       "2                                                 None  PRKV01000002.1   \n",
       "3                                                 None  PRKV01000002.1   \n",
       "4                                                 None  PRKV01000002.1   \n",
       "..                                                 ...             ...   \n",
       "595  {'ID': 'cds-PVC61973.1', 'Parent': 'gene-C2I27...  PRKV01000035.1   \n",
       "596  {'ID': 'cds-PVC61973.1', 'Parent': 'gene-C2I27...  PRKV01000035.1   \n",
       "597  {'ID': 'cds-PVC61973.1', 'Parent': 'gene-C2I27...  PRKV01000035.1   \n",
       "598  {'ID': 'cds-PVC61973.1', 'Parent': 'gene-C2I27...  PRKV01000035.1   \n",
       "599  {'ID': 'cds-PVC61973.1', 'Parent': 'gene-C2I27...  PRKV01000035.1   \n",
       "\n",
       "     -log10(P-value)  Cumulative Position  \\\n",
       "0           0.128075              13730.0   \n",
       "1           1.024780              13730.0   \n",
       "2           0.672131              13730.0   \n",
       "3           0.782488              13915.0   \n",
       "4           0.282747              13915.0   \n",
       "..               ...                  ...   \n",
       "595         0.150978            4020057.0   \n",
       "596         0.908178            4020057.0   \n",
       "597         1.057096            4020060.0   \n",
       "598         1.200980            4020060.0   \n",
       "599         2.520668            4020060.0   \n",
       "\n",
       "                                     annotation_as_str  \n",
       "0                                                 None  \n",
       "1                                                 None  \n",
       "2                                                 None  \n",
       "3                                                 None  \n",
       "4                                                 None  \n",
       "..                                                 ...  \n",
       "595  {'ID': 'cds-PVC61973.1', 'Parent': 'gene-C2I27...  \n",
       "596  {'ID': 'cds-PVC61973.1', 'Parent': 'gene-C2I27...  \n",
       "597  {'ID': 'cds-PVC61973.1', 'Parent': 'gene-C2I27...  \n",
       "598  {'ID': 'cds-PVC61973.1', 'Parent': 'gene-C2I27...  \n",
       "599  {'ID': 'cds-PVC61973.1', 'Parent': 'gene-C2I27...  \n",
       "\n",
       "[600 rows x 12 columns]"
      ]
     },
     "execution_count": 84,
     "metadata": {},
     "output_type": "execute_result"
    }
   ],
   "source": [
    "results_df"
   ]
  },
  {
   "cell_type": "code",
   "execution_count": 85,
   "id": "80050025",
   "metadata": {},
   "outputs": [
    {
     "data": {
      "text/html": [
       "<div>\n",
       "<style scoped>\n",
       "    .dataframe tbody tr th:only-of-type {\n",
       "        vertical-align: middle;\n",
       "    }\n",
       "\n",
       "    .dataframe tbody tr th {\n",
       "        vertical-align: top;\n",
       "    }\n",
       "\n",
       "    .dataframe thead th {\n",
       "        text-align: right;\n",
       "    }\n",
       "</style>\n",
       "<table border=\"1\" class=\"dataframe\">\n",
       "  <thead>\n",
       "    <tr style=\"text-align: right;\">\n",
       "      <th></th>\n",
       "      <th>SNP</th>\n",
       "      <th>phenotype</th>\n",
       "      <th>p_value</th>\n",
       "      <th>beta</th>\n",
       "      <th>r_squared</th>\n",
       "      <th>contig</th>\n",
       "      <th>position</th>\n",
       "      <th>annotation</th>\n",
       "      <th>Chromosome</th>\n",
       "      <th>-log10(P-value)</th>\n",
       "      <th>Cumulative Position</th>\n",
       "      <th>annotation_as_str</th>\n",
       "    </tr>\n",
       "  </thead>\n",
       "  <tbody>\n",
       "    <tr>\n",
       "      <th>12</th>\n",
       "      <td>(PRKV01000002.1, 42521)</td>\n",
       "      <td>PR_Length_adj_irn</td>\n",
       "      <td>1.664385e-10</td>\n",
       "      <td>0.853178</td>\n",
       "      <td>2.193758e-02</td>\n",
       "      <td>PRKV01000002.1</td>\n",
       "      <td>42521</td>\n",
       "      <td>None</td>\n",
       "      <td>PRKV01000002.1</td>\n",
       "      <td>9.778746</td>\n",
       "      <td>42521.0</td>\n",
       "      <td>None</td>\n",
       "    </tr>\n",
       "    <tr>\n",
       "      <th>63</th>\n",
       "      <td>(PRKV01000002.1, 496961)</td>\n",
       "      <td>PR_Length_adj_irn</td>\n",
       "      <td>2.642433e-10</td>\n",
       "      <td>0.876563</td>\n",
       "      <td>1.849527e-02</td>\n",
       "      <td>PRKV01000002.1</td>\n",
       "      <td>496961</td>\n",
       "      <td>{'ID': 'cds-PVC76004.1', 'Parent': 'gene-C2I27...</td>\n",
       "      <td>PRKV01000002.1</td>\n",
       "      <td>9.577996</td>\n",
       "      <td>496961.0</td>\n",
       "      <td>{'ID': 'cds-PVC76004.1', 'Parent': 'gene-C2I27...</td>\n",
       "    </tr>\n",
       "    <tr>\n",
       "      <th>339</th>\n",
       "      <td>(PRKV01000009.1, 124951)</td>\n",
       "      <td>PR_Length_adj_irn</td>\n",
       "      <td>1.564588e-09</td>\n",
       "      <td>0.995325</td>\n",
       "      <td>2.085614e-02</td>\n",
       "      <td>PRKV01000009.1</td>\n",
       "      <td>124951</td>\n",
       "      <td>None</td>\n",
       "      <td>PRKV01000009.1</td>\n",
       "      <td>8.805600</td>\n",
       "      <td>2249627.0</td>\n",
       "      <td>None</td>\n",
       "    </tr>\n",
       "    <tr>\n",
       "      <th>435</th>\n",
       "      <td>(PRKV01000014.1, 19526)</td>\n",
       "      <td>PR_Length_adj_irn</td>\n",
       "      <td>4.851976e-09</td>\n",
       "      <td>1.115879</td>\n",
       "      <td>2.412343e-02</td>\n",
       "      <td>PRKV01000014.1</td>\n",
       "      <td>19526</td>\n",
       "      <td>None</td>\n",
       "      <td>PRKV01000014.1</td>\n",
       "      <td>8.314081</td>\n",
       "      <td>2703798.0</td>\n",
       "      <td>None</td>\n",
       "    </tr>\n",
       "    <tr>\n",
       "      <th>593</th>\n",
       "      <td>(PRKV01000035.1, 495534)</td>\n",
       "      <td>LR_Density_adj_irn</td>\n",
       "      <td>5.709684e-09</td>\n",
       "      <td>-0.784642</td>\n",
       "      <td>2.321614e-02</td>\n",
       "      <td>PRKV01000035.1</td>\n",
       "      <td>495534</td>\n",
       "      <td>None</td>\n",
       "      <td>PRKV01000035.1</td>\n",
       "      <td>8.243388</td>\n",
       "      <td>3908611.0</td>\n",
       "      <td>None</td>\n",
       "    </tr>\n",
       "    <tr>\n",
       "      <th>...</th>\n",
       "      <td>...</td>\n",
       "      <td>...</td>\n",
       "      <td>...</td>\n",
       "      <td>...</td>\n",
       "      <td>...</td>\n",
       "      <td>...</td>\n",
       "      <td>...</td>\n",
       "      <td>...</td>\n",
       "      <td>...</td>\n",
       "      <td>...</td>\n",
       "      <td>...</td>\n",
       "      <td>...</td>\n",
       "    </tr>\n",
       "    <tr>\n",
       "      <th>490</th>\n",
       "      <td>(PRKV01000023.1, 2787)</td>\n",
       "      <td>LR_number_adj_irn</td>\n",
       "      <td>9.948478e-01</td>\n",
       "      <td>-0.000758</td>\n",
       "      <td>1.295156e-08</td>\n",
       "      <td>PRKV01000023.1</td>\n",
       "      <td>2787</td>\n",
       "      <td>None</td>\n",
       "      <td>PRKV01000023.1</td>\n",
       "      <td>0.002243</td>\n",
       "      <td>2962229.0</td>\n",
       "      <td>None</td>\n",
       "    </tr>\n",
       "    <tr>\n",
       "      <th>521</th>\n",
       "      <td>(PRKV01000024.1, 89343)</td>\n",
       "      <td>LR_Density_adj_irn</td>\n",
       "      <td>9.959133e-01</td>\n",
       "      <td>0.000655</td>\n",
       "      <td>1.761316e-08</td>\n",
       "      <td>PRKV01000024.1</td>\n",
       "      <td>89343</td>\n",
       "      <td>None</td>\n",
       "      <td>PRKV01000024.1</td>\n",
       "      <td>0.001778</td>\n",
       "      <td>3056569.0</td>\n",
       "      <td>None</td>\n",
       "    </tr>\n",
       "    <tr>\n",
       "      <th>78</th>\n",
       "      <td>(PRKV01000002.1, 531984)</td>\n",
       "      <td>PR_Length_adj_irn</td>\n",
       "      <td>9.965046e-01</td>\n",
       "      <td>0.000753</td>\n",
       "      <td>1.253144e-08</td>\n",
       "      <td>PRKV01000002.1</td>\n",
       "      <td>531984</td>\n",
       "      <td>{'ID': 'cds-PVC76033.1', 'Parent': 'gene-C2I27...</td>\n",
       "      <td>PRKV01000002.1</td>\n",
       "      <td>0.001521</td>\n",
       "      <td>531984.0</td>\n",
       "      <td>{'ID': 'cds-PVC76033.1', 'Parent': 'gene-C2I27...</td>\n",
       "    </tr>\n",
       "    <tr>\n",
       "      <th>343</th>\n",
       "      <td>(PRKV01000009.1, 132078)</td>\n",
       "      <td>LR_number_adj_irn</td>\n",
       "      <td>9.973579e-01</td>\n",
       "      <td>-0.000435</td>\n",
       "      <td>4.057470e-09</td>\n",
       "      <td>PRKV01000009.1</td>\n",
       "      <td>132078</td>\n",
       "      <td>None</td>\n",
       "      <td>PRKV01000009.1</td>\n",
       "      <td>0.001149</td>\n",
       "      <td>2256754.0</td>\n",
       "      <td>None</td>\n",
       "    </tr>\n",
       "    <tr>\n",
       "      <th>76</th>\n",
       "      <td>(PRKV01000002.1, 531981)</td>\n",
       "      <td>LR_number_adj_irn</td>\n",
       "      <td>9.983577e-01</td>\n",
       "      <td>-0.000357</td>\n",
       "      <td>2.752114e-09</td>\n",
       "      <td>PRKV01000002.1</td>\n",
       "      <td>531981</td>\n",
       "      <td>{'ID': 'cds-PVC76033.1', 'Parent': 'gene-C2I27...</td>\n",
       "      <td>PRKV01000002.1</td>\n",
       "      <td>0.000714</td>\n",
       "      <td>531981.0</td>\n",
       "      <td>{'ID': 'cds-PVC76033.1', 'Parent': 'gene-C2I27...</td>\n",
       "    </tr>\n",
       "  </tbody>\n",
       "</table>\n",
       "<p>600 rows × 12 columns</p>\n",
       "</div>"
      ],
      "text/plain": [
       "                          SNP           phenotype       p_value      beta  \\\n",
       "12    (PRKV01000002.1, 42521)   PR_Length_adj_irn  1.664385e-10  0.853178   \n",
       "63   (PRKV01000002.1, 496961)   PR_Length_adj_irn  2.642433e-10  0.876563   \n",
       "339  (PRKV01000009.1, 124951)   PR_Length_adj_irn  1.564588e-09  0.995325   \n",
       "435   (PRKV01000014.1, 19526)   PR_Length_adj_irn  4.851976e-09  1.115879   \n",
       "593  (PRKV01000035.1, 495534)  LR_Density_adj_irn  5.709684e-09 -0.784642   \n",
       "..                        ...                 ...           ...       ...   \n",
       "490    (PRKV01000023.1, 2787)   LR_number_adj_irn  9.948478e-01 -0.000758   \n",
       "521   (PRKV01000024.1, 89343)  LR_Density_adj_irn  9.959133e-01  0.000655   \n",
       "78   (PRKV01000002.1, 531984)   PR_Length_adj_irn  9.965046e-01  0.000753   \n",
       "343  (PRKV01000009.1, 132078)   LR_number_adj_irn  9.973579e-01 -0.000435   \n",
       "76   (PRKV01000002.1, 531981)   LR_number_adj_irn  9.983577e-01 -0.000357   \n",
       "\n",
       "        r_squared          contig  position  \\\n",
       "12   2.193758e-02  PRKV01000002.1     42521   \n",
       "63   1.849527e-02  PRKV01000002.1    496961   \n",
       "339  2.085614e-02  PRKV01000009.1    124951   \n",
       "435  2.412343e-02  PRKV01000014.1     19526   \n",
       "593  2.321614e-02  PRKV01000035.1    495534   \n",
       "..            ...             ...       ...   \n",
       "490  1.295156e-08  PRKV01000023.1      2787   \n",
       "521  1.761316e-08  PRKV01000024.1     89343   \n",
       "78   1.253144e-08  PRKV01000002.1    531984   \n",
       "343  4.057470e-09  PRKV01000009.1    132078   \n",
       "76   2.752114e-09  PRKV01000002.1    531981   \n",
       "\n",
       "                                            annotation      Chromosome  \\\n",
       "12                                                None  PRKV01000002.1   \n",
       "63   {'ID': 'cds-PVC76004.1', 'Parent': 'gene-C2I27...  PRKV01000002.1   \n",
       "339                                               None  PRKV01000009.1   \n",
       "435                                               None  PRKV01000014.1   \n",
       "593                                               None  PRKV01000035.1   \n",
       "..                                                 ...             ...   \n",
       "490                                               None  PRKV01000023.1   \n",
       "521                                               None  PRKV01000024.1   \n",
       "78   {'ID': 'cds-PVC76033.1', 'Parent': 'gene-C2I27...  PRKV01000002.1   \n",
       "343                                               None  PRKV01000009.1   \n",
       "76   {'ID': 'cds-PVC76033.1', 'Parent': 'gene-C2I27...  PRKV01000002.1   \n",
       "\n",
       "     -log10(P-value)  Cumulative Position  \\\n",
       "12          9.778746              42521.0   \n",
       "63          9.577996             496961.0   \n",
       "339         8.805600            2249627.0   \n",
       "435         8.314081            2703798.0   \n",
       "593         8.243388            3908611.0   \n",
       "..               ...                  ...   \n",
       "490         0.002243            2962229.0   \n",
       "521         0.001778            3056569.0   \n",
       "78          0.001521             531984.0   \n",
       "343         0.001149            2256754.0   \n",
       "76          0.000714             531981.0   \n",
       "\n",
       "                                     annotation_as_str  \n",
       "12                                                None  \n",
       "63   {'ID': 'cds-PVC76004.1', 'Parent': 'gene-C2I27...  \n",
       "339                                               None  \n",
       "435                                               None  \n",
       "593                                               None  \n",
       "..                                                 ...  \n",
       "490                                               None  \n",
       "521                                               None  \n",
       "78   {'ID': 'cds-PVC76033.1', 'Parent': 'gene-C2I27...  \n",
       "343                                               None  \n",
       "76   {'ID': 'cds-PVC76033.1', 'Parent': 'gene-C2I27...  \n",
       "\n",
       "[600 rows x 12 columns]"
      ]
     },
     "execution_count": 85,
     "metadata": {},
     "output_type": "execute_result"
    }
   ],
   "source": [
    "results_df.sort_values(\"p_value\")# .annotation.iloc[0]"
   ]
  },
  {
   "cell_type": "code",
   "execution_count": 86,
   "id": "58206615",
   "metadata": {},
   "outputs": [
    {
     "data": {
      "text/plain": [
       "'ATAAAAAAGCCAAAAAAACCTAAAATGCTGACACAGATAATACTAAAAAAGCGGATCAGTGAAATTGTTCCTATAAGGGACTGATTCGCTAGCGTAAAGGTAGCAATCGTAGAGCCTGCAATGACAACAAGCATGGCAGGACTTGTTAAACCGGCTCTAATGGCTGCATCACCGATAATAAGACCTCCGATTACACTGAGTGTCTGCCCGACAGAAGTCGGGAGTCTAAACCCTGCCTCTCGAAACAATTCAAATAAAAGAAGCATTAGTATCGCTTCAAGAGAGGTAGGAAACGGGACACCTCTTCTTGCCTCAACAATCGTAGCTAATAAGCTGAGCGGAAGCTGATTTTGATGAAAAGCCGTCATTGCAACCCAAAAACCAGGCAAAAAAGCAGCGAT'"
      ]
     },
     "execution_count": 86,
     "metadata": {},
     "output_type": "execute_result"
    }
   ],
   "source": [
    "# Example usage\n",
    "input_file = \"data/genomes/reference_2/full_sequence.fasta\"\n",
    "contig = \"PRKV01000004.1\"\n",
    "start_position = 394240 - 200\n",
    "end_position = 394240 + 200\n",
    "\n",
    "get_contig_range(input_file, contig, start_position, end_position)"
   ]
  },
  {
   "cell_type": "code",
   "execution_count": null,
   "id": "0de24262",
   "metadata": {},
   "outputs": [],
   "source": []
  }
 ],
 "metadata": {
  "kernelspec": {
   "display_name": "scRNA",
   "language": "python",
   "name": "python3"
  },
  "language_info": {
   "codemirror_mode": {
    "name": "ipython",
    "version": 3
   },
   "file_extension": ".py",
   "mimetype": "text/x-python",
   "name": "python",
   "nbconvert_exporter": "python",
   "pygments_lexer": "ipython3",
   "version": "3.10.16"
  }
 },
 "nbformat": 4,
 "nbformat_minor": 5
}
